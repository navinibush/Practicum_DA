{
 "cells": [
  {
   "cell_type": "markdown",
   "id": "40db7ac1-3ff6-4076-abd8-1c5274264c57",
   "metadata": {
    "slideshow": {
     "slide_type": ""
    },
    "tags": []
   },
   "source": [
    "# Исследование объявлений о продаже квартир\n",
    "\n",
    "В данном исследовании нам предстоит исследовать объявления о продаже квартир в Санкт_Петербурге и Ленинградской области.\n",
    "\n",
    "***Цель:*** **определить и оценить факторы, влияющие на ценооборазование при выставлении жилой недвижимости на продажу. Научиться определять рыночную стоимость объектов недвижимости.**\n",
    "\n",
    "***План работы:***\n",
    "- изучить исходные данные,\n",
    "- удалить строки, по которым невозможно провести анализ,\n",
    "- заполнить пропуски в ячейках,\n",
    "- привести датафрейм к правильному формату,\n",
    "- устранить дубликаты,\n",
    "- создать новые столбцы с параметрами, необходимыми для дальнейшего анализа,\n",
    "- провести исследовательский анализ данных\n",
    "- сделать выводы.\n"
   ]
  },
  {
   "cell_type": "markdown",
   "id": "e8d25d1d-839b-4610-9e44-140ab639d196",
   "metadata": {
    "slideshow": {
     "slide_type": ""
    },
    "tags": []
   },
   "source": [
    "## Изучение общей информации"
   ]
  },
  {
   "cell_type": "markdown",
   "id": "8462dcbf-f3b9-4900-9b28-1fb718e2f5c1",
   "metadata": {},
   "source": [
    "### Подключим библиотеки и откроем документ"
   ]
  },
  {
   "cell_type": "code",
   "execution_count": 1,
   "id": "09e2fcb6-0457-4de3-b53b-0f7099a55f53",
   "metadata": {},
   "outputs": [],
   "source": [
    "#подключаем библиотеки\n",
    "import pandas as pd\n",
    "import matplotlib.pyplot as plt"
   ]
  },
  {
   "cell_type": "code",
   "execution_count": 2,
   "id": "3744db10-0df0-4e5d-802b-517f17be6aec",
   "metadata": {},
   "outputs": [],
   "source": [
    "#открываем файл csv\n",
    "try:\n",
    "    data = pd.read_csv('/datasets/real_estate_data.csv', sep ='\\t')\n",
    "except:\n",
    "    data = pd.read_csv('C:\\\\Users\\\\ignat\\\\OneDrive\\\\Рабочий стол\\\\Аналитик Практикум\\\\real_estate_data.csv', sep='\\t')"
   ]
  },
  {
   "cell_type": "markdown",
   "id": "38f45e8f-8c78-4f26-84cb-04fbe058eb76",
   "metadata": {},
   "source": [
    "### Выгрузим первые 5 строк датафрейма для ознакомления"
   ]
  },
  {
   "cell_type": "code",
   "execution_count": 3,
   "id": "d4d60c0f-b3d4-4a4d-94f5-90847ac052bc",
   "metadata": {},
   "outputs": [
    {
     "data": {
      "text/html": [
       "<div>\n",
       "<style scoped>\n",
       "    .dataframe tbody tr th:only-of-type {\n",
       "        vertical-align: middle;\n",
       "    }\n",
       "\n",
       "    .dataframe tbody tr th {\n",
       "        vertical-align: top;\n",
       "    }\n",
       "\n",
       "    .dataframe thead th {\n",
       "        text-align: right;\n",
       "    }\n",
       "</style>\n",
       "<table border=\"1\" class=\"dataframe\">\n",
       "  <thead>\n",
       "    <tr style=\"text-align: right;\">\n",
       "      <th></th>\n",
       "      <th>total_images</th>\n",
       "      <th>last_price</th>\n",
       "      <th>total_area</th>\n",
       "      <th>first_day_exposition</th>\n",
       "      <th>rooms</th>\n",
       "      <th>ceiling_height</th>\n",
       "      <th>floors_total</th>\n",
       "      <th>living_area</th>\n",
       "      <th>floor</th>\n",
       "      <th>is_apartment</th>\n",
       "      <th>...</th>\n",
       "      <th>kitchen_area</th>\n",
       "      <th>balcony</th>\n",
       "      <th>locality_name</th>\n",
       "      <th>airports_nearest</th>\n",
       "      <th>cityCenters_nearest</th>\n",
       "      <th>parks_around3000</th>\n",
       "      <th>parks_nearest</th>\n",
       "      <th>ponds_around3000</th>\n",
       "      <th>ponds_nearest</th>\n",
       "      <th>days_exposition</th>\n",
       "    </tr>\n",
       "  </thead>\n",
       "  <tbody>\n",
       "    <tr>\n",
       "      <th>0</th>\n",
       "      <td>20</td>\n",
       "      <td>13000000.0</td>\n",
       "      <td>108.0</td>\n",
       "      <td>2019-03-07T00:00:00</td>\n",
       "      <td>3</td>\n",
       "      <td>2.70</td>\n",
       "      <td>16.0</td>\n",
       "      <td>51.0</td>\n",
       "      <td>8</td>\n",
       "      <td>NaN</td>\n",
       "      <td>...</td>\n",
       "      <td>25.0</td>\n",
       "      <td>NaN</td>\n",
       "      <td>Санкт-Петербург</td>\n",
       "      <td>18863.0</td>\n",
       "      <td>16028.0</td>\n",
       "      <td>1.0</td>\n",
       "      <td>482.0</td>\n",
       "      <td>2.0</td>\n",
       "      <td>755.0</td>\n",
       "      <td>NaN</td>\n",
       "    </tr>\n",
       "    <tr>\n",
       "      <th>1</th>\n",
       "      <td>7</td>\n",
       "      <td>3350000.0</td>\n",
       "      <td>40.4</td>\n",
       "      <td>2018-12-04T00:00:00</td>\n",
       "      <td>1</td>\n",
       "      <td>NaN</td>\n",
       "      <td>11.0</td>\n",
       "      <td>18.6</td>\n",
       "      <td>1</td>\n",
       "      <td>NaN</td>\n",
       "      <td>...</td>\n",
       "      <td>11.0</td>\n",
       "      <td>2.0</td>\n",
       "      <td>посёлок Шушары</td>\n",
       "      <td>12817.0</td>\n",
       "      <td>18603.0</td>\n",
       "      <td>0.0</td>\n",
       "      <td>NaN</td>\n",
       "      <td>0.0</td>\n",
       "      <td>NaN</td>\n",
       "      <td>81.0</td>\n",
       "    </tr>\n",
       "    <tr>\n",
       "      <th>2</th>\n",
       "      <td>10</td>\n",
       "      <td>5196000.0</td>\n",
       "      <td>56.0</td>\n",
       "      <td>2015-08-20T00:00:00</td>\n",
       "      <td>2</td>\n",
       "      <td>NaN</td>\n",
       "      <td>5.0</td>\n",
       "      <td>34.3</td>\n",
       "      <td>4</td>\n",
       "      <td>NaN</td>\n",
       "      <td>...</td>\n",
       "      <td>8.3</td>\n",
       "      <td>0.0</td>\n",
       "      <td>Санкт-Петербург</td>\n",
       "      <td>21741.0</td>\n",
       "      <td>13933.0</td>\n",
       "      <td>1.0</td>\n",
       "      <td>90.0</td>\n",
       "      <td>2.0</td>\n",
       "      <td>574.0</td>\n",
       "      <td>558.0</td>\n",
       "    </tr>\n",
       "    <tr>\n",
       "      <th>3</th>\n",
       "      <td>0</td>\n",
       "      <td>64900000.0</td>\n",
       "      <td>159.0</td>\n",
       "      <td>2015-07-24T00:00:00</td>\n",
       "      <td>3</td>\n",
       "      <td>NaN</td>\n",
       "      <td>14.0</td>\n",
       "      <td>NaN</td>\n",
       "      <td>9</td>\n",
       "      <td>NaN</td>\n",
       "      <td>...</td>\n",
       "      <td>NaN</td>\n",
       "      <td>0.0</td>\n",
       "      <td>Санкт-Петербург</td>\n",
       "      <td>28098.0</td>\n",
       "      <td>6800.0</td>\n",
       "      <td>2.0</td>\n",
       "      <td>84.0</td>\n",
       "      <td>3.0</td>\n",
       "      <td>234.0</td>\n",
       "      <td>424.0</td>\n",
       "    </tr>\n",
       "    <tr>\n",
       "      <th>4</th>\n",
       "      <td>2</td>\n",
       "      <td>10000000.0</td>\n",
       "      <td>100.0</td>\n",
       "      <td>2018-06-19T00:00:00</td>\n",
       "      <td>2</td>\n",
       "      <td>3.03</td>\n",
       "      <td>14.0</td>\n",
       "      <td>32.0</td>\n",
       "      <td>13</td>\n",
       "      <td>NaN</td>\n",
       "      <td>...</td>\n",
       "      <td>41.0</td>\n",
       "      <td>NaN</td>\n",
       "      <td>Санкт-Петербург</td>\n",
       "      <td>31856.0</td>\n",
       "      <td>8098.0</td>\n",
       "      <td>2.0</td>\n",
       "      <td>112.0</td>\n",
       "      <td>1.0</td>\n",
       "      <td>48.0</td>\n",
       "      <td>121.0</td>\n",
       "    </tr>\n",
       "  </tbody>\n",
       "</table>\n",
       "<p>5 rows × 22 columns</p>\n",
       "</div>"
      ],
      "text/plain": [
       "   total_images  last_price  total_area first_day_exposition  rooms  \\\n",
       "0            20  13000000.0       108.0  2019-03-07T00:00:00      3   \n",
       "1             7   3350000.0        40.4  2018-12-04T00:00:00      1   \n",
       "2            10   5196000.0        56.0  2015-08-20T00:00:00      2   \n",
       "3             0  64900000.0       159.0  2015-07-24T00:00:00      3   \n",
       "4             2  10000000.0       100.0  2018-06-19T00:00:00      2   \n",
       "\n",
       "   ceiling_height  floors_total  living_area  floor is_apartment  ...  \\\n",
       "0            2.70          16.0         51.0      8          NaN  ...   \n",
       "1             NaN          11.0         18.6      1          NaN  ...   \n",
       "2             NaN           5.0         34.3      4          NaN  ...   \n",
       "3             NaN          14.0          NaN      9          NaN  ...   \n",
       "4            3.03          14.0         32.0     13          NaN  ...   \n",
       "\n",
       "   kitchen_area  balcony    locality_name  airports_nearest  \\\n",
       "0          25.0      NaN  Санкт-Петербург           18863.0   \n",
       "1          11.0      2.0   посёлок Шушары           12817.0   \n",
       "2           8.3      0.0  Санкт-Петербург           21741.0   \n",
       "3           NaN      0.0  Санкт-Петербург           28098.0   \n",
       "4          41.0      NaN  Санкт-Петербург           31856.0   \n",
       "\n",
       "  cityCenters_nearest  parks_around3000  parks_nearest  ponds_around3000  \\\n",
       "0             16028.0               1.0          482.0               2.0   \n",
       "1             18603.0               0.0            NaN               0.0   \n",
       "2             13933.0               1.0           90.0               2.0   \n",
       "3              6800.0               2.0           84.0               3.0   \n",
       "4              8098.0               2.0          112.0               1.0   \n",
       "\n",
       "   ponds_nearest  days_exposition  \n",
       "0          755.0              NaN  \n",
       "1            NaN             81.0  \n",
       "2          574.0            558.0  \n",
       "3          234.0            424.0  \n",
       "4           48.0            121.0  \n",
       "\n",
       "[5 rows x 22 columns]"
      ]
     },
     "execution_count": 3,
     "metadata": {},
     "output_type": "execute_result"
    }
   ],
   "source": [
    "data.head()"
   ]
  },
  {
   "cell_type": "markdown",
   "id": "c5446783-594b-4430-bf9c-c4f1cc9415fa",
   "metadata": {},
   "source": [
    "###  Посмотрим на общую информацию по датафрейму"
   ]
  },
  {
   "cell_type": "code",
   "execution_count": 4,
   "id": "88f74ae2-7c88-418d-8c00-286904889588",
   "metadata": {},
   "outputs": [
    {
     "name": "stdout",
     "output_type": "stream",
     "text": [
      "<class 'pandas.core.frame.DataFrame'>\n",
      "RangeIndex: 23699 entries, 0 to 23698\n",
      "Data columns (total 22 columns):\n",
      " #   Column                Non-Null Count  Dtype  \n",
      "---  ------                --------------  -----  \n",
      " 0   total_images          23699 non-null  int64  \n",
      " 1   last_price            23699 non-null  float64\n",
      " 2   total_area            23699 non-null  float64\n",
      " 3   first_day_exposition  23699 non-null  object \n",
      " 4   rooms                 23699 non-null  int64  \n",
      " 5   ceiling_height        14504 non-null  float64\n",
      " 6   floors_total          23613 non-null  float64\n",
      " 7   living_area           21796 non-null  float64\n",
      " 8   floor                 23699 non-null  int64  \n",
      " 9   is_apartment          2775 non-null   object \n",
      " 10  studio                23699 non-null  bool   \n",
      " 11  open_plan             23699 non-null  bool   \n",
      " 12  kitchen_area          21421 non-null  float64\n",
      " 13  balcony               12180 non-null  float64\n",
      " 14  locality_name         23650 non-null  object \n",
      " 15  airports_nearest      18157 non-null  float64\n",
      " 16  cityCenters_nearest   18180 non-null  float64\n",
      " 17  parks_around3000      18181 non-null  float64\n",
      " 18  parks_nearest         8079 non-null   float64\n",
      " 19  ponds_around3000      18181 non-null  float64\n",
      " 20  ponds_nearest         9110 non-null   float64\n",
      " 21  days_exposition       20518 non-null  float64\n",
      "dtypes: bool(2), float64(14), int64(3), object(3)\n",
      "memory usage: 3.7+ MB\n"
     ]
    }
   ],
   "source": [
    "data.info()"
   ]
  },
  {
   "cell_type": "markdown",
   "id": "6db502d4-9c60-48a2-a1ea-e53bb8d173cc",
   "metadata": {},
   "source": [
    "###  Для информации также сразу посмотрим на гистограммы всех количественных значений"
   ]
  },
  {
   "cell_type": "code",
   "execution_count": 5,
   "id": "7727d71c-8b89-45f7-94ac-b047f89a4dd9",
   "metadata": {},
   "outputs": [
    {
     "data": {
      "image/png": "[encoded data removed]",
      "text/plain": [
       "<Figure size 1080x1080 with 20 Axes>"
      ]
     },
     "metadata": {
      "needs_background": "light"
     },
     "output_type": "display_data"
    }
   ],
   "source": [
    "data.hist(bins=30, figsize=(15, 15));"
   ]
  },
  {
   "cell_type": "markdown",
   "id": "02a581d9-2dab-44d5-b797-24002c97e0ff",
   "metadata": {},
   "source": [
    "**Вывод:** Имеем датафрейм из 23699 строк и 21 колонки. Некоторые типы данных предстоит изменить: `floors_total, balcony, parks_around3000, days_exposition ponds_around3000` превести в `int`, так как являются целыми величинами, а `is_apartment` - в `bool`, а также привести формат даты к читаемому. Также имеется большое количество пропущенных данных. Некоторые из них следует восстановить.\n",
    "Как видно по графикам, далеко не все из них имеют ожидаемый \"правильный\" вид. Значит в данных имеются погрешности. Вот их и будем искать и исправлять."
   ]
  },
  {
   "cell_type": "markdown",
   "id": "952ae1fd-11c3-4ef0-a605-ae497dab7521",
   "metadata": {},
   "source": [
    "## Предобработка данных"
   ]
  },
  {
   "cell_type": "markdown",
   "id": "969a8ac2-0689-4aab-99e2-0d64f1fb2b62",
   "metadata": {},
   "source": [
    "### Смотрим информацию о количестве пустых ячеек по индексам"
   ]
  },
  {
   "cell_type": "code",
   "execution_count": 6,
   "id": "5a37aeb7-c35b-4cb5-ba84-fdee8e88e061",
   "metadata": {},
   "outputs": [
    {
     "data": {
      "text/plain": [
       "total_images             0.000000\n",
       "last_price               0.000000\n",
       "total_area               0.000000\n",
       "first_day_exposition     0.000000\n",
       "rooms                    0.000000\n",
       "ceiling_height          38.799105\n",
       "floors_total             0.362885\n",
       "living_area              8.029875\n",
       "floor                    0.000000\n",
       "is_apartment            88.290645\n",
       "studio                   0.000000\n",
       "open_plan                0.000000\n",
       "kitchen_area             9.612220\n",
       "balcony                 48.605426\n",
       "locality_name            0.206760\n",
       "airports_nearest        23.384953\n",
       "cityCenters_nearest     23.287902\n",
       "parks_around3000        23.283683\n",
       "parks_nearest           65.909954\n",
       "ponds_around3000        23.283683\n",
       "ponds_nearest           61.559559\n",
       "days_exposition         13.422507\n",
       "dtype: float64"
      ]
     },
     "execution_count": 6,
     "metadata": {},
     "output_type": "execute_result"
    }
   ],
   "source": [
    "#смотрим долю пропущенных значений в процентах\n",
    "data.isna().sum() / len(data) * 100"
   ]
  },
  {
   "cell_type": "markdown",
   "id": "cd7aa337-3c69-4eab-b0bb-38c8d49deb9f",
   "metadata": {},
   "source": [
    "**Вывод:** видно, что у 0,2% объявлений не указан населенный пункт. В контексте исследования данная информация является важной и ее отсутсвие может повлиять на конечный результат. Поэтому все объявления с таким пропуском удаляем.\n",
    "Примерно такая же ситуация обстоит и с общей этажностью здания - не заполнено в 0,36% случаях. Данные объявления тоже удаляем, так как в конечном итоге будем также смотреть влияние этажа, на котором находится квартира, на цену. А в данном случае установить, является ли этаж последним невозможно."
   ]
  },
  {
   "cell_type": "markdown",
   "id": "2c072fc2-71f5-4656-ba04-a706c31995d8",
   "metadata": {},
   "source": [
    "### Удаляем неинформативные строки"
   ]
  },
  {
   "cell_type": "code",
   "execution_count": 7,
   "id": "9819d735-3846-4a95-aee2-6c9a962bc2c6",
   "metadata": {},
   "outputs": [],
   "source": [
    "data = data.dropna(subset=['locality_name', 'floors_total'])"
   ]
  },
  {
   "cell_type": "markdown",
   "id": "424e00bd-7563-4db3-ad14-68a2f6fe400a",
   "metadata": {},
   "source": [
    "###  Заполняем пустые ячейки"
   ]
  },
  {
   "cell_type": "markdown",
   "id": "f5ed44d5-5984-4f0e-8bb8-616237880bd4",
   "metadata": {},
   "source": [
    "В 8,02% объявлениях отсутствует информация о жилой плащади, а в 9,61% нет данных о плащади кухни. Для заполнения данных значений нужно найти срений коэффициент отношения жилой площади к общей, и площади кухни к общей площади соответственно. Добавим данные коэффиценты к имеющимся строкам датафрейм."
   ]
  },
  {
   "cell_type": "code",
   "execution_count": 8,
   "id": "2b338a25-493f-42ba-b837-d856f156797a",
   "metadata": {
    "slideshow": {
     "slide_type": ""
    },
    "tags": []
   },
   "outputs": [],
   "source": [
    "data['living_area_ratio'] = data['living_area'] / data['total_area']\n",
    "data['kitchen_area_ratio'] = data['kitchen_area'] / data['total_area']"
   ]
  },
  {
   "cell_type": "markdown",
   "id": "e7203446-e416-4029-bd43-62fdc45e7f60",
   "metadata": {
    "slideshow": {
     "slide_type": ""
    },
    "tags": []
   },
   "source": [
    "Создадим сводную таблицу. чтоюы вычислить среднее значение."
   ]
  },
  {
   "cell_type": "code",
   "execution_count": 9,
   "id": "f2acd802-6dab-492d-9e63-d15d3bec29d5",
   "metadata": {
    "slideshow": {
     "slide_type": ""
    },
    "tags": []
   },
   "outputs": [
    {
     "data": {
      "text/html": [
       "<div>\n",
       "<style scoped>\n",
       "    .dataframe tbody tr th:only-of-type {\n",
       "        vertical-align: middle;\n",
       "    }\n",
       "\n",
       "    .dataframe tbody tr th {\n",
       "        vertical-align: top;\n",
       "    }\n",
       "\n",
       "    .dataframe thead th {\n",
       "        text-align: right;\n",
       "    }\n",
       "</style>\n",
       "<table border=\"1\" class=\"dataframe\">\n",
       "  <thead>\n",
       "    <tr style=\"text-align: right;\">\n",
       "      <th></th>\n",
       "      <th>kitchen_area_ratio</th>\n",
       "      <th>living_area_ratio</th>\n",
       "    </tr>\n",
       "    <tr>\n",
       "      <th>rooms</th>\n",
       "      <th></th>\n",
       "      <th></th>\n",
       "    </tr>\n",
       "  </thead>\n",
       "  <tbody>\n",
       "    <tr>\n",
       "      <th>0</th>\n",
       "      <td>NaN</td>\n",
       "      <td>0.689655</td>\n",
       "    </tr>\n",
       "    <tr>\n",
       "      <th>1</th>\n",
       "      <td>0.247779</td>\n",
       "      <td>0.482638</td>\n",
       "    </tr>\n",
       "    <tr>\n",
       "      <th>2</th>\n",
       "      <td>0.161034</td>\n",
       "      <td>0.585470</td>\n",
       "    </tr>\n",
       "    <tr>\n",
       "      <th>3</th>\n",
       "      <td>0.128496</td>\n",
       "      <td>0.631833</td>\n",
       "    </tr>\n",
       "    <tr>\n",
       "      <th>4</th>\n",
       "      <td>0.112245</td>\n",
       "      <td>0.659789</td>\n",
       "    </tr>\n",
       "    <tr>\n",
       "      <th>5</th>\n",
       "      <td>0.105386</td>\n",
       "      <td>0.651842</td>\n",
       "    </tr>\n",
       "    <tr>\n",
       "      <th>6</th>\n",
       "      <td>0.098853</td>\n",
       "      <td>0.679509</td>\n",
       "    </tr>\n",
       "    <tr>\n",
       "      <th>7</th>\n",
       "      <td>0.083717</td>\n",
       "      <td>0.681670</td>\n",
       "    </tr>\n",
       "    <tr>\n",
       "      <th>8</th>\n",
       "      <td>0.109170</td>\n",
       "      <td>0.688475</td>\n",
       "    </tr>\n",
       "    <tr>\n",
       "      <th>9</th>\n",
       "      <td>0.049620</td>\n",
       "      <td>0.628251</td>\n",
       "    </tr>\n",
       "    <tr>\n",
       "      <th>10</th>\n",
       "      <td>0.091624</td>\n",
       "      <td>0.653103</td>\n",
       "    </tr>\n",
       "    <tr>\n",
       "      <th>11</th>\n",
       "      <td>0.066855</td>\n",
       "      <td>0.710093</td>\n",
       "    </tr>\n",
       "    <tr>\n",
       "      <th>12</th>\n",
       "      <td>0.124444</td>\n",
       "      <td>0.455222</td>\n",
       "    </tr>\n",
       "    <tr>\n",
       "      <th>14</th>\n",
       "      <td>0.075636</td>\n",
       "      <td>0.648695</td>\n",
       "    </tr>\n",
       "    <tr>\n",
       "      <th>15</th>\n",
       "      <td>0.169492</td>\n",
       "      <td>0.693220</td>\n",
       "    </tr>\n",
       "    <tr>\n",
       "      <th>16</th>\n",
       "      <td>0.048148</td>\n",
       "      <td>0.666667</td>\n",
       "    </tr>\n",
       "    <tr>\n",
       "      <th>19</th>\n",
       "      <td>0.073679</td>\n",
       "      <td>0.706086</td>\n",
       "    </tr>\n",
       "  </tbody>\n",
       "</table>\n",
       "</div>"
      ],
      "text/plain": [
       "       kitchen_area_ratio  living_area_ratio\n",
       "rooms                                       \n",
       "0                     NaN           0.689655\n",
       "1                0.247779           0.482638\n",
       "2                0.161034           0.585470\n",
       "3                0.128496           0.631833\n",
       "4                0.112245           0.659789\n",
       "5                0.105386           0.651842\n",
       "6                0.098853           0.679509\n",
       "7                0.083717           0.681670\n",
       "8                0.109170           0.688475\n",
       "9                0.049620           0.628251\n",
       "10               0.091624           0.653103\n",
       "11               0.066855           0.710093\n",
       "12               0.124444           0.455222\n",
       "14               0.075636           0.648695\n",
       "15               0.169492           0.693220\n",
       "16               0.048148           0.666667\n",
       "19               0.073679           0.706086"
      ]
     },
     "execution_count": 9,
     "metadata": {},
     "output_type": "execute_result"
    }
   ],
   "source": [
    "area_ratio_data = data.pivot_table(index='rooms', values=['living_area_ratio', 'kitchen_area_ratio'], aggfunc='median')\n",
    "area_ratio_data"
   ]
  },
  {
   "cell_type": "markdown",
   "id": "70b21f95-9ad0-4d6b-ade6-dd3bf8b1402f",
   "metadata": {},
   "source": [
    "По всему выходит, что картиры без комнат не имеют кухни. Квартиры такого формата - это студии, где кухня является одновременно и жилой площадью. Установим коэффициент равный 0 для этих квартир"
   ]
  },
  {
   "cell_type": "code",
   "execution_count": 10,
   "id": "5135466b-21bc-4465-98d8-f30b8be9f2c9",
   "metadata": {
    "slideshow": {
     "slide_type": ""
    },
    "tags": []
   },
   "outputs": [
    {
     "data": {
      "text/html": [
       "<div>\n",
       "<style scoped>\n",
       "    .dataframe tbody tr th:only-of-type {\n",
       "        vertical-align: middle;\n",
       "    }\n",
       "\n",
       "    .dataframe tbody tr th {\n",
       "        vertical-align: top;\n",
       "    }\n",
       "\n",
       "    .dataframe thead th {\n",
       "        text-align: right;\n",
       "    }\n",
       "</style>\n",
       "<table border=\"1\" class=\"dataframe\">\n",
       "  <thead>\n",
       "    <tr style=\"text-align: right;\">\n",
       "      <th></th>\n",
       "      <th>kitchen_area_ratio</th>\n",
       "      <th>living_area_ratio</th>\n",
       "    </tr>\n",
       "    <tr>\n",
       "      <th>rooms</th>\n",
       "      <th></th>\n",
       "      <th></th>\n",
       "    </tr>\n",
       "  </thead>\n",
       "  <tbody>\n",
       "    <tr>\n",
       "      <th>0</th>\n",
       "      <td>0.000000</td>\n",
       "      <td>0.689655</td>\n",
       "    </tr>\n",
       "    <tr>\n",
       "      <th>1</th>\n",
       "      <td>0.247779</td>\n",
       "      <td>0.482638</td>\n",
       "    </tr>\n",
       "    <tr>\n",
       "      <th>2</th>\n",
       "      <td>0.161034</td>\n",
       "      <td>0.585470</td>\n",
       "    </tr>\n",
       "    <tr>\n",
       "      <th>3</th>\n",
       "      <td>0.128496</td>\n",
       "      <td>0.631833</td>\n",
       "    </tr>\n",
       "    <tr>\n",
       "      <th>4</th>\n",
       "      <td>0.112245</td>\n",
       "      <td>0.659789</td>\n",
       "    </tr>\n",
       "    <tr>\n",
       "      <th>5</th>\n",
       "      <td>0.105386</td>\n",
       "      <td>0.651842</td>\n",
       "    </tr>\n",
       "    <tr>\n",
       "      <th>6</th>\n",
       "      <td>0.098853</td>\n",
       "      <td>0.679509</td>\n",
       "    </tr>\n",
       "    <tr>\n",
       "      <th>7</th>\n",
       "      <td>0.083717</td>\n",
       "      <td>0.681670</td>\n",
       "    </tr>\n",
       "    <tr>\n",
       "      <th>8</th>\n",
       "      <td>0.109170</td>\n",
       "      <td>0.688475</td>\n",
       "    </tr>\n",
       "    <tr>\n",
       "      <th>9</th>\n",
       "      <td>0.049620</td>\n",
       "      <td>0.628251</td>\n",
       "    </tr>\n",
       "    <tr>\n",
       "      <th>10</th>\n",
       "      <td>0.091624</td>\n",
       "      <td>0.653103</td>\n",
       "    </tr>\n",
       "    <tr>\n",
       "      <th>11</th>\n",
       "      <td>0.066855</td>\n",
       "      <td>0.710093</td>\n",
       "    </tr>\n",
       "    <tr>\n",
       "      <th>12</th>\n",
       "      <td>0.124444</td>\n",
       "      <td>0.455222</td>\n",
       "    </tr>\n",
       "    <tr>\n",
       "      <th>14</th>\n",
       "      <td>0.075636</td>\n",
       "      <td>0.648695</td>\n",
       "    </tr>\n",
       "    <tr>\n",
       "      <th>15</th>\n",
       "      <td>0.169492</td>\n",
       "      <td>0.693220</td>\n",
       "    </tr>\n",
       "    <tr>\n",
       "      <th>16</th>\n",
       "      <td>0.048148</td>\n",
       "      <td>0.666667</td>\n",
       "    </tr>\n",
       "    <tr>\n",
       "      <th>19</th>\n",
       "      <td>0.073679</td>\n",
       "      <td>0.706086</td>\n",
       "    </tr>\n",
       "  </tbody>\n",
       "</table>\n",
       "</div>"
      ],
      "text/plain": [
       "       kitchen_area_ratio  living_area_ratio\n",
       "rooms                                       \n",
       "0                0.000000           0.689655\n",
       "1                0.247779           0.482638\n",
       "2                0.161034           0.585470\n",
       "3                0.128496           0.631833\n",
       "4                0.112245           0.659789\n",
       "5                0.105386           0.651842\n",
       "6                0.098853           0.679509\n",
       "7                0.083717           0.681670\n",
       "8                0.109170           0.688475\n",
       "9                0.049620           0.628251\n",
       "10               0.091624           0.653103\n",
       "11               0.066855           0.710093\n",
       "12               0.124444           0.455222\n",
       "14               0.075636           0.648695\n",
       "15               0.169492           0.693220\n",
       "16               0.048148           0.666667\n",
       "19               0.073679           0.706086"
      ]
     },
     "execution_count": 10,
     "metadata": {},
     "output_type": "execute_result"
    }
   ],
   "source": [
    "area_ratio_data = area_ratio_data.fillna(0)\n",
    "area_ratio_data"
   ]
  },
  {
   "cell_type": "markdown",
   "id": "25c87e36-e314-4c7f-99f7-701c41d5d2bd",
   "metadata": {},
   "source": [
    "Таблица коэффициентов готова, приступаем к заполнению пропусков. Сначала заполним пустые значения коэффициентов в датафрейме."
   ]
  },
  {
   "cell_type": "code",
   "execution_count": 11,
   "id": "dc733db8-a6eb-4393-b692-07c7175f449b",
   "metadata": {},
   "outputs": [],
   "source": [
    "#заполняем пустые ячейки коэффициентов жилой площади \n",
    "data_mask = data['living_area_ratio'].isna()\n",
    "data.loc[data_mask, 'living_area_ratio'] = \\\n",
    "    data.loc[data_mask, ['rooms']].join(area_ratio_data, on='rooms')['living_area_ratio']"
   ]
  },
  {
   "cell_type": "code",
   "execution_count": 12,
   "id": "3d55174b-b2a9-45ed-aa55-b4188253cdf6",
   "metadata": {},
   "outputs": [],
   "source": [
    "#заполняем пустые ячейки коэффициентов площади кухни\n",
    "data_mask = data['kitchen_area_ratio'].isna()\n",
    "data.loc[data_mask, 'kitchen_area_ratio'] = \\\n",
    "    data.loc[data_mask, ['rooms']].join(area_ratio_data, on='rooms')['kitchen_area_ratio']"
   ]
  },
  {
   "cell_type": "code",
   "execution_count": 13,
   "id": "246a8a4c-1cf3-4a9e-ac79-f3671ad0f6ca",
   "metadata": {},
   "outputs": [],
   "source": [
    "#заполняем пустые значения площади\n",
    "data['living_area'] = data['living_area'].fillna(data['living_area_ratio'] * data['total_area'])\n",
    "data['kitchen_area'] = data['kitchen_area'].fillna(data['kitchen_area_ratio'] * data['total_area'])"
   ]
  },
  {
   "cell_type": "markdown",
   "id": "0cb17806-d1e7-4535-ab30-3a4d768022b6",
   "metadata": {},
   "source": [
    "Логично предположить, что если не заполнено число балконов, то в помещении их нет. То же касается и парков и водёмов в радиусе 3 км - их нет поблизости. Поскольку данные ячейки заполняются автоматически на основе геоданных, можно сделать вывод, что таких объектов действительно нет, ошибки быть не может. В случае заполения данных вручную, потребовалась бы дополнительная проверка на соответсвие незаполненных значений со столбцом, в котором указано расстояние до ближайшего объекта."
   ]
  },
  {
   "cell_type": "code",
   "execution_count": 15,
   "id": "51dc1686-18ba-4e36-81aa-7ff5a57b5d7a",
   "metadata": {},
   "outputs": [],
   "source": [
    "#заполняем пропуски и меняем тип данных\n",
    "data['balcony'] = data['balcony'].fillna(0)\n",
    "data['balcony'] = data['balcony'].astype('int64')\n",
    "\n",
    "data['parks_around3000'] = data['parks_around3000'].fillna(0)\n",
    "data['parks_around3000'] = data['parks_around3000'].astype('int64')\n",
    "\n",
    "data['ponds_around3000'] = data['ponds_around3000'].fillna(0)\n",
    "data['ponds_around3000'] = data['ponds_around3000'].astype('int64')\n",
    "\n",
    "#также меняем формат на правильный\n",
    "data['floors_total'] = data['floors_total'].astype('int64')\n",
    "data['first_day_exposition']=pd.to_datetime(data['first_day_exposition'], format='%Y-%m-%d %H:%M:%S')"
   ]
  },
  {
   "cell_type": "markdown",
   "id": "59453cfa-dfca-4e33-8694-e38ebca32925",
   "metadata": {},
   "source": [
    "В 13,42% случаев не заполнено количество дней, которое прошло с момента публикации объявления до продажи квартиры либо снятия объявления с публикации. Вероятно, это означает, что объявление всё ещё активно на момент публикации. Оставим данные строки пустыми."
   ]
  },
  {
   "cell_type": "markdown",
   "id": "bf46d4f4-5196-440e-90a3-ec5a14866bc5",
   "metadata": {},
   "source": [
    "Проверим, какие значения содержатся в стобце `is_apartment`, чтобы в дальнейшем перевести его к правильному формату данных."
   ]
  },
  {
   "cell_type": "code",
   "execution_count": 16,
   "id": "8d5c085f-6880-413a-ba78-22a30064ad1f",
   "metadata": {
    "scrolled": true
   },
   "outputs": [
    {
     "data": {
      "text/plain": [
       "False    2710\n",
       "True       50\n",
       "Name: is_apartment, dtype: int64"
      ]
     },
     "execution_count": 16,
     "metadata": {},
     "output_type": "execute_result"
    }
   ],
   "source": [
    "data['is_apartment'].value_counts()"
   ]
  },
  {
   "cell_type": "markdown",
   "id": "6b5efcae-0368-4a74-b4db-01dd59ffa753",
   "metadata": {},
   "source": [
    "Если данный пункт не заполнен, следует сделать вывод, что квартира апартаментами не является. Заполним пустые ячейки значением `False`, а потом переведём данные во всём столбце к типу `bool`"
   ]
  },
  {
   "cell_type": "code",
   "execution_count": 17,
   "id": "17525d01-0bb6-469a-a8f6-a5d82ea49090",
   "metadata": {},
   "outputs": [],
   "source": [
    "data['is_apartment'] = data['is_apartment'].fillna(False)\n",
    "data['is_apartment'] = data['is_apartment'] == True"
   ]
  },
  {
   "cell_type": "markdown",
   "id": "4733c082-3de9-47ab-9386-e2013f3108b5",
   "metadata": {},
   "source": [
    "Проверим, что всё сделано правильно."
   ]
  },
  {
   "cell_type": "code",
   "execution_count": 18,
   "id": "dacf4860-0426-43a0-8d3d-cf72821c6f42",
   "metadata": {},
   "outputs": [
    {
     "data": {
      "text/plain": [
       "False    23515\n",
       "True        50\n",
       "Name: is_apartment, dtype: int64"
      ]
     },
     "execution_count": 18,
     "metadata": {},
     "output_type": "execute_result"
    }
   ],
   "source": [
    "data['is_apartment'].value_counts()"
   ]
  },
  {
   "cell_type": "markdown",
   "id": "a497c2a4-5355-42a4-9fc3-8c703250bca3",
   "metadata": {},
   "source": [
    "Всё отлично. Далее посмотрим на высоту потолка."
   ]
  },
  {
   "cell_type": "code",
   "execution_count": 19,
   "id": "94544799-25f6-4883-8386-f67776a8fa1d",
   "metadata": {},
   "outputs": [
    {
     "data": {
      "image/png": "[encoded data removed]",
      "text/plain": [
       "<Figure size 288x288 with 1 Axes>"
      ]
     },
     "metadata": {
      "needs_background": "light"
     },
     "output_type": "display_data"
    }
   ],
   "source": [
    "data.boxplot('ceiling_height', figsize=(4,4));"
   ]
  },
  {
   "cell_type": "code",
   "execution_count": 20,
   "id": "eea87549-51b8-4c6a-8998-4726397430ff",
   "metadata": {},
   "outputs": [
    {
     "data": {
      "text/plain": [
       "count    14481.000000\n",
       "mean         2.771283\n",
       "std          1.261983\n",
       "min          1.000000\n",
       "25%          2.510000\n",
       "50%          2.650000\n",
       "75%          2.800000\n",
       "max        100.000000\n",
       "Name: ceiling_height, dtype: float64"
      ]
     },
     "execution_count": 20,
     "metadata": {},
     "output_type": "execute_result"
    }
   ],
   "source": [
    "data['ceiling_height'].describe()"
   ]
  },
  {
   "cell_type": "markdown",
   "id": "e56f752e-40dd-4956-8025-0fdeee011361",
   "metadata": {},
   "source": [
    "Большинство значений находится в одном диапазоне. Медианное значение составляет 2,65 метра. Но вот крайние значения явно выбиваются из общего строя, а и стандартное отклонение 1,26 невероятно большое. Стоит проверить крайне выбивающиеся значения. Посмотрим, какие ячейки выбиваются за рамки разумного и показывают аномально высокие значения, возможно где-то есть неточность данных.\n"
   ]
  },
  {
   "cell_type": "code",
   "execution_count": 21,
   "id": "2cafd036-ed16-48ef-b318-3c93488c51d9",
   "metadata": {},
   "outputs": [
    {
     "data": {
      "text/plain": [
       "array([  2.7 ,    nan,   3.03,   2.5 ,   2.67,   2.56,   3.05,   2.75,\n",
       "         2.6 ,   2.9 ,   2.8 ,   2.55,   3.  ,   2.65,   3.2 ,   2.61,\n",
       "         3.25,   3.45,   2.77,   2.85,   2.64,   2.57,   4.15,   3.5 ,\n",
       "         3.3 ,   2.71,   4.  ,   2.47,   2.73,   2.84,   3.1 ,   2.34,\n",
       "         3.4 ,   3.06,   2.72,   2.54,   2.51,   2.78,   2.76,  25.  ,\n",
       "         2.58,   3.7 ,   2.52,   5.2 ,   2.87,   2.66,   2.59,   2.  ,\n",
       "         2.45,   3.6 ,   2.92,   3.11,   3.13,   3.8 ,   3.15,   3.55,\n",
       "         3.16,   3.62,   3.12,   2.53,   2.74,   2.96,   2.46,   5.3 ,\n",
       "         5.  ,   2.79,   2.95,   4.06,   2.94,   3.82,   3.54,   3.53,\n",
       "         2.83,   4.7 ,   2.4 ,   3.38,   3.01,   5.6 ,   3.65,   3.9 ,\n",
       "         3.18,   3.35,   2.3 ,   3.57,   2.48,   2.62,   2.82,   3.98,\n",
       "         2.63,   3.83,   3.52,   3.95,   3.75,   2.88,   3.67,   3.87,\n",
       "         3.66,   3.85,   3.86,   4.19,   3.24,   4.8 ,   4.5 ,   4.2 ,\n",
       "         3.36,  32.  ,   3.08,   3.68,   3.07,   3.37,   3.09,   8.  ,\n",
       "         3.26,   3.34,   2.81,   3.44,   2.97,   3.14,   4.37,   2.68,\n",
       "         3.22,   3.27,  27.  ,   4.1 ,   2.93,   3.46,  24.  ,   3.47,\n",
       "         3.33,   3.63,   3.32,  26.  ,   1.2 ,   8.3 ,   2.98,   2.86,\n",
       "         3.17,   4.4 ,   3.28,   3.04,   4.45,   5.5 ,   3.84,   3.23,\n",
       "         3.02,   3.21,   3.43,   3.78,   4.3 ,   3.39,   2.69,   3.31,\n",
       "         4.65,   3.56,   2.2 ,   3.51,   3.93,   3.42,   2.99,   3.49,\n",
       "        14.  ,   4.14,   2.91,   3.88,   1.75,   4.25,   3.29,  20.  ,\n",
       "         2.25,   3.76,   3.69,   6.  ,  22.6 ,   2.89,   3.58,   5.8 ,\n",
       "        27.5 ,   2.49,   4.9 ,   3.48,  10.3 ,   1.  , 100.  ,   3.59])"
      ]
     },
     "execution_count": 21,
     "metadata": {},
     "output_type": "execute_result"
    }
   ],
   "source": [
    "#проверяем уникальные значения\n",
    "data['ceiling_height'].unique()"
   ]
  },
  {
   "cell_type": "markdown",
   "id": "cfaf9c53-85a1-40b4-8da4-f3bc1cbb5ff7",
   "metadata": {},
   "source": [
    "Из общего ряда оптимальных значений выбиваются, например: 27.5; 32. ; 27. ; 26. ;22.6 ; 24.  ; 25. ; 20.  . Здесь наверняка ошибка в заполении - высота указана в децеметрах. Следует исправить на метры. Также попадаются значения: 14.  ; 100.  ; 10.3. Здесь сказать сложнее, 10 метров, а тем более 14 слишком много для высоты потолка, а если 14 представить как 1,4 - то выходит слишком мало. На превом этапе ограничим макисмум высотой 11 метров. Всё, что выше будем делить на 10, чтобы перевести в метры."
   ]
  },
  {
   "cell_type": "code",
   "execution_count": 22,
   "id": "81bda77f-8aa3-4bed-8706-9c0d133beb25",
   "metadata": {},
   "outputs": [],
   "source": [
    "#изменяем параметры с помощью логической индексации\n",
    "data.loc[data['ceiling_height'] > 11, 'ceiling_height'] = data.loc[data['ceiling_height'] > 11, 'ceiling_height'] / 10"
   ]
  },
  {
   "cell_type": "markdown",
   "id": "3e996e05-80ba-4551-88af-380252c750fd",
   "metadata": {},
   "source": [
    "И посмотрим на униальные значения еще раз."
   ]
  },
  {
   "cell_type": "code",
   "execution_count": 23,
   "id": "7b1db55d-b337-4cf7-a2e2-363b9de31134",
   "metadata": {},
   "outputs": [
    {
     "data": {
      "text/plain": [
       "array([ 2.7 ,   nan,  3.03,  2.5 ,  2.67,  2.56,  3.05,  2.75,  2.6 ,\n",
       "        2.9 ,  2.8 ,  2.55,  3.  ,  2.65,  3.2 ,  2.61,  3.25,  3.45,\n",
       "        2.77,  2.85,  2.64,  2.57,  4.15,  3.5 ,  3.3 ,  2.71,  4.  ,\n",
       "        2.47,  2.73,  2.84,  3.1 ,  2.34,  3.4 ,  3.06,  2.72,  2.54,\n",
       "        2.51,  2.78,  2.76,  2.58,  3.7 ,  2.52,  5.2 ,  2.87,  2.66,\n",
       "        2.59,  2.  ,  2.45,  3.6 ,  2.92,  3.11,  3.13,  3.8 ,  3.15,\n",
       "        3.55,  3.16,  3.62,  3.12,  2.53,  2.74,  2.96,  2.46,  5.3 ,\n",
       "        5.  ,  2.79,  2.95,  4.06,  2.94,  3.82,  3.54,  3.53,  2.83,\n",
       "        4.7 ,  2.4 ,  3.38,  3.01,  5.6 ,  3.65,  3.9 ,  3.18,  3.35,\n",
       "        2.3 ,  3.57,  2.48,  2.62,  2.82,  3.98,  2.63,  3.83,  3.52,\n",
       "        3.95,  3.75,  2.88,  3.67,  3.87,  3.66,  3.85,  3.86,  4.19,\n",
       "        3.24,  4.8 ,  4.5 ,  4.2 ,  3.36,  3.08,  3.68,  3.07,  3.37,\n",
       "        3.09,  8.  ,  3.26,  3.34,  2.81,  3.44,  2.97,  3.14,  4.37,\n",
       "        2.68,  3.22,  3.27,  4.1 ,  2.93,  3.46,  3.47,  3.33,  3.63,\n",
       "        3.32,  1.2 ,  8.3 ,  2.98,  2.86,  3.17,  4.4 ,  3.28,  3.04,\n",
       "        4.45,  5.5 ,  3.84,  3.23,  3.02,  3.21,  3.43,  3.78,  4.3 ,\n",
       "        3.39,  2.69,  3.31,  4.65,  3.56,  2.2 ,  3.51,  3.93,  3.42,\n",
       "        2.99,  3.49,  1.4 ,  4.14,  2.91,  3.88,  1.75,  4.25,  3.29,\n",
       "        2.25,  3.76,  3.69,  6.  ,  2.26,  2.89,  3.58,  5.8 ,  2.49,\n",
       "        4.9 ,  3.48, 10.3 ,  1.  , 10.  ,  3.59])"
      ]
     },
     "execution_count": 23,
     "metadata": {},
     "output_type": "execute_result"
    }
   ],
   "source": [
    "#проверяем уникальные значения\n",
    "data['ceiling_height'].unique()"
   ]
  },
  {
   "cell_type": "markdown",
   "id": "30d0cb2c-b056-4462-a14f-b884e4b370a1",
   "metadata": {},
   "source": [
    "Аномалии исправлены, но разброс всё еще достаточно большой. Посмотрим, сколько квартир имеют потолок свыше 6 метров."
   ]
  },
  {
   "cell_type": "code",
   "execution_count": 24,
   "id": "fe0bc93c-0a4a-4c91-942e-aed8d922e729",
   "metadata": {},
   "outputs": [
    {
     "data": {
      "text/plain": [
       "6"
      ]
     },
     "execution_count": 24,
     "metadata": {},
     "output_type": "execute_result"
    }
   ],
   "source": [
    "len(data[data['ceiling_height'] > 6])"
   ]
  },
  {
   "cell_type": "markdown",
   "id": "e1b91784-8dfd-4829-b697-7684326d354d",
   "metadata": {},
   "source": [
    "Всего 6 строк, лучше их удалить, на общую картину это не повлияет.\n",
    "То же касается и потолков ниже 2 метров, посмотрим, сколько таких квартир."
   ]
  },
  {
   "cell_type": "code",
   "execution_count": 25,
   "id": "ad920c03-6ace-4665-9e51-7419ce8059df",
   "metadata": {},
   "outputs": [
    {
     "data": {
      "text/plain": [
       "4"
      ]
     },
     "execution_count": 25,
     "metadata": {},
     "output_type": "execute_result"
    }
   ],
   "source": [
    "len(data[data['ceiling_height'] < 2])"
   ]
  },
  {
   "cell_type": "markdown",
   "id": "e5811ef7-4114-4010-b715-566eed6052a2",
   "metadata": {},
   "source": [
    "И того меньше, всего 4 квартиры. Их тоже удаляем."
   ]
  },
  {
   "cell_type": "code",
   "execution_count": 26,
   "id": "635730e6-715c-4631-a236-40620c2b3a17",
   "metadata": {},
   "outputs": [],
   "source": [
    "data = data.drop(data[data['ceiling_height'] > 6].index)\n",
    "data = data.drop(data[data['ceiling_height'] < 2.4].index)"
   ]
  },
  {
   "cell_type": "markdown",
   "id": "0787050b-2603-4b9e-bb3b-e54c0c4e8802",
   "metadata": {},
   "source": [
    "Построим диаграмму размаха еще раз."
   ]
  },
  {
   "cell_type": "code",
   "execution_count": 27,
   "id": "4c137f83-0fe5-4ec6-a253-108d8784de29",
   "metadata": {},
   "outputs": [
    {
     "data": {
      "image/png": "[encoded data removed]",
      "text/plain": [
       "<Figure size 432x288 with 1 Axes>"
      ]
     },
     "metadata": {
      "needs_background": "light"
     },
     "output_type": "display_data"
    }
   ],
   "source": [
    "plt.ylim(2,6)\n",
    "data.boxplot('ceiling_height', figsize=(4,4));"
   ]
  },
  {
   "cell_type": "code",
   "execution_count": 28,
   "id": "06c091be-6d95-488f-9772-f2b97f624cb1",
   "metadata": {},
   "outputs": [
    {
     "data": {
      "text/plain": [
       "count    14451.000000\n",
       "mean         2.727186\n",
       "std          0.277753\n",
       "min          2.400000\n",
       "25%          2.520000\n",
       "50%          2.650000\n",
       "75%          2.800000\n",
       "max          6.000000\n",
       "Name: ceiling_height, dtype: float64"
      ]
     },
     "execution_count": 28,
     "metadata": {},
     "output_type": "execute_result"
    }
   ],
   "source": [
    "data['ceiling_height'].describe()"
   ]
  },
  {
   "cell_type": "markdown",
   "id": "a7e23449-71d2-4d39-8c7f-15547991132c",
   "metadata": {},
   "source": [
    "Получается, что медианное значение не изменилось и составляет 2,65 метра. При этом второй квартиль находится в диапазоне 2,52 - 2,8 метра. Стандартное отклонение тоже пришло в норму и составляет 0,28 метра. Исходя из этого заполняем пустоты медианным значением."
   ]
  },
  {
   "cell_type": "code",
   "execution_count": 29,
   "id": "e3e2f5ec-858e-41ae-aac7-a3b58210eb07",
   "metadata": {},
   "outputs": [],
   "source": [
    "data['ceiling_height'] = data['ceiling_height'].fillna(data['ceiling_height'].median())"
   ]
  },
  {
   "cell_type": "markdown",
   "id": "0759dee4-87f2-4432-af76-17fe37b86cae",
   "metadata": {},
   "source": [
    "Настало время проверить, все ли пустоты заполнены."
   ]
  },
  {
   "cell_type": "code",
   "execution_count": 30,
   "id": "e5b49c42-0ca9-4bd8-8c7d-0d8157fda7ce",
   "metadata": {},
   "outputs": [
    {
     "data": {
      "text/plain": [
       "total_images             0.000000\n",
       "last_price               0.000000\n",
       "total_area               0.000000\n",
       "first_day_exposition     0.000000\n",
       "rooms                    0.000000\n",
       "ceiling_height           0.000000\n",
       "floors_total             0.000000\n",
       "living_area              0.000000\n",
       "floor                    0.000000\n",
       "is_apartment             0.000000\n",
       "studio                   0.000000\n",
       "open_plan                0.000000\n",
       "kitchen_area             0.000000\n",
       "balcony                  0.000000\n",
       "locality_name            0.000000\n",
       "airports_nearest        23.403442\n",
       "cityCenters_nearest     23.305715\n",
       "parks_around3000         0.000000\n",
       "parks_nearest           65.914595\n",
       "ponds_around3000         0.000000\n",
       "ponds_nearest           61.640110\n",
       "days_exposition         13.456554\n",
       "living_area_ratio        0.000000\n",
       "kitchen_area_ratio       0.000000\n",
       "dtype: float64"
      ]
     },
     "execution_count": 30,
     "metadata": {},
     "output_type": "execute_result"
    }
   ],
   "source": [
    "data.isna().sum() / len(data) * 100"
   ]
  },
  {
   "cell_type": "markdown",
   "id": "01ab8433-c32f-4da4-9692-ea0f5aacc722",
   "metadata": {},
   "source": [
    "Осталось 5 столбцов:\n",
    "- расстояния до ближайшего аэропорта,\n",
    "- расстояния до центра города,\n",
    "- расстояния до ближайшего парка,\n",
    "- расстояния до ближайшего водоема,\n",
    "- срок размещения.\n",
    "  \n",
    "  Заполнить их нечем, так как точных данных нет. Оставим их как есть, возможно эти показатели не сильно влияют на стоимость объектов. Это мы узнаем позже, когда составим графики."
   ]
  },
  {
   "cell_type": "markdown",
   "id": "5357c423-5b03-474f-a8a4-1ab5f5f6ec73",
   "metadata": {},
   "source": [
    "Осталось навести порядок с названиями, привести их к общепринятому виду."
   ]
  },
  {
   "cell_type": "code",
   "execution_count": 31,
   "id": "f1d9c04b-f2ed-43ce-9c5d-c00cecf0ed8e",
   "metadata": {},
   "outputs": [],
   "source": [
    "data = data.rename(columns={'cityCenters_nearest' : 'city_centers_nearest', 'studio' : 'is_studio', 'open_plan' : 'is_open_plan'})"
   ]
  },
  {
   "cell_type": "code",
   "execution_count": 32,
   "id": "697e06fc-f324-4b52-a6a5-85ec00282742",
   "metadata": {},
   "outputs": [
    {
     "name": "stdout",
     "output_type": "stream",
     "text": [
      "<class 'pandas.core.frame.DataFrame'>\n",
      "Int64Index: 23535 entries, 0 to 23698\n",
      "Data columns (total 24 columns):\n",
      " #   Column                Non-Null Count  Dtype         \n",
      "---  ------                --------------  -----         \n",
      " 0   total_images          23535 non-null  int64         \n",
      " 1   last_price            23535 non-null  float64       \n",
      " 2   total_area            23535 non-null  float64       \n",
      " 3   first_day_exposition  23535 non-null  datetime64[ns]\n",
      " 4   rooms                 23535 non-null  int64         \n",
      " 5   ceiling_height        23535 non-null  float64       \n",
      " 6   floors_total          23535 non-null  int64         \n",
      " 7   living_area           23535 non-null  float64       \n",
      " 8   floor                 23535 non-null  int64         \n",
      " 9   is_apartment          23535 non-null  bool          \n",
      " 10  is_studio             23535 non-null  bool          \n",
      " 11  is_open_plan          23535 non-null  bool          \n",
      " 12  kitchen_area          23535 non-null  float64       \n",
      " 13  balcony               23535 non-null  int64         \n",
      " 14  locality_name         23535 non-null  object        \n",
      " 15  airports_nearest      18027 non-null  float64       \n",
      " 16  city_centers_nearest  18050 non-null  float64       \n",
      " 17  parks_around3000      23535 non-null  int64         \n",
      " 18  parks_nearest         8022 non-null   float64       \n",
      " 19  ponds_around3000      23535 non-null  int64         \n",
      " 20  ponds_nearest         9028 non-null   float64       \n",
      " 21  days_exposition       20368 non-null  float64       \n",
      " 22  living_area_ratio     23535 non-null  float64       \n",
      " 23  kitchen_area_ratio    23535 non-null  float64       \n",
      "dtypes: bool(3), datetime64[ns](1), float64(12), int64(7), object(1)\n",
      "memory usage: 4.0+ MB\n"
     ]
    }
   ],
   "source": [
    "data.info()"
   ]
  },
  {
   "cell_type": "markdown",
   "id": "b912a495-6836-492b-ba71-7e81922b3e65",
   "metadata": {},
   "source": [
    "Всё отлично! Можно приступать к удалению дубликатов."
   ]
  },
  {
   "cell_type": "code",
   "execution_count": 33,
   "id": "7b689e7b-f530-495a-9fce-b6600639dec2",
   "metadata": {},
   "outputs": [
    {
     "data": {
      "text/plain": [
       "0"
      ]
     },
     "execution_count": 33,
     "metadata": {},
     "output_type": "execute_result"
    }
   ],
   "source": [
    "data.duplicated().sum()"
   ]
  },
  {
   "cell_type": "markdown",
   "id": "66bbfb1b-0f54-49e9-88ff-2ebc41dd78a6",
   "metadata": {},
   "source": [
    "Явных дубликатов нет. Проверим неявые. Посмотрим названия населенных пунктов."
   ]
  },
  {
   "cell_type": "code",
   "execution_count": 34,
   "id": "e42e6ebc-52e4-42b4-b801-17d40c2a3441",
   "metadata": {},
   "outputs": [
    {
     "data": {
      "text/plain": [
       "array(['Санкт-Петербург', 'посёлок Шушары', 'городской посёлок Янино-1',\n",
       "       'посёлок Парголово', 'посёлок Мурино', 'Ломоносов', 'Сертолово',\n",
       "       'Петергоф', 'Пушкин', 'деревня Кудрово', 'Коммунар', 'Колпино',\n",
       "       'поселок городского типа Красный Бор', 'Гатчина', 'поселок Мурино',\n",
       "       'деревня Фёдоровское', 'Выборг', 'Кронштадт', 'Кировск',\n",
       "       'деревня Новое Девяткино', 'посёлок Металлострой',\n",
       "       'посёлок городского типа Лебяжье',\n",
       "       'посёлок городского типа Сиверский', 'поселок Молодцово',\n",
       "       'поселок городского типа Кузьмоловский',\n",
       "       'садовое товарищество Новая Ропша', 'Павловск',\n",
       "       'деревня Пикколово', 'Всеволожск', 'Волхов', 'Кингисепп',\n",
       "       'Приозерск', 'Сестрорецк', 'деревня Куттузи', 'посёлок Аннино',\n",
       "       'поселок городского типа Ефимовский', 'посёлок Плодовое',\n",
       "       'деревня Заклинье', 'поселок Торковичи', 'поселок Первомайское',\n",
       "       'Красное Село', 'посёлок Понтонный', 'Сясьстрой', 'деревня Старая',\n",
       "       'деревня Лесколово', 'Сланцы', 'село Путилово', 'Ивангород',\n",
       "       'Мурино', 'Шлиссельбург', 'Никольское', 'Зеленогорск',\n",
       "       'Сосновый Бор', 'поселок Новый Свет', 'деревня Оржицы',\n",
       "       'деревня Кальтино', 'Кудрово', 'поселок Романовка',\n",
       "       'посёлок Бугры', 'поселок Бугры', 'поселок городского типа Рощино',\n",
       "       'Кириши', 'Луга', 'Волосово', 'Отрадное', 'село Павлово',\n",
       "       'поселок Оредеж', 'село Копорье',\n",
       "       'посёлок городского типа Красный Бор', 'посёлок Молодёжное',\n",
       "       'Тихвин', 'посёлок Победа', 'деревня Нурма',\n",
       "       'поселок городского типа Синявино', 'Тосно', 'посёлок Новый Свет',\n",
       "       'посёлок городского типа Кузьмоловский', 'посёлок Стрельна',\n",
       "       'Бокситогорск', 'посёлок Александровская', 'деревня Лопухинка',\n",
       "       'Пикалёво', 'поселок Терволово',\n",
       "       'поселок городского типа Советский', 'Подпорожье',\n",
       "       'посёлок Петровское', 'посёлок городского типа Токсово',\n",
       "       'поселок Сельцо', 'посёлок городского типа Вырица',\n",
       "       'деревня Кипень', 'деревня Келози', 'деревня Вартемяги',\n",
       "       'посёлок Тельмана', 'поселок Севастьяново',\n",
       "       'городской поселок Большая Ижора', 'городской посёлок Павлово',\n",
       "       'деревня Агалатово', 'посёлок Новогорелово',\n",
       "       'городской посёлок Лесогорский', 'деревня Лаголово',\n",
       "       'поселок Цвелодубово', 'поселок городского типа Рахья',\n",
       "       'поселок городского типа Вырица', 'деревня Белогорка',\n",
       "       'поселок Заводской', 'городской посёлок Новоселье',\n",
       "       'деревня Большие Колпаны', 'деревня Горбунки', 'деревня Батово',\n",
       "       'деревня Заневка', 'деревня Иссад', 'Приморск',\n",
       "       'городской посёлок Фёдоровское', 'деревня Мистолово',\n",
       "       'Новая Ладога', 'поселок Зимитицы', 'поселок Барышево',\n",
       "       'деревня Разметелево', 'поселок городского типа имени Свердлова',\n",
       "       'деревня Пеники', 'поселок Рябово', 'деревня Пудомяги',\n",
       "       'поселок станции Корнево', 'деревня Низино', 'деревня Бегуницы',\n",
       "       'посёлок Поляны', 'городской посёлок Мга', 'поселок Елизаветино',\n",
       "       'посёлок городского типа Кузнечное', 'деревня Колтуши',\n",
       "       'поселок Запорожское', 'посёлок городского типа Рощино',\n",
       "       'деревня Гостилицы', 'деревня Малое Карлино',\n",
       "       'посёлок Мичуринское', 'посёлок городского типа имени Морозова',\n",
       "       'посёлок Песочный', 'посёлок Сосново', 'деревня Аро',\n",
       "       'поселок Ильичёво', 'посёлок городского типа Тайцы',\n",
       "       'деревня Малое Верево', 'деревня Извара', 'поселок станции Вещево',\n",
       "       'село Паша', 'деревня Калитино',\n",
       "       'посёлок городского типа Ульяновка', 'деревня Чудской Бор',\n",
       "       'поселок городского типа Дубровка', 'деревня Мины',\n",
       "       'поселок Войсковицы', 'посёлок городского типа имени Свердлова',\n",
       "       'деревня Коркино', 'посёлок Ропша',\n",
       "       'поселок городского типа Приладожский', 'посёлок Щеглово',\n",
       "       'посёлок Гаврилово', 'Лодейное Поле', 'деревня Рабитицы',\n",
       "       'поселок городского типа Никольский', 'деревня Кузьмолово',\n",
       "       'деревня Малые Колпаны', 'поселок Тельмана',\n",
       "       'посёлок Петро-Славянка', 'городской посёлок Назия',\n",
       "       'посёлок Репино', 'посёлок Ильичёво', 'поселок Углово',\n",
       "       'поселок Старая Малукса', 'садовое товарищество Рахья',\n",
       "       'поселок Аннино', 'поселок Победа', 'деревня Меньково',\n",
       "       'деревня Старые Бегуницы', 'посёлок Сапёрный', 'поселок Семрино',\n",
       "       'поселок Гаврилово', 'поселок Глажево', 'поселок Кобринское',\n",
       "       'деревня Гарболово', 'деревня Юкки',\n",
       "       'поселок станции Приветнинское', 'деревня Мануйлово',\n",
       "       'деревня Пчева', 'поселок Поляны', 'поселок Цвылёво',\n",
       "       'поселок Мельниково', 'посёлок Пудость', 'посёлок Усть-Луга',\n",
       "       'Светогорск', 'Любань', 'поселок Селезнёво',\n",
       "       'поселок городского типа Рябово', 'Каменногорск', 'деревня Кривко',\n",
       "       'поселок Глебычево', 'деревня Парицы', 'поселок Жилпосёлок',\n",
       "       'посёлок городского типа Мга', 'городской поселок Янино-1',\n",
       "       'посёлок Войскорово', 'село Никольское', 'посёлок Терволово',\n",
       "       'поселок Стеклянный', 'посёлок городского типа Важины',\n",
       "       'посёлок Мыза-Ивановка', 'село Русско-Высоцкое',\n",
       "       'поселок городского типа Лебяжье',\n",
       "       'поселок городского типа Форносово', 'село Старая Ладога',\n",
       "       'поселок Житково', 'городской посёлок Виллози', 'деревня Лампово',\n",
       "       'деревня Шпаньково', 'деревня Лаврики', 'посёлок Сумино',\n",
       "       'посёлок Возрождение', 'деревня Старосиверская',\n",
       "       'посёлок Кикерино', 'поселок Возрождение',\n",
       "       'деревня Старое Хинколово', 'посёлок Пригородный',\n",
       "       'посёлок Торфяное', 'городской посёлок Будогощь',\n",
       "       'поселок Суходолье', 'поселок Красная Долина', 'деревня Хапо-Ое',\n",
       "       'поселок городского типа Дружная Горка', 'поселок Лисий Нос',\n",
       "       'деревня Яльгелево', 'посёлок Стеклянный', 'село Рождествено',\n",
       "       'деревня Старополье', 'посёлок Левашово', 'деревня Сяськелево',\n",
       "       'деревня Камышовка',\n",
       "       'садоводческое некоммерческое товарищество Лесная Поляна',\n",
       "       'деревня Хязельки', 'поселок Жилгородок',\n",
       "       'посёлок городского типа Павлово', 'деревня Ялгино',\n",
       "       'поселок Новый Учхоз', 'городской посёлок Рощино',\n",
       "       'поселок Гончарово', 'поселок Почап', 'посёлок Сапёрное',\n",
       "       'посёлок Платформа 69-й километр', 'поселок Каложицы',\n",
       "       'деревня Фалилеево', 'деревня Пельгора',\n",
       "       'поселок городского типа Лесогорский', 'деревня Торошковичи',\n",
       "       'посёлок Белоостров', 'посёлок Алексеевка', 'поселок Серебрянский',\n",
       "       'поселок Лукаши', 'поселок Петровское', 'деревня Щеглово',\n",
       "       'поселок Мичуринское', 'деревня Тарасово', 'поселок Кингисеппский',\n",
       "       'посёлок при железнодорожной станции Вещево', 'поселок Ушаки',\n",
       "       'деревня Котлы', 'деревня Сижно', 'деревня Торосово',\n",
       "       'посёлок Форт Красная Горка', 'деревня Новолисино',\n",
       "       'посёлок станции Громово', 'деревня Глинка', 'посёлок Мельниково',\n",
       "       'поселок городского типа Назия', 'деревня Старая Пустошь',\n",
       "       'поселок Коммунары', 'поселок Починок',\n",
       "       'посёлок городского типа Вознесенье', 'деревня Разбегаево',\n",
       "       'посёлок городского типа Рябово', 'поселок Гладкое',\n",
       "       'посёлок при железнодорожной станции Приветнинское',\n",
       "       'поселок Тёсово-4', 'посёлок Жилгородок', 'деревня Бор',\n",
       "       'посёлок Коробицыно', 'деревня Большая Вруда', 'деревня Курковицы',\n",
       "       'посёлок Лисий Нос', 'городской посёлок Советский',\n",
       "       'посёлок Кобралово', 'деревня Суоранда', 'поселок Кобралово',\n",
       "       'поселок городского типа Кондратьево',\n",
       "       'коттеджный поселок Счастье', 'поселок Любань', 'деревня Реброво',\n",
       "       'деревня Зимитицы', 'деревня Тойворово', 'поселок Семиозерье',\n",
       "       'поселок Лесное', 'поселок Совхозный', 'поселок Усть-Луга',\n",
       "       'посёлок Ленинское', 'посёлок Суйда',\n",
       "       'посёлок городского типа Форносово', 'деревня Нижние Осельки',\n",
       "       'посёлок станции Свирь', 'поселок Перово', 'Высоцк',\n",
       "       'поселок Гарболово', 'село Шум', 'поселок Котельский',\n",
       "       'поселок станции Лужайка', 'деревня Большая Пустомержа',\n",
       "       'поселок Красносельское', 'деревня Вахнова Кара', 'деревня Пижма',\n",
       "       'коттеджный поселок Кивеннапа Север', 'поселок Коробицыно',\n",
       "       'поселок Ромашки', 'посёлок Перово', 'деревня Каськово',\n",
       "       'деревня Куровицы', 'посёлок Плоское', 'поселок Сумино',\n",
       "       'поселок городского типа Большая Ижора', 'поселок Кирпичное',\n",
       "       'деревня Ям-Тесово', 'деревня Раздолье', 'деревня Терпилицы',\n",
       "       'поселок городского типа Токсово', 'посёлок Шугозеро',\n",
       "       'деревня Ваганово', 'поселок Пушное', 'садовое товарищество Садко',\n",
       "       'посёлок Усть-Ижора', 'деревня Выскатка',\n",
       "       'городской посёлок Свирьстрой', 'поселок Громово',\n",
       "       'деревня Кисельня', 'посёлок Старая Малукса',\n",
       "       'деревня Трубников Бор', 'поселок Калитино',\n",
       "       'посёлок Высокоключевой', 'садовое товарищество Приладожский',\n",
       "       'посёлок Пансионат Зелёный Бор', 'деревня Ненимяки',\n",
       "       'поселок Пансионат Зелёный Бор', 'деревня Снегирёвка',\n",
       "       'деревня Рапполово', 'деревня Пустынка', 'поселок Рабитицы',\n",
       "       'деревня Большой Сабск', 'деревня Русско', 'деревня Лупполово',\n",
       "       'деревня Большое Рейзино', 'деревня Малая Романовка',\n",
       "       'поселок Дружноселье', 'поселок Пчевжа', 'поселок Володарское',\n",
       "       'деревня Нижняя', 'коттеджный посёлок Лесное', 'деревня Тихковицы',\n",
       "       'деревня Борисова Грива', 'посёлок Дзержинского'], dtype=object)"
      ]
     },
     "execution_count": 34,
     "metadata": {},
     "output_type": "execute_result"
    }
   ],
   "source": [
    "data['locality_name'].unique()"
   ]
  },
  {
   "cell_type": "markdown",
   "id": "edc1bdc8-1f7b-411f-bb5d-9d774d6efa7a",
   "metadata": {},
   "source": [
    "Присутствует большое количество неявных дубликатов. В первую очередь следует заменить все буквы Ё на Е. Далее пройдёмся по названиям деревень и посёлков и объединим повторяющиеся названия."
   ]
  },
  {
   "cell_type": "code",
   "execution_count": 35,
   "id": "85607239-6fcb-4ac2-bce3-386191086cff",
   "metadata": {},
   "outputs": [],
   "source": [
    "data['locality_name'] = (\n",
    "    data['locality_name']\n",
    "    .str.replace('ё', 'е')\n",
    "    .replace(['поселок городского типа', 'городской поселок', 'коттеджный поселок'], 'поселок', regex=True)\n",
    "    .replace(['садоводческое некоммерческое товарищество', 'садоводческое товарищество'], 'садовое товарищество', regex=True)\n",
    "    .str.replace('поселок Мурино', 'Мурино')\n",
    "    .str.replace('деревня Кудрово', 'Кудрово')\n",
    "    .str.replace('деревня Федоровское', 'поселок Федоровское')\n",
    "    .str.replace('село Никольское', 'Никольское')\n",
    "    .str.replace('село Павлово', 'поселок Павлово')\n",
    "   )"
   ]
  },
  {
   "cell_type": "markdown",
   "id": "849b369c-f61b-42e2-ba91-29c9a9d1f4b0",
   "metadata": {},
   "source": [
    "Проверим, что получилось"
   ]
  },
  {
   "cell_type": "code",
   "execution_count": 36,
   "id": "e8ca09dc-45be-43cf-a1f9-843f6e86fc7a",
   "metadata": {},
   "outputs": [
    {
     "data": {
      "text/plain": [
       "Санкт-Петербург            15639\n",
       "Мурино                       586\n",
       "Кудрово                      469\n",
       "поселок Шушары               439\n",
       "Всеволожск                   397\n",
       "Пушкин                       369\n",
       "Колпино                      338\n",
       "поселок Парголово            327\n",
       "Гатчина                      307\n",
       "Выборг                       235\n",
       "Петергоф                     201\n",
       "Сестрорецк                   183\n",
       "Красное Село                 175\n",
       "деревня Новое Девяткино      143\n",
       "Сертолово                    142\n",
       "Ломоносов                    133\n",
       "Кириши                       125\n",
       "поселок Бугры                113\n",
       "Сланцы                       112\n",
       "Волхов                       111\n",
       "Name: locality_name, dtype: int64"
      ]
     },
     "execution_count": 36,
     "metadata": {},
     "output_type": "execute_result"
    }
   ],
   "source": [
    "data['locality_name'].value_counts().head(20)"
   ]
  },
  {
   "cell_type": "markdown",
   "id": "5b69327d-28e3-400c-8446-78704545f834",
   "metadata": {},
   "source": [
    "По топ-20 можно судить, что от неявных дубликатов мы избавились. Если где-то еще и будет задвоение вроде деревня/село, то на общую картину оценки это не повлияет, таких значений слишком мало."
   ]
  },
  {
   "cell_type": "markdown",
   "id": "4cd01ee6-b911-4e40-94e7-9d3a81417018",
   "metadata": {},
   "source": [
    "**Вывод:** Этап предобработки окончен. Дубликаты удалены, недостающие значения в большинстве случаев заполнены"
   ]
  },
  {
   "cell_type": "markdown",
   "id": "2d28cb14-3cf6-463d-b725-dd512a312b20",
   "metadata": {},
   "source": [
    "## 3. Добавим новые столбцы для дальнейших расчетов"
   ]
  },
  {
   "cell_type": "markdown",
   "id": "1b79267b-92de-489c-be71-30253ddc663f",
   "metadata": {},
   "source": [
    "Для дальнейшей работы нужны новые значения:\n",
    "- цена квадратного метра,\n",
    "- день публикации,\n",
    "- десяц публикации,\n",
    "- год публикации,\n",
    "- тип этажа,\n",
    "- расстояние до центра в километрах.\n",
    "\n",
    "  Добавим эти значения."
   ]
  },
  {
   "cell_type": "code",
   "execution_count": 38,
   "id": "f3250009-9bb9-4f67-9ce3-679e39dcefb1",
   "metadata": {},
   "outputs": [],
   "source": [
    "#цена квадратного метра\n",
    "data['price_square_meter'] = (data['last_price'] / data['total_area']).round(2)\n",
    "\n",
    "#день публикации\n",
    "data['exposition_weekday'] = data['first_day_exposition'].dt.weekday\n",
    "\n",
    "#месяц публикации\n",
    "data['exposition_month'] = data['first_day_exposition'].dt.month\n",
    "\n",
    "#год публикации\n",
    "data['exposition_year'] = data['first_day_exposition'].dt.year"
   ]
  },
  {
   "cell_type": "code",
   "execution_count": 39,
   "id": "c48b9eff-a015-4730-a804-74605c1f4385",
   "metadata": {},
   "outputs": [],
   "source": [
    "def floor_type(row):\n",
    "    '''\n",
    "    Определяет этаж по типу: первый, посдений, другой\n",
    "    '''\n",
    "    if row['floor'] == 1:\n",
    "        return 'Первый'\n",
    "    \n",
    "    if row['floor'] == row['floors_total']:\n",
    "        return 'Последний'\n",
    "    \n",
    "    return 'Другой'"
   ]
  },
  {
   "cell_type": "code",
   "execution_count": 40,
   "id": "7520bfc2-0d46-42fd-b3a2-80702d8c7184",
   "metadata": {},
   "outputs": [],
   "source": [
    "data['floor_name'] = data.apply(floor_type, axis=1)"
   ]
  },
  {
   "cell_type": "code",
   "execution_count": 41,
   "id": "d980839a-c0f2-424a-90ec-3cbf3c274c27",
   "metadata": {},
   "outputs": [],
   "source": [
    "#расстояние до центра в километрах\n",
    "data['city_centers_nearest_km'] = (data['city_centers_nearest'] / 1000).round(0)"
   ]
  },
  {
   "cell_type": "markdown",
   "id": "ec077267-7f32-4fc1-a5b0-6790d26f6763",
   "metadata": {},
   "source": [
    "Посмотрим на обновлённый датафрейм."
   ]
  },
  {
   "cell_type": "code",
   "execution_count": 42,
   "id": "19597e46-449b-4134-b3bb-e627f6a8786f",
   "metadata": {},
   "outputs": [
    {
     "data": {
      "text/html": [
       "<div>\n",
       "<style scoped>\n",
       "    .dataframe tbody tr th:only-of-type {\n",
       "        vertical-align: middle;\n",
       "    }\n",
       "\n",
       "    .dataframe tbody tr th {\n",
       "        vertical-align: top;\n",
       "    }\n",
       "\n",
       "    .dataframe thead th {\n",
       "        text-align: right;\n",
       "    }\n",
       "</style>\n",
       "<table border=\"1\" class=\"dataframe\">\n",
       "  <thead>\n",
       "    <tr style=\"text-align: right;\">\n",
       "      <th></th>\n",
       "      <th>total_images</th>\n",
       "      <th>last_price</th>\n",
       "      <th>total_area</th>\n",
       "      <th>first_day_exposition</th>\n",
       "      <th>rooms</th>\n",
       "      <th>ceiling_height</th>\n",
       "      <th>floors_total</th>\n",
       "      <th>living_area</th>\n",
       "      <th>floor</th>\n",
       "      <th>is_apartment</th>\n",
       "      <th>...</th>\n",
       "      <th>ponds_nearest</th>\n",
       "      <th>days_exposition</th>\n",
       "      <th>living_area_ratio</th>\n",
       "      <th>kitchen_area_ratio</th>\n",
       "      <th>price_square_meter</th>\n",
       "      <th>exposition_weekday</th>\n",
       "      <th>exposition_month</th>\n",
       "      <th>exposition_year</th>\n",
       "      <th>floor_name</th>\n",
       "      <th>city_centers_nearest_km</th>\n",
       "    </tr>\n",
       "  </thead>\n",
       "  <tbody>\n",
       "    <tr>\n",
       "      <th>0</th>\n",
       "      <td>20</td>\n",
       "      <td>13000000.0</td>\n",
       "      <td>108.0</td>\n",
       "      <td>2019-03-07</td>\n",
       "      <td>3</td>\n",
       "      <td>2.70</td>\n",
       "      <td>16</td>\n",
       "      <td>51.000000</td>\n",
       "      <td>8</td>\n",
       "      <td>False</td>\n",
       "      <td>...</td>\n",
       "      <td>755.0</td>\n",
       "      <td>NaN</td>\n",
       "      <td>0.472222</td>\n",
       "      <td>0.231481</td>\n",
       "      <td>120370.37</td>\n",
       "      <td>3</td>\n",
       "      <td>3</td>\n",
       "      <td>2019</td>\n",
       "      <td>Другой</td>\n",
       "      <td>16.0</td>\n",
       "    </tr>\n",
       "    <tr>\n",
       "      <th>1</th>\n",
       "      <td>7</td>\n",
       "      <td>3350000.0</td>\n",
       "      <td>40.4</td>\n",
       "      <td>2018-12-04</td>\n",
       "      <td>1</td>\n",
       "      <td>2.65</td>\n",
       "      <td>11</td>\n",
       "      <td>18.600000</td>\n",
       "      <td>1</td>\n",
       "      <td>False</td>\n",
       "      <td>...</td>\n",
       "      <td>NaN</td>\n",
       "      <td>81.0</td>\n",
       "      <td>0.460396</td>\n",
       "      <td>0.272277</td>\n",
       "      <td>82920.79</td>\n",
       "      <td>1</td>\n",
       "      <td>12</td>\n",
       "      <td>2018</td>\n",
       "      <td>Первый</td>\n",
       "      <td>19.0</td>\n",
       "    </tr>\n",
       "    <tr>\n",
       "      <th>2</th>\n",
       "      <td>10</td>\n",
       "      <td>5196000.0</td>\n",
       "      <td>56.0</td>\n",
       "      <td>2015-08-20</td>\n",
       "      <td>2</td>\n",
       "      <td>2.65</td>\n",
       "      <td>5</td>\n",
       "      <td>34.300000</td>\n",
       "      <td>4</td>\n",
       "      <td>False</td>\n",
       "      <td>...</td>\n",
       "      <td>574.0</td>\n",
       "      <td>558.0</td>\n",
       "      <td>0.612500</td>\n",
       "      <td>0.148214</td>\n",
       "      <td>92785.71</td>\n",
       "      <td>3</td>\n",
       "      <td>8</td>\n",
       "      <td>2015</td>\n",
       "      <td>Другой</td>\n",
       "      <td>14.0</td>\n",
       "    </tr>\n",
       "    <tr>\n",
       "      <th>3</th>\n",
       "      <td>0</td>\n",
       "      <td>64900000.0</td>\n",
       "      <td>159.0</td>\n",
       "      <td>2015-07-24</td>\n",
       "      <td>3</td>\n",
       "      <td>2.65</td>\n",
       "      <td>14</td>\n",
       "      <td>100.461415</td>\n",
       "      <td>9</td>\n",
       "      <td>False</td>\n",
       "      <td>...</td>\n",
       "      <td>234.0</td>\n",
       "      <td>424.0</td>\n",
       "      <td>0.631833</td>\n",
       "      <td>0.128496</td>\n",
       "      <td>408176.10</td>\n",
       "      <td>4</td>\n",
       "      <td>7</td>\n",
       "      <td>2015</td>\n",
       "      <td>Другой</td>\n",
       "      <td>7.0</td>\n",
       "    </tr>\n",
       "    <tr>\n",
       "      <th>4</th>\n",
       "      <td>2</td>\n",
       "      <td>10000000.0</td>\n",
       "      <td>100.0</td>\n",
       "      <td>2018-06-19</td>\n",
       "      <td>2</td>\n",
       "      <td>3.03</td>\n",
       "      <td>14</td>\n",
       "      <td>32.000000</td>\n",
       "      <td>13</td>\n",
       "      <td>False</td>\n",
       "      <td>...</td>\n",
       "      <td>48.0</td>\n",
       "      <td>121.0</td>\n",
       "      <td>0.320000</td>\n",
       "      <td>0.410000</td>\n",
       "      <td>100000.00</td>\n",
       "      <td>1</td>\n",
       "      <td>6</td>\n",
       "      <td>2018</td>\n",
       "      <td>Другой</td>\n",
       "      <td>8.0</td>\n",
       "    </tr>\n",
       "  </tbody>\n",
       "</table>\n",
       "<p>5 rows × 30 columns</p>\n",
       "</div>"
      ],
      "text/plain": [
       "   total_images  last_price  total_area first_day_exposition  rooms  \\\n",
       "0            20  13000000.0       108.0           2019-03-07      3   \n",
       "1             7   3350000.0        40.4           2018-12-04      1   \n",
       "2            10   5196000.0        56.0           2015-08-20      2   \n",
       "3             0  64900000.0       159.0           2015-07-24      3   \n",
       "4             2  10000000.0       100.0           2018-06-19      2   \n",
       "\n",
       "   ceiling_height  floors_total  living_area  floor  is_apartment  ...  \\\n",
       "0            2.70            16    51.000000      8         False  ...   \n",
       "1            2.65            11    18.600000      1         False  ...   \n",
       "2            2.65             5    34.300000      4         False  ...   \n",
       "3            2.65            14   100.461415      9         False  ...   \n",
       "4            3.03            14    32.000000     13         False  ...   \n",
       "\n",
       "   ponds_nearest  days_exposition  living_area_ratio  kitchen_area_ratio  \\\n",
       "0          755.0              NaN           0.472222            0.231481   \n",
       "1            NaN             81.0           0.460396            0.272277   \n",
       "2          574.0            558.0           0.612500            0.148214   \n",
       "3          234.0            424.0           0.631833            0.128496   \n",
       "4           48.0            121.0           0.320000            0.410000   \n",
       "\n",
       "  price_square_meter  exposition_weekday  exposition_month  exposition_year  \\\n",
       "0          120370.37                   3                 3             2019   \n",
       "1           82920.79                   1                12             2018   \n",
       "2           92785.71                   3                 8             2015   \n",
       "3          408176.10                   4                 7             2015   \n",
       "4          100000.00                   1                 6             2018   \n",
       "\n",
       "   floor_name  city_centers_nearest_km  \n",
       "0      Другой                     16.0  \n",
       "1      Первый                     19.0  \n",
       "2      Другой                     14.0  \n",
       "3      Другой                      7.0  \n",
       "4      Другой                      8.0  \n",
       "\n",
       "[5 rows x 30 columns]"
      ]
     },
     "execution_count": 42,
     "metadata": {},
     "output_type": "execute_result"
    }
   ],
   "source": [
    "data.head()"
   ]
  },
  {
   "cell_type": "markdown",
   "id": "a1128553-6068-4a77-ab45-a3f8249dad53",
   "metadata": {},
   "source": [
    "**Вывод:** столбцы добавлены корректно. Можно приступать к исследовательскому анализу данных."
   ]
  },
  {
   "cell_type": "markdown",
   "id": "35663599-8ea6-49e3-ae61-326af099862c",
   "metadata": {},
   "source": [
    "## Исследовательский анализ данных"
   ]
  },
  {
   "cell_type": "markdown",
   "id": "e41af988-d960-4cc4-abfd-e16e9b37ffd1",
   "metadata": {},
   "source": [
    "**Распределение квартир по параметрам**"
   ]
  },
  {
   "cell_type": "markdown",
   "id": "c2ef1af2-2b88-4a5f-ad39-814af5e3ddf6",
   "metadata": {},
   "source": [
    "### Распределение по общей площади"
   ]
  },
  {
   "cell_type": "code",
   "execution_count": 43,
   "id": "d520d4e0-bf6e-4c8e-824b-b7ece6f476ca",
   "metadata": {},
   "outputs": [
    {
     "data": {
      "image/png": "[encoded data removed]",
      "text/plain": [
       "<Figure size 504x288 with 1 Axes>"
      ]
     },
     "metadata": {
      "needs_background": "light"
     },
     "output_type": "display_data"
    }
   ],
   "source": [
    "plt.figure(figsize=(7, 4))\n",
    "plt.grid(True)\n",
    "\n",
    "plt.hist(data['total_area'], bins=60, edgecolor='white')\n",
    "\n",
    "plt.xlabel('Общая площадь(кв.м)')\n",
    "plt.ylabel('Количество квартир')\n",
    "plt.title('Распределение по общей площади');"
   ]
  },
  {
   "cell_type": "markdown",
   "id": "55ad4eb3-f9b4-4c25-80c9-ba553948c37d",
   "metadata": {},
   "source": [
    "По графику видно, что квартир с площадью более 300 кв.метров практически нет. Посмотрим, сколько их."
   ]
  },
  {
   "cell_type": "code",
   "execution_count": 44,
   "id": "e19c3462-155d-4f2f-8c06-1ee3fe555499",
   "metadata": {
    "slideshow": {
     "slide_type": ""
    },
    "tags": []
   },
   "outputs": [
    {
     "data": {
      "text/plain": [
       "63"
      ]
     },
     "execution_count": 44,
     "metadata": {},
     "output_type": "execute_result"
    }
   ],
   "source": [
    "data.query('total_area >= 300').shape[0]"
   ]
  },
  {
   "cell_type": "markdown",
   "id": "de5999e0-6d33-41a9-99aa-aabefe9f0ee6",
   "metadata": {},
   "source": [
    "Итого всего 63 квартиры. Уберём их из расчета, для большей наглядности."
   ]
  },
  {
   "cell_type": "code",
   "execution_count": 45,
   "id": "fba3b703-2902-42d3-8df6-b0901f614aa6",
   "metadata": {
    "slideshow": {
     "slide_type": ""
    },
    "tags": []
   },
   "outputs": [],
   "source": [
    "#удаляем значения свыше 300\n",
    "data = data[data['total_area'] < 300]"
   ]
  },
  {
   "cell_type": "markdown",
   "id": "bd765ba4-a6b0-4e53-939c-b60a828ae75e",
   "metadata": {},
   "source": [
    "Построим график еще раз. Теперь будет лучше."
   ]
  },
  {
   "cell_type": "code",
   "execution_count": 46,
   "id": "5fc26ac0-6c3e-41e9-858e-7b38aab97c19",
   "metadata": {},
   "outputs": [
    {
     "data": {
      "image/png": "[encoded data removed]",
      "text/plain": [
       "<Figure size 504x288 with 1 Axes>"
      ]
     },
     "metadata": {
      "needs_background": "light"
     },
     "output_type": "display_data"
    }
   ],
   "source": [
    "plt.figure(figsize=(7, 4))\n",
    "plt.grid(True)\n",
    "\n",
    "plt.hist(data['total_area'], bins=60, edgecolor='white')\n",
    "\n",
    "plt.xlabel('Общая площадь(кв.м)')\n",
    "plt.ylabel('Количество квартир')\n",
    "plt.title('Распределение по общей площади');"
   ]
  },
  {
   "cell_type": "code",
   "execution_count": 47,
   "id": "ad88c981-4940-4772-85dc-a5402f22db27",
   "metadata": {},
   "outputs": [
    {
     "data": {
      "text/plain": [
       "count    23472.000000\n",
       "mean        59.413149\n",
       "std         30.444281\n",
       "min         12.000000\n",
       "25%         40.000000\n",
       "50%         52.000000\n",
       "75%         69.300000\n",
       "max        297.500000\n",
       "Name: total_area, dtype: float64"
      ]
     },
     "execution_count": 47,
     "metadata": {},
     "output_type": "execute_result"
    }
   ],
   "source": [
    "data['total_area'].describe()"
   ]
  },
  {
   "cell_type": "markdown",
   "id": "976910f8-465b-4249-8647-8e660e3d789f",
   "metadata": {},
   "source": [
    "**Вывод:** большинство квартир имеет общую площадь около 50-60 кв.м., медиана - 52 кв.метра. Квартиры меньшей плащади тоже присутствуют в достаточном количестве, но с уменьшением площади их количество уменьшается в геометрической прогрессии. Такая же ситуация с квартирами большей площади. Квартиры по 80 кв.м еще есть в достаточном количестве - около 1000 штук, а уже более 100 кв.м и более становится меньше. Выходит, что основная масса квартир на продаже от 40 до 69 кв.метров"
   ]
  },
  {
   "cell_type": "markdown",
   "id": "cde1e047-2339-4c5f-9871-e6885f9cd9fe",
   "metadata": {},
   "source": [
    "### Распределение по жилой площади"
   ]
  },
  {
   "cell_type": "code",
   "execution_count": 48,
   "id": "af62d961-0ac7-4490-87c7-c2ebfeb827fe",
   "metadata": {
    "slideshow": {
     "slide_type": ""
    },
    "tags": []
   },
   "outputs": [
    {
     "data": {
      "image/png": "[encoded data removed]",
      "text/plain": [
       "<Figure size 504x288 with 1 Axes>"
      ]
     },
     "metadata": {
      "needs_background": "light"
     },
     "output_type": "display_data"
    }
   ],
   "source": [
    "plt.figure(figsize=(7, 4))\n",
    "plt.grid(True)\n",
    "\n",
    "plt.hist(data['living_area'], bins=70, edgecolor='white')\n",
    "\n",
    "plt.xlabel('Жилая площадь(кв.м.)')\n",
    "plt.ylabel('Количество квартир')\n",
    "plt.title('Распределение по жилой площади');"
   ]
  },
  {
   "cell_type": "code",
   "execution_count": 49,
   "id": "3b8f9cd5-1a41-40d4-8d4d-14191f503635",
   "metadata": {},
   "outputs": [
    {
     "data": {
      "text/plain": [
       "count    23472.000000\n",
       "mean        34.161470\n",
       "std         20.072602\n",
       "min          2.000000\n",
       "25%         18.700000\n",
       "50%         30.000000\n",
       "75%         42.200000\n",
       "max        250.000000\n",
       "Name: living_area, dtype: float64"
      ]
     },
     "execution_count": 49,
     "metadata": {},
     "output_type": "execute_result"
    }
   ],
   "source": [
    "data['living_area'].describe()"
   ]
  },
  {
   "cell_type": "markdown",
   "id": "df78dfb0-c6ac-4e17-9e3e-4ec86cba9689",
   "metadata": {},
   "source": [
    "**Вывод:** в этой гистограмме появилось сразу 2 пика! Самое большое квартир получилось с жилой площадью около 25 кв.м.- более 6000 объявлений. Второй пик в районе 40 кв.м. - около 4000 объявлений. Такое необычное распределение может быть связано с изменением общей строительной концепции. Квартиры, построенные более 20-30 лет назад строились с маленькими площадями общего пользования (кухня, ванная, туалет, коридор, балкон и т.д.). В современных домах эти объекты стали занимать большую долю относительно общей площади, соответственно жилая площадь уменьшила свою долю. Плюс появились квартиры-студии, которых ранее не строили. Далее количество квартир ожидаемо уменьшается с увеличением жилой площади. Свыше 100 кв.м. квартир уже единицы. "
   ]
  },
  {
   "cell_type": "markdown",
   "id": "f3506bc5-413b-4028-a65c-574b03312e1d",
   "metadata": {},
   "source": [
    "###  Распределение по площади кухни"
   ]
  },
  {
   "cell_type": "code",
   "execution_count": 50,
   "id": "64f4a4b5-f2f9-4b69-99f8-6c80b0398577",
   "metadata": {},
   "outputs": [
    {
     "data": {
      "image/png": "[encoded data removed]",
      "text/plain": [
       "<Figure size 504x288 with 1 Axes>"
      ]
     },
     "metadata": {
      "needs_background": "light"
     },
     "output_type": "display_data"
    }
   ],
   "source": [
    "plt.figure(figsize=(7, 4))\n",
    "plt.grid(True)\n",
    "\n",
    "plt.hist(data['kitchen_area'], bins=60, edgecolor='white')\n",
    "\n",
    "plt.xlabel('Площадь кухни(кв.м.)')\n",
    "plt.ylabel('Количество квартир')\n",
    "plt.title('Распределение по площади кухни');"
   ]
  },
  {
   "cell_type": "code",
   "execution_count": 51,
   "id": "25c0f993-491f-4616-8ad7-79d4c711d225",
   "metadata": {},
   "outputs": [
    {
     "data": {
      "text/plain": [
       "count    23472.000000\n",
       "mean        10.324081\n",
       "std          5.564550\n",
       "min          0.000000\n",
       "25%          7.000000\n",
       "50%          9.000000\n",
       "75%         11.700000\n",
       "max        107.000000\n",
       "Name: kitchen_area, dtype: float64"
      ]
     },
     "execution_count": 51,
     "metadata": {},
     "output_type": "execute_result"
    }
   ],
   "source": [
    "data['kitchen_area'].describe()"
   ]
  },
  {
   "cell_type": "markdown",
   "id": "074107bf-e5e4-4b3d-a811-f5a039e12fd5",
   "metadata": {},
   "source": [
    "В данном случае также наблюдаюся аномально высокие значения. Сколько кухонь меют площадь больше 60 кв.метров?"
   ]
  },
  {
   "cell_type": "code",
   "execution_count": 52,
   "id": "56c81492-c4fa-4d2a-a2ae-39bddd61ad8a",
   "metadata": {},
   "outputs": [
    {
     "data": {
      "text/plain": [
       "20"
      ]
     },
     "execution_count": 52,
     "metadata": {},
     "output_type": "execute_result"
    }
   ],
   "source": [
    "data.query('kitchen_area >= 60').shape[0]"
   ]
  },
  {
   "cell_type": "markdown",
   "id": "32fc528b-483b-4648-b1aa-528c61f69192",
   "metadata": {},
   "source": [
    "20 квартир существенно выделяются из общей массы. Также уберём их из расчетов."
   ]
  },
  {
   "cell_type": "code",
   "execution_count": 53,
   "id": "914a98e5-021b-4d57-9b89-bc3249a6986b",
   "metadata": {},
   "outputs": [],
   "source": [
    "data = data[data['kitchen_area'] < 60]"
   ]
  },
  {
   "cell_type": "markdown",
   "id": "e714e017-1bb1-4da7-959d-347e5d558cd7",
   "metadata": {},
   "source": [
    "Выводим график еще раз."
   ]
  },
  {
   "cell_type": "code",
   "execution_count": 54,
   "id": "67ef4855-8019-46bd-a160-a86199241d56",
   "metadata": {},
   "outputs": [
    {
     "data": {
      "image/png": "[encoded data removed]",
      "text/plain": [
       "<Figure size 504x288 with 1 Axes>"
      ]
     },
     "metadata": {
      "needs_background": "light"
     },
     "output_type": "display_data"
    }
   ],
   "source": [
    "plt.figure(figsize=(7, 4))\n",
    "plt.grid(True)\n",
    "\n",
    "plt.hist(data['kitchen_area'], bins=60, edgecolor='white')\n",
    "\n",
    "plt.xlabel('Площадь кухни(кв.м.)')\n",
    "plt.ylabel('Количество квартир')\n",
    "plt.title('Распределение по площади кухни');"
   ]
  },
  {
   "cell_type": "code",
   "execution_count": 55,
   "id": "07b56807-7464-4694-b88a-d7e05e96a8f8",
   "metadata": {},
   "outputs": [
    {
     "data": {
      "text/plain": [
       "count    23452.000000\n",
       "mean        10.269709\n",
       "std          5.229783\n",
       "min          0.000000\n",
       "25%          7.000000\n",
       "50%          9.000000\n",
       "75%         11.700000\n",
       "max         58.400000\n",
       "Name: kitchen_area, dtype: float64"
      ]
     },
     "execution_count": 55,
     "metadata": {},
     "output_type": "execute_result"
    }
   ],
   "source": [
    "data['kitchen_area'].describe()"
   ]
  },
  {
   "cell_type": "markdown",
   "id": "7b4d1c11-58f9-4bdb-a61a-fe35c2379b89",
   "metadata": {},
   "source": [
    "**Вывод:** максимальное количество квартир имеют площадь 8-10 кв.метров - в общей слоности порядка 6000 штук. также выделяется пик на уровне 6-7 в.метров. Такое рспределение вполне характерно, так как раньше считалось, что кухня не должна быть большой, чтобы не нужно было много передвигаться, а до лебой точки можно было дотянуться, сделав максимум два шага. В современном же строительстве кухни стали занимать гораздо большую абсолютную площадь - кухни меньше 9 кв.метров не встречаются. Исключения - студии."
   ]
  },
  {
   "cell_type": "markdown",
   "id": "06d48af0-caa8-40b8-a2f6-b02e39f6b9ef",
   "metadata": {},
   "source": [
    "### Распределение по стоимости "
   ]
  },
  {
   "cell_type": "code",
   "execution_count": 56,
   "id": "c63383c2-d81d-401f-84e0-9ab1daef2949",
   "metadata": {},
   "outputs": [
    {
     "data": {
      "image/png": "[encoded data removed]",
      "text/plain": [
       "<Figure size 504x288 with 1 Axes>"
      ]
     },
     "metadata": {
      "needs_background": "light"
     },
     "output_type": "display_data"
    }
   ],
   "source": [
    "plt.figure(figsize=(7, 4))\n",
    "plt.grid(True)\n",
    "\n",
    "plt.hist(data['last_price'], bins=40, edgecolor='white')\n",
    "\n",
    "plt.xlabel('Цена объекта(млн.руб)')\n",
    "plt.ylabel('Количество квартир')\n",
    "plt.title('Распределение по стоимости');"
   ]
  },
  {
   "cell_type": "markdown",
   "id": "38b6229c-d582-4355-b878-fe2050ba1c37",
   "metadata": {},
   "source": [
    "Из-за редких выбросов гистограмма ничего не показывает. Нужно проверить полезный диапазон."
   ]
  },
  {
   "cell_type": "code",
   "execution_count": 57,
   "id": "b5523fb2-a107-492d-8ced-0c3f887aadba",
   "metadata": {},
   "outputs": [
    {
     "data": {
      "image/png": "[encoded data removed]",
      "text/plain": [
       "<Figure size 288x288 with 1 Axes>"
      ]
     },
     "metadata": {
      "needs_background": "light"
     },
     "output_type": "display_data"
    }
   ],
   "source": [
    "#строим гистограмму размаха\n",
    "data.boxplot('last_price', figsize=(4, 4));"
   ]
  },
  {
   "cell_type": "markdown",
   "id": "90eea1bd-ea29-4fb4-9fc2-97b1d695a88a",
   "metadata": {},
   "source": [
    "Основная масса объявлений находится до уровня в 10 млн.руб. Свыше 20 млн. всего 3 выброса. Целесообразно сократить диапазон до этого значения."
   ]
  },
  {
   "cell_type": "code",
   "execution_count": 58,
   "id": "83e21ba3-5e49-43ff-ac2a-cf70a539df8c",
   "metadata": {},
   "outputs": [],
   "source": [
    "data = data.query('last_price <= 20000000')"
   ]
  },
  {
   "cell_type": "markdown",
   "id": "6f8409fd-7908-4057-9d33-99c441880312",
   "metadata": {},
   "source": [
    "Построим гистограмму еще раз."
   ]
  },
  {
   "cell_type": "code",
   "execution_count": 59,
   "id": "9e25cbc3-8042-4327-a274-9d9f26864a0a",
   "metadata": {},
   "outputs": [
    {
     "data": {
      "image/png": "[encoded data removed]",
      "text/plain": [
       "<Figure size 504x288 with 1 Axes>"
      ]
     },
     "metadata": {
      "needs_background": "light"
     },
     "output_type": "display_data"
    }
   ],
   "source": [
    "plt.figure(figsize=(7, 4))\n",
    "plt.grid(True)\n",
    "\n",
    "plt.hist(data['last_price'], bins=40, edgecolor='white')\n",
    "\n",
    "plt.xlabel('Цена объекта(10 млн.руб)')\n",
    "plt.ylabel('Количество квартир')\n",
    "plt.title('Распределение по стоимости');"
   ]
  },
  {
   "cell_type": "code",
   "execution_count": 60,
   "id": "abb828d1-71f2-4014-ad7d-690fb76b7779",
   "metadata": {},
   "outputs": [
    {
     "data": {
      "text/plain": [
       "count    2.282400e+04\n",
       "mean     5.417688e+06\n",
       "std      3.211480e+06\n",
       "min      1.219000e+04\n",
       "25%      3.400000e+06\n",
       "50%      4.550000e+06\n",
       "75%      6.500000e+06\n",
       "max      2.000000e+07\n",
       "Name: last_price, dtype: float64"
      ]
     },
     "execution_count": 60,
     "metadata": {},
     "output_type": "execute_result"
    }
   ],
   "source": [
    "data['last_price'].describe()"
   ]
  },
  {
   "cell_type": "markdown",
   "id": "ee13d87b-1af7-49ab-9200-7069b23d591f",
   "metadata": {},
   "source": [
    "**Вывод:** На данной гистограмме видно, что основную массу занимают квартиры в ценовом диапазоне 4-6 миллионов. Это более половины объявлений! Квартир со стоимостью 10-15 миллионов на порядок меньше, но всё же присутствуют в количестве более 1000 штук. Свыше 15 миллионов квартиры уже продаются редко."
   ]
  },
  {
   "cell_type": "markdown",
   "id": "22784eb5-0633-43e2-9c76-3b0ba454b92d",
   "metadata": {},
   "source": [
    "### Распределение по количеству комнат"
   ]
  },
  {
   "cell_type": "code",
   "execution_count": 61,
   "id": "9ab666e0-89ef-4e83-9bf5-254a0b78ead4",
   "metadata": {},
   "outputs": [
    {
     "data": {
      "image/png": "[encoded data removed]",
      "text/plain": [
       "<Figure size 432x288 with 1 Axes>"
      ]
     },
     "metadata": {
      "needs_background": "light"
     },
     "output_type": "display_data"
    }
   ],
   "source": [
    "data.pivot_table(index='rooms', values='total_area', aggfunc='count').plot(kind='bar', legend=[], grid=True)\n",
    "\n",
    "plt.xlabel('Количество комнат')\n",
    "plt.ylabel('Количество квартир')\n",
    "plt.show()"
   ]
  },
  {
   "cell_type": "markdown",
   "id": "b09e9799-3e7c-42bd-b256-32dea63a087e",
   "metadata": {},
   "source": [
    "Квартир с количеством комнат больше 7 практически нет. Уберём их из анализа."
   ]
  },
  {
   "cell_type": "code",
   "execution_count": 62,
   "id": "59d79583-0ae2-4471-91c4-475c13376d03",
   "metadata": {},
   "outputs": [],
   "source": [
    "data = data.query('rooms <= 7')"
   ]
  },
  {
   "cell_type": "markdown",
   "id": "fb0c983e-fa13-4f5e-9987-fce86158dd9c",
   "metadata": {},
   "source": [
    "И снова строим график."
   ]
  },
  {
   "cell_type": "code",
   "execution_count": 63,
   "id": "7a220136-10bb-49a3-9eb5-a982c1f5813e",
   "metadata": {},
   "outputs": [
    {
     "data": {
      "image/png": "[encoded data removed]",
      "text/plain": [
       "<Figure size 432x288 with 1 Axes>"
      ]
     },
     "metadata": {
      "needs_background": "light"
     },
     "output_type": "display_data"
    }
   ],
   "source": [
    "data.pivot_table(index='rooms', values='total_area', aggfunc='count').plot(kind='bar', legend=[], grid=True)\n",
    "\n",
    "plt.xlabel('Количество комнат')\n",
    "plt.ylabel('Количество квартир')\n",
    "plt.show()"
   ]
  },
  {
   "cell_type": "code",
   "execution_count": 64,
   "id": "b05358bb-c3df-4a6e-8357-5be66a2c87cc",
   "metadata": {},
   "outputs": [
    {
     "data": {
      "text/plain": [
       "count    22816.000000\n",
       "mean         2.007451\n",
       "std          0.976398\n",
       "min          0.000000\n",
       "25%          1.000000\n",
       "50%          2.000000\n",
       "75%          3.000000\n",
       "max          7.000000\n",
       "Name: rooms, dtype: float64"
      ]
     },
     "execution_count": 64,
     "metadata": {},
     "output_type": "execute_result"
    }
   ],
   "source": [
    "data['rooms'].describe()"
   ]
  },
  {
   "cell_type": "markdown",
   "id": "fb60f3ee-a72c-4459-bef7-9357f5af1113",
   "metadata": {},
   "source": [
    "**Вывод:** Максимальную долю забрали одно- и двухкомнатные квартиры - по 8000 каждые. Немного меньше трёхкомнатных - 5500 штук. Сильно меньше четырёхкомнатных - около 1000. Квартир с большим числом комнат уже тоже практически нет. Также можно заметить, что присутствуют квартиры вообще без комнат. Это новый формат жилья - студии. Пока их доля на рынке мала, но наверняка ситуация будет меняться со временем и их количество увеличится. Интересно посмотреть динамику через 5-10 лет."
   ]
  },
  {
   "cell_type": "markdown",
   "id": "4d191824-a975-44b4-927a-784850d6ab77",
   "metadata": {},
   "source": [
    "### Распределение по высоте потолков"
   ]
  },
  {
   "cell_type": "code",
   "execution_count": 65,
   "id": "5ba90d1a-b1a6-425a-8c16-0392fe22bb11",
   "metadata": {},
   "outputs": [
    {
     "data": {
      "image/png": "[encoded data removed]",
      "text/plain": [
       "<Figure size 504x288 with 1 Axes>"
      ]
     },
     "metadata": {
      "needs_background": "light"
     },
     "output_type": "display_data"
    }
   ],
   "source": [
    "plt.figure(figsize=(7, 4))\n",
    "plt.grid(True)\n",
    "\n",
    "plt.hist(data['ceiling_height'], bins=40, edgecolor='white')\n",
    "\n",
    "plt.xlabel('Высота потолка(метров)')\n",
    "plt.ylabel('Количество квартир')\n",
    "plt.title('Распределение по высоте потолков');"
   ]
  },
  {
   "cell_type": "markdown",
   "id": "9b49e7c3-671f-4f88-a9dc-f4bea575fa24",
   "metadata": {},
   "source": [
    "**Вывод:** 2/3 случаев потолок в квартире составляет 2,5 - 2,7 метра. Это стандартная высота потолка в современных домах. Также есть небольшой пик в районе 3 метров - около 1000 штук. Скорее всего это дома первой половины ХХ века постройки, когда потолки в квартирах делали выше."
   ]
  },
  {
   "cell_type": "markdown",
   "id": "b10dbc42-12d3-415b-b655-c4febac8c423",
   "metadata": {},
   "source": [
    "### Распределение по этажам"
   ]
  },
  {
   "cell_type": "code",
   "execution_count": 66,
   "id": "58f1dd5e-22d6-4be8-9a60-88cf9f76207d",
   "metadata": {},
   "outputs": [
    {
     "data": {
      "image/png": "[encoded data removed]",
      "text/plain": [
       "<Figure size 504x288 with 1 Axes>"
      ]
     },
     "metadata": {
      "needs_background": "light"
     },
     "output_type": "display_data"
    }
   ],
   "source": [
    "plt.figure(figsize=(7, 4))\n",
    "plt.grid(True)\n",
    "\n",
    "plt.hist(data['floors_total'], bins=40, edgecolor='white')\n",
    "\n",
    "plt.xlabel('Высотность дома(этажей)')\n",
    "plt.ylabel('Количество квартир')\n",
    "plt.title('Распределение этажности дома');"
   ]
  },
  {
   "cell_type": "markdown",
   "id": "21d623a4-2da4-45a9-9410-4d13947f32c6",
   "metadata": {},
   "source": [
    "**Вывод:** здесь получилась классическая картина для Санкт-Петербурга и России в целом. Был период, когда строились в основном пятиэтажные дома, вот и сейчас их доля на рынке около 7000. Потом есть пик на 9 этажах - тоже стандартная этажность определенного периода постройки, таких квартир почти 4000. И еще 2 пика: 16 и 25  этажей. Их по 2100 и 1200 соответственно. Это дома уже современного формата. Другие типы домов также встречаются, но гораздо реже. Возможно, экспериментальные или малотиражные постройки."
   ]
  },
  {
   "cell_type": "markdown",
   "id": "ac46d974-5de2-4344-be3a-cc616f64207c",
   "metadata": {},
   "source": [
    "###  Распределение по расстоянию до центра города"
   ]
  },
  {
   "cell_type": "code",
   "execution_count": 67,
   "id": "08071317-e15d-4419-9909-13b67482f971",
   "metadata": {},
   "outputs": [
    {
     "data": {
      "image/png": "[encoded data removed]",
      "text/plain": [
       "<Figure size 504x288 with 1 Axes>"
      ]
     },
     "metadata": {
      "needs_background": "light"
     },
     "output_type": "display_data"
    }
   ],
   "source": [
    "plt.figure(figsize=(7, 4))\n",
    "plt.grid(True)\n",
    "\n",
    "plt.hist(data['city_centers_nearest'], bins=40, edgecolor='white')\n",
    "\n",
    "plt.xlabel('Расстояние до центра города(метров)')\n",
    "plt.ylabel('Количество квартир')\n",
    "plt.title('Распределение по расстоянию до центра');"
   ]
  },
  {
   "cell_type": "markdown",
   "id": "10281c8e-c35b-48a5-8784-7954138c219f",
   "metadata": {},
   "source": [
    "**Вывод:** судя по гистограмме львиная доля квартир располагаются в радиусе 9-18 километров от центра, что вполне ожидаемо. Есть небольшой пик в районе 5 км,это исторические дома, их достаточно много. Ближе к центру объявлений меньше, так как и квартиры там дороже, и продаются реже, а также многие дома переведены в коммерческую недвижимость(офисы, гостиницы, магазины и т.д.). Провал между 5 и 9 километрами, возможно, объясняется промышленной застройкой в данной области(ранее на границе города). Со временем город вырос и промзона оказалась внутри,а новые дома строились уже ближе к современным окраинам. Также есть совсем небольшой пик за пределами 30 км - это, вероятно, современная концепция освоения областей за пределами мегаполиса."
   ]
  },
  {
   "cell_type": "markdown",
   "id": "6ffbbf73-4503-4e89-94a0-a13d6b0dd389",
   "metadata": {},
   "source": [
    "###  Распределение по расстоянию до ближайшего парка"
   ]
  },
  {
   "cell_type": "code",
   "execution_count": 68,
   "id": "02dc8983-6cd1-4b9e-883f-ed1fa6d00998",
   "metadata": {},
   "outputs": [
    {
     "data": {
      "image/png": "[encoded data removed]",
      "text/plain": [
       "<Figure size 504x288 with 1 Axes>"
      ]
     },
     "metadata": {
      "needs_background": "light"
     },
     "output_type": "display_data"
    }
   ],
   "source": [
    "plt.figure(figsize=(7, 4))\n",
    "plt.grid(True)\n",
    "\n",
    "plt.hist(data['parks_nearest'], bins=40, edgecolor='white')\n",
    "\n",
    "plt.xlabel('Расстояние до центра ближайшего парка(метров)')\n",
    "plt.ylabel('Количество квартир')\n",
    "plt.title('Распределение по расстоянию до ближайшего парка');"
   ]
  },
  {
   "cell_type": "markdown",
   "id": "6679db55-a84b-45a2-a42b-c90cc6f84ab2",
   "metadata": {},
   "source": [
    "**Вывод:** картина получилась очень приятная! Почти все дома имеют зону для отдыха в непосредственной близости, в радиусе не более километра, а основная масса и вовсе имеет парк в 300-600 метрах, то есть в пятиминутной шаговой доступности."
   ]
  },
  {
   "cell_type": "markdown",
   "id": "f5743331-dd18-4a63-93f7-b14516c6c6d9",
   "metadata": {},
   "source": [
    "###  Анализ скорости продажи"
   ]
  },
  {
   "cell_type": "code",
   "execution_count": 69,
   "id": "be6522b6-3dfb-4097-a487-7fad18d83ea2",
   "metadata": {},
   "outputs": [
    {
     "data": {
      "image/png": "[encoded data removed]",
      "text/plain": [
       "<Figure size 504x288 with 1 Axes>"
      ]
     },
     "metadata": {
      "needs_background": "light"
     },
     "output_type": "display_data"
    }
   ],
   "source": [
    "plt.figure(figsize=(7, 4))\n",
    "plt.grid(True)\n",
    "\n",
    "plt.hist(data['days_exposition'], bins=40, edgecolor='white')\n",
    "\n",
    "plt.xlabel('Длительность размещения объявления(дней)')\n",
    "plt.ylabel('Количество квартир')\n",
    "plt.title('Распределение по длительности размещения объявления');"
   ]
  },
  {
   "cell_type": "code",
   "execution_count": 70,
   "id": "92f3ad0f-ad2b-42fb-88fe-dc7c7099d900",
   "metadata": {},
   "outputs": [
    {
     "data": {
      "text/plain": [
       "count    19849.000000\n",
       "mean       177.687440\n",
       "std        216.441255\n",
       "min          1.000000\n",
       "25%         44.000000\n",
       "50%         93.000000\n",
       "75%        226.000000\n",
       "max       1580.000000\n",
       "Name: days_exposition, dtype: float64"
      ]
     },
     "execution_count": 70,
     "metadata": {},
     "output_type": "execute_result"
    }
   ],
   "source": [
    "data['days_exposition'].describe()"
   ]
  },
  {
   "cell_type": "markdown",
   "id": "63d6eb42-51db-4ade-8a31-b711cfecbecb",
   "metadata": {},
   "source": [
    "**Вывод:** согласно статистике большинство квартир продаются в первые 100 дней. Медиана составляет 93 дня, в то время как среднее время размещения - 177 дней. Такой показатель обусловлен наличием объявлений с очень длительным сроком размещения - 1580 дней(4,5 года!!!). В то же время есть и объявления, которые были на доске всего 1 день. Стандартный же разброс составляет 44 - 226 дней. Именно на такой срок нужно ориентироваться при продаже жилой недвижимости."
   ]
  },
  {
   "cell_type": "markdown",
   "id": "bc762865-7a1b-46bd-8b06-b88dd603a3f8",
   "metadata": {},
   "source": [
    "**Изучение факторов, влияющих на стоимость квадратного метра жилья**"
   ]
  },
  {
   "cell_type": "markdown",
   "id": "218ec00c-bb15-4c60-9e6d-734d719cd0a6",
   "metadata": {},
   "source": [
    "###  Взаимосвязь общей площади со стоимостью"
   ]
  },
  {
   "cell_type": "code",
   "execution_count": 71,
   "id": "a1e973ab-dbe4-441d-9688-772935e47a6e",
   "metadata": {},
   "outputs": [
    {
     "data": {
      "image/png": "[encoded data removed]",
      "text/plain": [
       "<Figure size 432x288 with 1 Axes>"
      ]
     },
     "metadata": {
      "needs_background": "light"
     },
     "output_type": "display_data"
    }
   ],
   "source": [
    "data.plot(x='total_area', y='last_price', kind='scatter', alpha=0.2)\n",
    "\n",
    "plt.grid(True)\n",
    "plt.xlabel('Общая площадь(кв.м)')\n",
    "plt.ylabel('Стоимость(10 млн.)')\n",
    "plt.title('Динамика цены');"
   ]
  },
  {
   "cell_type": "code",
   "execution_count": 72,
   "id": "6b87fdf0-cec4-4d6b-bb45-0b8eea000a79",
   "metadata": {},
   "outputs": [
    {
     "data": {
      "text/plain": [
       "0.7735532324193143"
      ]
     },
     "execution_count": 72,
     "metadata": {},
     "output_type": "execute_result"
    }
   ],
   "source": [
    "#смотрим корреляцию\n",
    "data['total_area'].corr(data['last_price'])"
   ]
  },
  {
   "cell_type": "markdown",
   "id": "358ff109-459a-49d1-8d5a-db711dac771d",
   "metadata": {},
   "source": [
    "**Вывод:** на графике отчетливо видно, что с увеличением общей площади увеличивается и цена, что вполне ожидаемо, ведь стоимость жилья обычно расчитывают из стоимоти 1 кв.метра в определённом районе. Коэффициент корреляции 0,77 лишний раз это подтверждает."
   ]
  },
  {
   "cell_type": "markdown",
   "id": "07fe141e-4ad8-4b33-975e-a1f9eea530f9",
   "metadata": {},
   "source": [
    "###  Взаимосвязь жилой площади со стоимостью"
   ]
  },
  {
   "cell_type": "code",
   "execution_count": 73,
   "id": "695e6b9d-6eed-4d1b-8908-240af98b6a13",
   "metadata": {},
   "outputs": [
    {
     "data": {
      "image/png": "[encoded data removed]",
      "text/plain": [
       "<Figure size 432x288 with 1 Axes>"
      ]
     },
     "metadata": {
      "needs_background": "light"
     },
     "output_type": "display_data"
    }
   ],
   "source": [
    "data.plot(x='living_area', y='last_price', kind='scatter', alpha=0.2)\n",
    "\n",
    "plt.grid(True)\n",
    "plt.xlabel('Жилая площадь(кв.м)')\n",
    "plt.ylabel('Стоимость(10 млн.)')\n",
    "plt.title('Динамика цены');"
   ]
  },
  {
   "cell_type": "code",
   "execution_count": 74,
   "id": "d16af6b9-d493-4ed2-84ef-72597e59e38b",
   "metadata": {},
   "outputs": [
    {
     "data": {
      "text/plain": [
       "0.6701255292129189"
      ]
     },
     "execution_count": 74,
     "metadata": {},
     "output_type": "execute_result"
    }
   ],
   "source": [
    "#смотрим корреляцию\n",
    "data['living_area'].corr(data['last_price'])"
   ]
  },
  {
   "cell_type": "markdown",
   "id": "8ddcfb78-0c9f-4a98-937f-a4921ae83b58",
   "metadata": {},
   "source": [
    "**Вывод:** в случае с жилой площадью корреляция тоже весьма очевидная - 0,67, однако это меньше, чем в случае с общей площадью. Это скорее всего связано как раз со сменой типовой застрйки. Доля жилой площади относительно общей уменьшилась, соответственно меньшая жилая площадь в новых домах может стоить также, как большая в домах предыдущего поколения, ведь цена всё также считается за 1 кв.м общей площади. "
   ]
  },
  {
   "cell_type": "markdown",
   "id": "37ca0e2e-2a36-4fe8-a05f-b736a64781b4",
   "metadata": {},
   "source": [
    "###  Взаимосвязь площади кухни со стоимостью"
   ]
  },
  {
   "cell_type": "code",
   "execution_count": 75,
   "id": "3360b533-ed3e-4d21-9a8c-62e79f88cf71",
   "metadata": {},
   "outputs": [
    {
     "data": {
      "image/png": "[encoded data removed]",
      "text/plain": [
       "<Figure size 432x288 with 1 Axes>"
      ]
     },
     "metadata": {
      "needs_background": "light"
     },
     "output_type": "display_data"
    }
   ],
   "source": [
    "data.plot(x='kitchen_area', y='last_price', kind='scatter', alpha=0.2)\n",
    "\n",
    "plt.grid(True)\n",
    "plt.xlabel('Площадь кухни(кв.м.)')\n",
    "plt.ylabel('Стоимость(10 млн.)')\n",
    "plt.title('Динамика цены');"
   ]
  },
  {
   "cell_type": "code",
   "execution_count": 76,
   "id": "12e545c4-9e1d-42a2-9cc6-edf0fccc425b",
   "metadata": {},
   "outputs": [
    {
     "data": {
      "text/plain": [
       "0.5808085338056338"
      ]
     },
     "execution_count": 76,
     "metadata": {},
     "output_type": "execute_result"
    }
   ],
   "source": [
    "#смотрим корреляцию\n",
    "data['kitchen_area'].corr(data['last_price'])"
   ]
  },
  {
   "cell_type": "markdown",
   "id": "e3a5f5f7-c8f3-448d-99e2-baf40c6e5781",
   "metadata": {},
   "source": [
    "**Вывод:** еще меньше прослеживается взаимосвязь между площадью кухни и общей стоимостью жилья. Это тоже очень логично, ведь кухня занимает примерно одинаковую площадь не зависимо от количества комнат или общей площади квартиры. На графике отчётливо видны вертикальные столбцы - площадь одна, а цена увеличивается."
   ]
  },
  {
   "cell_type": "markdown",
   "id": "2e72fb6f-2120-45d3-a789-a2c0ab93dc69",
   "metadata": {},
   "source": [
    "### Взаимосвязь количества комнат со стоимостью"
   ]
  },
  {
   "cell_type": "code",
   "execution_count": 77,
   "id": "914eef73-5b9a-4bef-aeed-ba5ed1fd63f1",
   "metadata": {},
   "outputs": [
    {
     "data": {
      "image/png": "[encoded data removed]",
      "text/plain": [
       "<Figure size 432x288 with 1 Axes>"
      ]
     },
     "metadata": {
      "needs_background": "light"
     },
     "output_type": "display_data"
    }
   ],
   "source": [
    "#находим медианное значение цены  и строим график\n",
    "data.pivot_table(index='rooms', values='last_price', aggfunc='median').plot();\n",
    "\n",
    "plt.grid(True)\n",
    "plt.xlabel('Количество комнат')\n",
    "plt.ylabel('Стоимость(млн.руб)')\n",
    "plt.title('Динамика цены');"
   ]
  },
  {
   "cell_type": "markdown",
   "id": "48a685ad-382f-4540-820e-831265e4c877",
   "metadata": {},
   "source": [
    "**Вывод:** видно, что рост цены прямо пропорционален увеличению количества комнат. "
   ]
  },
  {
   "cell_type": "markdown",
   "id": "eeba009a-036c-4698-8882-bfdf0bfc7639",
   "metadata": {},
   "source": [
    "###  Взаимосвязь типа этажа со стоимостью"
   ]
  },
  {
   "cell_type": "code",
   "execution_count": 78,
   "id": "09908a77-7035-461a-beed-9ba9888ce572",
   "metadata": {},
   "outputs": [
    {
     "data": {
      "image/png": "[encoded data removed]",
      "text/plain": [
       "<Figure size 432x288 with 1 Axes>"
      ]
     },
     "metadata": {
      "needs_background": "light"
     },
     "output_type": "display_data"
    }
   ],
   "source": [
    "#находим медианное значение цены  и строим график\n",
    "data.pivot_table(index='floor_name', values='last_price', aggfunc='median').plot(kind='bar', legend=[], grid=True);\n",
    "\n",
    "plt.xlabel('Тип этажа')\n",
    "plt.ylabel('Стоимость(руб)')\n",
    "plt.title('Динамика цены');"
   ]
  },
  {
   "cell_type": "markdown",
   "id": "967a9248-cef1-4532-9f64-9651d746931b",
   "metadata": {},
   "source": [
    "**Вывод:** исходя из поолученных данных видно, что расположение квартиры по вертикали тоже имеет самое прямое отношение к итоговой стоимости продажи. Дешевле всего стоят квартиры, расположенные на первом этаже, немного дороже - расположенные на последнем этаже. Самые дорогие квартиры имеют статус \"кроме первого и последнего\"."
   ]
  },
  {
   "cell_type": "markdown",
   "id": "769602eb-963a-4ff2-ad0d-af94c8db8c8a",
   "metadata": {},
   "source": [
    "### Взаимосвязь срока размещения объявления со стоимостью"
   ]
  },
  {
   "cell_type": "code",
   "execution_count": 79,
   "id": "e2db618c-b487-4ef1-a0cb-80f6ce8ecdd6",
   "metadata": {},
   "outputs": [
    {
     "data": {
      "text/plain": [
       "Text(0.5, 1.0, 'Динамика цены')"
      ]
     },
     "execution_count": 79,
     "metadata": {},
     "output_type": "execute_result"
    },
    {
     "data": {
      "image/png": "[encoded data removed]",
      "text/plain": [
       "<Figure size 432x288 with 1 Axes>"
      ]
     },
     "metadata": {
      "needs_background": "light"
     },
     "output_type": "display_data"
    }
   ],
   "source": [
    "data.plot(x='days_exposition', y='last_price', kind='scatter', alpha=0.2)\n",
    "\n",
    "plt.grid(True)\n",
    "plt.xlabel('Дни размещения')\n",
    "plt.ylabel('Стоимость(10 млн.)')\n",
    "plt.title('Динамика цены')"
   ]
  },
  {
   "cell_type": "code",
   "execution_count": 80,
   "id": "e0733220-8fab-498d-942b-1fc630233120",
   "metadata": {},
   "outputs": [
    {
     "data": {
      "text/plain": [
       "0.1194359537290639"
      ]
     },
     "execution_count": 80,
     "metadata": {},
     "output_type": "execute_result"
    }
   ],
   "source": [
    "#смотрим корреляцию\n",
    "data['days_exposition'].corr(data['last_price'])"
   ]
  },
  {
   "cell_type": "markdown",
   "id": "83bea24a-f0ea-468f-a278-979ac9510b64",
   "metadata": {},
   "source": [
    "**Вывод:** выходит, что длительность размещения практически не влияет на стоимость квартир. Даже если квартира долго не продаётся, снижать цену владельцы не стремятся."
   ]
  },
  {
   "cell_type": "markdown",
   "id": "f912edce-6397-45c2-9873-2b072e7b0b2a",
   "metadata": {},
   "source": [
    "###  Взаимосвязь дня размещения объявления со стоимостью"
   ]
  },
  {
   "cell_type": "code",
   "execution_count": 81,
   "id": "becf3e57-d882-46c5-8863-ae0f7e538ca8",
   "metadata": {},
   "outputs": [
    {
     "data": {
      "image/png": "[encoded data removed]",
      "text/plain": [
       "<Figure size 432x288 with 1 Axes>"
      ]
     },
     "metadata": {
      "needs_background": "light"
     },
     "output_type": "display_data"
    }
   ],
   "source": [
    "#находим медианное значение цены  и строим график\n",
    "data.pivot_table(index='exposition_weekday', values='last_price', aggfunc='median').plot(kind='bar', legend=[], grid=True);\n",
    "\n",
    "plt.xlabel('День недели размещения')\n",
    "plt.ylabel('Стоимость(руб)')\n",
    "plt.title('Динамика цены');"
   ]
  },
  {
   "cell_type": "markdown",
   "id": "8013d030-850f-45e4-ae7c-28235a9d020b",
   "metadata": {},
   "source": [
    "**Вывод:** по графику видно, что стоимость продажи квартир правктически не отличается от дня размещения объявления. В данном случае взаимосвязи нет."
   ]
  },
  {
   "cell_type": "markdown",
   "id": "999f474a-e445-42bc-9a00-95962b7274f2",
   "metadata": {},
   "source": [
    "###  Взаимосвязь месяца размещения объявления со стоимостью"
   ]
  },
  {
   "cell_type": "code",
   "execution_count": 82,
   "id": "9c8c8ffd-aae0-46a0-ba85-f48d711ca67a",
   "metadata": {},
   "outputs": [
    {
     "data": {
      "image/png": "[encoded data removed]",
      "text/plain": [
       "<Figure size 432x288 with 1 Axes>"
      ]
     },
     "metadata": {
      "needs_background": "light"
     },
     "output_type": "display_data"
    }
   ],
   "source": [
    "#находим медианное значение цены  и строим график\n",
    "data.pivot_table(index='exposition_month', values='last_price', aggfunc='median').plot(kind='bar', legend=[], grid=True);\n",
    "\n",
    "plt.xlabel('Месяц размещения')\n",
    "plt.ylabel('Стоимость(руб)')\n",
    "plt.title('Динамика цены');"
   ]
  },
  {
   "cell_type": "markdown",
   "id": "eb5276c7-9478-4478-9d8f-251ad10571b4",
   "metadata": {},
   "source": [
    "**Вывод:** с начала года и до апреля цены немного, но повышаются. Далее до июня цены начинают падать, а потом снова с небольшими колебаниями вверх-вниз, но неуклонно растут."
   ]
  },
  {
   "cell_type": "markdown",
   "id": "c8a28836-eac1-4850-b1c6-a5e002e36739",
   "metadata": {},
   "source": [
    "###  Взаимосвязь года размещения объявления со стоимостью"
   ]
  },
  {
   "cell_type": "code",
   "execution_count": 83,
   "id": "61fbfee3-2b4c-4e42-b9a6-2b7c81ae0f84",
   "metadata": {},
   "outputs": [
    {
     "data": {
      "image/png": "[encoded data removed]",
      "text/plain": [
       "<Figure size 432x288 with 1 Axes>"
      ]
     },
     "metadata": {
      "needs_background": "light"
     },
     "output_type": "display_data"
    }
   ],
   "source": [
    "#находим медианное значение цены  и строим график\n",
    "data.pivot_table(index='exposition_year', values='last_price', aggfunc='median').plot(kind='bar', legend=[], grid=True);\n",
    "\n",
    "plt.xlabel('Год размещения')\n",
    "plt.ylabel('Стоимость(руб)')\n",
    "plt.title('Динамика цены');"
   ]
  },
  {
   "cell_type": "markdown",
   "id": "b3a83d1b-1d2b-41e2-bd68-184d5534ffbe",
   "metadata": {},
   "source": [
    "**Вывод:** видно, что в 2014 году средняя стоимость жилья была выше 6 миллионов. Далее идёт снижение до 5 миллионов в 2015 году и до 4,5 миллионов в 2016-2017 гг. Такая динамика свидетельствует о том, что в продаже стало больше квартир меньшей квадратуры (прямую зависимость роста цены с ростом площади мы определили выше). Далее опять намечается рост средней цены, который связан с инфляционными процессами."
   ]
  },
  {
   "cell_type": "markdown",
   "id": "de172dbf-0bad-418b-88a2-897859ece491",
   "metadata": {},
   "source": [
    "###  Стоимость 1 кв.метра в городах с наибольшим количеством объявлений"
   ]
  },
  {
   "cell_type": "markdown",
   "id": "ef35ffaa-6e1d-4db6-97d5-de9053059fad",
   "metadata": {},
   "source": [
    "Рассмотрим топ-10 городов с наибольшим количеством предложений о продаже."
   ]
  },
  {
   "cell_type": "code",
   "execution_count": 84,
   "id": "5bd11617-e2c8-4256-8a3e-d925dcd2ae45",
   "metadata": {},
   "outputs": [
    {
     "data": {
      "text/html": [
       "<div>\n",
       "<style scoped>\n",
       "    .dataframe tbody tr th:only-of-type {\n",
       "        vertical-align: middle;\n",
       "    }\n",
       "\n",
       "    .dataframe tbody tr th {\n",
       "        vertical-align: top;\n",
       "    }\n",
       "\n",
       "    .dataframe thead th {\n",
       "        text-align: right;\n",
       "    }\n",
       "</style>\n",
       "<table border=\"1\" class=\"dataframe\">\n",
       "  <thead>\n",
       "    <tr style=\"text-align: right;\">\n",
       "      <th></th>\n",
       "      <th>flats_total</th>\n",
       "      <th>price_square_meter</th>\n",
       "    </tr>\n",
       "    <tr>\n",
       "      <th>locality_name</th>\n",
       "      <th></th>\n",
       "      <th></th>\n",
       "    </tr>\n",
       "  </thead>\n",
       "  <tbody>\n",
       "    <tr>\n",
       "      <th>Санкт-Петербург</th>\n",
       "      <td>14941</td>\n",
       "      <td>108678.724840</td>\n",
       "    </tr>\n",
       "    <tr>\n",
       "      <th>Мурино</th>\n",
       "      <td>586</td>\n",
       "      <td>86041.116024</td>\n",
       "    </tr>\n",
       "    <tr>\n",
       "      <th>Кудрово</th>\n",
       "      <td>469</td>\n",
       "      <td>95261.963412</td>\n",
       "    </tr>\n",
       "    <tr>\n",
       "      <th>поселок Шушары</th>\n",
       "      <td>439</td>\n",
       "      <td>78551.344647</td>\n",
       "    </tr>\n",
       "    <tr>\n",
       "      <th>Всеволожск</th>\n",
       "      <td>396</td>\n",
       "      <td>67275.625859</td>\n",
       "    </tr>\n",
       "    <tr>\n",
       "      <th>Пушкин</th>\n",
       "      <td>358</td>\n",
       "      <td>101864.461788</td>\n",
       "    </tr>\n",
       "    <tr>\n",
       "      <th>Колпино</th>\n",
       "      <td>337</td>\n",
       "      <td>75333.295816</td>\n",
       "    </tr>\n",
       "    <tr>\n",
       "      <th>поселок Парголово</th>\n",
       "      <td>327</td>\n",
       "      <td>90175.913089</td>\n",
       "    </tr>\n",
       "    <tr>\n",
       "      <th>Гатчина</th>\n",
       "      <td>307</td>\n",
       "      <td>68746.146515</td>\n",
       "    </tr>\n",
       "    <tr>\n",
       "      <th>Выборг</th>\n",
       "      <td>235</td>\n",
       "      <td>58238.143277</td>\n",
       "    </tr>\n",
       "  </tbody>\n",
       "</table>\n",
       "</div>"
      ],
      "text/plain": [
       "                   flats_total  price_square_meter\n",
       "locality_name                                     \n",
       "Санкт-Петербург          14941       108678.724840\n",
       "Мурино                     586        86041.116024\n",
       "Кудрово                    469        95261.963412\n",
       "поселок Шушары             439        78551.344647\n",
       "Всеволожск                 396        67275.625859\n",
       "Пушкин                     358       101864.461788\n",
       "Колпино                    337        75333.295816\n",
       "поселок Парголово          327        90175.913089\n",
       "Гатчина                    307        68746.146515\n",
       "Выборг                     235        58238.143277"
      ]
     },
     "execution_count": 84,
     "metadata": {},
     "output_type": "execute_result"
    }
   ],
   "source": [
    "data_top10 = data.pivot_table(index='locality_name', values='price_square_meter', aggfunc=['count','mean'])\n",
    "data_top10.columns = ['flats_total', 'price_square_meter']\n",
    "data_top10 = data_top10.sort_values('flats_total', ascending=False).head(10)\n",
    "data_top10"
   ]
  },
  {
   "cell_type": "markdown",
   "id": "fe505ab8-b3ca-4d65-9f93-cffa28c304f1",
   "metadata": {},
   "source": [
    "**Вывод:** Наибольшая цена за метр квадратный ожидаемо получилась непосредственно в Санкт-Петербурге - почти 109 тыс.руб. Немногим меньше цена в Пушкине - 102 тыс.руб. и Кудрово - 95 тыс.руб. Дешевле всего один \"квадрат\" обойдётся в Выборге - 58 тыс.руб."
   ]
  },
  {
   "cell_type": "markdown",
   "id": "a0d28ef4-aeab-4911-a533-602464cfca0e",
   "metadata": {},
   "source": [
    "Также составим покилометровую таблицу средней цены только для Санкт-Петербурга и для наглядности отобразим эти данные в графике"
   ]
  },
  {
   "cell_type": "code",
   "execution_count": 85,
   "id": "ad8b1832-ad31-4142-a187-32953b97fdc4",
   "metadata": {},
   "outputs": [],
   "source": [
    "#ищем среднее на каждый километр\n",
    "data_spb = data.query('locality_name == \"Санкт-Петербург\"')\n",
    "data_spb = data_spb.pivot_table(index='city_centers_nearest_km', values='last_price', aggfunc='mean')"
   ]
  },
  {
   "cell_type": "code",
   "execution_count": 86,
   "id": "89d9a97a-3ed4-4687-865e-1996a8a47582",
   "metadata": {},
   "outputs": [
    {
     "data": {
      "image/png": "[encoded data removed]",
      "text/plain": [
       "<Figure size 432x288 with 1 Axes>"
      ]
     },
     "metadata": {
      "needs_background": "light"
     },
     "output_type": "display_data"
    }
   ],
   "source": [
    "data_spb.plot()\n",
    "\n",
    "plt.grid(True)\n",
    "plt.xlabel('Расстояние до центра(км)')\n",
    "plt.ylabel('Стоимость(10 млн.руб)')\n",
    "plt.title('Динамика цены');"
   ]
  },
  {
   "cell_type": "markdown",
   "id": "f3dd620d-6ca3-43a5-9a85-2fefcb3a847a",
   "metadata": {},
   "source": [
    "**Вывод:** по графику видно, что цена квартир имеет общую тенденцию к снижению с увеличением расстояния. Тем не менее, на расстоянии 20 и 27 километров от центра наблюдаются зона повышения стоимости! Это скорее всего связано с районом затройки(например, Курортный), который является престижным. Проверим."
   ]
  },
  {
   "cell_type": "code",
   "execution_count": 87,
   "id": "0f8ceace-2a72-4442-8802-1cc51205ad33",
   "metadata": {},
   "outputs": [
    {
     "data": {
      "text/html": [
       "<div>\n",
       "<style scoped>\n",
       "    .dataframe tbody tr th:only-of-type {\n",
       "        vertical-align: middle;\n",
       "    }\n",
       "\n",
       "    .dataframe tbody tr th {\n",
       "        vertical-align: top;\n",
       "    }\n",
       "\n",
       "    .dataframe thead th {\n",
       "        text-align: right;\n",
       "    }\n",
       "</style>\n",
       "<table border=\"1\" class=\"dataframe\">\n",
       "  <thead>\n",
       "    <tr style=\"text-align: right;\">\n",
       "      <th></th>\n",
       "      <th>total_images</th>\n",
       "      <th>last_price</th>\n",
       "      <th>total_area</th>\n",
       "      <th>first_day_exposition</th>\n",
       "      <th>rooms</th>\n",
       "      <th>ceiling_height</th>\n",
       "      <th>floors_total</th>\n",
       "      <th>living_area</th>\n",
       "      <th>floor</th>\n",
       "      <th>is_apartment</th>\n",
       "      <th>...</th>\n",
       "      <th>ponds_nearest</th>\n",
       "      <th>days_exposition</th>\n",
       "      <th>living_area_ratio</th>\n",
       "      <th>kitchen_area_ratio</th>\n",
       "      <th>price_square_meter</th>\n",
       "      <th>exposition_weekday</th>\n",
       "      <th>exposition_month</th>\n",
       "      <th>exposition_year</th>\n",
       "      <th>floor_name</th>\n",
       "      <th>city_centers_nearest_km</th>\n",
       "    </tr>\n",
       "  </thead>\n",
       "  <tbody>\n",
       "    <tr>\n",
       "      <th>140</th>\n",
       "      <td>8</td>\n",
       "      <td>16912000.0</td>\n",
       "      <td>105.7</td>\n",
       "      <td>2016-12-09</td>\n",
       "      <td>2</td>\n",
       "      <td>2.70</td>\n",
       "      <td>3</td>\n",
       "      <td>48.4</td>\n",
       "      <td>1</td>\n",
       "      <td>False</td>\n",
       "      <td>...</td>\n",
       "      <td>179.0</td>\n",
       "      <td>390.0</td>\n",
       "      <td>0.457900</td>\n",
       "      <td>0.145695</td>\n",
       "      <td>160000.00</td>\n",
       "      <td>4</td>\n",
       "      <td>12</td>\n",
       "      <td>2016</td>\n",
       "      <td>Первый</td>\n",
       "      <td>27.0</td>\n",
       "    </tr>\n",
       "    <tr>\n",
       "      <th>7996</th>\n",
       "      <td>17</td>\n",
       "      <td>16600000.0</td>\n",
       "      <td>106.0</td>\n",
       "      <td>2017-12-02</td>\n",
       "      <td>4</td>\n",
       "      <td>3.20</td>\n",
       "      <td>3</td>\n",
       "      <td>50.0</td>\n",
       "      <td>3</td>\n",
       "      <td>False</td>\n",
       "      <td>...</td>\n",
       "      <td>NaN</td>\n",
       "      <td>NaN</td>\n",
       "      <td>0.471698</td>\n",
       "      <td>0.283019</td>\n",
       "      <td>156603.77</td>\n",
       "      <td>5</td>\n",
       "      <td>12</td>\n",
       "      <td>2017</td>\n",
       "      <td>Последний</td>\n",
       "      <td>27.0</td>\n",
       "    </tr>\n",
       "    <tr>\n",
       "      <th>15578</th>\n",
       "      <td>20</td>\n",
       "      <td>16000000.0</td>\n",
       "      <td>101.9</td>\n",
       "      <td>2018-01-08</td>\n",
       "      <td>2</td>\n",
       "      <td>2.87</td>\n",
       "      <td>4</td>\n",
       "      <td>48.1</td>\n",
       "      <td>1</td>\n",
       "      <td>False</td>\n",
       "      <td>...</td>\n",
       "      <td>368.0</td>\n",
       "      <td>NaN</td>\n",
       "      <td>0.472031</td>\n",
       "      <td>0.263984</td>\n",
       "      <td>157016.68</td>\n",
       "      <td>0</td>\n",
       "      <td>1</td>\n",
       "      <td>2018</td>\n",
       "      <td>Первый</td>\n",
       "      <td>27.0</td>\n",
       "    </tr>\n",
       "    <tr>\n",
       "      <th>12466</th>\n",
       "      <td>11</td>\n",
       "      <td>15000000.0</td>\n",
       "      <td>89.6</td>\n",
       "      <td>2017-01-31</td>\n",
       "      <td>3</td>\n",
       "      <td>2.65</td>\n",
       "      <td>3</td>\n",
       "      <td>57.0</td>\n",
       "      <td>3</td>\n",
       "      <td>False</td>\n",
       "      <td>...</td>\n",
       "      <td>509.0</td>\n",
       "      <td>357.0</td>\n",
       "      <td>0.636161</td>\n",
       "      <td>0.150670</td>\n",
       "      <td>167410.71</td>\n",
       "      <td>1</td>\n",
       "      <td>1</td>\n",
       "      <td>2017</td>\n",
       "      <td>Последний</td>\n",
       "      <td>27.0</td>\n",
       "    </tr>\n",
       "    <tr>\n",
       "      <th>748</th>\n",
       "      <td>13</td>\n",
       "      <td>14350000.0</td>\n",
       "      <td>74.0</td>\n",
       "      <td>2017-11-28</td>\n",
       "      <td>2</td>\n",
       "      <td>3.13</td>\n",
       "      <td>5</td>\n",
       "      <td>30.0</td>\n",
       "      <td>3</td>\n",
       "      <td>False</td>\n",
       "      <td>...</td>\n",
       "      <td>NaN</td>\n",
       "      <td>128.0</td>\n",
       "      <td>0.405405</td>\n",
       "      <td>0.337838</td>\n",
       "      <td>193918.92</td>\n",
       "      <td>1</td>\n",
       "      <td>11</td>\n",
       "      <td>2017</td>\n",
       "      <td>Другой</td>\n",
       "      <td>27.0</td>\n",
       "    </tr>\n",
       "  </tbody>\n",
       "</table>\n",
       "<p>5 rows × 30 columns</p>\n",
       "</div>"
      ],
      "text/plain": [
       "       total_images  last_price  total_area first_day_exposition  rooms  \\\n",
       "140               8  16912000.0       105.7           2016-12-09      2   \n",
       "7996             17  16600000.0       106.0           2017-12-02      4   \n",
       "15578            20  16000000.0       101.9           2018-01-08      2   \n",
       "12466            11  15000000.0        89.6           2017-01-31      3   \n",
       "748              13  14350000.0        74.0           2017-11-28      2   \n",
       "\n",
       "       ceiling_height  floors_total  living_area  floor  is_apartment  ...  \\\n",
       "140              2.70             3         48.4      1         False  ...   \n",
       "7996             3.20             3         50.0      3         False  ...   \n",
       "15578            2.87             4         48.1      1         False  ...   \n",
       "12466            2.65             3         57.0      3         False  ...   \n",
       "748              3.13             5         30.0      3         False  ...   \n",
       "\n",
       "       ponds_nearest  days_exposition  living_area_ratio  kitchen_area_ratio  \\\n",
       "140            179.0            390.0           0.457900            0.145695   \n",
       "7996             NaN              NaN           0.471698            0.283019   \n",
       "15578          368.0              NaN           0.472031            0.263984   \n",
       "12466          509.0            357.0           0.636161            0.150670   \n",
       "748              NaN            128.0           0.405405            0.337838   \n",
       "\n",
       "      price_square_meter  exposition_weekday  exposition_month  \\\n",
       "140            160000.00                   4                12   \n",
       "7996           156603.77                   5                12   \n",
       "15578          157016.68                   0                 1   \n",
       "12466          167410.71                   1                 1   \n",
       "748            193918.92                   1                11   \n",
       "\n",
       "       exposition_year  floor_name  city_centers_nearest_km  \n",
       "140               2016      Первый                     27.0  \n",
       "7996              2017   Последний                     27.0  \n",
       "15578             2018      Первый                     27.0  \n",
       "12466             2017   Последний                     27.0  \n",
       "748               2017      Другой                     27.0  \n",
       "\n",
       "[5 rows x 30 columns]"
      ]
     },
     "execution_count": 87,
     "metadata": {},
     "output_type": "execute_result"
    }
   ],
   "source": [
    "#смотрим объявления на отдалении 27 км\n",
    "data.query('city_centers_nearest_km == 27').sort_values(by='last_price', ascending=False).head()"
   ]
  },
  {
   "cell_type": "markdown",
   "id": "48c7afa8-1866-4248-a267-8551500e26ee",
   "metadata": {},
   "source": [
    "Вот и причина - в топ-5 попали квартиры со стоимостью 14,5 - 17 млн. Этажность зданий здесь не превышает 5, а в большей части 3 этажей. Общая площад более 100 кв.метров при количестве комнат равной 2 свидетельствует о том, что это район с этиной недвижимостью и такой рост цен на отдалении от центра логичен."
   ]
  },
  {
   "cell_type": "code",
   "execution_count": 91,
   "id": "f57ea66e",
   "metadata": {},
   "outputs": [
    {
     "data": {
      "text/html": [
       "<div>\n",
       "<style scoped>\n",
       "    .dataframe tbody tr th:only-of-type {\n",
       "        vertical-align: middle;\n",
       "    }\n",
       "\n",
       "    .dataframe tbody tr th {\n",
       "        vertical-align: top;\n",
       "    }\n",
       "\n",
       "    .dataframe thead th {\n",
       "        text-align: right;\n",
       "    }\n",
       "</style>\n",
       "<table border=\"1\" class=\"dataframe\">\n",
       "  <thead>\n",
       "    <tr style=\"text-align: right;\">\n",
       "      <th></th>\n",
       "      <th>total_images</th>\n",
       "      <th>last_price</th>\n",
       "      <th>total_area</th>\n",
       "      <th>first_day_exposition</th>\n",
       "      <th>rooms</th>\n",
       "      <th>ceiling_height</th>\n",
       "      <th>floors_total</th>\n",
       "      <th>living_area</th>\n",
       "      <th>floor</th>\n",
       "      <th>is_apartment</th>\n",
       "      <th>...</th>\n",
       "      <th>ponds_nearest</th>\n",
       "      <th>days_exposition</th>\n",
       "      <th>living_area_ratio</th>\n",
       "      <th>kitchen_area_ratio</th>\n",
       "      <th>price_square_meter</th>\n",
       "      <th>exposition_weekday</th>\n",
       "      <th>exposition_month</th>\n",
       "      <th>exposition_year</th>\n",
       "      <th>floor_name</th>\n",
       "      <th>city_centers_nearest_km</th>\n",
       "    </tr>\n",
       "  </thead>\n",
       "  <tbody>\n",
       "    <tr>\n",
       "      <th>748</th>\n",
       "      <td>13</td>\n",
       "      <td>14350000.0</td>\n",
       "      <td>74.0</td>\n",
       "      <td>2017-11-28</td>\n",
       "      <td>2</td>\n",
       "      <td>3.13</td>\n",
       "      <td>5</td>\n",
       "      <td>30.0</td>\n",
       "      <td>3</td>\n",
       "      <td>False</td>\n",
       "      <td>...</td>\n",
       "      <td>NaN</td>\n",
       "      <td>128.0</td>\n",
       "      <td>0.405405</td>\n",
       "      <td>0.337838</td>\n",
       "      <td>193918.92</td>\n",
       "      <td>1</td>\n",
       "      <td>11</td>\n",
       "      <td>2017</td>\n",
       "      <td>Другой</td>\n",
       "      <td>27.0</td>\n",
       "    </tr>\n",
       "    <tr>\n",
       "      <th>5961</th>\n",
       "      <td>6</td>\n",
       "      <td>2250000.0</td>\n",
       "      <td>32.0</td>\n",
       "      <td>2018-02-27</td>\n",
       "      <td>1</td>\n",
       "      <td>2.65</td>\n",
       "      <td>2</td>\n",
       "      <td>16.5</td>\n",
       "      <td>2</td>\n",
       "      <td>False</td>\n",
       "      <td>...</td>\n",
       "      <td>NaN</td>\n",
       "      <td>178.0</td>\n",
       "      <td>0.515625</td>\n",
       "      <td>0.218750</td>\n",
       "      <td>70312.50</td>\n",
       "      <td>1</td>\n",
       "      <td>2</td>\n",
       "      <td>2018</td>\n",
       "      <td>Последний</td>\n",
       "      <td>27.0</td>\n",
       "    </tr>\n",
       "  </tbody>\n",
       "</table>\n",
       "<p>2 rows × 30 columns</p>\n",
       "</div>"
      ],
      "text/plain": [
       "      total_images  last_price  total_area first_day_exposition  rooms  \\\n",
       "748             13  14350000.0        74.0           2017-11-28      2   \n",
       "5961             6   2250000.0        32.0           2018-02-27      1   \n",
       "\n",
       "      ceiling_height  floors_total  living_area  floor  is_apartment  ...  \\\n",
       "748             3.13             5         30.0      3         False  ...   \n",
       "5961            2.65             2         16.5      2         False  ...   \n",
       "\n",
       "      ponds_nearest  days_exposition  living_area_ratio  kitchen_area_ratio  \\\n",
       "748             NaN            128.0           0.405405            0.337838   \n",
       "5961            NaN            178.0           0.515625            0.218750   \n",
       "\n",
       "     price_square_meter  exposition_weekday  exposition_month  \\\n",
       "748           193918.92                   1                11   \n",
       "5961           70312.50                   1                 2   \n",
       "\n",
       "      exposition_year  floor_name  city_centers_nearest_km  \n",
       "748              2017      Другой                     27.0  \n",
       "5961             2018   Последний                     27.0  \n",
       "\n",
       "[2 rows x 30 columns]"
      ]
     },
     "execution_count": 91,
     "metadata": {},
     "output_type": "execute_result"
    }
   ],
   "source": [
    "data.query('locality_name == \"Санкт-Петербург\" and city_centers_nearest_km == 27')"
   ]
  },
  {
   "cell_type": "markdown",
   "id": "3c7584a0-a4c3-4c3e-879f-7c1c07755c1a",
   "metadata": {},
   "source": [
    "Вот и причина появления пика - стоимость одной из кватрир на порядок выше среднего значения."
   ]
  },
  {
   "cell_type": "markdown",
   "id": "f81273b0-34b2-4f21-9450-2a60be6e0f94",
   "metadata": {},
   "source": [
    "## Общий вывод\n",
    "\n",
    "Проведена масштабная работа по предобработке данных: \n",
    "- удалены неинформативные строки и выбросы;\n",
    "- пустые значения в жилой площади и площадь кухни заполнены по медиане исходя из количества комнат;\n",
    "- устранены неявные дубликаты в названиях населённых пунктов;\n",
    "- созданы столбцы с новыми параметрами, необходимыми для исследования.\n",
    "\n",
    "Произведен исследовательский анализ данных:\n",
    "  - оценено распределение квартир от общего числа по: общей площади, жилой площади, площади кухни, стоимости, количеству комнат, высоте потолков, этажам, растоянию до центра города, расстоянию до ближайшего парка;\n",
    "  - оценена скорость продажи недвижимости;\n",
    "  - оценена стоимость 1 кв.метра  недвижимости в зависимости от: общей площади, жилой площади, площади кухни, количества комнат, типа этажа, срока размещения объявления, времени размещения объявления(день, месяц, год);\n",
    "  - исследована средняя стоимость квадратного метра в 10 крупнейших локациях области;\n",
    "  - отслежена динамика изменения цены в Санкт-Петербурге при удалении от центра города.\n",
    "\n",
    "**Главные выводы:**\n",
    "- основная масса квартир приходится на диапазон 40-69 кв.м. Квартиры с большей и меньшей общей площадью встречаются значительно реже;\n",
    "- по жилой плащади выделяются квартиры со значением 25 кв.м. и 40 кв.м. Они занимают половину рынка. Такое распределение может быть из-за отличий в типе застройки;\n",
    "- площадь кухни в квартирах в большинстве случаев имеет 2 формата: 6-7 кв.метров или 9-10 кв.метров и не зависит от общей площади или количества комнат. При этом попадаются варианты с кухней 20 кв.метров, но таких квартир значительно меньше;\n",
    "- большинство квартир по цене находится в диапазоне от 2 до 10 млн.руб. Оновная часть - квартиры со стоимостью 4-7 млн.руб. Имеется также отдельных кластер квартир со стоимость 10-15 млн.руб. В общей массе их значительно меньше, но они также имеют достаточное количество предложений;\n",
    "- на рынке в основном представлены одно-, двух- и трёхкомнатные квартиры - порядка 90%. В небольшом количестве присутствуют студии, четырёх- и пятикомнатные квартиры.\n",
    "- высота потолка в основном находится в районе 2,5 - 2,7 метра. Есть небольшой пласт квартир с потолком 3,0 - 3,2 метра. Вероятно, осторическая застройка;\n",
    "- дома обычно имеют 5, 9, 16 или 25 этажей. Первые два встречаются чаще, вторые два скорее всего относятся к современной застройке и их доля со временем будет только расти;\n",
    "- большая доля квартир находится в радиусе 2-20 км от центра города, в самом центре квартиры тоже встречаются, но их довольно мало. Есть также ощутимая доля квартир в радиусе 20 - 35 км. от центра - вероятнее всего города-спутники Санкт-Петербурга;\n",
    "- более 90% квартир имеют парк в шаговой доступности, в большинстве случаев расстояние не превышает 500 метров;\n",
    "- стоимость квадратного метра увеличивается прямо пропорицанально увеличению общей или жилой площади, с общей площадью корреляция немного выше. Площадь кухни практически не влияет на ценообразование;\n",
    "- чем больше комнат в квартире, тем выше цена квартиры ;\n",
    "- квартиры на первом и последнем этажах дешевле;\n",
    "- день недели никак не влияет на стоимость продажи\n",
    "- квартиры выгоднее всего покупать в июне - цена ниже;\n",
    "- с каждым годом средняя стоимость квартир растёт, спад цен с 2014 по 2017 гг. обусловлен увеличением доли квартир меньшей площади;\n",
    "- среднее время размещения объявления составляет 5,5 месяцев, однако большинство квартир продаются в течение первых 3,5 месяцев. Бывают и крайние случаи продажи за 1 день или за 7,5 лет;\n",
    "- Самые дорогие квартиры исходя из стоимости квадратного метра находятся в Санкт-Петербурге, Пушкине и Кудрово(95-109 тыс.р/кв.м), дешевле всего - в Выборге, почти в 2 раза (58 тыс.р/кв.м)\n",
    "- В Санкт-Петербурге стоимость жилья в целом снижается при удалении от центра, однако в радиусе 27 км от центра присутствует район с дорогой недвижимостью, скорее всего элитной.\n",
    "\n",
    "Также хочется заметить, что в изначальном датефрейме имеется большое количество незаполненных значений, которые затрудняют анализ. Для части из них стоит внедрить процесс автозаполнения: в половине случаев не указано клочиство балконов, значит следует автоматически заполнить ячейку значением \"0\"; имеются таже существенное количество пропусков в жилой площади и площади кухни. Возможно, необходимо сделать эти поля обязательными для заполнения, либо заполнять их автоматически на основании номера проекта или года постройки дома. Также стоит сделать контекстный выбор из двух значений при указании, является ли жилплощадь апартаментами(только варианты \"да\" или \"нет\"); если продавец не указывает высоту потолка, значит она стандртная - автоматически ставить значение \"2,65\". Большие вопросы таже вызывает система автоматического заполнения ячеек по геолокации: расстояние до ближайшего аэропорта не указано в 23% случаев, до ближайшего парка - 66%, до ближайшего водоёма - 62%. Систему следует доработать. Возможно, увеличить радиус поиска. Если в радиусе 3 км таких объектов не обнаружено - проставлять значение 0 в колонках с их количеством, а не оставлять пустое значение."
   ]
  }
 ],
 "metadata": {
  "ExecuteTimeLog": [
   {
    "duration": 1172,
    "start_time": "2024-02-10T18:32:11.648Z"
   },
   {
    "duration": 30,
    "start_time": "2024-02-10T18:32:12.823Z"
   },
   {
    "duration": 16,
    "start_time": "2024-02-10T18:32:12.854Z"
   },
   {
    "duration": 2331,
    "start_time": "2024-02-10T18:32:12.872Z"
   },
   {
    "duration": 20,
    "start_time": "2024-02-10T18:32:15.205Z"
   },
   {
    "duration": 43,
    "start_time": "2024-02-10T18:32:15.227Z"
   },
   {
    "duration": 11,
    "start_time": "2024-02-10T18:32:15.272Z"
   },
   {
    "duration": 49,
    "start_time": "2024-02-10T18:32:15.285Z"
   },
   {
    "duration": 18,
    "start_time": "2024-02-10T18:32:15.335Z"
   },
   {
    "duration": 4,
    "start_time": "2024-02-10T18:32:15.356Z"
   },
   {
    "duration": 20,
    "start_time": "2024-02-10T18:32:15.361Z"
   },
   {
    "duration": 18,
    "start_time": "2024-02-10T18:32:15.382Z"
   },
   {
    "duration": 11,
    "start_time": "2024-02-10T18:32:15.402Z"
   },
   {
    "duration": 15,
    "start_time": "2024-02-10T18:32:15.415Z"
   },
   {
    "duration": 128,
    "start_time": "2024-02-10T18:32:15.431Z"
   },
   {
    "duration": 7,
    "start_time": "2024-02-10T18:32:15.561Z"
   },
   {
    "duration": 8,
    "start_time": "2024-02-10T18:32:15.569Z"
   },
   {
    "duration": 13,
    "start_time": "2024-02-10T18:32:15.579Z"
   },
   {
    "duration": 137,
    "start_time": "2024-02-10T18:32:15.594Z"
   },
   {
    "duration": 10,
    "start_time": "2024-02-10T18:32:15.733Z"
   },
   {
    "duration": 4,
    "start_time": "2024-02-10T18:32:15.745Z"
   },
   {
    "duration": 5,
    "start_time": "2024-02-10T18:32:15.751Z"
   },
   {
    "duration": 5,
    "start_time": "2024-02-10T18:32:15.757Z"
   },
   {
    "duration": 18750,
    "start_time": "2024-02-10T18:32:15.764Z"
   },
   {
    "duration": 10,
    "start_time": "2024-02-10T18:32:34.515Z"
   },
   {
    "duration": 12,
    "start_time": "2024-02-10T18:32:34.526Z"
   },
   {
    "duration": 13,
    "start_time": "2024-02-10T18:32:34.540Z"
   },
   {
    "duration": 16,
    "start_time": "2024-02-10T18:32:34.557Z"
   },
   {
    "duration": 19,
    "start_time": "2024-02-10T18:32:34.575Z"
   },
   {
    "duration": 7,
    "start_time": "2024-02-10T18:32:34.595Z"
   },
   {
    "duration": 203,
    "start_time": "2024-02-10T18:32:34.603Z"
   },
   {
    "duration": 8,
    "start_time": "2024-02-10T18:32:34.808Z"
   },
   {
    "duration": 15,
    "start_time": "2024-02-10T18:32:34.824Z"
   },
   {
    "duration": 5,
    "start_time": "2024-02-10T18:32:34.841Z"
   },
   {
    "duration": 434,
    "start_time": "2024-02-10T18:32:34.848Z"
   },
   {
    "duration": 4,
    "start_time": "2024-02-10T18:32:35.284Z"
   },
   {
    "duration": 243,
    "start_time": "2024-02-10T18:32:35.289Z"
   },
   {
    "duration": 247,
    "start_time": "2024-02-10T18:32:35.534Z"
   },
   {
    "duration": 239,
    "start_time": "2024-02-10T18:32:35.782Z"
   },
   {
    "duration": 207,
    "start_time": "2024-02-10T18:32:36.022Z"
   },
   {
    "duration": 140,
    "start_time": "2024-02-10T18:32:36.231Z"
   },
   {
    "duration": 11,
    "start_time": "2024-02-10T18:32:36.372Z"
   },
   {
    "duration": 216,
    "start_time": "2024-02-10T18:32:36.385Z"
   },
   {
    "duration": 312,
    "start_time": "2024-02-10T18:32:36.603Z"
   },
   {
    "duration": 209,
    "start_time": "2024-02-10T18:32:36.916Z"
   },
   {
    "duration": 212,
    "start_time": "2024-02-10T18:32:37.126Z"
   },
   {
    "duration": 228,
    "start_time": "2024-02-10T18:32:37.339Z"
   },
   {
    "duration": 200,
    "start_time": "2024-02-10T18:32:37.569Z"
   },
   {
    "duration": 214,
    "start_time": "2024-02-10T18:32:37.770Z"
   },
   {
    "duration": 8,
    "start_time": "2024-02-10T18:32:37.986Z"
   },
   {
    "duration": 220,
    "start_time": "2024-02-10T18:32:37.996Z"
   },
   {
    "duration": 8,
    "start_time": "2024-02-10T18:32:38.218Z"
   },
   {
    "duration": 217,
    "start_time": "2024-02-10T18:32:38.227Z"
   },
   {
    "duration": 5,
    "start_time": "2024-02-10T18:32:38.446Z"
   },
   {
    "duration": 211,
    "start_time": "2024-02-10T18:32:38.452Z"
   },
   {
    "duration": 5,
    "start_time": "2024-02-10T18:32:38.664Z"
   },
   {
    "duration": 219,
    "start_time": "2024-02-10T18:32:38.670Z"
   },
   {
    "duration": 5,
    "start_time": "2024-02-10T18:32:38.890Z"
   },
   {
    "duration": 190,
    "start_time": "2024-02-10T18:32:38.897Z"
   },
   {
    "duration": 246,
    "start_time": "2024-02-10T18:32:39.088Z"
   },
   {
    "duration": 5,
    "start_time": "2024-02-10T18:32:39.335Z"
   },
   {
    "duration": 215,
    "start_time": "2024-02-10T18:32:39.342Z"
   },
   {
    "duration": 212,
    "start_time": "2024-02-10T18:32:39.559Z"
   },
   {
    "duration": 212,
    "start_time": "2024-02-10T18:32:39.774Z"
   },
   {
    "duration": 23,
    "start_time": "2024-02-10T18:32:39.988Z"
   },
   {
    "duration": 152,
    "start_time": "2024-02-10T18:32:40.013Z"
   },
   {
    "duration": 185,
    "start_time": "2024-02-10T18:32:40.167Z"
   },
   {
    "duration": 41,
    "start_time": "2024-02-10T18:36:31.803Z"
   },
   {
    "duration": 14,
    "start_time": "2024-02-10T18:36:45.105Z"
   },
   {
    "duration": 17,
    "start_time": "2024-02-10T18:42:52.202Z"
   },
   {
    "duration": 665,
    "start_time": "2024-02-12T17:59:10.082Z"
   },
   {
    "duration": 309,
    "start_time": "2024-02-12T17:59:10.749Z"
   },
   {
    "duration": 27,
    "start_time": "2024-02-12T17:59:11.060Z"
   },
   {
    "duration": 14,
    "start_time": "2024-02-12T17:59:11.089Z"
   },
   {
    "duration": 2160,
    "start_time": "2024-02-12T17:59:11.105Z"
   },
   {
    "duration": 11,
    "start_time": "2024-02-12T17:59:13.267Z"
   },
   {
    "duration": 10,
    "start_time": "2024-02-12T17:59:13.280Z"
   },
   {
    "duration": 5,
    "start_time": "2024-02-12T17:59:13.291Z"
   },
   {
    "duration": 42,
    "start_time": "2024-02-12T17:59:13.298Z"
   },
   {
    "duration": 7,
    "start_time": "2024-02-12T17:59:13.342Z"
   },
   {
    "duration": 8,
    "start_time": "2024-02-12T17:59:13.351Z"
   },
   {
    "duration": 6,
    "start_time": "2024-02-12T17:59:13.361Z"
   },
   {
    "duration": 5,
    "start_time": "2024-02-12T17:59:13.368Z"
   },
   {
    "duration": 10,
    "start_time": "2024-02-12T17:59:13.375Z"
   },
   {
    "duration": 46,
    "start_time": "2024-02-12T17:59:13.386Z"
   },
   {
    "duration": 7,
    "start_time": "2024-02-12T17:59:13.433Z"
   },
   {
    "duration": 6,
    "start_time": "2024-02-12T17:59:13.441Z"
   },
   {
    "duration": 7,
    "start_time": "2024-02-12T17:59:13.448Z"
   },
   {
    "duration": 144,
    "start_time": "2024-02-12T17:59:13.457Z"
   },
   {
    "duration": 19,
    "start_time": "2024-02-12T17:59:13.604Z"
   },
   {
    "duration": 5,
    "start_time": "2024-02-12T17:59:13.625Z"
   },
   {
    "duration": 5,
    "start_time": "2024-02-12T17:59:13.631Z"
   },
   {
    "duration": 12,
    "start_time": "2024-02-12T17:59:13.637Z"
   },
   {
    "duration": 5,
    "start_time": "2024-02-12T17:59:13.651Z"
   },
   {
    "duration": 9,
    "start_time": "2024-02-12T17:59:13.658Z"
   },
   {
    "duration": 10,
    "start_time": "2024-02-12T17:59:13.669Z"
   },
   {
    "duration": 135,
    "start_time": "2024-02-12T17:59:13.680Z"
   },
   {
    "duration": 9,
    "start_time": "2024-02-12T17:59:13.820Z"
   },
   {
    "duration": 17,
    "start_time": "2024-02-12T17:59:13.831Z"
   },
   {
    "duration": 13,
    "start_time": "2024-02-12T17:59:13.849Z"
   },
   {
    "duration": 4,
    "start_time": "2024-02-12T17:59:13.863Z"
   },
   {
    "duration": 19,
    "start_time": "2024-02-12T17:59:13.869Z"
   },
   {
    "duration": 32,
    "start_time": "2024-02-12T17:59:13.889Z"
   },
   {
    "duration": 6,
    "start_time": "2024-02-12T17:59:13.923Z"
   },
   {
    "duration": 175,
    "start_time": "2024-02-12T17:59:13.931Z"
   },
   {
    "duration": 13,
    "start_time": "2024-02-12T17:59:14.107Z"
   },
   {
    "duration": 15,
    "start_time": "2024-02-12T17:59:14.122Z"
   },
   {
    "duration": 16,
    "start_time": "2024-02-12T17:59:14.139Z"
   },
   {
    "duration": 3,
    "start_time": "2024-02-12T17:59:14.157Z"
   },
   {
    "duration": 436,
    "start_time": "2024-02-12T17:59:14.162Z"
   },
   {
    "duration": 4,
    "start_time": "2024-02-12T17:59:14.602Z"
   },
   {
    "duration": 32,
    "start_time": "2024-02-12T17:59:14.607Z"
   },
   {
    "duration": 200,
    "start_time": "2024-02-12T17:59:14.640Z"
   },
   {
    "duration": 10,
    "start_time": "2024-02-12T17:59:14.842Z"
   },
   {
    "duration": 5,
    "start_time": "2024-02-12T17:59:14.853Z"
   },
   {
    "duration": 217,
    "start_time": "2024-02-12T17:59:14.860Z"
   },
   {
    "duration": 9,
    "start_time": "2024-02-12T17:59:15.079Z"
   },
   {
    "duration": 217,
    "start_time": "2024-02-12T17:59:15.090Z"
   },
   {
    "duration": 14,
    "start_time": "2024-02-12T17:59:15.309Z"
   },
   {
    "duration": 218,
    "start_time": "2024-02-12T17:59:15.324Z"
   },
   {
    "duration": 8,
    "start_time": "2024-02-12T17:59:15.544Z"
   },
   {
    "duration": 33,
    "start_time": "2024-02-12T17:59:15.554Z"
   },
   {
    "duration": 7,
    "start_time": "2024-02-12T17:59:15.589Z"
   },
   {
    "duration": 271,
    "start_time": "2024-02-12T17:59:15.597Z"
   },
   {
    "duration": 8,
    "start_time": "2024-02-12T17:59:15.870Z"
   },
   {
    "duration": 198,
    "start_time": "2024-02-12T17:59:15.880Z"
   },
   {
    "duration": 125,
    "start_time": "2024-02-12T17:59:16.080Z"
   },
   {
    "duration": 8,
    "start_time": "2024-02-12T17:59:16.206Z"
   },
   {
    "duration": 192,
    "start_time": "2024-02-12T17:59:16.221Z"
   },
   {
    "duration": 12,
    "start_time": "2024-02-12T17:59:16.415Z"
   },
   {
    "duration": 171,
    "start_time": "2024-02-12T17:59:16.429Z"
   },
   {
    "duration": 8,
    "start_time": "2024-02-12T17:59:16.601Z"
   },
   {
    "duration": 168,
    "start_time": "2024-02-12T17:59:16.610Z"
   },
   {
    "duration": 7,
    "start_time": "2024-02-12T17:59:16.780Z"
   },
   {
    "duration": 208,
    "start_time": "2024-02-12T17:59:16.789Z"
   },
   {
    "duration": 182,
    "start_time": "2024-02-12T17:59:16.998Z"
   },
   {
    "duration": 178,
    "start_time": "2024-02-12T17:59:17.182Z"
   },
   {
    "duration": 183,
    "start_time": "2024-02-12T17:59:17.362Z"
   },
   {
    "duration": 185,
    "start_time": "2024-02-12T17:59:17.546Z"
   },
   {
    "duration": 8,
    "start_time": "2024-02-12T17:59:17.733Z"
   },
   {
    "duration": 303,
    "start_time": "2024-02-12T17:59:17.743Z"
   },
   {
    "duration": 5,
    "start_time": "2024-02-12T17:59:18.048Z"
   },
   {
    "duration": 222,
    "start_time": "2024-02-12T17:59:18.054Z"
   },
   {
    "duration": 5,
    "start_time": "2024-02-12T17:59:18.278Z"
   },
   {
    "duration": 211,
    "start_time": "2024-02-12T17:59:18.285Z"
   },
   {
    "duration": 5,
    "start_time": "2024-02-12T17:59:18.497Z"
   },
   {
    "duration": 166,
    "start_time": "2024-02-12T17:59:18.503Z"
   },
   {
    "duration": 129,
    "start_time": "2024-02-12T17:59:18.670Z"
   },
   {
    "duration": 224,
    "start_time": "2024-02-12T17:59:18.801Z"
   },
   {
    "duration": 5,
    "start_time": "2024-02-12T17:59:19.027Z"
   },
   {
    "duration": 134,
    "start_time": "2024-02-12T17:59:19.033Z"
   },
   {
    "duration": 175,
    "start_time": "2024-02-12T17:59:19.169Z"
   },
   {
    "duration": 132,
    "start_time": "2024-02-12T17:59:19.345Z"
   },
   {
    "duration": 23,
    "start_time": "2024-02-12T17:59:19.478Z"
   },
   {
    "duration": 27,
    "start_time": "2024-02-12T17:59:19.502Z"
   },
   {
    "duration": 149,
    "start_time": "2024-02-12T17:59:19.531Z"
   },
   {
    "duration": 25,
    "start_time": "2024-02-12T17:59:19.682Z"
   },
   {
    "duration": 37,
    "start_time": "2024-02-12T17:59:19.708Z"
   },
   {
    "duration": 72,
    "start_time": "2024-02-12T18:02:01.904Z"
   },
   {
    "duration": 8,
    "start_time": "2024-02-12T18:05:00.432Z"
   },
   {
    "duration": 33,
    "start_time": "2024-02-12T18:05:32.945Z"
   }
  ],
  "kernelspec": {
   "display_name": "Python 3 (ipykernel)",
   "language": "python",
   "name": "python3"
  },
  "language_info": {
   "codemirror_mode": {
    "name": "ipython",
    "version": 3
   },
   "file_extension": ".py",
   "mimetype": "text/x-python",
   "name": "python",
   "nbconvert_exporter": "python",
   "pygments_lexer": "ipython3",
   "version": "3.9.19"
  },
  "toc": {
   "base_numbering": 1,
   "nav_menu": {},
   "number_sections": true,
   "sideBar": true,
   "skip_h1_title": true,
   "title_cell": "Table of Contents",
   "title_sidebar": "Contents",
   "toc_cell": false,
   "toc_position": {},
   "toc_section_display": true,
   "toc_window_display": true
  }
 },
 "nbformat": 4,
 "nbformat_minor": 5
}
