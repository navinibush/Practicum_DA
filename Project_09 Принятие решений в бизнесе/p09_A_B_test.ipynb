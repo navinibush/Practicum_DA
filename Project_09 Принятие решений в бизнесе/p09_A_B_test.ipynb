{
 "cells": [
  {
   "cell_type": "markdown",
   "id": "040d6352-4f0f-4ecb-929c-ad60d3648150",
   "metadata": {},
   "source": [
    "# Принятие решений в бизнесе.\n",
    "\n",
    "<u>**Цель: Приоритизировать гипотезы, запустить A/B-тест и проанализировать результаты**</u>\n",
    "\n",
    "**Описание данных.**\n",
    "\n",
    "**Файл \"Гипотезы\":**\n",
    "- `Hypothesis` - краткое описание гипотезы;\n",
    "- `Reach` - охват пользователей по 10-балльной шкале;\n",
    "- `Impact` -  влияние на пользователей по 10-балльной шкале;\n",
    "- `Confidence` - уверенность в гипотезе по 10-балльной шкале;\n",
    "- `Efforts` - затраты ресурсов на проверку гипотезы по 10-балльной шкале. Чем больше значение Efforts, тем дороже проверка гипотезы.\n",
    "\n",
    "**Файл \"Заказы\":**\n",
    "- `transactionId` -  идентификатор заказа;\n",
    "- `visitorId` - идентификатор пользователя, совершившего заказ;\n",
    "- `date` - дата, когда был совершён заказ;\n",
    "- `revenue` -  выручка заказа;\n",
    "- `group` -  группа A/B-теста, в которую попал заказ.\n",
    "\n",
    "**Файл \"Посетители\":**\n",
    "- `date` - дата;\n",
    "- `group` - группа A/B-теста;\n",
    "- `visitors` - количество пользователей в указанную дату в указанной группе A/B-теста.\n",
    "\n",
    "**План работы.**\n",
    "- провести предобработку данных;\n",
    "- провести приоритизицию гипотез;\n",
    "- Провести анализ А/В-теста;\n",
    "- Сделать выводы и дать рекомендации."
   ]
  },
  {
   "cell_type": "markdown",
   "id": "c16dfac8-49be-40ec-b584-a620290fdd42",
   "metadata": {},
   "source": [
    "##  Загрузка данных и подготовка к анализу."
   ]
  },
  {
   "cell_type": "markdown",
   "id": "aec3cadc-758e-4c0b-99a6-e8688c404b67",
   "metadata": {},
   "source": [
    "###  Подключаем библиотеки и открываем датафреймы"
   ]
  },
  {
   "cell_type": "code",
   "execution_count": 1,
   "id": "f948845c-577b-4a1a-915d-2a291e69bee4",
   "metadata": {},
   "outputs": [],
   "source": [
    "#подключаем библиотеки\n",
    "import pandas as pd\n",
    "import matplotlib.pyplot as plt\n",
    "import numpy as np\n",
    "import datetime as dt\n",
    "from scipy import stats as st"
   ]
  },
  {
   "cell_type": "code",
   "execution_count": 2,
   "id": "0de3d641-b10a-4393-954f-c9c0d6087bdc",
   "metadata": {},
   "outputs": [],
   "source": [
    "#открываем файлы\n",
    "try:\n",
    "    hypothesis = pd.read_csv('/datasets/hypothesis.csv')\n",
    "    orders = pd.read_csv('/datasets/orders.csv', parse_dates=['date'], dayfirst=True)\n",
    "    visitors = pd.read_csv('/datasets/visitors.csv', parse_dates=['date'], dayfirst=True)\n",
    "except:\n",
    "    hypothesis = pd.read_csv('C:\\\\Users\\\\ignat\\\\OneDrive\\\\Рабочий стол\\\\Аналитик Практикум\\\\Принятие решений в бизнесе\\\\hypothesis.csv')\n",
    "    orders = pd.read_csv('C:\\\\Users\\\\ignat\\\\OneDrive\\\\Рабочий стол\\\\Аналитик Практикум\\\\Принятие решений в бизнесе\\\\orders.csv',\n",
    "                        parse_dates=['date'], dayfirst=True)\n",
    "    visitors = pd.read_csv('C:\\\\Users\\\\ignat\\\\OneDrive\\\\Рабочий стол\\\\Аналитик Практикум\\\\Принятие решений в бизнесе\\\\visitors.csv',\n",
    "                       parse_dates=['date'], dayfirst=True)"
   ]
  },
  {
   "cell_type": "markdown",
   "id": "b7af8288-2b7f-4b3f-8287-8e67b8ced16a",
   "metadata": {},
   "source": [
    "###  Выгружаем первые строки и информацию о датафреймах."
   ]
  },
  {
   "cell_type": "markdown",
   "id": "e542eda7-2c1e-4210-9adf-8e8e85ca3b8b",
   "metadata": {},
   "source": [
    "Для облегчения кода создадим фунцию для просмотра информации."
   ]
  },
  {
   "cell_type": "code",
   "execution_count": 3,
   "id": "fbcba8b0-58fc-4fa6-bbb2-15161e133da7",
   "metadata": {},
   "outputs": [],
   "source": [
    "def summary(dataset):\n",
    "    '''\n",
    "    Выводит первые строки датасета и информацию о нём\n",
    "    '''\n",
    "    display(dataset.head(10))\n",
    "    print('*'*50)\n",
    "    dataset.info()\n",
    "    print('*'*50)\n",
    "    display(dataset.isna().sum())"
   ]
  },
  {
   "cell_type": "code",
   "execution_count": 4,
   "id": "df87bd6a-30c0-4231-8c69-dbed14bb7bbe",
   "metadata": {},
   "outputs": [
    {
     "data": {
      "text/html": [
       "<div>\n",
       "<style scoped>\n",
       "    .dataframe tbody tr th:only-of-type {\n",
       "        vertical-align: middle;\n",
       "    }\n",
       "\n",
       "    .dataframe tbody tr th {\n",
       "        vertical-align: top;\n",
       "    }\n",
       "\n",
       "    .dataframe thead th {\n",
       "        text-align: right;\n",
       "    }\n",
       "</style>\n",
       "<table border=\"1\" class=\"dataframe\">\n",
       "  <thead>\n",
       "    <tr style=\"text-align: right;\">\n",
       "      <th></th>\n",
       "      <th>Hypothesis</th>\n",
       "      <th>Reach</th>\n",
       "      <th>Impact</th>\n",
       "      <th>Confidence</th>\n",
       "      <th>Efforts</th>\n",
       "    </tr>\n",
       "  </thead>\n",
       "  <tbody>\n",
       "    <tr>\n",
       "      <th>0</th>\n",
       "      <td>Добавить два новых канала привлечения трафика,...</td>\n",
       "      <td>3</td>\n",
       "      <td>10</td>\n",
       "      <td>8</td>\n",
       "      <td>6</td>\n",
       "    </tr>\n",
       "    <tr>\n",
       "      <th>1</th>\n",
       "      <td>Запустить собственную службу доставки, что сок...</td>\n",
       "      <td>2</td>\n",
       "      <td>5</td>\n",
       "      <td>4</td>\n",
       "      <td>10</td>\n",
       "    </tr>\n",
       "    <tr>\n",
       "      <th>2</th>\n",
       "      <td>Добавить блоки рекомендаций товаров на сайт ин...</td>\n",
       "      <td>8</td>\n",
       "      <td>3</td>\n",
       "      <td>7</td>\n",
       "      <td>3</td>\n",
       "    </tr>\n",
       "    <tr>\n",
       "      <th>3</th>\n",
       "      <td>Изменить структура категорий, что увеличит кон...</td>\n",
       "      <td>8</td>\n",
       "      <td>3</td>\n",
       "      <td>3</td>\n",
       "      <td>8</td>\n",
       "    </tr>\n",
       "    <tr>\n",
       "      <th>4</th>\n",
       "      <td>Изменить цвет фона главной страницы, чтобы уве...</td>\n",
       "      <td>3</td>\n",
       "      <td>1</td>\n",
       "      <td>1</td>\n",
       "      <td>1</td>\n",
       "    </tr>\n",
       "    <tr>\n",
       "      <th>5</th>\n",
       "      <td>Добавить страницу отзывов клиентов о магазине,...</td>\n",
       "      <td>3</td>\n",
       "      <td>2</td>\n",
       "      <td>2</td>\n",
       "      <td>3</td>\n",
       "    </tr>\n",
       "    <tr>\n",
       "      <th>6</th>\n",
       "      <td>Показать на главной странице баннеры с актуаль...</td>\n",
       "      <td>5</td>\n",
       "      <td>3</td>\n",
       "      <td>8</td>\n",
       "      <td>3</td>\n",
       "    </tr>\n",
       "    <tr>\n",
       "      <th>7</th>\n",
       "      <td>Добавить форму подписки на все основные страни...</td>\n",
       "      <td>10</td>\n",
       "      <td>7</td>\n",
       "      <td>8</td>\n",
       "      <td>5</td>\n",
       "    </tr>\n",
       "    <tr>\n",
       "      <th>8</th>\n",
       "      <td>Запустить акцию, дающую скидку на товар в день...</td>\n",
       "      <td>1</td>\n",
       "      <td>9</td>\n",
       "      <td>9</td>\n",
       "      <td>5</td>\n",
       "    </tr>\n",
       "  </tbody>\n",
       "</table>\n",
       "</div>"
      ],
      "text/plain": [
       "                                          Hypothesis  Reach  Impact  \\\n",
       "0  Добавить два новых канала привлечения трафика,...      3      10   \n",
       "1  Запустить собственную службу доставки, что сок...      2       5   \n",
       "2  Добавить блоки рекомендаций товаров на сайт ин...      8       3   \n",
       "3  Изменить структура категорий, что увеличит кон...      8       3   \n",
       "4  Изменить цвет фона главной страницы, чтобы уве...      3       1   \n",
       "5  Добавить страницу отзывов клиентов о магазине,...      3       2   \n",
       "6  Показать на главной странице баннеры с актуаль...      5       3   \n",
       "7  Добавить форму подписки на все основные страни...     10       7   \n",
       "8  Запустить акцию, дающую скидку на товар в день...      1       9   \n",
       "\n",
       "   Confidence  Efforts  \n",
       "0           8        6  \n",
       "1           4       10  \n",
       "2           7        3  \n",
       "3           3        8  \n",
       "4           1        1  \n",
       "5           2        3  \n",
       "6           8        3  \n",
       "7           8        5  \n",
       "8           9        5  "
      ]
     },
     "metadata": {},
     "output_type": "display_data"
    },
    {
     "name": "stdout",
     "output_type": "stream",
     "text": [
      "**************************************************\n",
      "<class 'pandas.core.frame.DataFrame'>\n",
      "RangeIndex: 9 entries, 0 to 8\n",
      "Data columns (total 5 columns):\n",
      " #   Column      Non-Null Count  Dtype \n",
      "---  ------      --------------  ----- \n",
      " 0   Hypothesis  9 non-null      object\n",
      " 1   Reach       9 non-null      int64 \n",
      " 2   Impact      9 non-null      int64 \n",
      " 3   Confidence  9 non-null      int64 \n",
      " 4   Efforts     9 non-null      int64 \n",
      "dtypes: int64(4), object(1)\n",
      "memory usage: 488.0+ bytes\n",
      "**************************************************\n"
     ]
    },
    {
     "data": {
      "text/plain": [
       "Hypothesis    0\n",
       "Reach         0\n",
       "Impact        0\n",
       "Confidence    0\n",
       "Efforts       0\n",
       "dtype: int64"
      ]
     },
     "metadata": {},
     "output_type": "display_data"
    }
   ],
   "source": [
    "#гипотезы. Информация\n",
    "summary(hypothesis)"
   ]
  },
  {
   "cell_type": "code",
   "execution_count": 5,
   "id": "cff82885-c2da-4298-89ce-853966815598",
   "metadata": {},
   "outputs": [
    {
     "data": {
      "text/html": [
       "<div>\n",
       "<style scoped>\n",
       "    .dataframe tbody tr th:only-of-type {\n",
       "        vertical-align: middle;\n",
       "    }\n",
       "\n",
       "    .dataframe tbody tr th {\n",
       "        vertical-align: top;\n",
       "    }\n",
       "\n",
       "    .dataframe thead th {\n",
       "        text-align: right;\n",
       "    }\n",
       "</style>\n",
       "<table border=\"1\" class=\"dataframe\">\n",
       "  <thead>\n",
       "    <tr style=\"text-align: right;\">\n",
       "      <th></th>\n",
       "      <th>transactionId</th>\n",
       "      <th>visitorId</th>\n",
       "      <th>date</th>\n",
       "      <th>revenue</th>\n",
       "      <th>group</th>\n",
       "    </tr>\n",
       "  </thead>\n",
       "  <tbody>\n",
       "    <tr>\n",
       "      <th>0</th>\n",
       "      <td>3667963787</td>\n",
       "      <td>3312258926</td>\n",
       "      <td>2019-08-15</td>\n",
       "      <td>1650</td>\n",
       "      <td>B</td>\n",
       "    </tr>\n",
       "    <tr>\n",
       "      <th>1</th>\n",
       "      <td>2804400009</td>\n",
       "      <td>3642806036</td>\n",
       "      <td>2019-08-15</td>\n",
       "      <td>730</td>\n",
       "      <td>B</td>\n",
       "    </tr>\n",
       "    <tr>\n",
       "      <th>2</th>\n",
       "      <td>2961555356</td>\n",
       "      <td>4069496402</td>\n",
       "      <td>2019-08-15</td>\n",
       "      <td>400</td>\n",
       "      <td>A</td>\n",
       "    </tr>\n",
       "    <tr>\n",
       "      <th>3</th>\n",
       "      <td>3797467345</td>\n",
       "      <td>1196621759</td>\n",
       "      <td>2019-08-15</td>\n",
       "      <td>9759</td>\n",
       "      <td>B</td>\n",
       "    </tr>\n",
       "    <tr>\n",
       "      <th>4</th>\n",
       "      <td>2282983706</td>\n",
       "      <td>2322279887</td>\n",
       "      <td>2019-08-15</td>\n",
       "      <td>2308</td>\n",
       "      <td>B</td>\n",
       "    </tr>\n",
       "    <tr>\n",
       "      <th>5</th>\n",
       "      <td>182168103</td>\n",
       "      <td>935554773</td>\n",
       "      <td>2019-08-15</td>\n",
       "      <td>2210</td>\n",
       "      <td>B</td>\n",
       "    </tr>\n",
       "    <tr>\n",
       "      <th>6</th>\n",
       "      <td>398296753</td>\n",
       "      <td>2900797465</td>\n",
       "      <td>2019-08-15</td>\n",
       "      <td>1860</td>\n",
       "      <td>B</td>\n",
       "    </tr>\n",
       "    <tr>\n",
       "      <th>7</th>\n",
       "      <td>2626614568</td>\n",
       "      <td>78758296</td>\n",
       "      <td>2019-08-15</td>\n",
       "      <td>1044</td>\n",
       "      <td>A</td>\n",
       "    </tr>\n",
       "    <tr>\n",
       "      <th>8</th>\n",
       "      <td>1576988021</td>\n",
       "      <td>295230930</td>\n",
       "      <td>2019-08-15</td>\n",
       "      <td>13710</td>\n",
       "      <td>A</td>\n",
       "    </tr>\n",
       "    <tr>\n",
       "      <th>9</th>\n",
       "      <td>1506739906</td>\n",
       "      <td>1882260405</td>\n",
       "      <td>2019-08-15</td>\n",
       "      <td>1855</td>\n",
       "      <td>B</td>\n",
       "    </tr>\n",
       "  </tbody>\n",
       "</table>\n",
       "</div>"
      ],
      "text/plain": [
       "   transactionId   visitorId       date  revenue group\n",
       "0     3667963787  3312258926 2019-08-15     1650     B\n",
       "1     2804400009  3642806036 2019-08-15      730     B\n",
       "2     2961555356  4069496402 2019-08-15      400     A\n",
       "3     3797467345  1196621759 2019-08-15     9759     B\n",
       "4     2282983706  2322279887 2019-08-15     2308     B\n",
       "5      182168103   935554773 2019-08-15     2210     B\n",
       "6      398296753  2900797465 2019-08-15     1860     B\n",
       "7     2626614568    78758296 2019-08-15     1044     A\n",
       "8     1576988021   295230930 2019-08-15    13710     A\n",
       "9     1506739906  1882260405 2019-08-15     1855     B"
      ]
     },
     "metadata": {},
     "output_type": "display_data"
    },
    {
     "name": "stdout",
     "output_type": "stream",
     "text": [
      "**************************************************\n",
      "<class 'pandas.core.frame.DataFrame'>\n",
      "RangeIndex: 1197 entries, 0 to 1196\n",
      "Data columns (total 5 columns):\n",
      " #   Column         Non-Null Count  Dtype         \n",
      "---  ------         --------------  -----         \n",
      " 0   transactionId  1197 non-null   int64         \n",
      " 1   visitorId      1197 non-null   int64         \n",
      " 2   date           1197 non-null   datetime64[ns]\n",
      " 3   revenue        1197 non-null   int64         \n",
      " 4   group          1197 non-null   object        \n",
      "dtypes: datetime64[ns](1), int64(3), object(1)\n",
      "memory usage: 46.9+ KB\n",
      "**************************************************\n"
     ]
    },
    {
     "data": {
      "text/plain": [
       "transactionId    0\n",
       "visitorId        0\n",
       "date             0\n",
       "revenue          0\n",
       "group            0\n",
       "dtype: int64"
      ]
     },
     "metadata": {},
     "output_type": "display_data"
    }
   ],
   "source": [
    "#заказы. Информация\n",
    "summary(orders)"
   ]
  },
  {
   "cell_type": "code",
   "execution_count": 6,
   "id": "5ad49498-ed1b-409c-bc6a-c6725461100f",
   "metadata": {},
   "outputs": [
    {
     "data": {
      "text/html": [
       "<div>\n",
       "<style scoped>\n",
       "    .dataframe tbody tr th:only-of-type {\n",
       "        vertical-align: middle;\n",
       "    }\n",
       "\n",
       "    .dataframe tbody tr th {\n",
       "        vertical-align: top;\n",
       "    }\n",
       "\n",
       "    .dataframe thead th {\n",
       "        text-align: right;\n",
       "    }\n",
       "</style>\n",
       "<table border=\"1\" class=\"dataframe\">\n",
       "  <thead>\n",
       "    <tr style=\"text-align: right;\">\n",
       "      <th></th>\n",
       "      <th>date</th>\n",
       "      <th>group</th>\n",
       "      <th>visitors</th>\n",
       "    </tr>\n",
       "  </thead>\n",
       "  <tbody>\n",
       "    <tr>\n",
       "      <th>0</th>\n",
       "      <td>2019-08-01</td>\n",
       "      <td>A</td>\n",
       "      <td>719</td>\n",
       "    </tr>\n",
       "    <tr>\n",
       "      <th>1</th>\n",
       "      <td>2019-08-02</td>\n",
       "      <td>A</td>\n",
       "      <td>619</td>\n",
       "    </tr>\n",
       "    <tr>\n",
       "      <th>2</th>\n",
       "      <td>2019-08-03</td>\n",
       "      <td>A</td>\n",
       "      <td>507</td>\n",
       "    </tr>\n",
       "    <tr>\n",
       "      <th>3</th>\n",
       "      <td>2019-08-04</td>\n",
       "      <td>A</td>\n",
       "      <td>717</td>\n",
       "    </tr>\n",
       "    <tr>\n",
       "      <th>4</th>\n",
       "      <td>2019-08-05</td>\n",
       "      <td>A</td>\n",
       "      <td>756</td>\n",
       "    </tr>\n",
       "    <tr>\n",
       "      <th>5</th>\n",
       "      <td>2019-08-06</td>\n",
       "      <td>A</td>\n",
       "      <td>667</td>\n",
       "    </tr>\n",
       "    <tr>\n",
       "      <th>6</th>\n",
       "      <td>2019-08-07</td>\n",
       "      <td>A</td>\n",
       "      <td>644</td>\n",
       "    </tr>\n",
       "    <tr>\n",
       "      <th>7</th>\n",
       "      <td>2019-08-08</td>\n",
       "      <td>A</td>\n",
       "      <td>610</td>\n",
       "    </tr>\n",
       "    <tr>\n",
       "      <th>8</th>\n",
       "      <td>2019-08-09</td>\n",
       "      <td>A</td>\n",
       "      <td>617</td>\n",
       "    </tr>\n",
       "    <tr>\n",
       "      <th>9</th>\n",
       "      <td>2019-08-10</td>\n",
       "      <td>A</td>\n",
       "      <td>406</td>\n",
       "    </tr>\n",
       "  </tbody>\n",
       "</table>\n",
       "</div>"
      ],
      "text/plain": [
       "        date group  visitors\n",
       "0 2019-08-01     A       719\n",
       "1 2019-08-02     A       619\n",
       "2 2019-08-03     A       507\n",
       "3 2019-08-04     A       717\n",
       "4 2019-08-05     A       756\n",
       "5 2019-08-06     A       667\n",
       "6 2019-08-07     A       644\n",
       "7 2019-08-08     A       610\n",
       "8 2019-08-09     A       617\n",
       "9 2019-08-10     A       406"
      ]
     },
     "metadata": {},
     "output_type": "display_data"
    },
    {
     "name": "stdout",
     "output_type": "stream",
     "text": [
      "**************************************************\n",
      "<class 'pandas.core.frame.DataFrame'>\n",
      "RangeIndex: 62 entries, 0 to 61\n",
      "Data columns (total 3 columns):\n",
      " #   Column    Non-Null Count  Dtype         \n",
      "---  ------    --------------  -----         \n",
      " 0   date      62 non-null     datetime64[ns]\n",
      " 1   group     62 non-null     object        \n",
      " 2   visitors  62 non-null     int64         \n",
      "dtypes: datetime64[ns](1), int64(1), object(1)\n",
      "memory usage: 1.6+ KB\n",
      "**************************************************\n"
     ]
    },
    {
     "data": {
      "text/plain": [
       "date        0\n",
       "group       0\n",
       "visitors    0\n",
       "dtype: int64"
      ]
     },
     "metadata": {},
     "output_type": "display_data"
    }
   ],
   "source": [
    "#посетители. Информация\n",
    "summary(visitors)"
   ]
  },
  {
   "cell_type": "markdown",
   "id": "2dfa6727-bde1-4da0-a224-f736de3492bb",
   "metadata": {},
   "source": [
    "**Вывод:** Для проведения работы предоставлено 3 файла. Файл с гипотезами содержит 9 строк и 9 гипотез соответственно. Файл \"orders\" содержит информацию о заказах, а файл \"visitors\" суммарное количество посетителей на каждую дату. Формат даты преобразовался корректно во время выгрузки там, где это необходимо. Остальные форматы данных правильные и в исправлении не нуждаются. Пропусков в данных нет. Стоит преобразовать имена столбцов к общепринятому змеиному стилю. Также необходимо определить временные рамки проводимого эксперимента и проверить наличие дубликатов."
   ]
  },
  {
   "cell_type": "code",
   "execution_count": 7,
   "id": "c71e7b8e-f39d-4e84-85bb-39cfe20b5a48",
   "metadata": {},
   "outputs": [],
   "source": [
    "#приводим названия к нижнему регистру и змеиному виду\n",
    "hypothesis.columns = hypothesis.columns.str.lower()\n",
    "orders = orders.rename(columns={'transactionId': 'transaction_id', 'visitorId': 'visitor_id'})"
   ]
  },
  {
   "cell_type": "markdown",
   "id": "0bdf2eac-e95d-4565-9414-1c2ec7c3c180",
   "metadata": {},
   "source": [
    "Проверим, что всё прошло корректно, данные не пострадали и пропуски не появились."
   ]
  },
  {
   "cell_type": "code",
   "execution_count": 8,
   "id": "1d86f5c7-51fd-4e10-a446-7453cf307b87",
   "metadata": {},
   "outputs": [
    {
     "data": {
      "text/html": [
       "<div>\n",
       "<style scoped>\n",
       "    .dataframe tbody tr th:only-of-type {\n",
       "        vertical-align: middle;\n",
       "    }\n",
       "\n",
       "    .dataframe tbody tr th {\n",
       "        vertical-align: top;\n",
       "    }\n",
       "\n",
       "    .dataframe thead th {\n",
       "        text-align: right;\n",
       "    }\n",
       "</style>\n",
       "<table border=\"1\" class=\"dataframe\">\n",
       "  <thead>\n",
       "    <tr style=\"text-align: right;\">\n",
       "      <th></th>\n",
       "      <th>hypothesis</th>\n",
       "      <th>reach</th>\n",
       "      <th>impact</th>\n",
       "      <th>confidence</th>\n",
       "      <th>efforts</th>\n",
       "    </tr>\n",
       "  </thead>\n",
       "  <tbody>\n",
       "    <tr>\n",
       "      <th>0</th>\n",
       "      <td>Добавить два новых канала привлечения трафика,...</td>\n",
       "      <td>3</td>\n",
       "      <td>10</td>\n",
       "      <td>8</td>\n",
       "      <td>6</td>\n",
       "    </tr>\n",
       "    <tr>\n",
       "      <th>1</th>\n",
       "      <td>Запустить собственную службу доставки, что сок...</td>\n",
       "      <td>2</td>\n",
       "      <td>5</td>\n",
       "      <td>4</td>\n",
       "      <td>10</td>\n",
       "    </tr>\n",
       "    <tr>\n",
       "      <th>2</th>\n",
       "      <td>Добавить блоки рекомендаций товаров на сайт ин...</td>\n",
       "      <td>8</td>\n",
       "      <td>3</td>\n",
       "      <td>7</td>\n",
       "      <td>3</td>\n",
       "    </tr>\n",
       "    <tr>\n",
       "      <th>3</th>\n",
       "      <td>Изменить структура категорий, что увеличит кон...</td>\n",
       "      <td>8</td>\n",
       "      <td>3</td>\n",
       "      <td>3</td>\n",
       "      <td>8</td>\n",
       "    </tr>\n",
       "    <tr>\n",
       "      <th>4</th>\n",
       "      <td>Изменить цвет фона главной страницы, чтобы уве...</td>\n",
       "      <td>3</td>\n",
       "      <td>1</td>\n",
       "      <td>1</td>\n",
       "      <td>1</td>\n",
       "    </tr>\n",
       "    <tr>\n",
       "      <th>5</th>\n",
       "      <td>Добавить страницу отзывов клиентов о магазине,...</td>\n",
       "      <td>3</td>\n",
       "      <td>2</td>\n",
       "      <td>2</td>\n",
       "      <td>3</td>\n",
       "    </tr>\n",
       "    <tr>\n",
       "      <th>6</th>\n",
       "      <td>Показать на главной странице баннеры с актуаль...</td>\n",
       "      <td>5</td>\n",
       "      <td>3</td>\n",
       "      <td>8</td>\n",
       "      <td>3</td>\n",
       "    </tr>\n",
       "    <tr>\n",
       "      <th>7</th>\n",
       "      <td>Добавить форму подписки на все основные страни...</td>\n",
       "      <td>10</td>\n",
       "      <td>7</td>\n",
       "      <td>8</td>\n",
       "      <td>5</td>\n",
       "    </tr>\n",
       "    <tr>\n",
       "      <th>8</th>\n",
       "      <td>Запустить акцию, дающую скидку на товар в день...</td>\n",
       "      <td>1</td>\n",
       "      <td>9</td>\n",
       "      <td>9</td>\n",
       "      <td>5</td>\n",
       "    </tr>\n",
       "  </tbody>\n",
       "</table>\n",
       "</div>"
      ],
      "text/plain": [
       "                                          hypothesis  reach  impact  \\\n",
       "0  Добавить два новых канала привлечения трафика,...      3      10   \n",
       "1  Запустить собственную службу доставки, что сок...      2       5   \n",
       "2  Добавить блоки рекомендаций товаров на сайт ин...      8       3   \n",
       "3  Изменить структура категорий, что увеличит кон...      8       3   \n",
       "4  Изменить цвет фона главной страницы, чтобы уве...      3       1   \n",
       "5  Добавить страницу отзывов клиентов о магазине,...      3       2   \n",
       "6  Показать на главной странице баннеры с актуаль...      5       3   \n",
       "7  Добавить форму подписки на все основные страни...     10       7   \n",
       "8  Запустить акцию, дающую скидку на товар в день...      1       9   \n",
       "\n",
       "   confidence  efforts  \n",
       "0           8        6  \n",
       "1           4       10  \n",
       "2           7        3  \n",
       "3           3        8  \n",
       "4           1        1  \n",
       "5           2        3  \n",
       "6           8        3  \n",
       "7           8        5  \n",
       "8           9        5  "
      ]
     },
     "metadata": {},
     "output_type": "display_data"
    },
    {
     "name": "stdout",
     "output_type": "stream",
     "text": [
      "**************************************************\n",
      "<class 'pandas.core.frame.DataFrame'>\n",
      "RangeIndex: 9 entries, 0 to 8\n",
      "Data columns (total 5 columns):\n",
      " #   Column      Non-Null Count  Dtype \n",
      "---  ------      --------------  ----- \n",
      " 0   hypothesis  9 non-null      object\n",
      " 1   reach       9 non-null      int64 \n",
      " 2   impact      9 non-null      int64 \n",
      " 3   confidence  9 non-null      int64 \n",
      " 4   efforts     9 non-null      int64 \n",
      "dtypes: int64(4), object(1)\n",
      "memory usage: 488.0+ bytes\n",
      "**************************************************\n"
     ]
    },
    {
     "data": {
      "text/plain": [
       "hypothesis    0\n",
       "reach         0\n",
       "impact        0\n",
       "confidence    0\n",
       "efforts       0\n",
       "dtype: int64"
      ]
     },
     "metadata": {},
     "output_type": "display_data"
    }
   ],
   "source": [
    "#гипотезы. Информация\n",
    "summary(hypothesis)"
   ]
  },
  {
   "cell_type": "code",
   "execution_count": 9,
   "id": "3cff9673-e277-4366-8b3c-f7e0ae006147",
   "metadata": {},
   "outputs": [
    {
     "data": {
      "text/html": [
       "<div>\n",
       "<style scoped>\n",
       "    .dataframe tbody tr th:only-of-type {\n",
       "        vertical-align: middle;\n",
       "    }\n",
       "\n",
       "    .dataframe tbody tr th {\n",
       "        vertical-align: top;\n",
       "    }\n",
       "\n",
       "    .dataframe thead th {\n",
       "        text-align: right;\n",
       "    }\n",
       "</style>\n",
       "<table border=\"1\" class=\"dataframe\">\n",
       "  <thead>\n",
       "    <tr style=\"text-align: right;\">\n",
       "      <th></th>\n",
       "      <th>transaction_id</th>\n",
       "      <th>visitor_id</th>\n",
       "      <th>date</th>\n",
       "      <th>revenue</th>\n",
       "      <th>group</th>\n",
       "    </tr>\n",
       "  </thead>\n",
       "  <tbody>\n",
       "    <tr>\n",
       "      <th>0</th>\n",
       "      <td>3667963787</td>\n",
       "      <td>3312258926</td>\n",
       "      <td>2019-08-15</td>\n",
       "      <td>1650</td>\n",
       "      <td>B</td>\n",
       "    </tr>\n",
       "    <tr>\n",
       "      <th>1</th>\n",
       "      <td>2804400009</td>\n",
       "      <td>3642806036</td>\n",
       "      <td>2019-08-15</td>\n",
       "      <td>730</td>\n",
       "      <td>B</td>\n",
       "    </tr>\n",
       "    <tr>\n",
       "      <th>2</th>\n",
       "      <td>2961555356</td>\n",
       "      <td>4069496402</td>\n",
       "      <td>2019-08-15</td>\n",
       "      <td>400</td>\n",
       "      <td>A</td>\n",
       "    </tr>\n",
       "    <tr>\n",
       "      <th>3</th>\n",
       "      <td>3797467345</td>\n",
       "      <td>1196621759</td>\n",
       "      <td>2019-08-15</td>\n",
       "      <td>9759</td>\n",
       "      <td>B</td>\n",
       "    </tr>\n",
       "    <tr>\n",
       "      <th>4</th>\n",
       "      <td>2282983706</td>\n",
       "      <td>2322279887</td>\n",
       "      <td>2019-08-15</td>\n",
       "      <td>2308</td>\n",
       "      <td>B</td>\n",
       "    </tr>\n",
       "    <tr>\n",
       "      <th>5</th>\n",
       "      <td>182168103</td>\n",
       "      <td>935554773</td>\n",
       "      <td>2019-08-15</td>\n",
       "      <td>2210</td>\n",
       "      <td>B</td>\n",
       "    </tr>\n",
       "    <tr>\n",
       "      <th>6</th>\n",
       "      <td>398296753</td>\n",
       "      <td>2900797465</td>\n",
       "      <td>2019-08-15</td>\n",
       "      <td>1860</td>\n",
       "      <td>B</td>\n",
       "    </tr>\n",
       "    <tr>\n",
       "      <th>7</th>\n",
       "      <td>2626614568</td>\n",
       "      <td>78758296</td>\n",
       "      <td>2019-08-15</td>\n",
       "      <td>1044</td>\n",
       "      <td>A</td>\n",
       "    </tr>\n",
       "    <tr>\n",
       "      <th>8</th>\n",
       "      <td>1576988021</td>\n",
       "      <td>295230930</td>\n",
       "      <td>2019-08-15</td>\n",
       "      <td>13710</td>\n",
       "      <td>A</td>\n",
       "    </tr>\n",
       "    <tr>\n",
       "      <th>9</th>\n",
       "      <td>1506739906</td>\n",
       "      <td>1882260405</td>\n",
       "      <td>2019-08-15</td>\n",
       "      <td>1855</td>\n",
       "      <td>B</td>\n",
       "    </tr>\n",
       "  </tbody>\n",
       "</table>\n",
       "</div>"
      ],
      "text/plain": [
       "   transaction_id  visitor_id       date  revenue group\n",
       "0      3667963787  3312258926 2019-08-15     1650     B\n",
       "1      2804400009  3642806036 2019-08-15      730     B\n",
       "2      2961555356  4069496402 2019-08-15      400     A\n",
       "3      3797467345  1196621759 2019-08-15     9759     B\n",
       "4      2282983706  2322279887 2019-08-15     2308     B\n",
       "5       182168103   935554773 2019-08-15     2210     B\n",
       "6       398296753  2900797465 2019-08-15     1860     B\n",
       "7      2626614568    78758296 2019-08-15     1044     A\n",
       "8      1576988021   295230930 2019-08-15    13710     A\n",
       "9      1506739906  1882260405 2019-08-15     1855     B"
      ]
     },
     "metadata": {},
     "output_type": "display_data"
    },
    {
     "name": "stdout",
     "output_type": "stream",
     "text": [
      "**************************************************\n",
      "<class 'pandas.core.frame.DataFrame'>\n",
      "RangeIndex: 1197 entries, 0 to 1196\n",
      "Data columns (total 5 columns):\n",
      " #   Column          Non-Null Count  Dtype         \n",
      "---  ------          --------------  -----         \n",
      " 0   transaction_id  1197 non-null   int64         \n",
      " 1   visitor_id      1197 non-null   int64         \n",
      " 2   date            1197 non-null   datetime64[ns]\n",
      " 3   revenue         1197 non-null   int64         \n",
      " 4   group           1197 non-null   object        \n",
      "dtypes: datetime64[ns](1), int64(3), object(1)\n",
      "memory usage: 46.9+ KB\n",
      "**************************************************\n"
     ]
    },
    {
     "data": {
      "text/plain": [
       "transaction_id    0\n",
       "visitor_id        0\n",
       "date              0\n",
       "revenue           0\n",
       "group             0\n",
       "dtype: int64"
      ]
     },
     "metadata": {},
     "output_type": "display_data"
    }
   ],
   "source": [
    "#заказы. Информация\n",
    "summary(orders)"
   ]
  },
  {
   "cell_type": "markdown",
   "id": "3e73666b-5885-46da-9d69-a90a8ed115c2",
   "metadata": {},
   "source": [
    "###  Проверка на наличие дубликатов и определение границ эксперимента."
   ]
  },
  {
   "cell_type": "code",
   "execution_count": 10,
   "id": "b689b898-3c2f-441f-8b93-f98eef78b162",
   "metadata": {},
   "outputs": [
    {
     "data": {
      "text/plain": [
       "0"
      ]
     },
     "execution_count": 10,
     "metadata": {},
     "output_type": "execute_result"
    }
   ],
   "source": [
    "orders.duplicated().sum()"
   ]
  },
  {
   "cell_type": "code",
   "execution_count": 11,
   "id": "63037a30-2c8f-400a-b147-1f84176c5f36",
   "metadata": {},
   "outputs": [
    {
     "data": {
      "text/plain": [
       "0"
      ]
     },
     "execution_count": 11,
     "metadata": {},
     "output_type": "execute_result"
    }
   ],
   "source": [
    "visitors.duplicated().sum()"
   ]
  },
  {
   "cell_type": "code",
   "execution_count": 12,
   "id": "0aa6cf85-e868-4f68-8ccb-7e892afa254f",
   "metadata": {},
   "outputs": [
    {
     "data": {
      "text/plain": [
       "Timestamp('2019-08-01 00:00:00')"
      ]
     },
     "metadata": {},
     "output_type": "display_data"
    },
    {
     "data": {
      "text/plain": [
       "Timestamp('2019-08-31 00:00:00')"
      ]
     },
     "execution_count": 12,
     "metadata": {},
     "output_type": "execute_result"
    }
   ],
   "source": [
    "display (orders['date'].min())\n",
    "orders['date'].max()"
   ]
  },
  {
   "cell_type": "code",
   "execution_count": 13,
   "id": "297e8b77-c3ee-45e5-899c-7d272e2116ae",
   "metadata": {},
   "outputs": [
    {
     "data": {
      "text/plain": [
       "Timestamp('2019-08-01 00:00:00')"
      ]
     },
     "metadata": {},
     "output_type": "display_data"
    },
    {
     "data": {
      "text/plain": [
       "Timestamp('2019-08-31 00:00:00')"
      ]
     },
     "execution_count": 13,
     "metadata": {},
     "output_type": "execute_result"
    }
   ],
   "source": [
    "display (visitors['date'].min())\n",
    "visitors['date'].max()"
   ]
  },
  {
   "cell_type": "markdown",
   "id": "49249f30-6bc3-436f-b196-668e9b2b2c69",
   "metadata": {},
   "source": [
    "**Вывод:** явных дубликатов не обнаружено. Данные о покупках предоставлены за август 2019 года."
   ]
  },
  {
   "cell_type": "markdown",
   "id": "f083bd95-294c-4393-9609-c5e3505a7c81",
   "metadata": {},
   "source": [
    "##   Приоритизация гипотез."
   ]
  },
  {
   "cell_type": "markdown",
   "id": "626cd98d-4a17-46d1-b516-4169ce3eda83",
   "metadata": {},
   "source": [
    "###  Применение фреймворка ICE"
   ]
  },
  {
   "cell_type": "code",
   "execution_count": 14,
   "id": "6a3b4644-17b7-4c0c-99d6-b13e5d35ce43",
   "metadata": {},
   "outputs": [
    {
     "data": {
      "text/html": [
       "<style  type=\"text/css\" >\n",
       "#T_9bf34_row0_col1{\n",
       "            background-color:  #08306b;\n",
       "            color:  #f1f1f1;\n",
       "        }#T_9bf34_row1_col1{\n",
       "            background-color:  #1561a9;\n",
       "            color:  #f1f1f1;\n",
       "        }#T_9bf34_row2_col1{\n",
       "            background-color:  #3686c0;\n",
       "            color:  #000000;\n",
       "        }#T_9bf34_row3_col1{\n",
       "            background-color:  #7cb7da;\n",
       "            color:  #000000;\n",
       "        }#T_9bf34_row4_col1{\n",
       "            background-color:  #95c5df;\n",
       "            color:  #000000;\n",
       "        }#T_9bf34_row5_col1{\n",
       "            background-color:  #eaf3fb;\n",
       "            color:  #000000;\n",
       "        }#T_9bf34_row6_col1{\n",
       "            background-color:  #f3f8fe;\n",
       "            color:  #000000;\n",
       "        }#T_9bf34_row7_col1{\n",
       "            background-color:  #f5fafe;\n",
       "            color:  #000000;\n",
       "        }#T_9bf34_row8_col1{\n",
       "            background-color:  #f7fbff;\n",
       "            color:  #000000;\n",
       "        }</style><table id=\"T_9bf34_\" ><thead>    <tr>        <th class=\"blank level0\" ></th>        <th class=\"col_heading level0 col0\" >hypothesis</th>        <th class=\"col_heading level0 col1\" >ICE</th>    </tr></thead><tbody>\n",
       "                <tr>\n",
       "                        <th id=\"T_9bf34_level0_row0\" class=\"row_heading level0 row0\" >8</th>\n",
       "                        <td id=\"T_9bf34_row0_col0\" class=\"data row0 col0\" >Запустить акцию, дающую скидку на товар в день рождения</td>\n",
       "                        <td id=\"T_9bf34_row0_col1\" class=\"data row0 col1\" >16.200000</td>\n",
       "            </tr>\n",
       "            <tr>\n",
       "                        <th id=\"T_9bf34_level0_row1\" class=\"row_heading level0 row1\" >0</th>\n",
       "                        <td id=\"T_9bf34_row1_col0\" class=\"data row1 col0\" >Добавить два новых канала привлечения трафика, что позволит привлекать на 30% больше пользователей</td>\n",
       "                        <td id=\"T_9bf34_row1_col1\" class=\"data row1 col1\" >13.333333</td>\n",
       "            </tr>\n",
       "            <tr>\n",
       "                        <th id=\"T_9bf34_level0_row2\" class=\"row_heading level0 row2\" >7</th>\n",
       "                        <td id=\"T_9bf34_row2_col0\" class=\"data row2 col0\" >Добавить форму подписки на все основные страницы, чтобы собрать базу клиентов для email-рассылок</td>\n",
       "                        <td id=\"T_9bf34_row2_col1\" class=\"data row2 col1\" >11.200000</td>\n",
       "            </tr>\n",
       "            <tr>\n",
       "                        <th id=\"T_9bf34_level0_row3\" class=\"row_heading level0 row3\" >6</th>\n",
       "                        <td id=\"T_9bf34_row3_col0\" class=\"data row3 col0\" >Показать на главной странице баннеры с актуальными акциями и распродажами, чтобы увеличить конверсию</td>\n",
       "                        <td id=\"T_9bf34_row3_col1\" class=\"data row3 col1\" >8.000000</td>\n",
       "            </tr>\n",
       "            <tr>\n",
       "                        <th id=\"T_9bf34_level0_row4\" class=\"row_heading level0 row4\" >2</th>\n",
       "                        <td id=\"T_9bf34_row4_col0\" class=\"data row4 col0\" >Добавить блоки рекомендаций товаров на сайт интернет магазина, чтобы повысить конверсию и средний чек заказа</td>\n",
       "                        <td id=\"T_9bf34_row4_col1\" class=\"data row4 col1\" >7.000000</td>\n",
       "            </tr>\n",
       "            <tr>\n",
       "                        <th id=\"T_9bf34_level0_row5\" class=\"row_heading level0 row5\" >1</th>\n",
       "                        <td id=\"T_9bf34_row5_col0\" class=\"data row5 col0\" >Запустить собственную службу доставки, что сократит срок доставки заказов</td>\n",
       "                        <td id=\"T_9bf34_row5_col1\" class=\"data row5 col1\" >2.000000</td>\n",
       "            </tr>\n",
       "            <tr>\n",
       "                        <th id=\"T_9bf34_level0_row6\" class=\"row_heading level0 row6\" >5</th>\n",
       "                        <td id=\"T_9bf34_row6_col0\" class=\"data row6 col0\" >Добавить страницу отзывов клиентов о магазине, что позволит увеличить количество заказов</td>\n",
       "                        <td id=\"T_9bf34_row6_col1\" class=\"data row6 col1\" >1.333333</td>\n",
       "            </tr>\n",
       "            <tr>\n",
       "                        <th id=\"T_9bf34_level0_row7\" class=\"row_heading level0 row7\" >3</th>\n",
       "                        <td id=\"T_9bf34_row7_col0\" class=\"data row7 col0\" >Изменить структура категорий, что увеличит конверсию, т.к. пользователи быстрее найдут нужный товар</td>\n",
       "                        <td id=\"T_9bf34_row7_col1\" class=\"data row7 col1\" >1.125000</td>\n",
       "            </tr>\n",
       "            <tr>\n",
       "                        <th id=\"T_9bf34_level0_row8\" class=\"row_heading level0 row8\" >4</th>\n",
       "                        <td id=\"T_9bf34_row8_col0\" class=\"data row8 col0\" >Изменить цвет фона главной страницы, чтобы увеличить вовлеченность пользователей</td>\n",
       "                        <td id=\"T_9bf34_row8_col1\" class=\"data row8 col1\" >1.000000</td>\n",
       "            </tr>\n",
       "    </tbody></table>"
      ],
      "text/plain": [
       "<pandas.io.formats.style.Styler at 0x7fd5edd40490>"
      ]
     },
     "execution_count": 14,
     "metadata": {},
     "output_type": "execute_result"
    }
   ],
   "source": [
    "#считаем ICE по формуле\n",
    "pd.set_option('display.max_colwidth', 150) #строка для отображения информации целиком\n",
    "\n",
    "hypothesis['ICE'] = hypothesis['impact'] * hypothesis['confidence'] / hypothesis['efforts']\n",
    "hypothesis[['hypothesis', 'ICE']].sort_values(by='ICE', ascending=False).style.background_gradient(subset=['ICE'], cmap='Blues')"
   ]
  },
  {
   "cell_type": "markdown",
   "id": "a53827f2-4b5d-43eb-ba7c-b5c85faa3670",
   "metadata": {},
   "source": [
    "**Вывод:** при выборе приоритетной гипотезы методом ICE, первое место занимает гипотеза номер 8: \"Запустить акцию, дающую скидку на товар в день рождения\". Далее расставим приоритеты методом RICE."
   ]
  },
  {
   "cell_type": "markdown",
   "id": "80bba2bf-07eb-405c-9847-03a622223b25",
   "metadata": {},
   "source": [
    "###  Применение фреймворка RICE"
   ]
  },
  {
   "cell_type": "code",
   "execution_count": 15,
   "id": "3d5e8e15-adee-4a04-8331-93ea2a04112d",
   "metadata": {},
   "outputs": [
    {
     "data": {
      "text/html": [
       "<style  type=\"text/css\" >\n",
       "#T_e7a03_row0_col1{\n",
       "            background-color:  #08306b;\n",
       "            color:  #f1f1f1;\n",
       "        }#T_e7a03_row1_col1{\n",
       "            background-color:  #71b1d7;\n",
       "            color:  #000000;\n",
       "        }#T_e7a03_row2_col1,#T_e7a03_row3_col1{\n",
       "            background-color:  #aacfe5;\n",
       "            color:  #000000;\n",
       "        }#T_e7a03_row4_col1{\n",
       "            background-color:  #dfebf7;\n",
       "            color:  #000000;\n",
       "        }#T_e7a03_row5_col1{\n",
       "            background-color:  #ecf4fb;\n",
       "            color:  #000000;\n",
       "        }#T_e7a03_row6_col1,#T_e7a03_row7_col1{\n",
       "            background-color:  #f5fafe;\n",
       "            color:  #000000;\n",
       "        }#T_e7a03_row8_col1{\n",
       "            background-color:  #f7fbff;\n",
       "            color:  #000000;\n",
       "        }</style><table id=\"T_e7a03_\" ><thead>    <tr>        <th class=\"blank level0\" ></th>        <th class=\"col_heading level0 col0\" >hypothesis</th>        <th class=\"col_heading level0 col1\" >RICE</th>    </tr></thead><tbody>\n",
       "                <tr>\n",
       "                        <th id=\"T_e7a03_level0_row0\" class=\"row_heading level0 row0\" >7</th>\n",
       "                        <td id=\"T_e7a03_row0_col0\" class=\"data row0 col0\" >Добавить форму подписки на все основные страницы, чтобы собрать базу клиентов для email-рассылок</td>\n",
       "                        <td id=\"T_e7a03_row0_col1\" class=\"data row0 col1\" >112.000000</td>\n",
       "            </tr>\n",
       "            <tr>\n",
       "                        <th id=\"T_e7a03_level0_row1\" class=\"row_heading level0 row1\" >2</th>\n",
       "                        <td id=\"T_e7a03_row1_col0\" class=\"data row1 col0\" >Добавить блоки рекомендаций товаров на сайт интернет магазина, чтобы повысить конверсию и средний чек заказа</td>\n",
       "                        <td id=\"T_e7a03_row1_col1\" class=\"data row1 col1\" >56.000000</td>\n",
       "            </tr>\n",
       "            <tr>\n",
       "                        <th id=\"T_e7a03_level0_row2\" class=\"row_heading level0 row2\" >0</th>\n",
       "                        <td id=\"T_e7a03_row2_col0\" class=\"data row2 col0\" >Добавить два новых канала привлечения трафика, что позволит привлекать на 30% больше пользователей</td>\n",
       "                        <td id=\"T_e7a03_row2_col1\" class=\"data row2 col1\" >40.000000</td>\n",
       "            </tr>\n",
       "            <tr>\n",
       "                        <th id=\"T_e7a03_level0_row3\" class=\"row_heading level0 row3\" >6</th>\n",
       "                        <td id=\"T_e7a03_row3_col0\" class=\"data row3 col0\" >Показать на главной странице баннеры с актуальными акциями и распродажами, чтобы увеличить конверсию</td>\n",
       "                        <td id=\"T_e7a03_row3_col1\" class=\"data row3 col1\" >40.000000</td>\n",
       "            </tr>\n",
       "            <tr>\n",
       "                        <th id=\"T_e7a03_level0_row4\" class=\"row_heading level0 row4\" >8</th>\n",
       "                        <td id=\"T_e7a03_row4_col0\" class=\"data row4 col0\" >Запустить акцию, дающую скидку на товар в день рождения</td>\n",
       "                        <td id=\"T_e7a03_row4_col1\" class=\"data row4 col1\" >16.200000</td>\n",
       "            </tr>\n",
       "            <tr>\n",
       "                        <th id=\"T_e7a03_level0_row5\" class=\"row_heading level0 row5\" >3</th>\n",
       "                        <td id=\"T_e7a03_row5_col0\" class=\"data row5 col0\" >Изменить структура категорий, что увеличит конверсию, т.к. пользователи быстрее найдут нужный товар</td>\n",
       "                        <td id=\"T_e7a03_row5_col1\" class=\"data row5 col1\" >9.000000</td>\n",
       "            </tr>\n",
       "            <tr>\n",
       "                        <th id=\"T_e7a03_level0_row6\" class=\"row_heading level0 row6\" >1</th>\n",
       "                        <td id=\"T_e7a03_row6_col0\" class=\"data row6 col0\" >Запустить собственную службу доставки, что сократит срок доставки заказов</td>\n",
       "                        <td id=\"T_e7a03_row6_col1\" class=\"data row6 col1\" >4.000000</td>\n",
       "            </tr>\n",
       "            <tr>\n",
       "                        <th id=\"T_e7a03_level0_row7\" class=\"row_heading level0 row7\" >5</th>\n",
       "                        <td id=\"T_e7a03_row7_col0\" class=\"data row7 col0\" >Добавить страницу отзывов клиентов о магазине, что позволит увеличить количество заказов</td>\n",
       "                        <td id=\"T_e7a03_row7_col1\" class=\"data row7 col1\" >4.000000</td>\n",
       "            </tr>\n",
       "            <tr>\n",
       "                        <th id=\"T_e7a03_level0_row8\" class=\"row_heading level0 row8\" >4</th>\n",
       "                        <td id=\"T_e7a03_row8_col0\" class=\"data row8 col0\" >Изменить цвет фона главной страницы, чтобы увеличить вовлеченность пользователей</td>\n",
       "                        <td id=\"T_e7a03_row8_col1\" class=\"data row8 col1\" >3.000000</td>\n",
       "            </tr>\n",
       "    </tbody></table>"
      ],
      "text/plain": [
       "<pandas.io.formats.style.Styler at 0x7fd5edd5cd30>"
      ]
     },
     "execution_count": 15,
     "metadata": {},
     "output_type": "execute_result"
    }
   ],
   "source": [
    "#считаем RICE по формуле\n",
    "\n",
    "hypothesis['RICE'] = hypothesis['reach'] * hypothesis['impact'] * hypothesis['confidence'] / hypothesis['efforts']\n",
    "hypothesis[['hypothesis', 'RICE']].sort_values(by='RICE', ascending=False).style.background_gradient(subset=['RICE'], cmap='Blues')"
   ]
  },
  {
   "cell_type": "markdown",
   "id": "a92ee265-5337-4ac5-a754-b59aa08f0e3a",
   "metadata": {},
   "source": [
    "**Вывод:** при выборе приоритетной гипотезы методом RICE, первое место занимает гипотеза номер 7: \"Добавить форму подписки на все основные страницы, чтобы собрать базу клиентов для email-рассылок\". Как видно, при данном методе приоритизации на первое место вышла гипотеза, которая при оценке методом ICE была только на 3 месте, а приоритетная гипотеза по методу ICE при оценке методом RICE оказалась лишь на 5 месте. Для того, чтобы понять, почему так произошло, посмотрим еще раз на таблицу целиком."
   ]
  },
  {
   "cell_type": "code",
   "execution_count": 16,
   "id": "9f5d0e0c-0b1f-4d21-ae8d-3bef2926ce84",
   "metadata": {},
   "outputs": [
    {
     "data": {
      "text/html": [
       "<style  type=\"text/css\" >\n",
       "#T_eaafc_row0_col5{\n",
       "            background-color:  #1561a9;\n",
       "            color:  #f1f1f1;\n",
       "        }#T_eaafc_row0_col6,#T_eaafc_row6_col6{\n",
       "            background-color:  #aacfe5;\n",
       "            color:  #000000;\n",
       "        }#T_eaafc_row1_col5{\n",
       "            background-color:  #eaf3fb;\n",
       "            color:  #000000;\n",
       "        }#T_eaafc_row1_col6,#T_eaafc_row3_col5,#T_eaafc_row5_col6{\n",
       "            background-color:  #f5fafe;\n",
       "            color:  #000000;\n",
       "        }#T_eaafc_row2_col5{\n",
       "            background-color:  #95c5df;\n",
       "            color:  #000000;\n",
       "        }#T_eaafc_row2_col6{\n",
       "            background-color:  #71b1d7;\n",
       "            color:  #000000;\n",
       "        }#T_eaafc_row3_col6{\n",
       "            background-color:  #ecf4fb;\n",
       "            color:  #000000;\n",
       "        }#T_eaafc_row4_col5,#T_eaafc_row4_col6{\n",
       "            background-color:  #f7fbff;\n",
       "            color:  #000000;\n",
       "        }#T_eaafc_row5_col5{\n",
       "            background-color:  #f3f8fe;\n",
       "            color:  #000000;\n",
       "        }#T_eaafc_row6_col5{\n",
       "            background-color:  #7cb7da;\n",
       "            color:  #000000;\n",
       "        }#T_eaafc_row7_col5{\n",
       "            background-color:  #3686c0;\n",
       "            color:  #000000;\n",
       "        }#T_eaafc_row7_col6,#T_eaafc_row8_col5{\n",
       "            background-color:  #08306b;\n",
       "            color:  #f1f1f1;\n",
       "        }#T_eaafc_row8_col6{\n",
       "            background-color:  #dfebf7;\n",
       "            color:  #000000;\n",
       "        }</style><table id=\"T_eaafc_\" ><thead>    <tr>        <th class=\"blank level0\" ></th>        <th class=\"col_heading level0 col0\" >hypothesis</th>        <th class=\"col_heading level0 col1\" >reach</th>        <th class=\"col_heading level0 col2\" >impact</th>        <th class=\"col_heading level0 col3\" >confidence</th>        <th class=\"col_heading level0 col4\" >efforts</th>        <th class=\"col_heading level0 col5\" >ICE</th>        <th class=\"col_heading level0 col6\" >RICE</th>    </tr></thead><tbody>\n",
       "                <tr>\n",
       "                        <th id=\"T_eaafc_level0_row0\" class=\"row_heading level0 row0\" >0</th>\n",
       "                        <td id=\"T_eaafc_row0_col0\" class=\"data row0 col0\" >Добавить два новых канала привлечения трафика, что позволит привлекать на 30% больше пользователей</td>\n",
       "                        <td id=\"T_eaafc_row0_col1\" class=\"data row0 col1\" >3</td>\n",
       "                        <td id=\"T_eaafc_row0_col2\" class=\"data row0 col2\" >10</td>\n",
       "                        <td id=\"T_eaafc_row0_col3\" class=\"data row0 col3\" >8</td>\n",
       "                        <td id=\"T_eaafc_row0_col4\" class=\"data row0 col4\" >6</td>\n",
       "                        <td id=\"T_eaafc_row0_col5\" class=\"data row0 col5\" >13.333333</td>\n",
       "                        <td id=\"T_eaafc_row0_col6\" class=\"data row0 col6\" >40.000000</td>\n",
       "            </tr>\n",
       "            <tr>\n",
       "                        <th id=\"T_eaafc_level0_row1\" class=\"row_heading level0 row1\" >1</th>\n",
       "                        <td id=\"T_eaafc_row1_col0\" class=\"data row1 col0\" >Запустить собственную службу доставки, что сократит срок доставки заказов</td>\n",
       "                        <td id=\"T_eaafc_row1_col1\" class=\"data row1 col1\" >2</td>\n",
       "                        <td id=\"T_eaafc_row1_col2\" class=\"data row1 col2\" >5</td>\n",
       "                        <td id=\"T_eaafc_row1_col3\" class=\"data row1 col3\" >4</td>\n",
       "                        <td id=\"T_eaafc_row1_col4\" class=\"data row1 col4\" >10</td>\n",
       "                        <td id=\"T_eaafc_row1_col5\" class=\"data row1 col5\" >2.000000</td>\n",
       "                        <td id=\"T_eaafc_row1_col6\" class=\"data row1 col6\" >4.000000</td>\n",
       "            </tr>\n",
       "            <tr>\n",
       "                        <th id=\"T_eaafc_level0_row2\" class=\"row_heading level0 row2\" >2</th>\n",
       "                        <td id=\"T_eaafc_row2_col0\" class=\"data row2 col0\" >Добавить блоки рекомендаций товаров на сайт интернет магазина, чтобы повысить конверсию и средний чек заказа</td>\n",
       "                        <td id=\"T_eaafc_row2_col1\" class=\"data row2 col1\" >8</td>\n",
       "                        <td id=\"T_eaafc_row2_col2\" class=\"data row2 col2\" >3</td>\n",
       "                        <td id=\"T_eaafc_row2_col3\" class=\"data row2 col3\" >7</td>\n",
       "                        <td id=\"T_eaafc_row2_col4\" class=\"data row2 col4\" >3</td>\n",
       "                        <td id=\"T_eaafc_row2_col5\" class=\"data row2 col5\" >7.000000</td>\n",
       "                        <td id=\"T_eaafc_row2_col6\" class=\"data row2 col6\" >56.000000</td>\n",
       "            </tr>\n",
       "            <tr>\n",
       "                        <th id=\"T_eaafc_level0_row3\" class=\"row_heading level0 row3\" >3</th>\n",
       "                        <td id=\"T_eaafc_row3_col0\" class=\"data row3 col0\" >Изменить структура категорий, что увеличит конверсию, т.к. пользователи быстрее найдут нужный товар</td>\n",
       "                        <td id=\"T_eaafc_row3_col1\" class=\"data row3 col1\" >8</td>\n",
       "                        <td id=\"T_eaafc_row3_col2\" class=\"data row3 col2\" >3</td>\n",
       "                        <td id=\"T_eaafc_row3_col3\" class=\"data row3 col3\" >3</td>\n",
       "                        <td id=\"T_eaafc_row3_col4\" class=\"data row3 col4\" >8</td>\n",
       "                        <td id=\"T_eaafc_row3_col5\" class=\"data row3 col5\" >1.125000</td>\n",
       "                        <td id=\"T_eaafc_row3_col6\" class=\"data row3 col6\" >9.000000</td>\n",
       "            </tr>\n",
       "            <tr>\n",
       "                        <th id=\"T_eaafc_level0_row4\" class=\"row_heading level0 row4\" >4</th>\n",
       "                        <td id=\"T_eaafc_row4_col0\" class=\"data row4 col0\" >Изменить цвет фона главной страницы, чтобы увеличить вовлеченность пользователей</td>\n",
       "                        <td id=\"T_eaafc_row4_col1\" class=\"data row4 col1\" >3</td>\n",
       "                        <td id=\"T_eaafc_row4_col2\" class=\"data row4 col2\" >1</td>\n",
       "                        <td id=\"T_eaafc_row4_col3\" class=\"data row4 col3\" >1</td>\n",
       "                        <td id=\"T_eaafc_row4_col4\" class=\"data row4 col4\" >1</td>\n",
       "                        <td id=\"T_eaafc_row4_col5\" class=\"data row4 col5\" >1.000000</td>\n",
       "                        <td id=\"T_eaafc_row4_col6\" class=\"data row4 col6\" >3.000000</td>\n",
       "            </tr>\n",
       "            <tr>\n",
       "                        <th id=\"T_eaafc_level0_row5\" class=\"row_heading level0 row5\" >5</th>\n",
       "                        <td id=\"T_eaafc_row5_col0\" class=\"data row5 col0\" >Добавить страницу отзывов клиентов о магазине, что позволит увеличить количество заказов</td>\n",
       "                        <td id=\"T_eaafc_row5_col1\" class=\"data row5 col1\" >3</td>\n",
       "                        <td id=\"T_eaafc_row5_col2\" class=\"data row5 col2\" >2</td>\n",
       "                        <td id=\"T_eaafc_row5_col3\" class=\"data row5 col3\" >2</td>\n",
       "                        <td id=\"T_eaafc_row5_col4\" class=\"data row5 col4\" >3</td>\n",
       "                        <td id=\"T_eaafc_row5_col5\" class=\"data row5 col5\" >1.333333</td>\n",
       "                        <td id=\"T_eaafc_row5_col6\" class=\"data row5 col6\" >4.000000</td>\n",
       "            </tr>\n",
       "            <tr>\n",
       "                        <th id=\"T_eaafc_level0_row6\" class=\"row_heading level0 row6\" >6</th>\n",
       "                        <td id=\"T_eaafc_row6_col0\" class=\"data row6 col0\" >Показать на главной странице баннеры с актуальными акциями и распродажами, чтобы увеличить конверсию</td>\n",
       "                        <td id=\"T_eaafc_row6_col1\" class=\"data row6 col1\" >5</td>\n",
       "                        <td id=\"T_eaafc_row6_col2\" class=\"data row6 col2\" >3</td>\n",
       "                        <td id=\"T_eaafc_row6_col3\" class=\"data row6 col3\" >8</td>\n",
       "                        <td id=\"T_eaafc_row6_col4\" class=\"data row6 col4\" >3</td>\n",
       "                        <td id=\"T_eaafc_row6_col5\" class=\"data row6 col5\" >8.000000</td>\n",
       "                        <td id=\"T_eaafc_row6_col6\" class=\"data row6 col6\" >40.000000</td>\n",
       "            </tr>\n",
       "            <tr>\n",
       "                        <th id=\"T_eaafc_level0_row7\" class=\"row_heading level0 row7\" >7</th>\n",
       "                        <td id=\"T_eaafc_row7_col0\" class=\"data row7 col0\" >Добавить форму подписки на все основные страницы, чтобы собрать базу клиентов для email-рассылок</td>\n",
       "                        <td id=\"T_eaafc_row7_col1\" class=\"data row7 col1\" >10</td>\n",
       "                        <td id=\"T_eaafc_row7_col2\" class=\"data row7 col2\" >7</td>\n",
       "                        <td id=\"T_eaafc_row7_col3\" class=\"data row7 col3\" >8</td>\n",
       "                        <td id=\"T_eaafc_row7_col4\" class=\"data row7 col4\" >5</td>\n",
       "                        <td id=\"T_eaafc_row7_col5\" class=\"data row7 col5\" >11.200000</td>\n",
       "                        <td id=\"T_eaafc_row7_col6\" class=\"data row7 col6\" >112.000000</td>\n",
       "            </tr>\n",
       "            <tr>\n",
       "                        <th id=\"T_eaafc_level0_row8\" class=\"row_heading level0 row8\" >8</th>\n",
       "                        <td id=\"T_eaafc_row8_col0\" class=\"data row8 col0\" >Запустить акцию, дающую скидку на товар в день рождения</td>\n",
       "                        <td id=\"T_eaafc_row8_col1\" class=\"data row8 col1\" >1</td>\n",
       "                        <td id=\"T_eaafc_row8_col2\" class=\"data row8 col2\" >9</td>\n",
       "                        <td id=\"T_eaafc_row8_col3\" class=\"data row8 col3\" >9</td>\n",
       "                        <td id=\"T_eaafc_row8_col4\" class=\"data row8 col4\" >5</td>\n",
       "                        <td id=\"T_eaafc_row8_col5\" class=\"data row8 col5\" >16.200000</td>\n",
       "                        <td id=\"T_eaafc_row8_col6\" class=\"data row8 col6\" >16.200000</td>\n",
       "            </tr>\n",
       "    </tbody></table>"
      ],
      "text/plain": [
       "<pandas.io.formats.style.Styler at 0x7fd5edd5c3a0>"
      ]
     },
     "execution_count": 16,
     "metadata": {},
     "output_type": "execute_result"
    }
   ],
   "source": [
    "pd.reset_option('display.max_colwidth', 150) #сброс настройки полного отображения\n",
    "hypothesis.style.background_gradient(subset=['RICE', 'ICE'], cmap='Blues')"
   ]
  },
  {
   "cell_type": "markdown",
   "id": "01f7b037-279a-4811-bb28-cd10d78359bb",
   "metadata": {},
   "source": [
    "**Вывод:** единственным отличием оценки RICE от ICE является наличие значения rich в числителе, то есть помимо влияния и увереннности в успехе добавляется параметр \"охват\" - количество пользователей, которых затронет эксперимент. Как видно, гипотеза номер 8 имеет минимальную оценку rich - 1, а вот гипотеза номер 7 напротив имеет максимальное значение rich - 10, то есть проведение данного эксперимента затронет значительно больше пользователей, поэтому при оценке методом RICE она и занимает лидирующую строчку. В то же время стоит отметить, что параметры влияния и увернности у 8 гипотезы всё таки выше, а усилия равны с 7 гипотезой. Окончательный выбор проверяемой гипотезы предстоит сделать руководителю проекта."
   ]
  },
  {
   "cell_type": "markdown",
   "id": "8927be40-04d8-4bea-a3c7-aceb0b1f5a2b",
   "metadata": {},
   "source": [
    "##  Анализ A/B-теста."
   ]
  },
  {
   "cell_type": "markdown",
   "id": "4a4e4bef-7f9d-47a3-a036-d19b445f4997",
   "metadata": {},
   "source": [
    "### Проверка распределения клиентов по группам."
   ]
  },
  {
   "cell_type": "code",
   "execution_count": 17,
   "id": "afdc58c0-e699-43cb-bcf0-6aa22606f7d0",
   "metadata": {},
   "outputs": [
    {
     "data": {
      "text/plain": [
       "1197"
      ]
     },
     "execution_count": 17,
     "metadata": {},
     "output_type": "execute_result"
    }
   ],
   "source": [
    "#общее количество заказов\n",
    "len(orders)"
   ]
  },
  {
   "cell_type": "code",
   "execution_count": 18,
   "id": "cbf71793-b1b2-4150-a291-0b89683ee941",
   "metadata": {},
   "outputs": [
    {
     "data": {
      "text/plain": [
       "557"
      ]
     },
     "execution_count": 18,
     "metadata": {},
     "output_type": "execute_result"
    }
   ],
   "source": [
    "#заказы группы А\n",
    "len(orders.query('group == \"A\"'))"
   ]
  },
  {
   "cell_type": "code",
   "execution_count": 19,
   "id": "af11d32c-0460-4669-b362-2c979f65a2ab",
   "metadata": {},
   "outputs": [
    {
     "data": {
      "text/plain": [
       "640"
      ]
     },
     "execution_count": 19,
     "metadata": {},
     "output_type": "execute_result"
    }
   ],
   "source": [
    "#заказы группы B\n",
    "len(orders.query('group == \"B\"'))"
   ]
  },
  {
   "cell_type": "markdown",
   "id": "787f1b9b-297e-47b2-bc49-5dec754a7ddc",
   "metadata": {},
   "source": [
    "**Вывод:** итого совершено 1197 заказов. На группу А приходится 557, на группу В - 640. Проверим, сколько пользователей попало в каждую из групп."
   ]
  },
  {
   "cell_type": "code",
   "execution_count": 20,
   "id": "b87150d0-b932-4eba-9af2-a52651e2c73e",
   "metadata": {},
   "outputs": [
    {
     "data": {
      "text/html": [
       "<div>\n",
       "<style scoped>\n",
       "    .dataframe tbody tr th:only-of-type {\n",
       "        vertical-align: middle;\n",
       "    }\n",
       "\n",
       "    .dataframe tbody tr th {\n",
       "        vertical-align: top;\n",
       "    }\n",
       "\n",
       "    .dataframe thead th {\n",
       "        text-align: right;\n",
       "    }\n",
       "</style>\n",
       "<table border=\"1\" class=\"dataframe\">\n",
       "  <thead>\n",
       "    <tr style=\"text-align: right;\">\n",
       "      <th></th>\n",
       "      <th>count_groups</th>\n",
       "      <th>group</th>\n",
       "    </tr>\n",
       "    <tr>\n",
       "      <th>visitor_id</th>\n",
       "      <th></th>\n",
       "      <th></th>\n",
       "    </tr>\n",
       "  </thead>\n",
       "  <tbody>\n",
       "    <tr>\n",
       "      <th>5114589</th>\n",
       "      <td>1</td>\n",
       "      <td>[B]</td>\n",
       "    </tr>\n",
       "    <tr>\n",
       "      <th>6958315</th>\n",
       "      <td>1</td>\n",
       "      <td>[B]</td>\n",
       "    </tr>\n",
       "    <tr>\n",
       "      <th>8300375</th>\n",
       "      <td>2</td>\n",
       "      <td>[B, A]</td>\n",
       "    </tr>\n",
       "    <tr>\n",
       "      <th>11685486</th>\n",
       "      <td>1</td>\n",
       "      <td>[A]</td>\n",
       "    </tr>\n",
       "    <tr>\n",
       "      <th>39475350</th>\n",
       "      <td>1</td>\n",
       "      <td>[B]</td>\n",
       "    </tr>\n",
       "  </tbody>\n",
       "</table>\n",
       "</div>"
      ],
      "text/plain": [
       "            count_groups   group\n",
       "visitor_id                      \n",
       "5114589                1     [B]\n",
       "6958315                1     [B]\n",
       "8300375                2  [B, A]\n",
       "11685486               1     [A]\n",
       "39475350               1     [B]"
      ]
     },
     "metadata": {},
     "output_type": "display_data"
    },
    {
     "data": {
      "text/plain": [
       "1031"
      ]
     },
     "execution_count": 20,
     "metadata": {},
     "output_type": "execute_result"
    }
   ],
   "source": [
    "#гуппировка по уникальным пользователям\n",
    "users = orders.groupby('visitor_id').agg({'group': ['nunique', 'unique']})\n",
    "users.columns = ['count_groups', 'group']\n",
    "display(users.head())\n",
    "len(users)"
   ]
  },
  {
   "cell_type": "markdown",
   "id": "b5b9872f-06ee-484d-bfeb-d08cf20b80eb",
   "metadata": {},
   "source": [
    "**Вывод:** общее количество уникальных покупателей равно 1031, то есть большинство покупателей совершили только одну покупку. В глаза бросается факт, что присутствуют клиенты, которые по тем или иным причинам попали одновременно в две группы. Проверим их количество."
   ]
  },
  {
   "cell_type": "code",
   "execution_count": 21,
   "id": "8c47a0a9-1ad9-4cf1-8510-1b6b74984913",
   "metadata": {},
   "outputs": [
    {
     "data": {
      "text/html": [
       "<div>\n",
       "<style scoped>\n",
       "    .dataframe tbody tr th:only-of-type {\n",
       "        vertical-align: middle;\n",
       "    }\n",
       "\n",
       "    .dataframe tbody tr th {\n",
       "        vertical-align: top;\n",
       "    }\n",
       "\n",
       "    .dataframe thead th {\n",
       "        text-align: right;\n",
       "    }\n",
       "</style>\n",
       "<table border=\"1\" class=\"dataframe\">\n",
       "  <thead>\n",
       "    <tr style=\"text-align: right;\">\n",
       "      <th></th>\n",
       "      <th>count_groups</th>\n",
       "      <th>group</th>\n",
       "    </tr>\n",
       "    <tr>\n",
       "      <th>visitor_id</th>\n",
       "      <th></th>\n",
       "      <th></th>\n",
       "    </tr>\n",
       "  </thead>\n",
       "  <tbody>\n",
       "    <tr>\n",
       "      <th>8300375</th>\n",
       "      <td>2</td>\n",
       "      <td>[B, A]</td>\n",
       "    </tr>\n",
       "    <tr>\n",
       "      <th>199603092</th>\n",
       "      <td>2</td>\n",
       "      <td>[A, B]</td>\n",
       "    </tr>\n",
       "    <tr>\n",
       "      <th>232979603</th>\n",
       "      <td>2</td>\n",
       "      <td>[B, A]</td>\n",
       "    </tr>\n",
       "    <tr>\n",
       "      <th>237748145</th>\n",
       "      <td>2</td>\n",
       "      <td>[B, A]</td>\n",
       "    </tr>\n",
       "    <tr>\n",
       "      <th>276558944</th>\n",
       "      <td>2</td>\n",
       "      <td>[B, A]</td>\n",
       "    </tr>\n",
       "  </tbody>\n",
       "</table>\n",
       "</div>"
      ],
      "text/plain": [
       "            count_groups   group\n",
       "visitor_id                      \n",
       "8300375                2  [B, A]\n",
       "199603092              2  [A, B]\n",
       "232979603              2  [B, A]\n",
       "237748145              2  [B, A]\n",
       "276558944              2  [B, A]"
      ]
     },
     "metadata": {},
     "output_type": "display_data"
    },
    {
     "data": {
      "text/plain": [
       "58"
      ]
     },
     "execution_count": 21,
     "metadata": {},
     "output_type": "execute_result"
    }
   ],
   "source": [
    "#выявление покупателей, попавших в обе группы\n",
    "users = users.query('count_groups == 2')\n",
    "display(users.head())\n",
    "len(users)"
   ]
  },
  {
   "cell_type": "markdown",
   "id": "eb9de9d0-00e8-419c-824f-2573587b5037",
   "metadata": {},
   "source": [
    "**Вывод:** из 1031 уникальных покупателей 58 совершили минимум 2 покупки и попали в разные группы исследования. Это порядка 5% от общего количества покупателей. Данный факт является грубой ошибкой при проведении теста и искажает результаты.  Определить группу посетителей, которые не совершили покупку и также находятся в разных группах исследования одновременно, не представляется возможным, так как их `visitor_id` не записаны в файле `visits`. В связи с этим, для подсчета среднего чека и кумулятивной выручки данные этих покупателей учитывать не будем. А для расчета конверсии оставим эти данные без изменений, так как рискуем сильно исказить результаты. Выделим индексы данных пользователей для последующей фильтрации."
   ]
  },
  {
   "cell_type": "code",
   "execution_count": 22,
   "id": "22511b91-af42-416f-b937-74e3e7af49e8",
   "metadata": {},
   "outputs": [
    {
     "data": {
      "text/plain": [
       "Int64Index([   8300375,  199603092,  232979603,  237748145,  276558944,\n",
       "             351125977,  393266494,  457167155,  471551937,  477780734,\n",
       "             818047933,  963407295, 1230306981, 1294878855, 1316129916,\n",
       "            1333886533, 1404934699, 1602967004, 1614305549, 1648269707,\n",
       "            1668030113, 1738359350, 1801183820, 1959144690, 2038680547,\n",
       "            2044997962, 2378935119, 2458001652, 2579882178, 2587333274,\n",
       "            2600415354, 2654030115, 2686716486, 2712142231, 2716752286,\n",
       "            2780786433, 2927087541, 2949041841, 2954449915, 3062433592,\n",
       "            3202540741, 3234906277, 3656415546, 3717692402, 3766097110,\n",
       "            3803269165, 3891541246, 3941795274, 3951559397, 3957174400,\n",
       "            3963646447, 3972127743, 3984495233, 4069496402, 4120364173,\n",
       "            4186807279, 4256040402, 4266935830],\n",
       "           dtype='int64', name='visitor_id')"
      ]
     },
     "execution_count": 22,
     "metadata": {},
     "output_type": "execute_result"
    }
   ],
   "source": [
    "users_index = users.index\n",
    "users_index"
   ]
  },
  {
   "cell_type": "code",
   "execution_count": 23,
   "id": "de26d1cf-6232-47a0-a210-b21abc5df8d8",
   "metadata": {},
   "outputs": [
    {
     "data": {
      "text/html": [
       "<div>\n",
       "<style scoped>\n",
       "    .dataframe tbody tr th:only-of-type {\n",
       "        vertical-align: middle;\n",
       "    }\n",
       "\n",
       "    .dataframe tbody tr th {\n",
       "        vertical-align: top;\n",
       "    }\n",
       "\n",
       "    .dataframe thead th {\n",
       "        text-align: right;\n",
       "    }\n",
       "</style>\n",
       "<table border=\"1\" class=\"dataframe\">\n",
       "  <thead>\n",
       "    <tr style=\"text-align: right;\">\n",
       "      <th></th>\n",
       "      <th>transaction_id</th>\n",
       "      <th>visitor_id</th>\n",
       "      <th>date</th>\n",
       "      <th>revenue</th>\n",
       "      <th>group</th>\n",
       "    </tr>\n",
       "  </thead>\n",
       "  <tbody>\n",
       "    <tr>\n",
       "      <th>0</th>\n",
       "      <td>3667963787</td>\n",
       "      <td>3312258926</td>\n",
       "      <td>2019-08-15</td>\n",
       "      <td>1650</td>\n",
       "      <td>B</td>\n",
       "    </tr>\n",
       "    <tr>\n",
       "      <th>1</th>\n",
       "      <td>2804400009</td>\n",
       "      <td>3642806036</td>\n",
       "      <td>2019-08-15</td>\n",
       "      <td>730</td>\n",
       "      <td>B</td>\n",
       "    </tr>\n",
       "    <tr>\n",
       "      <th>3</th>\n",
       "      <td>3797467345</td>\n",
       "      <td>1196621759</td>\n",
       "      <td>2019-08-15</td>\n",
       "      <td>9759</td>\n",
       "      <td>B</td>\n",
       "    </tr>\n",
       "    <tr>\n",
       "      <th>4</th>\n",
       "      <td>2282983706</td>\n",
       "      <td>2322279887</td>\n",
       "      <td>2019-08-15</td>\n",
       "      <td>2308</td>\n",
       "      <td>B</td>\n",
       "    </tr>\n",
       "    <tr>\n",
       "      <th>5</th>\n",
       "      <td>182168103</td>\n",
       "      <td>935554773</td>\n",
       "      <td>2019-08-15</td>\n",
       "      <td>2210</td>\n",
       "      <td>B</td>\n",
       "    </tr>\n",
       "    <tr>\n",
       "      <th>6</th>\n",
       "      <td>398296753</td>\n",
       "      <td>2900797465</td>\n",
       "      <td>2019-08-15</td>\n",
       "      <td>1860</td>\n",
       "      <td>B</td>\n",
       "    </tr>\n",
       "    <tr>\n",
       "      <th>7</th>\n",
       "      <td>2626614568</td>\n",
       "      <td>78758296</td>\n",
       "      <td>2019-08-15</td>\n",
       "      <td>1044</td>\n",
       "      <td>A</td>\n",
       "    </tr>\n",
       "    <tr>\n",
       "      <th>8</th>\n",
       "      <td>1576988021</td>\n",
       "      <td>295230930</td>\n",
       "      <td>2019-08-15</td>\n",
       "      <td>13710</td>\n",
       "      <td>A</td>\n",
       "    </tr>\n",
       "    <tr>\n",
       "      <th>9</th>\n",
       "      <td>1506739906</td>\n",
       "      <td>1882260405</td>\n",
       "      <td>2019-08-15</td>\n",
       "      <td>1855</td>\n",
       "      <td>B</td>\n",
       "    </tr>\n",
       "    <tr>\n",
       "      <th>10</th>\n",
       "      <td>3649131742</td>\n",
       "      <td>879864040</td>\n",
       "      <td>2019-08-15</td>\n",
       "      <td>4008</td>\n",
       "      <td>A</td>\n",
       "    </tr>\n",
       "  </tbody>\n",
       "</table>\n",
       "</div>"
      ],
      "text/plain": [
       "    transaction_id  visitor_id       date  revenue group\n",
       "0       3667963787  3312258926 2019-08-15     1650     B\n",
       "1       2804400009  3642806036 2019-08-15      730     B\n",
       "3       3797467345  1196621759 2019-08-15     9759     B\n",
       "4       2282983706  2322279887 2019-08-15     2308     B\n",
       "5        182168103   935554773 2019-08-15     2210     B\n",
       "6        398296753  2900797465 2019-08-15     1860     B\n",
       "7       2626614568    78758296 2019-08-15     1044     A\n",
       "8       1576988021   295230930 2019-08-15    13710     A\n",
       "9       1506739906  1882260405 2019-08-15     1855     B\n",
       "10      3649131742   879864040 2019-08-15     4008     A"
      ]
     },
     "metadata": {},
     "output_type": "display_data"
    },
    {
     "name": "stdout",
     "output_type": "stream",
     "text": [
      "**************************************************\n",
      "<class 'pandas.core.frame.DataFrame'>\n",
      "Int64Index: 1016 entries, 0 to 1196\n",
      "Data columns (total 5 columns):\n",
      " #   Column          Non-Null Count  Dtype         \n",
      "---  ------          --------------  -----         \n",
      " 0   transaction_id  1016 non-null   int64         \n",
      " 1   visitor_id      1016 non-null   int64         \n",
      " 2   date            1016 non-null   datetime64[ns]\n",
      " 3   revenue         1016 non-null   int64         \n",
      " 4   group           1016 non-null   object        \n",
      "dtypes: datetime64[ns](1), int64(3), object(1)\n",
      "memory usage: 47.6+ KB\n",
      "**************************************************\n"
     ]
    },
    {
     "data": {
      "text/plain": [
       "transaction_id    0\n",
       "visitor_id        0\n",
       "date              0\n",
       "revenue           0\n",
       "group             0\n",
       "dtype: int64"
      ]
     },
     "metadata": {},
     "output_type": "display_data"
    }
   ],
   "source": [
    "#оставляем данные без \"плохих\" покупателей\n",
    "orders_clear = orders[~orders['visitor_id'].isin(users_index)]\n",
    "summary(orders_clear)"
   ]
  },
  {
   "cell_type": "markdown",
   "id": "f4e1edcf-f445-4b25-a540-81b1cddefa64",
   "metadata": {},
   "source": [
    "Данные отфильтровались корректно, приступаем к анализу."
   ]
  },
  {
   "cell_type": "markdown",
   "id": "95d61fd3-dd49-4a25-93f2-18b5b41b5385",
   "metadata": {},
   "source": [
    "### График кумулятивной выручки по группам.\n",
    "\n",
    "Для построения графиков необходимо создать таблицу с кумулятивными данными."
   ]
  },
  {
   "cell_type": "code",
   "execution_count": 24,
   "id": "8c5df4f3-7505-485c-a27b-45ba352b7dc8",
   "metadata": {},
   "outputs": [
    {
     "data": {
      "text/html": [
       "<div>\n",
       "<style scoped>\n",
       "    .dataframe tbody tr th:only-of-type {\n",
       "        vertical-align: middle;\n",
       "    }\n",
       "\n",
       "    .dataframe tbody tr th {\n",
       "        vertical-align: top;\n",
       "    }\n",
       "\n",
       "    .dataframe thead th {\n",
       "        text-align: right;\n",
       "    }\n",
       "</style>\n",
       "<table border=\"1\" class=\"dataframe\">\n",
       "  <thead>\n",
       "    <tr style=\"text-align: right;\">\n",
       "      <th></th>\n",
       "      <th>date</th>\n",
       "      <th>group</th>\n",
       "      <th>orders</th>\n",
       "      <th>buyers</th>\n",
       "      <th>revenue</th>\n",
       "      <th>visitors</th>\n",
       "    </tr>\n",
       "  </thead>\n",
       "  <tbody>\n",
       "    <tr>\n",
       "      <th>0</th>\n",
       "      <td>2019-08-01</td>\n",
       "      <td>A</td>\n",
       "      <td>23</td>\n",
       "      <td>19</td>\n",
       "      <td>142779</td>\n",
       "      <td>719</td>\n",
       "    </tr>\n",
       "    <tr>\n",
       "      <th>1</th>\n",
       "      <td>2019-08-01</td>\n",
       "      <td>B</td>\n",
       "      <td>17</td>\n",
       "      <td>17</td>\n",
       "      <td>59758</td>\n",
       "      <td>713</td>\n",
       "    </tr>\n",
       "    <tr>\n",
       "      <th>2</th>\n",
       "      <td>2019-08-02</td>\n",
       "      <td>A</td>\n",
       "      <td>42</td>\n",
       "      <td>36</td>\n",
       "      <td>234381</td>\n",
       "      <td>1338</td>\n",
       "    </tr>\n",
       "    <tr>\n",
       "      <th>3</th>\n",
       "      <td>2019-08-02</td>\n",
       "      <td>B</td>\n",
       "      <td>40</td>\n",
       "      <td>39</td>\n",
       "      <td>221801</td>\n",
       "      <td>1294</td>\n",
       "    </tr>\n",
       "    <tr>\n",
       "      <th>4</th>\n",
       "      <td>2019-08-03</td>\n",
       "      <td>A</td>\n",
       "      <td>66</td>\n",
       "      <td>60</td>\n",
       "      <td>346854</td>\n",
       "      <td>1845</td>\n",
       "    </tr>\n",
       "  </tbody>\n",
       "</table>\n",
       "</div>"
      ],
      "text/plain": [
       "        date group  orders  buyers  revenue  visitors\n",
       "0 2019-08-01     A      23      19   142779       719\n",
       "1 2019-08-01     B      17      17    59758       713\n",
       "2 2019-08-02     A      42      36   234381      1338\n",
       "3 2019-08-02     B      40      39   221801      1294\n",
       "4 2019-08-03     A      66      60   346854      1845"
      ]
     },
     "execution_count": 24,
     "metadata": {},
     "output_type": "execute_result"
    }
   ],
   "source": [
    "# создаем массив уникальных пар значений дат и групп теста\n",
    "datesGroups = orders[['date','group']].drop_duplicates()\n",
    "\n",
    "# получаем агрегированные кумулятивные по дням данные о заказах \n",
    "ordersAggregated = datesGroups.apply(lambda x: orders_clear[np.logical_and(orders_clear['date'] <= x['date'], orders_clear['group'] == x['group'], )].agg({'date' : 'max', 'group' : 'max', 'transaction_id' : 'nunique', 'visitor_id' : 'nunique', 'revenue' : 'sum'}), axis=1).sort_values(by=['date','group'])\n",
    "\n",
    "# получаем агрегированные кумулятивные по дням данные о посетителях интернет-магазина \n",
    "visitorsAggregated = datesGroups.apply(lambda x: visitors[np.logical_and(visitors['date'] <= x['date'], visitors['group'] == x['group'])].agg({'date' : 'max', 'group' : 'max', 'visitors' : 'sum'}), axis=1).sort_values(by=['date','group'])\n",
    "\n",
    "# объединяем кумулятивные данные в одной таблице и присваиваем ее столбцам понятные названия\n",
    "cumulativeData = ordersAggregated.merge(visitorsAggregated, left_on=['date', 'group'], right_on=['date', 'group'])\n",
    "cumulativeData.columns = ['date', 'group', 'orders', 'buyers', 'revenue', 'visitors']\n",
    "\n",
    "cumulativeData.head()"
   ]
  },
  {
   "cell_type": "markdown",
   "id": "0f40e37e-f031-42b6-aeca-fcbb6eecc99b",
   "metadata": {},
   "source": [
    "Разделим датафрейм на 2 части по группам А и В."
   ]
  },
  {
   "cell_type": "code",
   "execution_count": 25,
   "id": "4a959539-8299-48ca-8174-048da7009d88",
   "metadata": {},
   "outputs": [
    {
     "data": {
      "text/html": [
       "<div>\n",
       "<style scoped>\n",
       "    .dataframe tbody tr th:only-of-type {\n",
       "        vertical-align: middle;\n",
       "    }\n",
       "\n",
       "    .dataframe tbody tr th {\n",
       "        vertical-align: top;\n",
       "    }\n",
       "\n",
       "    .dataframe thead th {\n",
       "        text-align: right;\n",
       "    }\n",
       "</style>\n",
       "<table border=\"1\" class=\"dataframe\">\n",
       "  <thead>\n",
       "    <tr style=\"text-align: right;\">\n",
       "      <th></th>\n",
       "      <th>date</th>\n",
       "      <th>revenue</th>\n",
       "      <th>orders</th>\n",
       "    </tr>\n",
       "  </thead>\n",
       "  <tbody>\n",
       "    <tr>\n",
       "      <th>0</th>\n",
       "      <td>2019-08-01</td>\n",
       "      <td>142779</td>\n",
       "      <td>23</td>\n",
       "    </tr>\n",
       "    <tr>\n",
       "      <th>2</th>\n",
       "      <td>2019-08-02</td>\n",
       "      <td>234381</td>\n",
       "      <td>42</td>\n",
       "    </tr>\n",
       "    <tr>\n",
       "      <th>4</th>\n",
       "      <td>2019-08-03</td>\n",
       "      <td>346854</td>\n",
       "      <td>66</td>\n",
       "    </tr>\n",
       "    <tr>\n",
       "      <th>6</th>\n",
       "      <td>2019-08-04</td>\n",
       "      <td>388030</td>\n",
       "      <td>77</td>\n",
       "    </tr>\n",
       "    <tr>\n",
       "      <th>8</th>\n",
       "      <td>2019-08-05</td>\n",
       "      <td>474413</td>\n",
       "      <td>99</td>\n",
       "    </tr>\n",
       "  </tbody>\n",
       "</table>\n",
       "</div>"
      ],
      "text/plain": [
       "        date  revenue  orders\n",
       "0 2019-08-01   142779      23\n",
       "2 2019-08-02   234381      42\n",
       "4 2019-08-03   346854      66\n",
       "6 2019-08-04   388030      77\n",
       "8 2019-08-05   474413      99"
      ]
     },
     "metadata": {},
     "output_type": "display_data"
    },
    {
     "data": {
      "text/html": [
       "<div>\n",
       "<style scoped>\n",
       "    .dataframe tbody tr th:only-of-type {\n",
       "        vertical-align: middle;\n",
       "    }\n",
       "\n",
       "    .dataframe tbody tr th {\n",
       "        vertical-align: top;\n",
       "    }\n",
       "\n",
       "    .dataframe thead th {\n",
       "        text-align: right;\n",
       "    }\n",
       "</style>\n",
       "<table border=\"1\" class=\"dataframe\">\n",
       "  <thead>\n",
       "    <tr style=\"text-align: right;\">\n",
       "      <th></th>\n",
       "      <th>date</th>\n",
       "      <th>revenue</th>\n",
       "      <th>orders</th>\n",
       "    </tr>\n",
       "  </thead>\n",
       "  <tbody>\n",
       "    <tr>\n",
       "      <th>0</th>\n",
       "      <td>2019-08-01</td>\n",
       "      <td>142779</td>\n",
       "      <td>23</td>\n",
       "    </tr>\n",
       "    <tr>\n",
       "      <th>2</th>\n",
       "      <td>2019-08-02</td>\n",
       "      <td>234381</td>\n",
       "      <td>42</td>\n",
       "    </tr>\n",
       "    <tr>\n",
       "      <th>4</th>\n",
       "      <td>2019-08-03</td>\n",
       "      <td>346854</td>\n",
       "      <td>66</td>\n",
       "    </tr>\n",
       "    <tr>\n",
       "      <th>6</th>\n",
       "      <td>2019-08-04</td>\n",
       "      <td>388030</td>\n",
       "      <td>77</td>\n",
       "    </tr>\n",
       "    <tr>\n",
       "      <th>8</th>\n",
       "      <td>2019-08-05</td>\n",
       "      <td>474413</td>\n",
       "      <td>99</td>\n",
       "    </tr>\n",
       "  </tbody>\n",
       "</table>\n",
       "</div>"
      ],
      "text/plain": [
       "        date  revenue  orders\n",
       "0 2019-08-01   142779      23\n",
       "2 2019-08-02   234381      42\n",
       "4 2019-08-03   346854      66\n",
       "6 2019-08-04   388030      77\n",
       "8 2019-08-05   474413      99"
      ]
     },
     "execution_count": 25,
     "metadata": {},
     "output_type": "execute_result"
    }
   ],
   "source": [
    "# датафрейм с кумулятивным количеством заказов и кумулятивной выручкой по дням в группе А\n",
    "cumulativeRevenueA = cumulativeData[cumulativeData['group']=='A'][['date','revenue', 'orders']]\n",
    "\n",
    "# датафрейм с кумулятивным количеством заказов и кумулятивной выручкой по дням в группе B\n",
    "cumulativeRevenueB = cumulativeData[cumulativeData['group']=='B'][['date','revenue', 'orders']]\n",
    "\n",
    "display(cumulativeRevenueA.head())\n",
    "\n",
    "cumulativeRevenueA.head()"
   ]
  },
  {
   "cell_type": "code",
   "execution_count": 26,
   "id": "90d8dfb8-182c-4dd0-bfa6-6cf801816ff9",
   "metadata": {},
   "outputs": [
    {
     "data": {
      "image/png": "[encoded data removed]",
      "text/plain": [
       "<Figure size 432x288 with 1 Axes>"
      ]
     },
     "metadata": {
      "needs_background": "light"
     },
     "output_type": "display_data"
    }
   ],
   "source": [
    "# Строим график выручки группы А\n",
    "plt.plot(cumulativeRevenueA['date'].dt.day, cumulativeRevenueA['revenue'], label='A')\n",
    "\n",
    "# Строим график выручки группы B\n",
    "plt.plot(cumulativeRevenueB['date'].dt.day, cumulativeRevenueB['revenue'], label='B')\n",
    "\n",
    "plt.xlabel('Дата')\n",
    "plt.ylabel('Выручка')\n",
    "plt.title('Кумулятивная выручка')\n",
    "plt.legend()\n",
    "plt.show()"
   ]
  },
  {
   "cell_type": "markdown",
   "id": "e9073e33-67d7-4177-9eaa-e613e673712d",
   "metadata": {},
   "source": [
    "**Вывод:** В начале эксперимента линии идут вровень. После 5 дня группа В вырывается в лидеры и набирает общую выручку быстрее. На 13 день графики вновь пересекаются, то есть показывают одинаковое значение накопленной выручки. Потом группа В снова выходит в лидеры, а на 18-19 день эксперимента происходит резкий всплеск выручки у группы В, в то время как группа А сохраняет стабильность. Вероятно, имеет место разовая крупная покупка, которая сильно повлияла на график, так как после этого всплеска графики идут параллельно, то есть набирают выручку примерно одинаково. Необходимо построить график кумулятивного среднего чека, на нем выброс из-за крупной покупки будет видно."
   ]
  },
  {
   "cell_type": "markdown",
   "id": "648c0949-9a33-484e-8f97-2e1895686b31",
   "metadata": {},
   "source": [
    "### График кумулятивного среднего чека по группам."
   ]
  },
  {
   "cell_type": "code",
   "execution_count": 27,
   "id": "c6f0916b-cea5-45aa-909d-516f4a29b94b",
   "metadata": {},
   "outputs": [
    {
     "data": {
      "image/png": "[encoded data removed]",
      "text/plain": [
       "<Figure size 432x288 with 1 Axes>"
      ]
     },
     "metadata": {
      "needs_background": "light"
     },
     "output_type": "display_data"
    }
   ],
   "source": [
    "plt.plot(cumulativeRevenueA['date'].dt.day, cumulativeRevenueA['revenue']/cumulativeRevenueA['orders'], label='A')\n",
    "plt.plot(cumulativeRevenueB['date'].dt.day, cumulativeRevenueB['revenue']/cumulativeRevenueB['orders'], label='B')\n",
    "\n",
    "plt.xlabel('Дата')\n",
    "plt.ylabel('Выручка')\n",
    "plt.title('Средний чек')\n",
    "plt.legend()\n",
    "plt.show()"
   ]
  },
  {
   "cell_type": "markdown",
   "id": "bb5eed5b-6435-4c71-932c-fc98dec1a3ae",
   "metadata": {},
   "source": [
    "**Вывод:** Средний чек по группе А имеет просадку в начале эксперимента, затем достаточно быстро растет и после 2 недель эксперимента выравнивается на уровне 7000. Группа В напротив постепенно увеличивает средний чек первую неделю эксперимента, потом начинает выравниваться, но ближе к 20 дню виден скачок с 7000 до 10000, это однозначно говорит о крупной покупке или нескольких крупных покупках, которые выбиваются из общей массы. Далее линия среднего чека начинает снижаться, возвращаясь к среднему значению. Построим график относительного изменения среднего чека для оценки стабильности данных."
   ]
  },
  {
   "cell_type": "markdown",
   "id": "f1519311-2251-491e-9a9c-a7e355733c66",
   "metadata": {},
   "source": [
    "### График относительного изменения кумулятивного среднего чека группы B к группе A."
   ]
  },
  {
   "cell_type": "code",
   "execution_count": 28,
   "id": "27503c17-9fb3-4975-8b25-c731af7c5e37",
   "metadata": {},
   "outputs": [
    {
     "data": {
      "image/png": "[encoded data removed]",
      "text/plain": [
       "<Figure size 432x288 with 1 Axes>"
      ]
     },
     "metadata": {
      "needs_background": "light"
     },
     "output_type": "display_data"
    }
   ],
   "source": [
    "# собираем данные в одном датафрейме\n",
    "mergedCumulativeRevenue = cumulativeRevenueA.merge(cumulativeRevenueB, \n",
    "                                                   left_on='date', \n",
    "                                                   right_on='date', \n",
    "                                                   how='left', \n",
    "                                                   suffixes=['A', 'B'])\n",
    "\n",
    "# cтроим отношение средних чеков\n",
    "plt.plot(mergedCumulativeRevenue['date'].dt.day, \n",
    "         (mergedCumulativeRevenue['revenueB']/mergedCumulativeRevenue['ordersB'])/(mergedCumulativeRevenue['revenueA']/mergedCumulativeRevenue['ordersA'])-1, color='green')\n",
    "\n",
    "# добавляем ось X\n",
    "plt.axhline(y=0, color='gray', linestyle='--')\n",
    "\n",
    "plt.xlabel('Дата')\n",
    "plt.title('Относительное изменение среднего чека')\n",
    "plt.show()"
   ]
  },
  {
   "cell_type": "markdown",
   "id": "a4a2877e-78b3-4c24-ae9e-17d5bd1ae338",
   "metadata": {},
   "source": [
    "**Вывод:** отношение средних чеков нестабильно на протяжении всего эксперимента. Колебания достаточно серьёзные: от -20% до +50%. В середине эксперимента видна просадка среднего чека группы В, а потом следует резкий всплеск, в те же даты, что были отмечены ранее. Это также свидетельствует о наличии выбросов. Тем не менее, средний чек группы В на большем протяжении времени выше среднего чека группы А."
   ]
  },
  {
   "cell_type": "markdown",
   "id": "7c15d133-9a0b-401e-b16e-ae58a35a6bbd",
   "metadata": {},
   "source": [
    "###  График кумулятивного среднего количества заказов на посетителя по группам."
   ]
  },
  {
   "cell_type": "code",
   "execution_count": 29,
   "id": "122c5ce2-f6eb-45f5-b49b-33fc5095dd80",
   "metadata": {},
   "outputs": [
    {
     "data": {
      "image/png": "[encoded data removed]",
      "text/plain": [
       "<Figure size 432x288 with 1 Axes>"
      ]
     },
     "metadata": {
      "needs_background": "light"
     },
     "output_type": "display_data"
    }
   ],
   "source": [
    "# считаем среднее количество заказов на посетителя\n",
    "cumulativeData['conversion'] = cumulativeData['orders']/cumulativeData['visitors']\n",
    "\n",
    "# отделяем данные по группе A\n",
    "cumulativeDataA = cumulativeData[cumulativeData['group']=='A']\n",
    "\n",
    "# отделяем данные по группе B\n",
    "cumulativeDataB = cumulativeData[cumulativeData['group']=='B']\n",
    "\n",
    "# строим графики\n",
    "plt.plot(cumulativeDataA['date'].dt.day, cumulativeDataA['conversion'], label='A')\n",
    "plt.plot(cumulativeDataB['date'].dt.day, cumulativeDataB['conversion'], label='B')\n",
    "\n",
    "plt.xlabel('Дата')\n",
    "plt.ylabel('количество заказов')\n",
    "plt.title('Среднее количество заказов')\n",
    "plt.legend()\n",
    "plt.show()"
   ]
  },
  {
   "cell_type": "markdown",
   "id": "5c0d31f5-1f54-43cd-a910-43c3db0ea3c0",
   "metadata": {},
   "source": [
    "**Вывод:** среднее количество заказов по группам стабилизируется к концу второй недели экспермента. У группы В количество заказов в среднем выше, чем у группы А."
   ]
  },
  {
   "cell_type": "markdown",
   "id": "54811d39-e1d7-4798-872b-0bc972bcf0d0",
   "metadata": {},
   "source": [
    "### График относительного изменения кумулятивного среднего количества заказов на посетителя группы B к группе A."
   ]
  },
  {
   "cell_type": "code",
   "execution_count": 30,
   "id": "736eef7d-1a5b-4d76-a3ce-b6b8ae7a33b6",
   "metadata": {},
   "outputs": [
    {
     "data": {
      "image/png": "[encoded data removed]",
      "text/plain": [
       "<Figure size 432x288 with 1 Axes>"
      ]
     },
     "metadata": {
      "needs_background": "light"
     },
     "output_type": "display_data"
    }
   ],
   "source": [
    "mergedCumulativeConversions = cumulativeDataA[['date','conversion']].merge(cumulativeDataB[['date','conversion']], left_on='date', right_on='date', how='left', suffixes=['A', 'B'])\n",
    "\n",
    "plt.plot(mergedCumulativeConversions['date'].dt.day, mergedCumulativeConversions['conversionB']/mergedCumulativeConversions['conversionA']-1)\n",
    "\n",
    "\n",
    "plt.axhline(y=0, color='lightgray', linestyle='--')\n",
    "plt.axhline(y=0.1, color='green', linestyle='--')\n",
    "\n",
    "plt.xlabel('Дата')\n",
    "plt.title('Относительное изменение кумулятивного среднего количества заказов на посетителя группы B к группе A.')\n",
    "plt.show()"
   ]
  },
  {
   "cell_type": "markdown",
   "id": "539ed559-debc-4f85-9bfd-563762772968",
   "metadata": {},
   "source": [
    "**Вывод:** в начале теста отношение колеблется, но уже с 3 дня среднее количество заказов группы В стремительно растет, пока не упирается в потолок 20%, затем идет постеменное снижение. По графику пока нельзя сказать, что отношение среднего количества заказов стабилизировалось, но то, что среднее количество заказов группы В на протяжении 3 последнизх недель выше - неоспоримый факт! Количество заказов у группы В больше, соответственно и конверсия выше."
   ]
  },
  {
   "cell_type": "markdown",
   "id": "55b9cbc4-8d47-4915-8cc5-7ee0bbb65e2c",
   "metadata": {},
   "source": [
    "### Точечный график количества заказов по пользователям."
   ]
  },
  {
   "cell_type": "markdown",
   "id": "85e5d6ca-a619-4b73-8d90-c12e7d8b813b",
   "metadata": {},
   "source": [
    "Для этого необходимо определить количество покупок на каждого покупателя. Сгруппируем таблицу с заказами по покупателям, посчитаем количество заказов на каждого конкретного."
   ]
  },
  {
   "cell_type": "code",
   "execution_count": 31,
   "id": "9302a599-36c9-4478-814d-6e1e96e76d2d",
   "metadata": {},
   "outputs": [
    {
     "data": {
      "text/html": [
       "<div>\n",
       "<style scoped>\n",
       "    .dataframe tbody tr th:only-of-type {\n",
       "        vertical-align: middle;\n",
       "    }\n",
       "\n",
       "    .dataframe tbody tr th {\n",
       "        vertical-align: top;\n",
       "    }\n",
       "\n",
       "    .dataframe thead th {\n",
       "        text-align: right;\n",
       "    }\n",
       "</style>\n",
       "<table border=\"1\" class=\"dataframe\">\n",
       "  <thead>\n",
       "    <tr style=\"text-align: right;\">\n",
       "      <th></th>\n",
       "      <th>visitor_id</th>\n",
       "      <th>orders</th>\n",
       "      <th>group</th>\n",
       "    </tr>\n",
       "  </thead>\n",
       "  <tbody>\n",
       "    <tr>\n",
       "      <th>1023</th>\n",
       "      <td>4256040402</td>\n",
       "      <td>11</td>\n",
       "      <td>B</td>\n",
       "    </tr>\n",
       "    <tr>\n",
       "      <th>591</th>\n",
       "      <td>2458001652</td>\n",
       "      <td>11</td>\n",
       "      <td>B</td>\n",
       "    </tr>\n",
       "    <tr>\n",
       "      <th>569</th>\n",
       "      <td>2378935119</td>\n",
       "      <td>9</td>\n",
       "      <td>B</td>\n",
       "    </tr>\n",
       "    <tr>\n",
       "      <th>487</th>\n",
       "      <td>2038680547</td>\n",
       "      <td>8</td>\n",
       "      <td>B</td>\n",
       "    </tr>\n",
       "    <tr>\n",
       "      <th>44</th>\n",
       "      <td>199603092</td>\n",
       "      <td>5</td>\n",
       "      <td>B</td>\n",
       "    </tr>\n",
       "    <tr>\n",
       "      <th>744</th>\n",
       "      <td>3062433592</td>\n",
       "      <td>5</td>\n",
       "      <td>B</td>\n",
       "    </tr>\n",
       "    <tr>\n",
       "      <th>55</th>\n",
       "      <td>237748145</td>\n",
       "      <td>5</td>\n",
       "      <td>B</td>\n",
       "    </tr>\n",
       "    <tr>\n",
       "      <th>917</th>\n",
       "      <td>3803269165</td>\n",
       "      <td>5</td>\n",
       "      <td>B</td>\n",
       "    </tr>\n",
       "    <tr>\n",
       "      <th>299</th>\n",
       "      <td>1230306981</td>\n",
       "      <td>5</td>\n",
       "      <td>B</td>\n",
       "    </tr>\n",
       "    <tr>\n",
       "      <th>897</th>\n",
       "      <td>3717692402</td>\n",
       "      <td>5</td>\n",
       "      <td>B</td>\n",
       "    </tr>\n",
       "  </tbody>\n",
       "</table>\n",
       "</div>"
      ],
      "text/plain": [
       "      visitor_id  orders group\n",
       "1023  4256040402      11     B\n",
       "591   2458001652      11     B\n",
       "569   2378935119       9     B\n",
       "487   2038680547       8     B\n",
       "44     199603092       5     B\n",
       "744   3062433592       5     B\n",
       "55     237748145       5     B\n",
       "917   3803269165       5     B\n",
       "299   1230306981       5     B\n",
       "897   3717692402       5     B"
      ]
     },
     "execution_count": 31,
     "metadata": {},
     "output_type": "execute_result"
    }
   ],
   "source": [
    "#группируем по пользователям\n",
    "ordersByUsers = orders.groupby('visitor_id', as_index=False).agg({'transaction_id': 'count', 'group': 'max'})\n",
    "ordersByUsers.columns = ['visitor_id', 'orders', 'group']\n",
    "ordersByUsers.sort_values(by='orders', ascending=False).head(10)"
   ]
  },
  {
   "cell_type": "markdown",
   "id": "65d36196-626a-4c00-b571-28542fed5e98",
   "metadata": {},
   "source": [
    "**Вывод:** по таблице видно, что есть покупатели, которые совершили более 5 покупок, но их всего 4 человека. Дальше максимальное количество заказов составляет 5. Построим точечный график, чтобы наглядно увидеть, как вообще распределено количество заказов на одного покупателя. Попробуем исключить \"плохих\" пользователей, попавших сразу в обе группы."
   ]
  },
  {
   "cell_type": "code",
   "execution_count": 32,
   "id": "f92e6138-104f-49e7-bb39-32330c0d7f79",
   "metadata": {},
   "outputs": [
    {
     "data": {
      "text/html": [
       "<div>\n",
       "<style scoped>\n",
       "    .dataframe tbody tr th:only-of-type {\n",
       "        vertical-align: middle;\n",
       "    }\n",
       "\n",
       "    .dataframe tbody tr th {\n",
       "        vertical-align: top;\n",
       "    }\n",
       "\n",
       "    .dataframe thead th {\n",
       "        text-align: right;\n",
       "    }\n",
       "</style>\n",
       "<table border=\"1\" class=\"dataframe\">\n",
       "  <thead>\n",
       "    <tr style=\"text-align: right;\">\n",
       "      <th></th>\n",
       "      <th>visitor_id</th>\n",
       "      <th>orders</th>\n",
       "      <th>group</th>\n",
       "    </tr>\n",
       "  </thead>\n",
       "  <tbody>\n",
       "    <tr>\n",
       "      <th>908</th>\n",
       "      <td>3967698036</td>\n",
       "      <td>3</td>\n",
       "      <td>A</td>\n",
       "    </tr>\n",
       "    <tr>\n",
       "      <th>55</th>\n",
       "      <td>249864742</td>\n",
       "      <td>3</td>\n",
       "      <td>B</td>\n",
       "    </tr>\n",
       "    <tr>\n",
       "      <th>478</th>\n",
       "      <td>2108163459</td>\n",
       "      <td>3</td>\n",
       "      <td>A</td>\n",
       "    </tr>\n",
       "    <tr>\n",
       "      <th>687</th>\n",
       "      <td>2988190573</td>\n",
       "      <td>3</td>\n",
       "      <td>A</td>\n",
       "    </tr>\n",
       "    <tr>\n",
       "      <th>890</th>\n",
       "      <td>3908431265</td>\n",
       "      <td>3</td>\n",
       "      <td>A</td>\n",
       "    </tr>\n",
       "    <tr>\n",
       "      <th>138</th>\n",
       "      <td>611059232</td>\n",
       "      <td>3</td>\n",
       "      <td>A</td>\n",
       "    </tr>\n",
       "    <tr>\n",
       "      <th>632</th>\n",
       "      <td>2742574263</td>\n",
       "      <td>3</td>\n",
       "      <td>B</td>\n",
       "    </tr>\n",
       "    <tr>\n",
       "      <th>157</th>\n",
       "      <td>678354126</td>\n",
       "      <td>2</td>\n",
       "      <td>A</td>\n",
       "    </tr>\n",
       "    <tr>\n",
       "      <th>323</th>\n",
       "      <td>1404560065</td>\n",
       "      <td>2</td>\n",
       "      <td>B</td>\n",
       "    </tr>\n",
       "    <tr>\n",
       "      <th>452</th>\n",
       "      <td>1985475298</td>\n",
       "      <td>2</td>\n",
       "      <td>B</td>\n",
       "    </tr>\n",
       "  </tbody>\n",
       "</table>\n",
       "</div>"
      ],
      "text/plain": [
       "     visitor_id  orders group\n",
       "908  3967698036       3     A\n",
       "55    249864742       3     B\n",
       "478  2108163459       3     A\n",
       "687  2988190573       3     A\n",
       "890  3908431265       3     A\n",
       "138   611059232       3     A\n",
       "632  2742574263       3     B\n",
       "157   678354126       2     A\n",
       "323  1404560065       2     B\n",
       "452  1985475298       2     B"
      ]
     },
     "execution_count": 32,
     "metadata": {},
     "output_type": "execute_result"
    }
   ],
   "source": [
    "#группируем по пользователям\n",
    "ordersByUsersClear = orders_clear.groupby('visitor_id', as_index=False).agg({'transaction_id': 'count', 'group': 'max'})\n",
    "ordersByUsersClear.columns = ['visitor_id', 'orders', 'group']\n",
    "ordersByUsersClear.sort_values(by='orders', ascending=False).head(10)"
   ]
  },
  {
   "cell_type": "markdown",
   "id": "679ac74a-d7e7-4f43-8685-a6f08e835d9f",
   "metadata": {},
   "source": [
    "**Вывод:** без учета \"плохих\" пользователей картина намного ровнее - не более 3 покупок на человека. При из выявлении приняли решение считать количество заказов с их учетом, поэтому пока их не удаляем. В любом случае, они в большинстве случаев окажутся выбросами и в конечном итоге отсеятся."
   ]
  },
  {
   "cell_type": "code",
   "execution_count": 33,
   "id": "9c620454-3fff-4bb8-ac5e-d2fe92865a3d",
   "metadata": {},
   "outputs": [
    {
     "data": {
      "image/png": "[encoded data removed]",
      "text/plain": [
       "<Figure size 432x288 with 1 Axes>"
      ]
     },
     "metadata": {
      "needs_background": "light"
     },
     "output_type": "display_data"
    }
   ],
   "source": [
    "x_values = pd.Series(range(0,len(ordersByUsers)))\n",
    "\n",
    "plt.scatter(x_values, ordersByUsers['orders'])\n",
    "plt.title('Количество заказов')\n",
    "plt.show()"
   ]
  },
  {
   "cell_type": "code",
   "execution_count": 34,
   "id": "90a7e6ea-36c7-44c4-9136-2ae109026aad",
   "metadata": {},
   "outputs": [
    {
     "data": {
      "text/plain": [
       "count    1031.000000\n",
       "mean        1.161009\n",
       "std         0.724919\n",
       "min         1.000000\n",
       "25%         1.000000\n",
       "50%         1.000000\n",
       "75%         1.000000\n",
       "max        11.000000\n",
       "Name: orders, dtype: float64"
      ]
     },
     "execution_count": 34,
     "metadata": {},
     "output_type": "execute_result"
    }
   ],
   "source": [
    "ordersByUsers['orders'].describe()"
   ]
  },
  {
   "cell_type": "markdown",
   "id": "47c3d67d-413f-4243-9c03-5d4b0c3fef96",
   "metadata": {},
   "source": [
    "**Вывод:** видим, что основная часть покупателей имеет только 1 заказ, еще немного по 2 заказа, а далее следует пропасть в количестве. Стоит отметить, что в топ-10 из таблицы попали исключительно пользователи из группы В. Возможно, пользователи из группы А ведут себя иначе? Стоит разделить количество покупок на группы и сравнить."
   ]
  },
  {
   "cell_type": "code",
   "execution_count": 35,
   "id": "549531cf-15fe-4ff9-b4cf-237270706e57",
   "metadata": {},
   "outputs": [
    {
     "data": {
      "text/html": [
       "<div>\n",
       "<style scoped>\n",
       "    .dataframe tbody tr th:only-of-type {\n",
       "        vertical-align: middle;\n",
       "    }\n",
       "\n",
       "    .dataframe tbody tr th {\n",
       "        vertical-align: top;\n",
       "    }\n",
       "\n",
       "    .dataframe thead th {\n",
       "        text-align: right;\n",
       "    }\n",
       "</style>\n",
       "<table border=\"1\" class=\"dataframe\">\n",
       "  <thead>\n",
       "    <tr style=\"text-align: right;\">\n",
       "      <th></th>\n",
       "      <th>visitor_id</th>\n",
       "      <th>orders</th>\n",
       "      <th>group</th>\n",
       "    </tr>\n",
       "  </thead>\n",
       "  <tbody>\n",
       "    <tr>\n",
       "      <th>148</th>\n",
       "      <td>611059232</td>\n",
       "      <td>3</td>\n",
       "      <td>A</td>\n",
       "    </tr>\n",
       "    <tr>\n",
       "      <th>504</th>\n",
       "      <td>2108163459</td>\n",
       "      <td>3</td>\n",
       "      <td>A</td>\n",
       "    </tr>\n",
       "    <tr>\n",
       "      <th>726</th>\n",
       "      <td>2988190573</td>\n",
       "      <td>3</td>\n",
       "      <td>A</td>\n",
       "    </tr>\n",
       "    <tr>\n",
       "      <th>937</th>\n",
       "      <td>3908431265</td>\n",
       "      <td>3</td>\n",
       "      <td>A</td>\n",
       "    </tr>\n",
       "    <tr>\n",
       "      <th>959</th>\n",
       "      <td>3967698036</td>\n",
       "      <td>3</td>\n",
       "      <td>A</td>\n",
       "    </tr>\n",
       "  </tbody>\n",
       "</table>\n",
       "</div>"
      ],
      "text/plain": [
       "     visitor_id  orders group\n",
       "148   611059232       3     A\n",
       "504  2108163459       3     A\n",
       "726  2988190573       3     A\n",
       "937  3908431265       3     A\n",
       "959  3967698036       3     A"
      ]
     },
     "metadata": {},
     "output_type": "display_data"
    },
    {
     "data": {
      "text/html": [
       "<div>\n",
       "<style scoped>\n",
       "    .dataframe tbody tr th:only-of-type {\n",
       "        vertical-align: middle;\n",
       "    }\n",
       "\n",
       "    .dataframe tbody tr th {\n",
       "        vertical-align: top;\n",
       "    }\n",
       "\n",
       "    .dataframe thead th {\n",
       "        text-align: right;\n",
       "    }\n",
       "</style>\n",
       "<table border=\"1\" class=\"dataframe\">\n",
       "  <thead>\n",
       "    <tr style=\"text-align: right;\">\n",
       "      <th></th>\n",
       "      <th>visitor_id</th>\n",
       "      <th>orders</th>\n",
       "      <th>group</th>\n",
       "    </tr>\n",
       "  </thead>\n",
       "  <tbody>\n",
       "    <tr>\n",
       "      <th>1023</th>\n",
       "      <td>4256040402</td>\n",
       "      <td>11</td>\n",
       "      <td>B</td>\n",
       "    </tr>\n",
       "    <tr>\n",
       "      <th>591</th>\n",
       "      <td>2458001652</td>\n",
       "      <td>11</td>\n",
       "      <td>B</td>\n",
       "    </tr>\n",
       "    <tr>\n",
       "      <th>569</th>\n",
       "      <td>2378935119</td>\n",
       "      <td>9</td>\n",
       "      <td>B</td>\n",
       "    </tr>\n",
       "    <tr>\n",
       "      <th>487</th>\n",
       "      <td>2038680547</td>\n",
       "      <td>8</td>\n",
       "      <td>B</td>\n",
       "    </tr>\n",
       "    <tr>\n",
       "      <th>897</th>\n",
       "      <td>3717692402</td>\n",
       "      <td>5</td>\n",
       "      <td>B</td>\n",
       "    </tr>\n",
       "  </tbody>\n",
       "</table>\n",
       "</div>"
      ],
      "text/plain": [
       "      visitor_id  orders group\n",
       "1023  4256040402      11     B\n",
       "591   2458001652      11     B\n",
       "569   2378935119       9     B\n",
       "487   2038680547       8     B\n",
       "897   3717692402       5     B"
      ]
     },
     "execution_count": 35,
     "metadata": {},
     "output_type": "execute_result"
    }
   ],
   "source": [
    "#разделяем пользователей на группы\n",
    "ordersByUsersA = ordersByUsers[ordersByUsers['group'] == 'A']\n",
    "ordersByUsersB = ordersByUsers[ordersByUsers['group'] == 'B']\n",
    "\n",
    "display(ordersByUsersA.sort_values(by='orders', ascending=False).head())\n",
    "ordersByUsersB.sort_values(by='orders', ascending=False).head()"
   ]
  },
  {
   "cell_type": "code",
   "execution_count": 36,
   "id": "3014998b-157a-4425-94e4-b057ffc2faa5",
   "metadata": {},
   "outputs": [
    {
     "data": {
      "image/png": "[encoded data removed]",
      "text/plain": [
       "<Figure size 1080x360 with 2 Axes>"
      ]
     },
     "metadata": {
      "needs_background": "light"
     },
     "output_type": "display_data"
    }
   ],
   "source": [
    "plt.figure(figsize=(15,5))\n",
    "\n",
    "plt.subplot(1, 2, 1)\n",
    "x_values = pd.Series(range(0,len(ordersByUsersA)))\n",
    "plt.scatter(x_values, ordersByUsersA['orders']) \n",
    "plt.title(\"Количество заказов, группа А \")\n",
    "plt.ylim(0,8)\n",
    "\n",
    "plt.subplot(1, 2, 2)\n",
    "x_values = pd.Series(range(0,len(ordersByUsersB)))\n",
    "plt.scatter(x_values, ordersByUsersB['orders'] ) \n",
    "plt.title(\"Количество заказов, группа В\")\n",
    "plt.show()"
   ]
  },
  {
   "cell_type": "markdown",
   "id": "8e62625a-985a-43b1-bef0-49eea3aad8eb",
   "metadata": {},
   "source": [
    "**Вывод:** действительно, в группе А нет таких выбросов по количеству покупок, ни один из покупателей не совершил более 3 покупок за месяц, в группе В выбросов больше. Вспоминаем графики из начала исследования - там тоже явно были выбросы, теория начинает подтверждаться. Далее следует выявить 95 и 99 процентили, чтобы понять, какое количество данных нужно отбросить, чтобы получить более достоверный результат."
   ]
  },
  {
   "cell_type": "markdown",
   "id": "51d1fd4d-268d-4e65-90f2-374af2492c55",
   "metadata": {},
   "source": [
    "### 95-й и 99-й перцентили количества заказов на пользователя."
   ]
  },
  {
   "cell_type": "code",
   "execution_count": 37,
   "id": "2a332383-710b-4826-95e2-2d2af5bcb81d",
   "metadata": {},
   "outputs": [
    {
     "data": {
      "text/plain": [
       "array([2., 4.])"
      ]
     },
     "execution_count": 37,
     "metadata": {},
     "output_type": "execute_result"
    }
   ],
   "source": [
    "#все покупатели \n",
    "np.percentile(ordersByUsers['orders'], [95, 99])"
   ]
  },
  {
   "cell_type": "code",
   "execution_count": 38,
   "id": "2ae57ab4-da66-4d14-8a67-43a5d0c9ea1c",
   "metadata": {},
   "outputs": [
    {
     "data": {
      "text/plain": [
       "array([1., 2.])"
      ]
     },
     "execution_count": 38,
     "metadata": {},
     "output_type": "execute_result"
    }
   ],
   "source": [
    "#все покупатели без учета \"плохих\"\n",
    "np.percentile(ordersByUsersClear['orders'], [95, 99])"
   ]
  },
  {
   "cell_type": "code",
   "execution_count": 39,
   "id": "ec3bbc36-0de0-4862-a64d-5318250d426f",
   "metadata": {},
   "outputs": [
    {
     "data": {
      "text/plain": [
       "array([1.  , 2.56])"
      ]
     },
     "execution_count": 39,
     "metadata": {},
     "output_type": "execute_result"
    }
   ],
   "source": [
    "#Группа А\n",
    "np.percentile(ordersByUsersA['orders'], [95, 99])"
   ]
  },
  {
   "cell_type": "code",
   "execution_count": 40,
   "id": "909ceeb1-b752-48eb-af0f-2588d261567b",
   "metadata": {},
   "outputs": [
    {
     "data": {
      "text/plain": [
       "array([2., 5.])"
      ]
     },
     "execution_count": 40,
     "metadata": {},
     "output_type": "execute_result"
    }
   ],
   "source": [
    "#Группа В\n",
    "np.percentile(ordersByUsersB['orders'], [95, 99])"
   ]
  },
  {
   "cell_type": "markdown",
   "id": "5de11d58-154e-4d13-8dcd-a7fec6268560",
   "metadata": {},
   "source": [
    "**Вывод:** в группе А не более 5% покупателей сделали более 1 заказа, а до 3 заказов дошли лишь единицы. В группе В 5% покупателей зделали уже не более 2 заказов, а 1% совершили 5 и более покупок. Выходит, что в группе В среднее количество покупок выше. В среднем, без разбивки по группам, не более 5% пркупателей совершили 2 заказа. Получается, из группы А следует убрать данные о пользователях, совершивших более 1 заказа, для группы В - более 2 заказов. Если взять общее количество заказов за вычетом \"плохих\" получаем значение, близкое в группе А: 1 на 95-м и 2 на 99-м перцентиле. Можно оставить границу на 1 заказе, но тогда потеряем данные для анализа, пожтому оставляем, как решено ранее."
   ]
  },
  {
   "cell_type": "markdown",
   "id": "d82b9b34-2245-4b63-a381-f68d784d5703",
   "metadata": {},
   "source": [
    "###  Точечный график стоимостей заказов."
   ]
  },
  {
   "cell_type": "code",
   "execution_count": 41,
   "id": "057c6647-860c-4542-be30-08190aeaa834",
   "metadata": {},
   "outputs": [
    {
     "data": {
      "image/png": "[encoded data removed]",
      "text/plain": [
       "<Figure size 432x288 with 1 Axes>"
      ]
     },
     "metadata": {
      "needs_background": "light"
     },
     "output_type": "display_data"
    }
   ],
   "source": [
    "x_values = pd.Series(range(0, len(orders['revenue'])))\n",
    "\n",
    "plt.scatter(x_values, orders['revenue'])\n",
    "plt.title('Стоимость заказов')\n",
    "plt.show()"
   ]
  },
  {
   "cell_type": "code",
   "execution_count": 42,
   "id": "1e312d8d-f1e0-4cc0-95d9-2e268739e5cb",
   "metadata": {},
   "outputs": [
    {
     "data": {
      "text/plain": [
       "count    1.197000e+03\n",
       "mean     8.348006e+03\n",
       "std      3.919113e+04\n",
       "min      5.000000e+01\n",
       "25%      1.220000e+03\n",
       "50%      2.978000e+03\n",
       "75%      8.290000e+03\n",
       "max      1.294500e+06\n",
       "Name: revenue, dtype: float64"
      ]
     },
     "execution_count": 42,
     "metadata": {},
     "output_type": "execute_result"
    }
   ],
   "source": [
    "orders['revenue'].describe()"
   ]
  },
  {
   "cell_type": "markdown",
   "id": "817f0734-ebd3-446b-80e8-098ff7a6dbac",
   "metadata": {},
   "source": [
    "Похоже, вот и виновник резкого всплеска - одиноко светится значительно выше всех остальных. Из-за единичного выброса ничего рассмотреть не получается. Ограничим отображение по сумме."
   ]
  },
  {
   "cell_type": "code",
   "execution_count": 43,
   "id": "438c4c1b-5a12-4508-8d62-42b1c2fc13b9",
   "metadata": {},
   "outputs": [
    {
     "data": {
      "image/png": "[encoded data removed]",
      "text/plain": [
       "<Figure size 432x288 with 1 Axes>"
      ]
     },
     "metadata": {
      "needs_background": "light"
     },
     "output_type": "display_data"
    }
   ],
   "source": [
    "x_values = pd.Series(range(0, len(orders['revenue'])))\n",
    "\n",
    "plt.scatter(x_values, orders['revenue'])\n",
    "plt.title('Стоимость заказов')\n",
    "plt.ylim(0, 100000)\n",
    "plt.show()"
   ]
  },
  {
   "cell_type": "markdown",
   "id": "08235478-3050-41a7-a39f-453b1dd9b253",
   "metadata": {},
   "source": [
    "Рассмотрим также поведение покупателей по каждой группе отдельно."
   ]
  },
  {
   "cell_type": "code",
   "execution_count": 44,
   "id": "7047370b-1700-4282-be95-b6912d96fc8c",
   "metadata": {},
   "outputs": [],
   "source": [
    "#делим заказы по группам\n",
    "ordersA = orders_clear[orders_clear['group'] == 'A']\n",
    "ordersB = orders_clear[orders_clear['group'] == 'B']"
   ]
  },
  {
   "cell_type": "code",
   "execution_count": 45,
   "id": "5d27ba08-4f69-416f-87fd-b030f1b20afe",
   "metadata": {},
   "outputs": [
    {
     "data": {
      "image/png": "[encoded data removed]",
      "text/plain": [
       "<Figure size 1080x360 with 2 Axes>"
      ]
     },
     "metadata": {
      "needs_background": "light"
     },
     "output_type": "display_data"
    }
   ],
   "source": [
    "plt.figure(figsize=(15,5))\n",
    "\n",
    "plt.subplot(1, 2, 1)\n",
    "x_values = pd.Series(range(0,len(ordersA)))\n",
    "plt.scatter(x_values, ordersA['revenue']) \n",
    "plt.title(\"Стоимость заказов, группа А \")\n",
    "\n",
    "\n",
    "plt.subplot(1, 2, 2)\n",
    "x_values = pd.Series(range(0,len(ordersB)))\n",
    "plt.scatter(x_values, ordersB['revenue'] ) \n",
    "plt.title(\"Стоимость заказов, группа В\")\n",
    "plt.show()"
   ]
  },
  {
   "cell_type": "markdown",
   "id": "00668547-be33-4bcc-952f-0539a51019ef",
   "metadata": {},
   "source": [
    "**Вывод:** видно, что выброс пришелся на группу В. Из-за масштаба сложно оценить распределение по стоимость заказов. Также ограничим отображение по группе В."
   ]
  },
  {
   "cell_type": "code",
   "execution_count": 46,
   "id": "689e6b8a-bf5f-4728-a369-1a9f93d56927",
   "metadata": {},
   "outputs": [
    {
     "data": {
      "image/png": "[encoded data removed]",
      "text/plain": [
       "<Figure size 1080x360 with 2 Axes>"
      ]
     },
     "metadata": {
      "needs_background": "light"
     },
     "output_type": "display_data"
    }
   ],
   "source": [
    "plt.figure(figsize=(15,5))\n",
    "\n",
    "plt.subplot(1, 2, 1)\n",
    "x_values = pd.Series(range(0,len(ordersA)))\n",
    "plt.scatter(x_values, ordersA['revenue']) \n",
    "plt.title(\"Стоимость заказов, группа А \")\n",
    "\n",
    "\n",
    "plt.subplot(1, 2, 2)\n",
    "x_values = pd.Series(range(0,len(ordersB)))\n",
    "plt.scatter(x_values, ordersB['revenue'] ) \n",
    "plt.title(\"Стоимость заказов, группа В\")\n",
    "plt.ylim(0, 100000)\n",
    "plt.show()"
   ]
  },
  {
   "cell_type": "markdown",
   "id": "475d87a4-b793-4f50-9626-34fc8e150e85",
   "metadata": {},
   "source": [
    "**Вывод:** визуально большая часть заказов находится в пределах 20000. Если не считать единичных выбросов у группы В, то можно сказать, что средняя стоимость заказазов у обеих групп одинаковая. Для более точного определения необходимо также, как и в случае с количеством заказов, посчитать 95-й и 99-й перцентили."
   ]
  },
  {
   "cell_type": "markdown",
   "id": "a4f60e6d-6350-44a8-a1a2-f907e175f87b",
   "metadata": {},
   "source": [
    "###  95-й и 99-й перцентили стоимости заказов."
   ]
  },
  {
   "cell_type": "code",
   "execution_count": 47,
   "id": "01aff471-b529-48b1-9cf2-dd871092eaea",
   "metadata": {},
   "outputs": [
    {
     "data": {
      "text/plain": [
       "array([26785., 53904.])"
      ]
     },
     "execution_count": 47,
     "metadata": {},
     "output_type": "execute_result"
    }
   ],
   "source": [
    "np.percentile(orders_clear['revenue'], [95, 99])"
   ]
  },
  {
   "cell_type": "code",
   "execution_count": 48,
   "id": "49667d74-3c6d-41dd-9bbe-2c24d3a25329",
   "metadata": {},
   "outputs": [
    {
     "data": {
      "text/plain": [
       "array([24944.5 , 56064.18])"
      ]
     },
     "execution_count": 48,
     "metadata": {},
     "output_type": "execute_result"
    }
   ],
   "source": [
    "np.percentile(ordersA['revenue'], [95, 99])"
   ]
  },
  {
   "cell_type": "code",
   "execution_count": 49,
   "id": "bcb47c4c-c036-4635-84b9-6828558a7b49",
   "metadata": {},
   "outputs": [
    {
     "data": {
      "text/plain": [
       "array([27561.5, 49553.6])"
      ]
     },
     "execution_count": 49,
     "metadata": {},
     "output_type": "execute_result"
    }
   ],
   "source": [
    "np.percentile(ordersB['revenue'], [95, 99])"
   ]
  },
  {
   "cell_type": "markdown",
   "id": "4554db63-b00e-4ae9-bc34-e987d85d2f2e",
   "metadata": {},
   "source": [
    "**Вывод:** как и предполагалось, 95-й и 99-й перцентили по обеим не равны.  95-й перцентиль группы А меньше,чем у группы В, а с 95-м перцентилем всё наоборот. Это говорит о большей плотности стоимости заказов у группы В. За верхнюю границу предлагаю взять значение 27000 для обеих групп, таким образом мы равномерно \"обрежем\" аномальные данные по группам."
   ]
  },
  {
   "cell_type": "markdown",
   "id": "88b09793-27c3-478f-ae3a-8d2197daca77",
   "metadata": {},
   "source": [
    "###   Статистическая значимость различий в среднем количестве заказов на посетителя между группами по «сырым» данным."
   ]
  },
  {
   "cell_type": "markdown",
   "id": "94052854-f1ca-42be-8c53-1e05e8e149af",
   "metadata": {},
   "source": [
    "Посчитаем статистическую значимость различий в среднем количестве заказов на пользователя между группами по «сырым» данным — без удаления аномальных пользователей.\n",
    "\n",
    "Сформулируем гипотезы:\n",
    "- H0: различий в среднем количестве заказов между группами нет. \n",
    "- H1: различия в среднем между группами есть.\n",
    "\n",
    "Начнем с подготовки данных"
   ]
  },
  {
   "cell_type": "markdown",
   "id": "5cfb39af-edf9-43ac-a8d6-a3fe48a8327b",
   "metadata": {},
   "source": [
    "Названия столбцов данных:\n",
    "- `date` - дата;\n",
    "- `ordersPerDateA` -  количество заказов в выбранную дату в группе A;\n",
    "- `revenuePerDateA` - суммарная выручка в выбранную дату в группе A;\n",
    "- `ordersPerDateB` -  количество заказов в выбранную дату в группе B;\n",
    "- `revenuePerDateB` -  суммарная выручка в выбранную дату в группе B;\n",
    "- `ordersCummulativeA` - суммарное число заказов до выбранной даты включительно в группе A;\n",
    "- `revenueCummulativeA` - суммарная выручка до выбранной даты включительно в группе A;\n",
    "- `ordersCummulativeB` - суммарное количество заказов до выбранной даты включительно в группе B;\n",
    "- `revenueCummulativeB` - суммарная выручка до выбранной даты включительно в группе B;\n",
    "- `visitorsPerDateA` - количество пользователей в выбранную дату в группе A;\n",
    "- `visitorsPerDateВ` - количество пользователей в выбранную дату в группе В;\n",
    "- `visitorsCummulativeA` - количество пользователей до выбранной даты включительно в группе A;\n",
    "- `visitorsCummulativeВ` - количество пользователей до выбранной даты включительно в группе В;\n",
    "\n",
    "Создадим переменные `ordersByUsersA` и `ordersByUsersB` со столбцами `visitor_id', 'orders'`. В них для пользователей, которые заказывали хотя бы 1 раз, укажем число совершённых заказов.\n",
    "\n",
    "Объявим переменные `sampleA` и `sampleB`, в которых пользователям из разных групп будет соответствовать количество заказов. Тем, кто ничего не заказал, будут соответствовать нули. "
   ]
  },
  {
   "cell_type": "code",
   "execution_count": 51,
   "id": "12ea3822-bd89-4eec-97fc-8bc68a3f359c",
   "metadata": {},
   "outputs": [],
   "source": [
    "# Создаем DataFrame с количеством заказов на пользователя в группе A\n",
    "ordersByUsersA = (\n",
    "    orders[orders['group'] == 'A']\n",
    "    .groupby('visitor_id', as_index=False)\n",
    "    .agg({'transaction_id': pd.Series.nunique})\n",
    ")\n",
    "ordersByUsersA.columns = ['visitor_id', 'orders']\n",
    "\n",
    "# Аналогично создаем DataFrame с количеством заказов на пользователя в группе B\n",
    "ordersByUsersB = (\n",
    "    orders[orders['group'] == 'B']\n",
    "    .groupby('visitor_id', as_index=False)\n",
    "    .agg({'transaction_id': pd.Series.nunique})\n",
    ")\n",
    "ordersByUsersB.columns = ['visitor_id', 'orders']\n",
    "\n",
    "# Создаем выборки sampleA и sampleB для проведения статистических тестов\n",
    "sampleA = pd.concat([ordersByUsersA['orders'],\n",
    "        pd.Series(0, index=np.arange(data['visitorsPerDateA'].sum() - len(ordersByUsersA['orders'])),\n",
    "            name='orders')],axis=0)\n",
    "\n",
    "sampleB = pd.concat([ordersByUsersB['orders'],\n",
    "        pd.Series(0, index=np.arange(data['visitorsPerDateB'].sum() - len(ordersByUsersB['orders'])),\n",
    "            name='orders')],axis=0)"
   ]
  },
  {
   "cell_type": "markdown",
   "id": "49033c35-2bc1-4745-b581-04a03118aa29",
   "metadata": {},
   "source": [
    "Используем критерий Манна-Уитни для проверки гипотезы."
   ]
  },
  {
   "cell_type": "code",
   "execution_count": 52,
   "id": "3d32ddc1-a64d-482b-9987-94be78f9487f",
   "metadata": {},
   "outputs": [
    {
     "name": "stdout",
     "output_type": "stream",
     "text": [
      "p-value: 0.017\n",
      "0.138\n"
     ]
    }
   ],
   "source": [
    "print('p-value:', f'{st.mannwhitneyu(sampleA, sampleB)[1]:.3f}')\n",
    "print(f'{(sampleB.mean() / sampleA.mean() - 1):.3f}')"
   ]
  },
  {
   "cell_type": "markdown",
   "id": "1c853ec1-16d0-4098-aaad-8519c81eb68d",
   "metadata": {},
   "source": [
    "**Вывод:** p-value показывает результат ниже статистической значимости. Это означает, что мы отвергаем нулевую гипотезу. Судя по всему,различия в группах всё же имеются. Отностительная разница конверсии по группам составила 13,8%, конверсия в группе В выше. Это информация по \"сырым\" данным."
   ]
  },
  {
   "cell_type": "markdown",
   "id": "cacaa309-3303-4d0e-83d8-8bd85d533f8b",
   "metadata": {},
   "source": [
    "### Cтатистическая значимость различий в среднем чеке заказа между группами по «сырым» данным."
   ]
  },
  {
   "cell_type": "markdown",
   "id": "8d08efd6-8035-4272-9848-cab63f8d7bc2",
   "metadata": {},
   "source": [
    "Сформулируем гипотезы:\n",
    "- H0: статистически значимых различий в среднем чеке между группами нет. \n",
    "- H1: статистически значимые различия в среднем чеке есть."
   ]
  },
  {
   "cell_type": "code",
   "execution_count": 53,
   "id": "7359f2b2-e1ce-403f-b19d-7633fc83b2e2",
   "metadata": {},
   "outputs": [
    {
     "name": "stdout",
     "output_type": "stream",
     "text": [
      "p-value: 0.829\n",
      "0.287\n"
     ]
    }
   ],
   "source": [
    "print('p-value:', f'{st.mannwhitneyu(orders_clear[orders_clear[\"group\"]==\"A\"][\"revenue\"], orders_clear[orders_clear[\"group\"]==\"B\"][\"revenue\"])[1]:.3f}')\n",
    "print(f'{orders_clear[orders_clear[\"group\"]==\"B\"][\"revenue\"].mean()/orders_clear[orders_clear[\"group\"]==\"A\"][\"revenue\"].mean()-1:.3f}')"
   ]
  },
  {
   "cell_type": "markdown",
   "id": "7ea782c4-4088-4078-a289-39f929a75db4",
   "metadata": {},
   "source": [
    "**Вывод:** исходя из \"сырых\" данных получается следующая картина: p-value значительно превышает уровень статистической значимости, соответственно мы не можем отвергнуть нулевую гипотезу о равенстве среднего. Относительная разница среднего чека между группами составляет почти 29%, однако в данном случае это значение не является статистически значимым, поскольку могло получиться в результате воздействия единичных выбросов. Напомню, в исследовании попался чек, превышающий средние значения более чем в 40 раз! В связи с эти далее исследуем очищенные данные и заново сравним среднее количество заказов и статистические различия в среднем чеке."
   ]
  },
  {
   "cell_type": "markdown",
   "id": "5e18e839-54fc-4534-9fc5-13e2961df546",
   "metadata": {},
   "source": [
    "###  Статистическая значимость различий в среднем количестве заказов на посетителя между группами по «очищенным» данным."
   ]
  },
  {
   "cell_type": "markdown",
   "id": "134521d5-df2a-4f7e-9b5b-6376a123544a",
   "metadata": {},
   "source": [
    "Найдем переменную, в которой соберем аномальные значения по количеству заказов и по среднему чеку. Данные возьмем из предыдущих пунктов."
   ]
  },
  {
   "cell_type": "code",
   "execution_count": 54,
   "id": "df06c8f1-bb60-4f4f-9ee5-6cf638684399",
   "metadata": {},
   "outputs": [
    {
     "data": {
      "text/plain": [
       "94"
      ]
     },
     "execution_count": 54,
     "metadata": {},
     "output_type": "execute_result"
    }
   ],
   "source": [
    "#пользователи с большим количеством заказов\n",
    "usersWithManyOrders = pd.concat(\n",
    "    [\n",
    "        ordersByUsersA[ordersByUsersA['orders'] > 1]['visitor_id'],\n",
    "        ordersByUsersB[ordersByUsersB['orders'] > 2]['visitor_id'],\n",
    "    ],\n",
    "    axis=0,\n",
    ")\n",
    "\n",
    "#пользователи с дорогими покупками\n",
    "revenue_lim = 27000\n",
    "usersWithExpensiveOrders = orders[orders['revenue'] > revenue_lim]['visitor_id']\n",
    "\n",
    "#сводная по аномальным пользователям\n",
    "abnormalUsers = (\n",
    "    pd.concat([usersWithManyOrders, usersWithExpensiveOrders], axis=0)\n",
    "    .drop_duplicates()\n",
    "    .sort_values()\n",
    ")\n",
    "abnormalUsers.shape[0]"
   ]
  },
  {
   "cell_type": "markdown",
   "id": "08f02865-e4c5-4898-9aed-fcdccb80fc9f",
   "metadata": {},
   "source": [
    "Получили 94 покупки, которые выбиваются за \"нормальные\" границы по количеству заказов и по среднему чеку. Можно приступать к проверке гипотез по \"очищенным\" данным."
   ]
  },
  {
   "cell_type": "code",
   "execution_count": 55,
   "id": "56b99a45-cecf-4717-a956-dbb87ee21f65",
   "metadata": {},
   "outputs": [],
   "source": [
    "#данные по группе А\n",
    "sampleAFiltered = pd.concat(\n",
    "    [\n",
    "        ordersByUsersA[\n",
    "            np.logical_not(ordersByUsersA['visitor_id'].isin(abnormalUsers))\n",
    "        ]['orders'],\n",
    "        pd.Series(\n",
    "            0,\n",
    "            index=np.arange(\n",
    "                data['visitorsPerDateA'].sum() - len(ordersByUsersA['orders'])\n",
    "            ),\n",
    "            name='orders',\n",
    "        ),\n",
    "    ],\n",
    "    axis=0,\n",
    ")\n",
    "\n",
    "#данные по группе В\n",
    "sampleBFiltered = pd.concat(\n",
    "    [\n",
    "        ordersByUsersB[\n",
    "            np.logical_not(ordersByUsersB['visitor_id'].isin(abnormalUsers))\n",
    "        ]['orders'],\n",
    "        pd.Series(\n",
    "            0,\n",
    "            index=np.arange(\n",
    "                data['visitorsPerDateB'].sum() - len(ordersByUsersB['orders'])\n",
    "            ),\n",
    "            name='orders',\n",
    "        ),\n",
    "    ],\n",
    "    axis=0,\n",
    ")\n"
   ]
  },
  {
   "cell_type": "markdown",
   "id": "839c5c1d-ead1-4f57-a626-3b835c6debb5",
   "metadata": {},
   "source": [
    "Проверяем гипотезы тем же методом. вспомним формалировку:\n",
    "- H0: различий в среднем количестве заказов между группами нет. \n",
    "- H1: различия в среднем между группами есть.\n",
    "\n",
    "В первом случае результаты были такими:\n",
    "- p-value; 0,017\n",
    "- 0,138"
   ]
  },
  {
   "cell_type": "code",
   "execution_count": 56,
   "id": "f2a2718b-c4e7-4a86-9627-688f1c183e51",
   "metadata": {},
   "outputs": [
    {
     "name": "stdout",
     "output_type": "stream",
     "text": [
      "p-value: 0.00485\n",
      "0.242\n"
     ]
    }
   ],
   "source": [
    "print('p-value:', f'{st.mannwhitneyu(sampleAFiltered, sampleBFiltered)[1]:.5f}')\n",
    "print(f'{sampleBFiltered.mean() / sampleAFiltered.mean() - 1:.3f}')"
   ]
  },
  {
   "cell_type": "markdown",
   "id": "1832ddb8-1031-46bc-965d-2d76fb86d5af",
   "metadata": {},
   "source": [
    "**Вывод:**  значение p-value стало еще меньше, мы с еще большей уверенностью можем отвергнуть нулевую гипотезу о равенстве среднего количества заказов. Более того, значение относительной конверсии еще больше склонилось в сторону группы В и составило более 24%"
   ]
  },
  {
   "cell_type": "markdown",
   "id": "47f510ea-fb22-4360-8e38-d7fef77c641e",
   "metadata": {},
   "source": [
    "###  Статистическая значимость различий в среднем чеке заказа между группами по «очищенным» данным."
   ]
  },
  {
   "cell_type": "markdown",
   "id": "10e1332c-0c89-4bcb-a9ea-68437dc9a9b2",
   "metadata": {},
   "source": [
    "Проверяем гипотезы тем же методом. вспомним формулировку:\n",
    "- H0: статистически значимых различий в среднем чеке между группами нет. \n",
    "- H1: статистически значимые различия в среднем чеке есть.\n",
    "\n",
    "В первом случае результаты были такими:\n",
    "- p-value; 0,29\n",
    "- 0,287"
   ]
  },
  {
   "cell_type": "code",
   "execution_count": 57,
   "id": "f4c7d5cc-9a47-459f-b2dd-24cdb4b27bf5",
   "metadata": {},
   "outputs": [
    {
     "name": "stdout",
     "output_type": "stream",
     "text": [
      "0.887\n",
      "-0.012\n"
     ]
    }
   ],
   "source": [
    "print(\n",
    "    f'{st.mannwhitneyu(orders[np.logical_and(orders[\"group\"] == \"A\", ~orders[\"visitor_id\"].isin(abnormalUsers))][\"revenue\"], orders[np.logical_and(orders[\"group\"] == \"B\", ~orders[\"visitor_id\"].isin(abnormalUsers))][\"revenue\"])[1]:.3f}'\n",
    ")\n",
    "\n",
    "print(\n",
    "    f'{orders[np.logical_and(orders[\"group\"] == \"B\", ~orders[\"visitor_id\"].isin(abnormalUsers))][\"revenue\"].mean() / orders[np.logical_and(orders[\"group\"] == \"A\", ~orders[\"visitor_id\"].isin(abnormalUsers))][\"revenue\"].mean() - 1:.3f}'\n",
    ")\n"
   ]
  },
  {
   "cell_type": "markdown",
   "id": "adf0bb4e-b162-4dd3-9f5f-0d19d9cb1eb8",
   "metadata": {},
   "source": [
    "**Вывод:** значение P-value стало еще больше, соответственно мы не можем отвергнуть нулевую гипотезу, что статистически значимых различий в среднем чеке заказа нет. Значение разницы в уменьшилось с 26% до -1% и не является статистически значимым."
   ]
  },
  {
   "cell_type": "markdown",
   "id": "364b648b-9c95-4d11-bac6-dd0e13402ad3",
   "metadata": {},
   "source": [
    "## Общие выводы.\n",
    "**Проведена обработка данных.**\n",
    "\n",
    "Данные представлены за период: август 2019 года.\n",
    "\n",
    "**Проведена приоритизация гипотез.**\n",
    "- При применении метода ICE лучшим вариантом будет гипотеза номер 8 \"Запустить акцию, дающую скидку на товар в день рождения\". Однако данный метод затронет лишь малую часть пользователей по понятной причине - далеко не у всех пользователей дни рождения попадают в период проведения теста.\n",
    "- При применении метода RICE лучшим вариантом станет гипотеза номер 7 \"Добавить форму подписки на все основные страницы, чтобы собрать базу клиентов для email-рассылок\". Данный метод затронет максимальное количество пользователей, но по шкале оценки оценка влияния и уверенности у данной гипотезы немного уступают 8 гипотезе.\n",
    "\n",
    "Окончательное решение по выбору за руководством. Со своей стороны всё же порекомендую гипотезу номер 7, так как не смотря на немного меньшую оценку влияния и веренности, имеет кратно больший охват пользователей при одинаковых усилиях, соответственно результаты будут точнее по закону больших чисел.\n",
    "\n",
    "**Проведен анализ А/В теста.**\n",
    "- А/В- тест проведен с нарушениями, некоторые покупатели попали одновременно в обе группы,что искажает результаты теста. Распределение посетителей по группам также под вопросом, они также могли попасть в обе группы исследования, но отследить это невозможно;\n",
    "- кумулятивная выручка растет равномерно по обеим группам практически равномерно, за исключением скачка в группе В, обусловленного единовременной покупкой стоимостью более 1,2 млн при средних значениях около 28000. По группе В выручка в целом держится на более высоком уровне;\n",
    "- кумулятивный средний чек нестабилен на всём протяжении эксперимента. На данный момент нельзя сказать, что он стабилизировался;\n",
    "- среднее количество заказов по группе А редко превышает 1, а по группе В - 2 за период исследования. По группе В больше выбросов по 5 и более покупок в месяц, в то же время в группе А покупок более 3 на покупателя не отмечено;\n",
    "- В 95% случаев стоимость покупки не превышает 28000. По группе А данный показатель меньше и составляет 26718, а по группе В - 28787;\n",
    "- статистическая значимость среднего количества заказов по группам есть, по \"сырым\" данным конверия группы В выше на 13,8%, а по \"очищенным\" на все 25,3%, то есть более чем на четверть;\n",
    "- Статистическая значимость различий в среднем чеке заказа между группами не подтвердилась ни по \"сырым\", ни по \"очищенным\" данным. В случае с \"сырыми\" данными отношение было в пользу группы В и составляло 25,9% за счет единичного выброса. После его устранения перевес составиллишь 3%, что не является статистически значимым показателем.\n",
    "\n",
    "**Рекомендации по завершению А/В-теста.**\n",
    "\n",
    "По результатам теста видно, что средняя конверсия по группе В стабильно выше, если целью теста было определить влияние теста на конверсию, то его можно завершать - группа В победитель.\n",
    "В то же время статистически значимых различий в среднем чеке нет, да и само значение кумулятивного чека еще не стабилизировалось, по этому критерию тест завершать рано, так как было слишком мало наблюдений.\n",
    "Подводя итог можно сказать, что даже при завершении теста сейчас выручка компании вероятнее всего увеличится даже при сохранении среднего чека за счёт увеличения конверсии. Не забываем также, что пиковые выбросы по количеству покупок и по размеру чека были именно в группе В, то есть шансы получить разовую сверхприбыль будут больше, если принять результат теста как победу группы В."
   ]
  }
 ],
 "metadata": {
  "ExecuteTimeLog": [
   {
    "duration": 1054,
    "start_time": "2024-03-28T10:59:38.533Z"
   },
   {
    "duration": 81,
    "start_time": "2024-03-28T10:59:39.589Z"
   },
   {
    "duration": 3,
    "start_time": "2024-03-28T10:59:39.672Z"
   },
   {
    "duration": 28,
    "start_time": "2024-03-28T10:59:39.678Z"
   },
   {
    "duration": 20,
    "start_time": "2024-03-28T10:59:39.708Z"
   },
   {
    "duration": 19,
    "start_time": "2024-03-28T10:59:39.730Z"
   },
   {
    "duration": 4,
    "start_time": "2024-03-28T10:59:39.750Z"
   },
   {
    "duration": 18,
    "start_time": "2024-03-28T10:59:39.756Z"
   },
   {
    "duration": 53,
    "start_time": "2024-03-28T10:59:39.776Z"
   },
   {
    "duration": 6,
    "start_time": "2024-03-28T10:59:39.831Z"
   },
   {
    "duration": 4,
    "start_time": "2024-03-28T10:59:39.839Z"
   },
   {
    "duration": 13,
    "start_time": "2024-03-28T10:59:39.845Z"
   },
   {
    "duration": 6,
    "start_time": "2024-03-28T10:59:39.859Z"
   },
   {
    "duration": 13,
    "start_time": "2024-03-28T10:59:39.866Z"
   },
   {
    "duration": 44,
    "start_time": "2024-03-28T10:59:39.880Z"
   },
   {
    "duration": 10,
    "start_time": "2024-03-28T10:59:39.926Z"
   },
   {
    "duration": 3,
    "start_time": "2024-03-28T10:59:39.938Z"
   },
   {
    "duration": 11,
    "start_time": "2024-03-28T10:59:39.942Z"
   },
   {
    "duration": 16,
    "start_time": "2024-03-28T10:59:39.954Z"
   },
   {
    "duration": 88,
    "start_time": "2024-03-28T10:59:39.972Z"
   },
   {
    "duration": 10,
    "start_time": "2024-03-28T10:59:40.062Z"
   },
   {
    "duration": 293,
    "start_time": "2024-03-28T10:59:40.074Z"
   },
   {
    "duration": 14,
    "start_time": "2024-03-28T10:59:40.368Z"
   },
   {
    "duration": 171,
    "start_time": "2024-03-28T10:59:40.383Z"
   },
   {
    "duration": 151,
    "start_time": "2024-03-28T10:59:40.555Z"
   },
   {
    "duration": 271,
    "start_time": "2024-03-28T10:59:40.708Z"
   },
   {
    "duration": 176,
    "start_time": "2024-03-28T10:59:40.981Z"
   },
   {
    "duration": 233,
    "start_time": "2024-03-28T10:59:41.161Z"
   },
   {
    "duration": 134,
    "start_time": "2024-03-28T10:59:41.395Z"
   },
   {
    "duration": 130,
    "start_time": "2024-03-28T10:59:41.530Z"
   },
   {
    "duration": 8,
    "start_time": "2024-03-28T10:59:41.662Z"
   },
   {
    "duration": 14,
    "start_time": "2024-03-28T10:59:41.671Z"
   },
   {
    "duration": 254,
    "start_time": "2024-03-28T10:59:41.686Z"
   },
   {
    "duration": 4,
    "start_time": "2024-03-28T10:59:41.942Z"
   },
   {
    "duration": 5,
    "start_time": "2024-03-28T10:59:41.948Z"
   },
   {
    "duration": 5,
    "start_time": "2024-03-28T10:59:41.954Z"
   },
   {
    "duration": 152,
    "start_time": "2024-03-28T10:59:41.960Z"
   },
   {
    "duration": 9,
    "start_time": "2024-03-28T10:59:42.115Z"
   },
   {
    "duration": 139,
    "start_time": "2024-03-28T10:59:42.126Z"
   },
   {
    "duration": 5,
    "start_time": "2024-03-28T10:59:42.267Z"
   },
   {
    "duration": 310,
    "start_time": "2024-03-28T10:59:42.273Z"
   },
   {
    "duration": 228,
    "start_time": "2024-03-28T10:59:42.585Z"
   },
   {
    "duration": 6,
    "start_time": "2024-03-28T10:59:42.815Z"
   },
   {
    "duration": 5,
    "start_time": "2024-03-28T10:59:42.822Z"
   },
   {
    "duration": 5,
    "start_time": "2024-03-28T10:59:42.828Z"
   },
   {
    "duration": 252,
    "start_time": "2024-03-28T10:59:42.834Z"
   },
   {
    "duration": 156,
    "start_time": "2024-03-28T10:59:43.088Z"
   },
   {
    "duration": 25,
    "start_time": "2024-03-28T10:59:43.245Z"
   },
   {
    "duration": 9,
    "start_time": "2024-03-28T10:59:43.272Z"
   },
   {
    "duration": 10,
    "start_time": "2024-03-28T10:59:43.282Z"
   },
   {
    "duration": 26,
    "start_time": "2024-03-28T10:59:43.293Z"
   },
   {
    "duration": 24,
    "start_time": "2024-03-28T10:59:43.320Z"
   },
   {
    "duration": 11,
    "start_time": "2024-03-28T10:59:43.345Z"
   },
   {
    "duration": 1031,
    "start_time": "2024-03-29T06:03:38.416Z"
   },
   {
    "duration": 76,
    "start_time": "2024-03-29T06:03:39.449Z"
   },
   {
    "duration": 4,
    "start_time": "2024-03-29T06:03:39.526Z"
   },
   {
    "duration": 27,
    "start_time": "2024-03-29T06:03:39.532Z"
   },
   {
    "duration": 19,
    "start_time": "2024-03-29T06:03:39.560Z"
   },
   {
    "duration": 16,
    "start_time": "2024-03-29T06:03:39.580Z"
   },
   {
    "duration": 3,
    "start_time": "2024-03-29T06:03:39.597Z"
   },
   {
    "duration": 18,
    "start_time": "2024-03-29T06:03:39.601Z"
   },
   {
    "duration": 17,
    "start_time": "2024-03-29T06:03:39.621Z"
   },
   {
    "duration": 5,
    "start_time": "2024-03-29T06:03:39.640Z"
   },
   {
    "duration": 40,
    "start_time": "2024-03-29T06:03:39.647Z"
   },
   {
    "duration": 7,
    "start_time": "2024-03-29T06:03:39.689Z"
   },
   {
    "duration": 5,
    "start_time": "2024-03-29T06:03:39.698Z"
   },
   {
    "duration": 52,
    "start_time": "2024-03-29T06:03:39.704Z"
   },
   {
    "duration": 35,
    "start_time": "2024-03-29T06:03:39.758Z"
   },
   {
    "duration": 12,
    "start_time": "2024-03-29T06:03:39.794Z"
   },
   {
    "duration": 5,
    "start_time": "2024-03-29T06:03:39.808Z"
   },
   {
    "duration": 6,
    "start_time": "2024-03-29T06:03:39.814Z"
   },
   {
    "duration": 6,
    "start_time": "2024-03-29T06:03:39.822Z"
   },
   {
    "duration": 98,
    "start_time": "2024-03-29T06:03:39.830Z"
   },
   {
    "duration": 10,
    "start_time": "2024-03-29T06:03:39.930Z"
   },
   {
    "duration": 4,
    "start_time": "2024-03-29T06:03:39.941Z"
   },
   {
    "duration": 41,
    "start_time": "2024-03-29T06:03:39.947Z"
   },
   {
    "duration": 282,
    "start_time": "2024-03-29T06:03:39.990Z"
   },
   {
    "duration": 20,
    "start_time": "2024-03-29T06:03:40.274Z"
   },
   {
    "duration": 156,
    "start_time": "2024-03-29T06:03:40.295Z"
   },
   {
    "duration": 145,
    "start_time": "2024-03-29T06:03:40.453Z"
   },
   {
    "duration": 234,
    "start_time": "2024-03-29T06:03:40.602Z"
   },
   {
    "duration": 167,
    "start_time": "2024-03-29T06:03:40.837Z"
   },
   {
    "duration": 241,
    "start_time": "2024-03-29T06:03:41.006Z"
   },
   {
    "duration": 90,
    "start_time": "2024-03-29T06:03:41.249Z"
   },
   {
    "duration": 86,
    "start_time": "2024-03-29T06:03:41.341Z"
   },
   {
    "duration": 111,
    "start_time": "2024-03-29T06:03:41.429Z"
   },
   {
    "duration": 7,
    "start_time": "2024-03-29T06:03:41.541Z"
   },
   {
    "duration": 13,
    "start_time": "2024-03-29T06:03:41.550Z"
   },
   {
    "duration": 233,
    "start_time": "2024-03-29T06:03:41.582Z"
   },
   {
    "duration": 5,
    "start_time": "2024-03-29T06:03:41.816Z"
   },
   {
    "duration": 8,
    "start_time": "2024-03-29T06:03:41.822Z"
   },
   {
    "duration": 5,
    "start_time": "2024-03-29T06:03:41.831Z"
   },
   {
    "duration": 6,
    "start_time": "2024-03-29T06:03:41.837Z"
   },
   {
    "duration": 155,
    "start_time": "2024-03-29T06:03:41.844Z"
   },
   {
    "duration": 8,
    "start_time": "2024-03-29T06:03:42.001Z"
   },
   {
    "duration": 204,
    "start_time": "2024-03-29T06:03:42.010Z"
   },
   {
    "duration": 5,
    "start_time": "2024-03-29T06:03:42.216Z"
   },
   {
    "duration": 245,
    "start_time": "2024-03-29T06:03:42.222Z"
   },
   {
    "duration": 256,
    "start_time": "2024-03-29T06:03:42.469Z"
   },
   {
    "duration": 5,
    "start_time": "2024-03-29T06:03:42.726Z"
   },
   {
    "duration": 9,
    "start_time": "2024-03-29T06:03:42.732Z"
   },
   {
    "duration": 11,
    "start_time": "2024-03-29T06:03:42.743Z"
   },
   {
    "duration": 215,
    "start_time": "2024-03-29T06:03:42.755Z"
   },
   {
    "duration": 150,
    "start_time": "2024-03-29T06:03:42.972Z"
   },
   {
    "duration": 25,
    "start_time": "2024-03-29T06:03:43.124Z"
   },
   {
    "duration": 10,
    "start_time": "2024-03-29T06:03:43.151Z"
   },
   {
    "duration": 25,
    "start_time": "2024-03-29T06:03:43.163Z"
   },
   {
    "duration": 7,
    "start_time": "2024-03-29T06:03:43.190Z"
   },
   {
    "duration": 23,
    "start_time": "2024-03-29T06:03:43.199Z"
   },
   {
    "duration": 10,
    "start_time": "2024-03-29T06:03:43.224Z"
   }
  ],
  "kernelspec": {
   "display_name": "Python 3 (ipykernel)",
   "language": "python",
   "name": "python3"
  },
  "language_info": {
   "codemirror_mode": {
    "name": "ipython",
    "version": 3
   },
   "file_extension": ".py",
   "mimetype": "text/x-python",
   "name": "python",
   "nbconvert_exporter": "python",
   "pygments_lexer": "ipython3",
   "version": "3.9.19"
  },
  "toc": {
   "base_numbering": 1,
   "nav_menu": {},
   "number_sections": true,
   "sideBar": true,
   "skip_h1_title": true,
   "title_cell": "Table of Contents",
   "title_sidebar": "Contents",
   "toc_cell": false,
   "toc_position": {
    "height": "calc(100% - 180px)",
    "left": "10px",
    "top": "150px",
    "width": "426.667px"
   },
   "toc_section_display": true,
   "toc_window_display": true
  }
 },
 "nbformat": 4,
 "nbformat_minor": 5
}
