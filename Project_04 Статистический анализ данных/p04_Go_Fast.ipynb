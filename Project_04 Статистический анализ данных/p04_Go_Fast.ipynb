{
 "cells": [
  {
   "cell_type": "markdown",
   "id": "8f9f54c6-31c8-49b3-a5db-18a2e550e841",
   "metadata": {},
   "source": [
    "# Ститистический анализ данных на примере сервиса проката самокатов GoFast"
   ]
  },
  {
   "cell_type": "markdown",
   "id": "6178d382-3024-4f7a-9568-3e38395d0834",
   "metadata": {},
   "source": [
    "В данном исследовании предстоит оценить сервис проката самокатов `GoFast`.\n",
    "Для совершения поездок пользователи используют мобильное приложение. Необходимо провести исследование и проверить некоторые гипотезы,которые помогут бизнесу вырасти.\n",
    "\n",
    "Сервисом можно воспользоваться:\n",
    "- без подписки\n",
    "  - абонентская плата отсутствует,\n",
    "  - стоимость одной минуты поездки - 8 рублей,\n",
    "  - стоимость старта(начала поездки)  - 50 рублей;\n",
    "- с подпиской Ultra:\n",
    "  - абонентская плата - 199 рублей в месяц,\n",
    "  - стоимость одной минуты поездки - 6 рублей в минуту\n",
    "  - стоимость старта - бесплатно.\n",
    "\n",
    "**Описание данных**\n",
    "Данные содержатся в 3 датафреймах.\n",
    "\n",
    "**Пользователи:**\n",
    "- `user_id` - уникальный идентификатор пользователя,\n",
    "- `name` - имя пользователя,\n",
    "- `age` - возраст,\n",
    "- `city` - город,\n",
    "- `subscription_type` - тип подписки.\n",
    "\n",
    "**Поездки:**\n",
    "- `user_id` - уникальный идентификатор пользователя,\n",
    "- `distance` - расстояние, которое проехал пользователь за сессию( в метрах)\n",
    "- `duration` - продолжительность сессии в минутах\n",
    "- `date` - датапоездки\n",
    "\n",
    "**Подписки:**\n",
    "- `subscription_type` - тип подписки,\n",
    "- `minute_price` - стоимость одной минуты подписки  данной подписке,\n",
    "- `start_ride_price` - стоимость начала поездки,\n",
    "- `subscription_fee` - стоимсоть ежемесячного платежа.\n",
    "\n",
    "***<u>Цель: проанализировать данные, проверить некоторые гипотезы, представленные руководством.</u>***\n",
    "\n",
    "\n",
    "***План работы:***\n",
    "- изучить исходные данные,\n",
    "- провести предобработку данных,\n",
    "- провести исследовательский анализ данных,\n",
    "- объединить данные в один датафрейм,\n",
    "- расчитать выручку,\n",
    "- проверить гипотезы,\n",
    "- написать выводы и предложения."
   ]
  },
  {
   "cell_type": "markdown",
   "id": "f02ce18e-db7e-498c-be3a-e4ed29bdbc5a",
   "metadata": {},
   "source": [
    "##  Загрузка данных и изучение общей информации"
   ]
  },
  {
   "cell_type": "markdown",
   "id": "1445df39-28bc-4669-b441-aeaf4453055d",
   "metadata": {},
   "source": [
    "###  Подключим библиотеки и откроем датафреймы"
   ]
  },
  {
   "cell_type": "code",
   "execution_count": 1,
   "id": "00ed954b-ac91-4570-9f42-474d0c939394",
   "metadata": {},
   "outputs": [],
   "source": [
    "#подключаем библиотеки\n",
    "import pandas as pd\n",
    "import matplotlib.pyplot as plt\n",
    "import numpy as np\n",
    "from scipy import stats as st"
   ]
  },
  {
   "cell_type": "code",
   "execution_count": 2,
   "id": "55e92e61-4abc-4c0b-a0c8-49b43e82e98c",
   "metadata": {},
   "outputs": [],
   "source": [
    "#открываем файл \"Пользователи\" csv\n",
    "try:\n",
    "    users = pd.read_csv('/datasets/users_go.csv')\n",
    "except:\n",
    "    users = pd.read_csv('C:\\\\Users\\\\ignat\\\\OneDrive\\\\Рабочий стол\\\\Аналитик Практикум\\\\Статистический анализ данных\\\\users_go.csv')"
   ]
  },
  {
   "cell_type": "code",
   "execution_count": 3,
   "id": "ae21f3d8-ed7d-48f7-b33a-f46552f6ad3f",
   "metadata": {},
   "outputs": [],
   "source": [
    "#открываем файл \"Поездки\" csv\n",
    "try:\n",
    "    rides = pd.read_csv('/datasets/rides_go.csv', parse_dates=['date'], dayfirst=True)\n",
    "except:\n",
    "    rides = pd.read_csv('C:\\\\Users\\\\ignat\\\\OneDrive\\\\Рабочий стол\\\\Аналитик Практикум\\\\Статистический анализ данных\\\\rides_go.csv', \n",
    "                        parse_dates=['date'], dayfirst=True)"
   ]
  },
  {
   "cell_type": "code",
   "execution_count": 4,
   "id": "62fb65d2-3dfa-44be-8024-b957ee752c6d",
   "metadata": {},
   "outputs": [],
   "source": [
    "#открываем файл \"Подписки\" csv\n",
    "try:\n",
    "    subscrip = pd.read_csv('/datasets/subscriptions_go.csv')\n",
    "except:\n",
    "    subscrip = pd.read_csv('C:\\\\Users\\\\ignat\\\\OneDrive\\\\Рабочий стол\\\\Аналитик Практикум\\\\Статистический анализ данных\\\\subscriptions_go.csv')"
   ]
  },
  {
   "cell_type": "markdown",
   "id": "f992867e-e0fc-4572-9fd8-a985346c5e50",
   "metadata": {},
   "source": [
    "### Выгрузим первые строки и информацию о датафреймах."
   ]
  },
  {
   "cell_type": "markdown",
   "id": "fea067f2-94d1-48e9-9d1c-89fc1349f1c6",
   "metadata": {},
   "source": [
    "Для облегчения кода создадим фунцию для просмотра информации."
   ]
  },
  {
   "cell_type": "code",
   "execution_count": 5,
   "id": "70e2c000-fca5-4bd7-8dae-5d529b91344c",
   "metadata": {},
   "outputs": [],
   "source": [
    "def summary(dataset):\n",
    "    '''\n",
    "    Выводит первые строки датасета и информацию о нём\n",
    "    '''\n",
    "    display(dataset.head())\n",
    "    display(dataset.info())\n"
   ]
  },
  {
   "cell_type": "code",
   "execution_count": 6,
   "id": "4952710e-19cc-4dce-9625-0087b699a7bd",
   "metadata": {},
   "outputs": [
    {
     "data": {
      "text/html": [
       "<div>\n",
       "<style scoped>\n",
       "    .dataframe tbody tr th:only-of-type {\n",
       "        vertical-align: middle;\n",
       "    }\n",
       "\n",
       "    .dataframe tbody tr th {\n",
       "        vertical-align: top;\n",
       "    }\n",
       "\n",
       "    .dataframe thead th {\n",
       "        text-align: right;\n",
       "    }\n",
       "</style>\n",
       "<table border=\"1\" class=\"dataframe\">\n",
       "  <thead>\n",
       "    <tr style=\"text-align: right;\">\n",
       "      <th></th>\n",
       "      <th>user_id</th>\n",
       "      <th>name</th>\n",
       "      <th>age</th>\n",
       "      <th>city</th>\n",
       "      <th>subscription_type</th>\n",
       "    </tr>\n",
       "  </thead>\n",
       "  <tbody>\n",
       "    <tr>\n",
       "      <th>0</th>\n",
       "      <td>1</td>\n",
       "      <td>Кира</td>\n",
       "      <td>22</td>\n",
       "      <td>Тюмень</td>\n",
       "      <td>ultra</td>\n",
       "    </tr>\n",
       "    <tr>\n",
       "      <th>1</th>\n",
       "      <td>2</td>\n",
       "      <td>Станислав</td>\n",
       "      <td>31</td>\n",
       "      <td>Омск</td>\n",
       "      <td>ultra</td>\n",
       "    </tr>\n",
       "    <tr>\n",
       "      <th>2</th>\n",
       "      <td>3</td>\n",
       "      <td>Алексей</td>\n",
       "      <td>20</td>\n",
       "      <td>Москва</td>\n",
       "      <td>ultra</td>\n",
       "    </tr>\n",
       "    <tr>\n",
       "      <th>3</th>\n",
       "      <td>4</td>\n",
       "      <td>Константин</td>\n",
       "      <td>26</td>\n",
       "      <td>Ростов-на-Дону</td>\n",
       "      <td>ultra</td>\n",
       "    </tr>\n",
       "    <tr>\n",
       "      <th>4</th>\n",
       "      <td>5</td>\n",
       "      <td>Адель</td>\n",
       "      <td>28</td>\n",
       "      <td>Омск</td>\n",
       "      <td>ultra</td>\n",
       "    </tr>\n",
       "  </tbody>\n",
       "</table>\n",
       "</div>"
      ],
      "text/plain": [
       "   user_id        name  age            city subscription_type\n",
       "0        1        Кира   22          Тюмень             ultra\n",
       "1        2   Станислав   31            Омск             ultra\n",
       "2        3     Алексей   20          Москва             ultra\n",
       "3        4  Константин   26  Ростов-на-Дону             ultra\n",
       "4        5       Адель   28            Омск             ultra"
      ]
     },
     "metadata": {},
     "output_type": "display_data"
    },
    {
     "name": "stdout",
     "output_type": "stream",
     "text": [
      "<class 'pandas.core.frame.DataFrame'>\n",
      "RangeIndex: 1565 entries, 0 to 1564\n",
      "Data columns (total 5 columns):\n",
      " #   Column             Non-Null Count  Dtype \n",
      "---  ------             --------------  ----- \n",
      " 0   user_id            1565 non-null   int64 \n",
      " 1   name               1565 non-null   object\n",
      " 2   age                1565 non-null   int64 \n",
      " 3   city               1565 non-null   object\n",
      " 4   subscription_type  1565 non-null   object\n",
      "dtypes: int64(2), object(3)\n",
      "memory usage: 61.3+ KB\n"
     ]
    },
    {
     "data": {
      "text/plain": [
       "None"
      ]
     },
     "metadata": {},
     "output_type": "display_data"
    }
   ],
   "source": [
    "#инфо, пользователи\n",
    "summary(users)"
   ]
  },
  {
   "cell_type": "code",
   "execution_count": 7,
   "id": "c4131e2b-d95c-481f-9744-3cffed7ac087",
   "metadata": {},
   "outputs": [
    {
     "data": {
      "text/html": [
       "<div>\n",
       "<style scoped>\n",
       "    .dataframe tbody tr th:only-of-type {\n",
       "        vertical-align: middle;\n",
       "    }\n",
       "\n",
       "    .dataframe tbody tr th {\n",
       "        vertical-align: top;\n",
       "    }\n",
       "\n",
       "    .dataframe thead th {\n",
       "        text-align: right;\n",
       "    }\n",
       "</style>\n",
       "<table border=\"1\" class=\"dataframe\">\n",
       "  <thead>\n",
       "    <tr style=\"text-align: right;\">\n",
       "      <th></th>\n",
       "      <th>user_id</th>\n",
       "      <th>distance</th>\n",
       "      <th>duration</th>\n",
       "      <th>date</th>\n",
       "    </tr>\n",
       "  </thead>\n",
       "  <tbody>\n",
       "    <tr>\n",
       "      <th>0</th>\n",
       "      <td>1</td>\n",
       "      <td>4409.919140</td>\n",
       "      <td>25.599769</td>\n",
       "      <td>2021-01-01</td>\n",
       "    </tr>\n",
       "    <tr>\n",
       "      <th>1</th>\n",
       "      <td>1</td>\n",
       "      <td>2617.592153</td>\n",
       "      <td>15.816871</td>\n",
       "      <td>2021-01-18</td>\n",
       "    </tr>\n",
       "    <tr>\n",
       "      <th>2</th>\n",
       "      <td>1</td>\n",
       "      <td>754.159807</td>\n",
       "      <td>6.232113</td>\n",
       "      <td>2021-04-20</td>\n",
       "    </tr>\n",
       "    <tr>\n",
       "      <th>3</th>\n",
       "      <td>1</td>\n",
       "      <td>2694.783254</td>\n",
       "      <td>18.511000</td>\n",
       "      <td>2021-08-11</td>\n",
       "    </tr>\n",
       "    <tr>\n",
       "      <th>4</th>\n",
       "      <td>1</td>\n",
       "      <td>4028.687306</td>\n",
       "      <td>26.265803</td>\n",
       "      <td>2021-08-28</td>\n",
       "    </tr>\n",
       "  </tbody>\n",
       "</table>\n",
       "</div>"
      ],
      "text/plain": [
       "   user_id     distance   duration       date\n",
       "0        1  4409.919140  25.599769 2021-01-01\n",
       "1        1  2617.592153  15.816871 2021-01-18\n",
       "2        1   754.159807   6.232113 2021-04-20\n",
       "3        1  2694.783254  18.511000 2021-08-11\n",
       "4        1  4028.687306  26.265803 2021-08-28"
      ]
     },
     "metadata": {},
     "output_type": "display_data"
    },
    {
     "name": "stdout",
     "output_type": "stream",
     "text": [
      "<class 'pandas.core.frame.DataFrame'>\n",
      "RangeIndex: 18068 entries, 0 to 18067\n",
      "Data columns (total 4 columns):\n",
      " #   Column    Non-Null Count  Dtype         \n",
      "---  ------    --------------  -----         \n",
      " 0   user_id   18068 non-null  int64         \n",
      " 1   distance  18068 non-null  float64       \n",
      " 2   duration  18068 non-null  float64       \n",
      " 3   date      18068 non-null  datetime64[ns]\n",
      "dtypes: datetime64[ns](1), float64(2), int64(1)\n",
      "memory usage: 564.8 KB\n"
     ]
    },
    {
     "data": {
      "text/plain": [
       "None"
      ]
     },
     "metadata": {},
     "output_type": "display_data"
    }
   ],
   "source": [
    "#инфо, поездки\n",
    "summary(rides)"
   ]
  },
  {
   "cell_type": "code",
   "execution_count": 8,
   "id": "1fa3dd92-6eeb-4cd7-9a06-a818f0c4853a",
   "metadata": {},
   "outputs": [
    {
     "data": {
      "text/html": [
       "<div>\n",
       "<style scoped>\n",
       "    .dataframe tbody tr th:only-of-type {\n",
       "        vertical-align: middle;\n",
       "    }\n",
       "\n",
       "    .dataframe tbody tr th {\n",
       "        vertical-align: top;\n",
       "    }\n",
       "\n",
       "    .dataframe thead th {\n",
       "        text-align: right;\n",
       "    }\n",
       "</style>\n",
       "<table border=\"1\" class=\"dataframe\">\n",
       "  <thead>\n",
       "    <tr style=\"text-align: right;\">\n",
       "      <th></th>\n",
       "      <th>subscription_type</th>\n",
       "      <th>minute_price</th>\n",
       "      <th>start_ride_price</th>\n",
       "      <th>subscription_fee</th>\n",
       "    </tr>\n",
       "  </thead>\n",
       "  <tbody>\n",
       "    <tr>\n",
       "      <th>0</th>\n",
       "      <td>free</td>\n",
       "      <td>8</td>\n",
       "      <td>50</td>\n",
       "      <td>0</td>\n",
       "    </tr>\n",
       "    <tr>\n",
       "      <th>1</th>\n",
       "      <td>ultra</td>\n",
       "      <td>6</td>\n",
       "      <td>0</td>\n",
       "      <td>199</td>\n",
       "    </tr>\n",
       "  </tbody>\n",
       "</table>\n",
       "</div>"
      ],
      "text/plain": [
       "  subscription_type  minute_price  start_ride_price  subscription_fee\n",
       "0              free             8                50                 0\n",
       "1             ultra             6                 0               199"
      ]
     },
     "metadata": {},
     "output_type": "display_data"
    },
    {
     "name": "stdout",
     "output_type": "stream",
     "text": [
      "<class 'pandas.core.frame.DataFrame'>\n",
      "RangeIndex: 2 entries, 0 to 1\n",
      "Data columns (total 4 columns):\n",
      " #   Column             Non-Null Count  Dtype \n",
      "---  ------             --------------  ----- \n",
      " 0   subscription_type  2 non-null      object\n",
      " 1   minute_price       2 non-null      int64 \n",
      " 2   start_ride_price   2 non-null      int64 \n",
      " 3   subscription_fee   2 non-null      int64 \n",
      "dtypes: int64(3), object(1)\n",
      "memory usage: 192.0+ bytes\n"
     ]
    },
    {
     "data": {
      "text/plain": [
       "None"
      ]
     },
     "metadata": {},
     "output_type": "display_data"
    }
   ],
   "source": [
    "#инфо, тарифная сетка\n",
    "summary(subscrip)"
   ]
  },
  {
   "cell_type": "markdown",
   "id": "f01db89d-ad5f-4828-bdc6-3be0203b1997",
   "metadata": {},
   "source": [
    "**Вывод:** В нашем распоряжении 3 датафрейма: пользователи сервиса, информация о поздках, тарифная сетка с подпиской и без. Из первого датафрейма можно определить возраст клиента, город его проживания и имеет ли он подписку ultra, общее количество пользователей - 1565 (без учёта возможных дубликатов). Из второго датафрейма можно увидеть, какое растояние преодолено во время каждой поездки, общее время аренды и дата совершения поездки. Третий датафрейм дает общее понимание о тарифах `ultra и free` - стоимость минуты поездки, стоимсоть старта и стоимость самой подписки."
   ]
  },
  {
   "cell_type": "markdown",
   "id": "37bbd045-56d9-425d-8613-2b18d36d5866",
   "metadata": {},
   "source": [
    "## Предобработка данных"
   ]
  },
  {
   "cell_type": "markdown",
   "id": "0696f60a-d628-4769-abbe-97cffffe053e",
   "metadata": {},
   "source": [
    "### Проверим, за какой период предствалены данные"
   ]
  },
  {
   "cell_type": "code",
   "execution_count": 9,
   "id": "1438a450-5073-42a2-8a52-dfaf2c8107d2",
   "metadata": {},
   "outputs": [
    {
     "data": {
      "text/plain": [
       "Timestamp('2021-01-01 00:00:00')"
      ]
     },
     "metadata": {},
     "output_type": "display_data"
    },
    {
     "data": {
      "text/plain": [
       "Timestamp('2021-12-30 00:00:00')"
      ]
     },
     "execution_count": 9,
     "metadata": {},
     "output_type": "execute_result"
    }
   ],
   "source": [
    "#выводим крайние значения даты\n",
    "display(rides['date'].min())\n",
    "rides['date'].max()"
   ]
  },
  {
   "cell_type": "markdown",
   "id": "4c6e3bec-747d-47c5-a068-f1bd8e599139",
   "metadata": {},
   "source": [
    "**Вывод:** предоставлены данные за 2021 год с 1 января по 30 декабря."
   ]
  },
  {
   "cell_type": "markdown",
   "id": "8caf7d6e-b811-4266-899a-eb5e69c60540",
   "metadata": {},
   "source": [
    "### Создадим новый столбец с номером месяца на основе столбца date"
   ]
  },
  {
   "cell_type": "code",
   "execution_count": 10,
   "id": "9320f179-c949-4276-94e9-51f09395d7f4",
   "metadata": {},
   "outputs": [],
   "source": [
    "# добаляем столбец (месяц)\n",
    "rides['month'] = rides['date'].dt.month"
   ]
  },
  {
   "cell_type": "markdown",
   "id": "bdf800af-d8af-47aa-9f7d-f2be3b0a9f46",
   "metadata": {},
   "source": [
    "### Проверяем на наличие пустых строк и явных дубликатов"
   ]
  },
  {
   "cell_type": "code",
   "execution_count": 11,
   "id": "b7d8a579-d1bb-492a-8ba3-e65ba7035c04",
   "metadata": {},
   "outputs": [
    {
     "data": {
      "text/plain": [
       "user_id              0.0\n",
       "name                 0.0\n",
       "age                  0.0\n",
       "city                 0.0\n",
       "subscription_type    0.0\n",
       "dtype: float64"
      ]
     },
     "execution_count": 11,
     "metadata": {},
     "output_type": "execute_result"
    }
   ],
   "source": [
    "# проверяем наличие пустых строк\n",
    "users.isna().mean()"
   ]
  },
  {
   "cell_type": "code",
   "execution_count": 12,
   "id": "5810571b-87d4-4c9a-8c18-0fc5bd788a0e",
   "metadata": {},
   "outputs": [
    {
     "data": {
      "text/plain": [
       "user_id     0.0\n",
       "distance    0.0\n",
       "duration    0.0\n",
       "date        0.0\n",
       "month       0.0\n",
       "dtype: float64"
      ]
     },
     "execution_count": 12,
     "metadata": {},
     "output_type": "execute_result"
    }
   ],
   "source": [
    "# проверяем наличие пустых строк\n",
    "rides.isna().mean()"
   ]
  },
  {
   "cell_type": "code",
   "execution_count": 13,
   "id": "d6a0b849-fbe2-4d01-8555-f6631b759b68",
   "metadata": {},
   "outputs": [
    {
     "data": {
      "text/plain": [
       "subscription_type    0.0\n",
       "minute_price         0.0\n",
       "start_ride_price     0.0\n",
       "subscription_fee     0.0\n",
       "dtype: float64"
      ]
     },
     "execution_count": 13,
     "metadata": {},
     "output_type": "execute_result"
    }
   ],
   "source": [
    "# проверяем наличие пустых строк\n",
    "subscrip.isna().mean()"
   ]
  },
  {
   "cell_type": "markdown",
   "id": "70b8d290-5d06-406f-a365-d887c70eb150",
   "metadata": {},
   "source": [
    "Пустых строк нет! Далее проверим на наличие явных дубликатов"
   ]
  },
  {
   "cell_type": "code",
   "execution_count": 14,
   "id": "c9dfefd6-0fc2-4342-a08b-0672a4f2e4fe",
   "metadata": {},
   "outputs": [
    {
     "data": {
      "text/plain": [
       "31"
      ]
     },
     "execution_count": 14,
     "metadata": {},
     "output_type": "execute_result"
    }
   ],
   "source": [
    "# ищем дубликаты\n",
    "users.duplicated().sum()"
   ]
  },
  {
   "cell_type": "markdown",
   "id": "7cfd8e58-1961-4709-b3d9-15e729f4adaf",
   "metadata": {},
   "source": [
    "Обнаружился 31 дубликат. Удаляем."
   ]
  },
  {
   "cell_type": "code",
   "execution_count": 15,
   "id": "3c95ee6e-6064-4d71-8395-3e0b5197833e",
   "metadata": {},
   "outputs": [],
   "source": [
    "users = users.drop_duplicates()"
   ]
  },
  {
   "cell_type": "code",
   "execution_count": 16,
   "id": "04b0e69e-7203-4092-ba56-abec0d70f920",
   "metadata": {},
   "outputs": [
    {
     "data": {
      "text/plain": [
       "0"
      ]
     },
     "execution_count": 16,
     "metadata": {},
     "output_type": "execute_result"
    }
   ],
   "source": [
    "# ищем дубликаты\n",
    "rides.duplicated().sum()"
   ]
  },
  {
   "cell_type": "markdown",
   "id": "082f602f-4abd-4840-9dfb-4ed522ffe3e0",
   "metadata": {},
   "source": [
    "Здесь всё хорошо."
   ]
  },
  {
   "cell_type": "markdown",
   "id": "96d0bf79-df29-4df5-b291-bdde099ff517",
   "metadata": {},
   "source": [
    "**Вывод:** пустых ячеек не обнаружено. В датафрейме с пользователями обнаружен 31 явный дубликат, который был удалён. Для удобства дальнейшего анализа добавлен столбец с номером месяца."
   ]
  },
  {
   "cell_type": "markdown",
   "id": "7edc1988-bf03-48d5-97dc-6ec510cd56b5",
   "metadata": {},
   "source": [
    "##  Исследовательский анализ данных"
   ]
  },
  {
   "cell_type": "markdown",
   "id": "cc2325f7-6618-4158-b762-1633d86afd97",
   "metadata": {},
   "source": [
    "###  Количество пользователей по городам"
   ]
  },
  {
   "cell_type": "code",
   "execution_count": 17,
   "id": "5b0f0592-32bb-4503-9ad9-c0a5e9eedeb5",
   "metadata": {},
   "outputs": [
    {
     "data": {
      "text/html": [
       "<div>\n",
       "<style scoped>\n",
       "    .dataframe tbody tr th:only-of-type {\n",
       "        vertical-align: middle;\n",
       "    }\n",
       "\n",
       "    .dataframe tbody tr th {\n",
       "        vertical-align: top;\n",
       "    }\n",
       "\n",
       "    .dataframe thead th {\n",
       "        text-align: right;\n",
       "    }\n",
       "</style>\n",
       "<table border=\"1\" class=\"dataframe\">\n",
       "  <thead>\n",
       "    <tr style=\"text-align: right;\">\n",
       "      <th></th>\n",
       "      <th>users</th>\n",
       "      <th>percent_users</th>\n",
       "    </tr>\n",
       "    <tr>\n",
       "      <th>city</th>\n",
       "      <th></th>\n",
       "      <th></th>\n",
       "    </tr>\n",
       "  </thead>\n",
       "  <tbody>\n",
       "    <tr>\n",
       "      <th>Москва</th>\n",
       "      <td>168</td>\n",
       "      <td>11.0</td>\n",
       "    </tr>\n",
       "    <tr>\n",
       "      <th>Тюмень</th>\n",
       "      <td>180</td>\n",
       "      <td>11.7</td>\n",
       "    </tr>\n",
       "    <tr>\n",
       "      <th>Омск</th>\n",
       "      <td>183</td>\n",
       "      <td>11.9</td>\n",
       "    </tr>\n",
       "    <tr>\n",
       "      <th>Сочи</th>\n",
       "      <td>189</td>\n",
       "      <td>12.3</td>\n",
       "    </tr>\n",
       "    <tr>\n",
       "      <th>Краснодар</th>\n",
       "      <td>193</td>\n",
       "      <td>12.6</td>\n",
       "    </tr>\n",
       "    <tr>\n",
       "      <th>Ростов-на-Дону</th>\n",
       "      <td>198</td>\n",
       "      <td>12.9</td>\n",
       "    </tr>\n",
       "    <tr>\n",
       "      <th>Екатеринбург</th>\n",
       "      <td>204</td>\n",
       "      <td>13.3</td>\n",
       "    </tr>\n",
       "    <tr>\n",
       "      <th>Пятигорск</th>\n",
       "      <td>219</td>\n",
       "      <td>14.3</td>\n",
       "    </tr>\n",
       "  </tbody>\n",
       "</table>\n",
       "</div>"
      ],
      "text/plain": [
       "                users  percent_users\n",
       "city                                \n",
       "Москва            168           11.0\n",
       "Тюмень            180           11.7\n",
       "Омск              183           11.9\n",
       "Сочи              189           12.3\n",
       "Краснодар         193           12.6\n",
       "Ростов-на-Дону    198           12.9\n",
       "Екатеринбург      204           13.3\n",
       "Пятигорск         219           14.3"
      ]
     },
     "execution_count": 17,
     "metadata": {},
     "output_type": "execute_result"
    }
   ],
   "source": [
    "# создаём сводную таблицу\n",
    "cities = users.pivot_table(index='city', \n",
    "                           values='name', \n",
    "                           aggfunc='count').sort_values(by='name')\n",
    "cities.columns = ['users']\n",
    "cities['percent_users'] = (cities['users'] / \n",
    "                           cities['users'].sum() * 100).round(1)\n",
    "cities"
   ]
  },
  {
   "cell_type": "code",
   "execution_count": 18,
   "id": "923ee520-1dff-4f47-80ae-b9c2a74cf9dc",
   "metadata": {},
   "outputs": [
    {
     "data": {
      "image/png": "[encoded data removed]",
      "text/plain": [
       "<Figure size 640x480 with 1 Axes>"
      ]
     },
     "metadata": {},
     "output_type": "display_data"
    }
   ],
   "source": [
    "#строим график\n",
    "total_users = cities.sum()\n",
    "ax = cities['percent_users'].plot(kind='barh', legend=[])\n",
    "\n",
    "for i in ax.patches:\n",
    "   plt.text(i.get_width(), i.get_y() + 0.1, str(round((i.get_width()), 2)) + '%', \n",
    "            fontsize=10, \n",
    "            color='black')\n",
    "\n",
    "plt.xlabel('Количество пользователей(%)')\n",
    "plt.ylabel('Город')\n",
    "plt.title('Количество пользователей по городам')\n",
    "plt.show()"
   ]
  },
  {
   "cell_type": "markdown",
   "id": "f767af9b-3c0e-46f8-ac05-9fa8a4819600",
   "metadata": {},
   "source": [
    "**Вывод:** сервис проката представлен в 8 городах. Меньше всего пользователей в Москве - 168, больше всего - в Пятигорске - 219. В каждом городе количество пользователей составляет от 11% до 14,3% от общего количества пользователей. Можно говорить, что пользователи распределены по городам равномерно."
   ]
  },
  {
   "cell_type": "markdown",
   "id": "c92f83f3-830c-4df0-81b0-e35e5758c18e",
   "metadata": {},
   "source": [
    "### Соотношение количества позьзователей с подпиской и без"
   ]
  },
  {
   "cell_type": "code",
   "execution_count": 19,
   "id": "f069accb-6a99-4438-92d1-f1f7266b9fb0",
   "metadata": {},
   "outputs": [
    {
     "data": {
      "text/html": [
       "<div>\n",
       "<style scoped>\n",
       "    .dataframe tbody tr th:only-of-type {\n",
       "        vertical-align: middle;\n",
       "    }\n",
       "\n",
       "    .dataframe tbody tr th {\n",
       "        vertical-align: top;\n",
       "    }\n",
       "\n",
       "    .dataframe thead th {\n",
       "        text-align: right;\n",
       "    }\n",
       "</style>\n",
       "<table border=\"1\" class=\"dataframe\">\n",
       "  <thead>\n",
       "    <tr style=\"text-align: right;\">\n",
       "      <th></th>\n",
       "      <th>count</th>\n",
       "      <th>rate</th>\n",
       "    </tr>\n",
       "    <tr>\n",
       "      <th>subscription_type</th>\n",
       "      <th></th>\n",
       "      <th></th>\n",
       "    </tr>\n",
       "  </thead>\n",
       "  <tbody>\n",
       "    <tr>\n",
       "      <th>ultra</th>\n",
       "      <td>699</td>\n",
       "      <td>0.455671</td>\n",
       "    </tr>\n",
       "    <tr>\n",
       "      <th>free</th>\n",
       "      <td>835</td>\n",
       "      <td>0.544329</td>\n",
       "    </tr>\n",
       "  </tbody>\n",
       "</table>\n",
       "</div>"
      ],
      "text/plain": [
       "                   count      rate\n",
       "subscription_type                 \n",
       "ultra                699  0.455671\n",
       "free                 835  0.544329"
      ]
     },
     "execution_count": 19,
     "metadata": {},
     "output_type": "execute_result"
    }
   ],
   "source": [
    "# создаём сводную таблицу\n",
    "sub_total = users.pivot_table(index='subscription_type', \n",
    "                              values='name', \n",
    "                              aggfunc='count').sort_values(by='name')\n",
    "sub_total.columns = ['count']\n",
    "\n",
    "# добаляем столбец с долями\n",
    "sub_total['rate'] = sub_total['count'] / len(users)\n",
    "sub_total"
   ]
  },
  {
   "cell_type": "code",
   "execution_count": 20,
   "id": "8ff4fa34-9204-49d0-a864-ed55db56f765",
   "metadata": {},
   "outputs": [
    {
     "data": {
      "image/png": "[encoded data removed]",
      "text/plain": [
       "<Figure size 640x480 with 1 Axes>"
      ]
     },
     "metadata": {},
     "output_type": "display_data"
    }
   ],
   "source": [
    "# график для наглядности\n",
    "sub_total['count'].plot(kind='pie',\n",
    "                        autopct = '%0.1f%%', \n",
    "                        colors=['lightgreen', 'silver'])\n",
    "\n",
    "plt.ylabel('')\n",
    "plt.title('Количество пользователей с подпиской и без')\n",
    "plt.show()"
   ]
  },
  {
   "cell_type": "markdown",
   "id": "951c9cf5-0990-4408-9fd2-913cfda2841d",
   "metadata": {},
   "source": [
    "**Вывод:** 45,6% пользователей подлючили подписку ultra, остальные 54,4% этого пока не сделали."
   ]
  },
  {
   "cell_type": "markdown",
   "id": "b1334357-659c-42b5-b74e-508f5d0c4e68",
   "metadata": {},
   "source": [
    "### Распределение пользователей по возрасту"
   ]
  },
  {
   "cell_type": "code",
   "execution_count": 21,
   "id": "5a6d81e4-1c93-4309-afe9-7c1ddd38a435",
   "metadata": {},
   "outputs": [
    {
     "data": {
      "image/png": "[encoded data removed]",
      "text/plain": [
       "<Figure size 640x480 with 1 Axes>"
      ]
     },
     "metadata": {},
     "output_type": "display_data"
    }
   ],
   "source": [
    "# строим гистограмму\n",
    "users['age'].hist(bins=30, edgecolor='white')\n",
    "\n",
    "plt.xlabel('Возраст')\n",
    "plt.ylabel('Количество пользователей')\n",
    "plt.title('Распределение по возрасту')\n",
    "plt.show()"
   ]
  },
  {
   "cell_type": "code",
   "execution_count": 22,
   "id": "a17f4224-64d0-47f8-b832-c23f80af2226",
   "metadata": {},
   "outputs": [
    {
     "data": {
      "text/plain": [
       "count    1534.00\n",
       "mean       24.90\n",
       "std         4.57\n",
       "min        12.00\n",
       "25%        22.00\n",
       "50%        25.00\n",
       "75%        28.00\n",
       "max        43.00\n",
       "Name: age, dtype: float64"
      ]
     },
     "execution_count": 22,
     "metadata": {},
     "output_type": "execute_result"
    }
   ],
   "source": [
    "users['age'].describe().round(2)"
   ]
  },
  {
   "cell_type": "markdown",
   "id": "e04e3f4b-490c-485e-aec0-e6c3340abcb7",
   "metadata": {},
   "source": [
    "Посмотрим более детально, пользователей какого возраста больше всего и меньше всего."
   ]
  },
  {
   "cell_type": "code",
   "execution_count": 23,
   "id": "9e1e5cc5-2568-4405-af20-f2056d6f10da",
   "metadata": {},
   "outputs": [
    {
     "data": {
      "text/plain": [
       "25    145\n",
       "24    132\n",
       "26    131\n",
       "23    129\n",
       "27    119\n",
       "Name: age, dtype: int64"
      ]
     },
     "metadata": {},
     "output_type": "display_data"
    },
    {
     "data": {
      "text/plain": [
       "43    1\n",
       "39    1\n",
       "37    2\n",
       "38    3\n",
       "12    4\n",
       "Name: age, dtype: int64"
      ]
     },
     "execution_count": 23,
     "metadata": {},
     "output_type": "execute_result"
    }
   ],
   "source": [
    "#ыводим максимальное и минимальное количество пользователей по возрастам\n",
    "display(users['age'].value_counts().head())\n",
    "users['age'].value_counts(ascending=True).head()"
   ]
  },
  {
   "cell_type": "code",
   "execution_count": 24,
   "id": "267bab53-65f9-4d95-8642-9af958d1c828",
   "metadata": {},
   "outputs": [
    {
     "data": {
      "text/plain": [
       "57.8"
      ]
     },
     "execution_count": 24,
     "metadata": {},
     "output_type": "execute_result"
    }
   ],
   "source": [
    "#процент пользователей,попавших в межквартильный размах\n",
    "(users.query('22 <= age <= 28')['age'].count() / users['age'].count()*100).round(1)"
   ]
  },
  {
   "cell_type": "code",
   "execution_count": 25,
   "id": "13360885-fa77-41c7-9996-f8bf2aefc9e4",
   "metadata": {},
   "outputs": [
    {
     "data": {
      "text/html": [
       "<div>\n",
       "<style scoped>\n",
       "    .dataframe tbody tr th:only-of-type {\n",
       "        vertical-align: middle;\n",
       "    }\n",
       "\n",
       "    .dataframe tbody tr th {\n",
       "        vertical-align: top;\n",
       "    }\n",
       "\n",
       "    .dataframe thead th {\n",
       "        text-align: right;\n",
       "    }\n",
       "</style>\n",
       "<table border=\"1\" class=\"dataframe\">\n",
       "  <thead>\n",
       "    <tr style=\"text-align: right;\">\n",
       "      <th></th>\n",
       "      <th>user_id</th>\n",
       "      <th>name</th>\n",
       "      <th>age</th>\n",
       "      <th>city</th>\n",
       "      <th>subscription_type</th>\n",
       "    </tr>\n",
       "  </thead>\n",
       "  <tbody>\n",
       "    <tr>\n",
       "      <th>1201</th>\n",
       "      <td>1202</td>\n",
       "      <td>Ангелина</td>\n",
       "      <td>43</td>\n",
       "      <td>Москва</td>\n",
       "      <td>free</td>\n",
       "    </tr>\n",
       "  </tbody>\n",
       "</table>\n",
       "</div>"
      ],
      "text/plain": [
       "      user_id      name  age    city subscription_type\n",
       "1201     1202  Ангелина   43  Москва              free"
      ]
     },
     "execution_count": 25,
     "metadata": {},
     "output_type": "execute_result"
    }
   ],
   "source": [
    "#ищем самого возрастного пользователя\n",
    "users.query('age == 43')"
   ]
  },
  {
   "cell_type": "code",
   "execution_count": 26,
   "id": "53473f41-edcc-471c-81c5-073bc73645cc",
   "metadata": {},
   "outputs": [
    {
     "data": {
      "text/plain": [
       "282.0"
      ]
     },
     "metadata": {},
     "output_type": "display_data"
    },
    {
     "data": {
      "text/plain": [
       "43495.0"
      ]
     },
     "execution_count": 26,
     "metadata": {},
     "output_type": "execute_result"
    }
   ],
   "source": [
    "display(rides.query('user_id == 1202')['duration'].sum().round(0))\n",
    "rides.query('user_id == 1202')['distance'].sum().round(0)"
   ]
  },
  {
   "cell_type": "code",
   "execution_count": 27,
   "id": "95105667-4309-442c-8826-f8da8ae2d3a5",
   "metadata": {},
   "outputs": [
    {
     "data": {
      "text/html": [
       "<div>\n",
       "<style scoped>\n",
       "    .dataframe tbody tr th:only-of-type {\n",
       "        vertical-align: middle;\n",
       "    }\n",
       "\n",
       "    .dataframe tbody tr th {\n",
       "        vertical-align: top;\n",
       "    }\n",
       "\n",
       "    .dataframe thead th {\n",
       "        text-align: right;\n",
       "    }\n",
       "</style>\n",
       "<table border=\"1\" class=\"dataframe\">\n",
       "  <thead>\n",
       "    <tr style=\"text-align: right;\">\n",
       "      <th></th>\n",
       "      <th>user_id</th>\n",
       "      <th>name</th>\n",
       "      <th>age</th>\n",
       "      <th>city</th>\n",
       "      <th>subscription_type</th>\n",
       "    </tr>\n",
       "  </thead>\n",
       "  <tbody>\n",
       "    <tr>\n",
       "      <th>34</th>\n",
       "      <td>35</td>\n",
       "      <td>Руслан</td>\n",
       "      <td>12</td>\n",
       "      <td>Пятигорск</td>\n",
       "      <td>ultra</td>\n",
       "    </tr>\n",
       "    <tr>\n",
       "      <th>66</th>\n",
       "      <td>67</td>\n",
       "      <td>Анастасия</td>\n",
       "      <td>12</td>\n",
       "      <td>Ростов-на-Дону</td>\n",
       "      <td>ultra</td>\n",
       "    </tr>\n",
       "    <tr>\n",
       "      <th>664</th>\n",
       "      <td>665</td>\n",
       "      <td>Герман</td>\n",
       "      <td>12</td>\n",
       "      <td>Сочи</td>\n",
       "      <td>ultra</td>\n",
       "    </tr>\n",
       "    <tr>\n",
       "      <th>727</th>\n",
       "      <td>728</td>\n",
       "      <td>Вячеслав</td>\n",
       "      <td>12</td>\n",
       "      <td>Пятигорск</td>\n",
       "      <td>free</td>\n",
       "    </tr>\n",
       "  </tbody>\n",
       "</table>\n",
       "</div>"
      ],
      "text/plain": [
       "     user_id       name  age            city subscription_type\n",
       "34        35     Руслан   12       Пятигорск             ultra\n",
       "66        67  Анастасия   12  Ростов-на-Дону             ultra\n",
       "664      665     Герман   12            Сочи             ultra\n",
       "727      728   Вячеслав   12       Пятигорск              free"
      ]
     },
     "execution_count": 27,
     "metadata": {},
     "output_type": "execute_result"
    }
   ],
   "source": [
    "#ищем самых молодых пользователей\n",
    "users.query('age == 12')"
   ]
  },
  {
   "cell_type": "markdown",
   "id": "6e612a0f-e1ad-4807-addf-0a9f8166a089",
   "metadata": {},
   "source": [
    "**Вывод:** средний возраст пользователя - 25 лет. И именно такого возраста пользователей больше всего. Распределение по возрастам является нормальным, не имеет больших выбросов. Межквартильный размах находится в диапазоне от 22 до 28 лет, таких пользователей почти 58%. Самые молодые водители самоката имеют возраст 12 лет, таких нашлось 4 человека, двое из которых уверенно входят в первую сотню зарегистрировавшихся, то есть пользуюся сервисом с самого основания. Они уже в полной мере оценили все достоинства сервиса и подключили подписку `Ultra`. Самому возрастному пользователю 43 года, им стала Ангелина из Москвы. Между прочим, очень активный пользователь! Преодолела расстояние больше 43 км и провела в аренде больше 5 часов. Возможно, стоит как-то отметить данного пользователя знаком внимания, например подарить месяц подписки, которую она до сих пор не подключила? Возможно, тогда её лояльность ещё больше вырастет и она станет адвокатом бренда."
   ]
  },
  {
   "cell_type": "markdown",
   "id": "c5e9077d-562e-4efd-b1ac-1554c937cb74",
   "metadata": {},
   "source": [
    "###  Расстояние за одну поездку"
   ]
  },
  {
   "cell_type": "code",
   "execution_count": 28,
   "id": "20163579-61e9-49fd-8808-461affdcbc41",
   "metadata": {},
   "outputs": [
    {
     "data": {
      "image/png": "[encoded data removed]",
      "text/plain": [
       "<Figure size 640x480 with 1 Axes>"
      ]
     },
     "metadata": {},
     "output_type": "display_data"
    }
   ],
   "source": [
    "# строим гистограмму\n",
    "rides['distance'].hist(bins=40, edgecolor='white')\n",
    "\n",
    "plt.xlabel('Расстояние(метров)')\n",
    "plt.ylabel('Количество поездок')\n",
    "plt.title('Распределение по расстоянию')\n",
    "plt.show()"
   ]
  },
  {
   "cell_type": "code",
   "execution_count": 29,
   "id": "3ab331c2-ab11-45b6-9cd2-0b0e5f273584",
   "metadata": {},
   "outputs": [
    {
     "data": {
      "text/plain": [
       "count    18068.00\n",
       "mean      3070.66\n",
       "std       1116.83\n",
       "min          0.86\n",
       "25%       2543.23\n",
       "50%       3133.61\n",
       "75%       3776.22\n",
       "max       7211.01\n",
       "Name: distance, dtype: float64"
      ]
     },
     "execution_count": 29,
     "metadata": {},
     "output_type": "execute_result"
    }
   ],
   "source": [
    "rides['distance'].describe().round(2)"
   ]
  },
  {
   "cell_type": "markdown",
   "id": "e39ea7de-cfa4-49ef-9100-f5156990ae92",
   "metadata": {},
   "source": [
    "Проверим, какие пользователи совершили сверхкороткие поездки, менее 200 метров."
   ]
  },
  {
   "cell_type": "code",
   "execution_count": 30,
   "id": "1f3d2bfa-1f53-429d-bb89-8d341261df04",
   "metadata": {},
   "outputs": [
    {
     "data": {
      "text/html": [
       "<div>\n",
       "<style scoped>\n",
       "    .dataframe tbody tr th:only-of-type {\n",
       "        vertical-align: middle;\n",
       "    }\n",
       "\n",
       "    .dataframe tbody tr th {\n",
       "        vertical-align: top;\n",
       "    }\n",
       "\n",
       "    .dataframe thead th {\n",
       "        text-align: right;\n",
       "    }\n",
       "</style>\n",
       "<table border=\"1\" class=\"dataframe\">\n",
       "  <thead>\n",
       "    <tr style=\"text-align: right;\">\n",
       "      <th></th>\n",
       "      <th>user_id</th>\n",
       "      <th>distance</th>\n",
       "      <th>duration</th>\n",
       "      <th>date</th>\n",
       "      <th>month</th>\n",
       "    </tr>\n",
       "  </thead>\n",
       "  <tbody>\n",
       "    <tr>\n",
       "      <th>6611</th>\n",
       "      <td>707</td>\n",
       "      <td>28.793204</td>\n",
       "      <td>14.143966</td>\n",
       "      <td>2021-09-12</td>\n",
       "      <td>9</td>\n",
       "    </tr>\n",
       "    <tr>\n",
       "      <th>6666</th>\n",
       "      <td>711</td>\n",
       "      <td>138.727939</td>\n",
       "      <td>7.396366</td>\n",
       "      <td>2021-03-04</td>\n",
       "      <td>3</td>\n",
       "    </tr>\n",
       "    <tr>\n",
       "      <th>6691</th>\n",
       "      <td>712</td>\n",
       "      <td>23.963062</td>\n",
       "      <td>2.053251</td>\n",
       "      <td>2021-11-22</td>\n",
       "      <td>11</td>\n",
       "    </tr>\n",
       "    <tr>\n",
       "      <th>6699</th>\n",
       "      <td>713</td>\n",
       "      <td>195.694445</td>\n",
       "      <td>12.559127</td>\n",
       "      <td>2021-08-02</td>\n",
       "      <td>8</td>\n",
       "    </tr>\n",
       "    <tr>\n",
       "      <th>6794</th>\n",
       "      <td>720</td>\n",
       "      <td>193.383776</td>\n",
       "      <td>12.773535</td>\n",
       "      <td>2021-03-01</td>\n",
       "      <td>3</td>\n",
       "    </tr>\n",
       "    <tr>\n",
       "      <th>6801</th>\n",
       "      <td>720</td>\n",
       "      <td>102.323624</td>\n",
       "      <td>2.292353</td>\n",
       "      <td>2021-09-20</td>\n",
       "      <td>9</td>\n",
       "    </tr>\n",
       "    <tr>\n",
       "      <th>6816</th>\n",
       "      <td>721</td>\n",
       "      <td>62.568138</td>\n",
       "      <td>7.178766</td>\n",
       "      <td>2021-09-25</td>\n",
       "      <td>9</td>\n",
       "    </tr>\n",
       "    <tr>\n",
       "      <th>6850</th>\n",
       "      <td>724</td>\n",
       "      <td>30.473763</td>\n",
       "      <td>3.166221</td>\n",
       "      <td>2021-05-09</td>\n",
       "      <td>5</td>\n",
       "    </tr>\n",
       "    <tr>\n",
       "      <th>6976</th>\n",
       "      <td>732</td>\n",
       "      <td>153.237015</td>\n",
       "      <td>12.656730</td>\n",
       "      <td>2021-07-19</td>\n",
       "      <td>7</td>\n",
       "    </tr>\n",
       "    <tr>\n",
       "      <th>7006</th>\n",
       "      <td>734</td>\n",
       "      <td>181.395000</td>\n",
       "      <td>12.725580</td>\n",
       "      <td>2021-09-08</td>\n",
       "      <td>9</td>\n",
       "    </tr>\n",
       "  </tbody>\n",
       "</table>\n",
       "</div>"
      ],
      "text/plain": [
       "      user_id    distance   duration       date  month\n",
       "6611      707   28.793204  14.143966 2021-09-12      9\n",
       "6666      711  138.727939   7.396366 2021-03-04      3\n",
       "6691      712   23.963062   2.053251 2021-11-22     11\n",
       "6699      713  195.694445  12.559127 2021-08-02      8\n",
       "6794      720  193.383776  12.773535 2021-03-01      3\n",
       "6801      720  102.323624   2.292353 2021-09-20      9\n",
       "6816      721   62.568138   7.178766 2021-09-25      9\n",
       "6850      724   30.473763   3.166221 2021-05-09      5\n",
       "6976      732  153.237015  12.656730 2021-07-19      7\n",
       "7006      734  181.395000  12.725580 2021-09-08      9"
      ]
     },
     "metadata": {},
     "output_type": "display_data"
    },
    {
     "data": {
      "text/html": [
       "<div>\n",
       "<style scoped>\n",
       "    .dataframe tbody tr th:only-of-type {\n",
       "        vertical-align: middle;\n",
       "    }\n",
       "\n",
       "    .dataframe tbody tr th {\n",
       "        vertical-align: top;\n",
       "    }\n",
       "\n",
       "    .dataframe thead th {\n",
       "        text-align: right;\n",
       "    }\n",
       "</style>\n",
       "<table border=\"1\" class=\"dataframe\">\n",
       "  <thead>\n",
       "    <tr style=\"text-align: right;\">\n",
       "      <th></th>\n",
       "      <th>user_id</th>\n",
       "      <th>distance</th>\n",
       "      <th>duration</th>\n",
       "      <th>date</th>\n",
       "      <th>month</th>\n",
       "    </tr>\n",
       "  </thead>\n",
       "  <tbody>\n",
       "    <tr>\n",
       "      <th>17712</th>\n",
       "      <td>1510</td>\n",
       "      <td>166.223109</td>\n",
       "      <td>2.343910</td>\n",
       "      <td>2021-09-06</td>\n",
       "      <td>9</td>\n",
       "    </tr>\n",
       "    <tr>\n",
       "      <th>17722</th>\n",
       "      <td>1511</td>\n",
       "      <td>87.430522</td>\n",
       "      <td>3.218576</td>\n",
       "      <td>2021-01-21</td>\n",
       "      <td>1</td>\n",
       "    </tr>\n",
       "    <tr>\n",
       "      <th>17760</th>\n",
       "      <td>1514</td>\n",
       "      <td>75.573191</td>\n",
       "      <td>5.174400</td>\n",
       "      <td>2021-01-26</td>\n",
       "      <td>1</td>\n",
       "    </tr>\n",
       "    <tr>\n",
       "      <th>17808</th>\n",
       "      <td>1517</td>\n",
       "      <td>180.812768</td>\n",
       "      <td>11.493126</td>\n",
       "      <td>2021-01-10</td>\n",
       "      <td>1</td>\n",
       "    </tr>\n",
       "    <tr>\n",
       "      <th>17856</th>\n",
       "      <td>1521</td>\n",
       "      <td>106.417577</td>\n",
       "      <td>9.304050</td>\n",
       "      <td>2021-04-04</td>\n",
       "      <td>4</td>\n",
       "    </tr>\n",
       "    <tr>\n",
       "      <th>17951</th>\n",
       "      <td>1527</td>\n",
       "      <td>134.078586</td>\n",
       "      <td>5.502795</td>\n",
       "      <td>2021-10-26</td>\n",
       "      <td>10</td>\n",
       "    </tr>\n",
       "    <tr>\n",
       "      <th>17965</th>\n",
       "      <td>1528</td>\n",
       "      <td>182.743404</td>\n",
       "      <td>3.730974</td>\n",
       "      <td>2021-09-15</td>\n",
       "      <td>9</td>\n",
       "    </tr>\n",
       "    <tr>\n",
       "      <th>17989</th>\n",
       "      <td>1530</td>\n",
       "      <td>133.534786</td>\n",
       "      <td>5.267070</td>\n",
       "      <td>2021-01-10</td>\n",
       "      <td>1</td>\n",
       "    </tr>\n",
       "    <tr>\n",
       "      <th>17990</th>\n",
       "      <td>1530</td>\n",
       "      <td>105.796106</td>\n",
       "      <td>12.244145</td>\n",
       "      <td>2021-01-21</td>\n",
       "      <td>1</td>\n",
       "    </tr>\n",
       "    <tr>\n",
       "      <th>18058</th>\n",
       "      <td>1534</td>\n",
       "      <td>195.447469</td>\n",
       "      <td>6.469074</td>\n",
       "      <td>2021-06-11</td>\n",
       "      <td>6</td>\n",
       "    </tr>\n",
       "  </tbody>\n",
       "</table>\n",
       "</div>"
      ],
      "text/plain": [
       "       user_id    distance   duration       date  month\n",
       "17712     1510  166.223109   2.343910 2021-09-06      9\n",
       "17722     1511   87.430522   3.218576 2021-01-21      1\n",
       "17760     1514   75.573191   5.174400 2021-01-26      1\n",
       "17808     1517  180.812768  11.493126 2021-01-10      1\n",
       "17856     1521  106.417577   9.304050 2021-04-04      4\n",
       "17951     1527  134.078586   5.502795 2021-10-26     10\n",
       "17965     1528  182.743404   3.730974 2021-09-15      9\n",
       "17989     1530  133.534786   5.267070 2021-01-10      1\n",
       "17990     1530  105.796106  12.244145 2021-01-21      1\n",
       "18058     1534  195.447469   6.469074 2021-06-11      6"
      ]
     },
     "execution_count": 30,
     "metadata": {},
     "output_type": "execute_result"
    }
   ],
   "source": [
    "#выводим первые и последние 10 строк\n",
    "display(rides.query('distance < 200').head(10))\n",
    "rides.query('distance < 200').tail(10)"
   ]
  },
  {
   "cell_type": "markdown",
   "id": "dd86248e-1cf9-4056-a76a-de132515bee3",
   "metadata": {},
   "source": [
    "Прооверим получившуюся выборку на наличие подписки."
   ]
  },
  {
   "cell_type": "code",
   "execution_count": 31,
   "id": "a0339000-a20f-4bf0-83bc-71f623611e42",
   "metadata": {},
   "outputs": [
    {
     "data": {
      "text/html": [
       "<div>\n",
       "<style scoped>\n",
       "    .dataframe tbody tr th:only-of-type {\n",
       "        vertical-align: middle;\n",
       "    }\n",
       "\n",
       "    .dataframe tbody tr th {\n",
       "        vertical-align: top;\n",
       "    }\n",
       "\n",
       "    .dataframe thead th {\n",
       "        text-align: right;\n",
       "    }\n",
       "</style>\n",
       "<table border=\"1\" class=\"dataframe\">\n",
       "  <thead>\n",
       "    <tr style=\"text-align: right;\">\n",
       "      <th></th>\n",
       "      <th>user_id</th>\n",
       "      <th>name</th>\n",
       "      <th>age</th>\n",
       "      <th>city</th>\n",
       "      <th>subscription_type</th>\n",
       "    </tr>\n",
       "  </thead>\n",
       "  <tbody>\n",
       "    <tr>\n",
       "      <th>706</th>\n",
       "      <td>707</td>\n",
       "      <td>Артём</td>\n",
       "      <td>27</td>\n",
       "      <td>Сочи</td>\n",
       "      <td>free</td>\n",
       "    </tr>\n",
       "    <tr>\n",
       "      <th>710</th>\n",
       "      <td>711</td>\n",
       "      <td>Степан</td>\n",
       "      <td>25</td>\n",
       "      <td>Екатеринбург</td>\n",
       "      <td>free</td>\n",
       "    </tr>\n",
       "    <tr>\n",
       "      <th>711</th>\n",
       "      <td>712</td>\n",
       "      <td>Дарья</td>\n",
       "      <td>28</td>\n",
       "      <td>Москва</td>\n",
       "      <td>free</td>\n",
       "    </tr>\n",
       "    <tr>\n",
       "      <th>712</th>\n",
       "      <td>713</td>\n",
       "      <td>Святослав</td>\n",
       "      <td>30</td>\n",
       "      <td>Краснодар</td>\n",
       "      <td>free</td>\n",
       "    </tr>\n",
       "    <tr>\n",
       "      <th>719</th>\n",
       "      <td>720</td>\n",
       "      <td>Сергей</td>\n",
       "      <td>25</td>\n",
       "      <td>Тюмень</td>\n",
       "      <td>free</td>\n",
       "    </tr>\n",
       "    <tr>\n",
       "      <th>720</th>\n",
       "      <td>721</td>\n",
       "      <td>Андрей</td>\n",
       "      <td>27</td>\n",
       "      <td>Пятигорск</td>\n",
       "      <td>free</td>\n",
       "    </tr>\n",
       "    <tr>\n",
       "      <th>723</th>\n",
       "      <td>724</td>\n",
       "      <td>Елизавета</td>\n",
       "      <td>23</td>\n",
       "      <td>Краснодар</td>\n",
       "      <td>free</td>\n",
       "    </tr>\n",
       "    <tr>\n",
       "      <th>731</th>\n",
       "      <td>732</td>\n",
       "      <td>Мирослава</td>\n",
       "      <td>29</td>\n",
       "      <td>Омск</td>\n",
       "      <td>free</td>\n",
       "    </tr>\n",
       "    <tr>\n",
       "      <th>733</th>\n",
       "      <td>734</td>\n",
       "      <td>Анна</td>\n",
       "      <td>28</td>\n",
       "      <td>Омск</td>\n",
       "      <td>free</td>\n",
       "    </tr>\n",
       "  </tbody>\n",
       "</table>\n",
       "</div>"
      ],
      "text/plain": [
       "     user_id       name  age          city subscription_type\n",
       "706      707      Артём   27          Сочи              free\n",
       "710      711     Степан   25  Екатеринбург              free\n",
       "711      712      Дарья   28        Москва              free\n",
       "712      713  Святослав   30     Краснодар              free\n",
       "719      720     Сергей   25        Тюмень              free\n",
       "720      721     Андрей   27     Пятигорск              free\n",
       "723      724  Елизавета   23     Краснодар              free\n",
       "731      732  Мирослава   29          Омск              free\n",
       "733      734       Анна   28          Омск              free"
      ]
     },
     "execution_count": 31,
     "metadata": {},
     "output_type": "execute_result"
    }
   ],
   "source": [
    "users.query('user_id in [707,711,712,713,720,721,724,732,734]')"
   ]
  },
  {
   "cell_type": "code",
   "execution_count": 32,
   "id": "12e7a44d-ea6e-43ab-a65d-dd74e51179be",
   "metadata": {},
   "outputs": [
    {
     "data": {
      "text/html": [
       "<div>\n",
       "<style scoped>\n",
       "    .dataframe tbody tr th:only-of-type {\n",
       "        vertical-align: middle;\n",
       "    }\n",
       "\n",
       "    .dataframe tbody tr th {\n",
       "        vertical-align: top;\n",
       "    }\n",
       "\n",
       "    .dataframe thead th {\n",
       "        text-align: right;\n",
       "    }\n",
       "</style>\n",
       "<table border=\"1\" class=\"dataframe\">\n",
       "  <thead>\n",
       "    <tr style=\"text-align: right;\">\n",
       "      <th></th>\n",
       "      <th>user_id</th>\n",
       "      <th>name</th>\n",
       "      <th>age</th>\n",
       "      <th>city</th>\n",
       "      <th>subscription_type</th>\n",
       "    </tr>\n",
       "  </thead>\n",
       "  <tbody>\n",
       "    <tr>\n",
       "      <th>1509</th>\n",
       "      <td>1510</td>\n",
       "      <td>Эмиль</td>\n",
       "      <td>25</td>\n",
       "      <td>Краснодар</td>\n",
       "      <td>free</td>\n",
       "    </tr>\n",
       "    <tr>\n",
       "      <th>1510</th>\n",
       "      <td>1511</td>\n",
       "      <td>Элина</td>\n",
       "      <td>27</td>\n",
       "      <td>Краснодар</td>\n",
       "      <td>free</td>\n",
       "    </tr>\n",
       "    <tr>\n",
       "      <th>1513</th>\n",
       "      <td>1514</td>\n",
       "      <td>Ева</td>\n",
       "      <td>25</td>\n",
       "      <td>Тюмень</td>\n",
       "      <td>free</td>\n",
       "    </tr>\n",
       "    <tr>\n",
       "      <th>1516</th>\n",
       "      <td>1517</td>\n",
       "      <td>Давид</td>\n",
       "      <td>25</td>\n",
       "      <td>Тюмень</td>\n",
       "      <td>free</td>\n",
       "    </tr>\n",
       "    <tr>\n",
       "      <th>1520</th>\n",
       "      <td>1521</td>\n",
       "      <td>Галина</td>\n",
       "      <td>26</td>\n",
       "      <td>Пятигорск</td>\n",
       "      <td>free</td>\n",
       "    </tr>\n",
       "    <tr>\n",
       "      <th>1526</th>\n",
       "      <td>1527</td>\n",
       "      <td>Захар</td>\n",
       "      <td>24</td>\n",
       "      <td>Омск</td>\n",
       "      <td>free</td>\n",
       "    </tr>\n",
       "    <tr>\n",
       "      <th>1527</th>\n",
       "      <td>1528</td>\n",
       "      <td>Анна</td>\n",
       "      <td>25</td>\n",
       "      <td>Пятигорск</td>\n",
       "      <td>free</td>\n",
       "    </tr>\n",
       "    <tr>\n",
       "      <th>1529</th>\n",
       "      <td>1530</td>\n",
       "      <td>Ростислав</td>\n",
       "      <td>29</td>\n",
       "      <td>Сочи</td>\n",
       "      <td>free</td>\n",
       "    </tr>\n",
       "    <tr>\n",
       "      <th>1533</th>\n",
       "      <td>1534</td>\n",
       "      <td>Альберт</td>\n",
       "      <td>25</td>\n",
       "      <td>Краснодар</td>\n",
       "      <td>free</td>\n",
       "    </tr>\n",
       "  </tbody>\n",
       "</table>\n",
       "</div>"
      ],
      "text/plain": [
       "      user_id       name  age       city subscription_type\n",
       "1509     1510      Эмиль   25  Краснодар              free\n",
       "1510     1511      Элина   27  Краснодар              free\n",
       "1513     1514        Ева   25     Тюмень              free\n",
       "1516     1517      Давид   25     Тюмень              free\n",
       "1520     1521     Галина   26  Пятигорск              free\n",
       "1526     1527      Захар   24       Омск              free\n",
       "1527     1528       Анна   25  Пятигорск              free\n",
       "1529     1530  Ростислав   29       Сочи              free\n",
       "1533     1534    Альберт   25  Краснодар              free"
      ]
     },
     "execution_count": 32,
     "metadata": {},
     "output_type": "execute_result"
    }
   ],
   "source": [
    "users.query('user_id in [1510,1511,1514,1517,1521,1527,1528,1530,1534]')"
   ]
  },
  {
   "cell_type": "markdown",
   "id": "9ebb37eb-2dc6-488f-a247-8eae9480dbf5",
   "metadata": {},
   "source": [
    "Проверим самые длинные по расстоянию поездки"
   ]
  },
  {
   "cell_type": "code",
   "execution_count": 33,
   "id": "d9087957-80d1-4c78-9b48-60ba62c33dd9",
   "metadata": {},
   "outputs": [
    {
     "data": {
      "text/html": [
       "<div>\n",
       "<style scoped>\n",
       "    .dataframe tbody tr th:only-of-type {\n",
       "        vertical-align: middle;\n",
       "    }\n",
       "\n",
       "    .dataframe tbody tr th {\n",
       "        vertical-align: top;\n",
       "    }\n",
       "\n",
       "    .dataframe thead th {\n",
       "        text-align: right;\n",
       "    }\n",
       "</style>\n",
       "<table border=\"1\" class=\"dataframe\">\n",
       "  <thead>\n",
       "    <tr style=\"text-align: right;\">\n",
       "      <th></th>\n",
       "      <th>user_id</th>\n",
       "      <th>distance</th>\n",
       "      <th>duration</th>\n",
       "      <th>date</th>\n",
       "      <th>month</th>\n",
       "    </tr>\n",
       "  </thead>\n",
       "  <tbody>\n",
       "    <tr>\n",
       "      <th>16309</th>\n",
       "      <td>1411</td>\n",
       "      <td>7211.007745</td>\n",
       "      <td>0.500000</td>\n",
       "      <td>2021-04-15</td>\n",
       "      <td>4</td>\n",
       "    </tr>\n",
       "    <tr>\n",
       "      <th>16484</th>\n",
       "      <td>1422</td>\n",
       "      <td>7066.003772</td>\n",
       "      <td>23.619318</td>\n",
       "      <td>2021-02-12</td>\n",
       "      <td>2</td>\n",
       "    </tr>\n",
       "  </tbody>\n",
       "</table>\n",
       "</div>"
      ],
      "text/plain": [
       "       user_id     distance   duration       date  month\n",
       "16309     1411  7211.007745   0.500000 2021-04-15      4\n",
       "16484     1422  7066.003772  23.619318 2021-02-12      2"
      ]
     },
     "execution_count": 33,
     "metadata": {},
     "output_type": "execute_result"
    }
   ],
   "source": [
    "rides.query('distance > 7000')"
   ]
  },
  {
   "cell_type": "markdown",
   "id": "2834bc7b-48d1-435a-8077-652390051d28",
   "metadata": {},
   "source": [
    "Кажется, обнаружилась аномалия. Расстояние больше 7 км, а время аренды 0,5 минуты. Такого быть не может. Проверим, сколько еще поездок были такой длительности."
   ]
  },
  {
   "cell_type": "code",
   "execution_count": 34,
   "id": "be38af8e-80e7-4b78-9e06-e75beb625e72",
   "metadata": {},
   "outputs": [
    {
     "data": {
      "text/html": [
       "<div>\n",
       "<style scoped>\n",
       "    .dataframe tbody tr th:only-of-type {\n",
       "        vertical-align: middle;\n",
       "    }\n",
       "\n",
       "    .dataframe tbody tr th {\n",
       "        vertical-align: top;\n",
       "    }\n",
       "\n",
       "    .dataframe thead th {\n",
       "        text-align: right;\n",
       "    }\n",
       "</style>\n",
       "<table border=\"1\" class=\"dataframe\">\n",
       "  <thead>\n",
       "    <tr style=\"text-align: right;\">\n",
       "      <th></th>\n",
       "      <th>user_id</th>\n",
       "      <th>distance</th>\n",
       "      <th>duration</th>\n",
       "      <th>date</th>\n",
       "      <th>month</th>\n",
       "    </tr>\n",
       "  </thead>\n",
       "  <tbody>\n",
       "    <tr>\n",
       "      <th>6531</th>\n",
       "      <td>701</td>\n",
       "      <td>4196.445201</td>\n",
       "      <td>0.5</td>\n",
       "      <td>2021-08-31</td>\n",
       "      <td>8</td>\n",
       "    </tr>\n",
       "    <tr>\n",
       "      <th>6570</th>\n",
       "      <td>704</td>\n",
       "      <td>4830.824371</td>\n",
       "      <td>0.5</td>\n",
       "      <td>2021-10-14</td>\n",
       "      <td>10</td>\n",
       "    </tr>\n",
       "    <tr>\n",
       "      <th>6680</th>\n",
       "      <td>712</td>\n",
       "      <td>4684.004397</td>\n",
       "      <td>0.5</td>\n",
       "      <td>2021-03-04</td>\n",
       "      <td>3</td>\n",
       "    </tr>\n",
       "    <tr>\n",
       "      <th>6695</th>\n",
       "      <td>713</td>\n",
       "      <td>5215.642710</td>\n",
       "      <td>0.5</td>\n",
       "      <td>2021-02-25</td>\n",
       "      <td>2</td>\n",
       "    </tr>\n",
       "    <tr>\n",
       "      <th>6768</th>\n",
       "      <td>718</td>\n",
       "      <td>5197.436649</td>\n",
       "      <td>0.5</td>\n",
       "      <td>2021-02-11</td>\n",
       "      <td>2</td>\n",
       "    </tr>\n",
       "    <tr>\n",
       "      <th>...</th>\n",
       "      <td>...</td>\n",
       "      <td>...</td>\n",
       "      <td>...</td>\n",
       "      <td>...</td>\n",
       "      <td>...</td>\n",
       "    </tr>\n",
       "    <tr>\n",
       "      <th>17004</th>\n",
       "      <td>1460</td>\n",
       "      <td>5531.335845</td>\n",
       "      <td>0.5</td>\n",
       "      <td>2021-01-19</td>\n",
       "      <td>1</td>\n",
       "    </tr>\n",
       "    <tr>\n",
       "      <th>17242</th>\n",
       "      <td>1477</td>\n",
       "      <td>6724.932981</td>\n",
       "      <td>0.5</td>\n",
       "      <td>2021-01-12</td>\n",
       "      <td>1</td>\n",
       "    </tr>\n",
       "    <tr>\n",
       "      <th>17314</th>\n",
       "      <td>1483</td>\n",
       "      <td>4445.481070</td>\n",
       "      <td>0.5</td>\n",
       "      <td>2021-03-06</td>\n",
       "      <td>3</td>\n",
       "    </tr>\n",
       "    <tr>\n",
       "      <th>17505</th>\n",
       "      <td>1496</td>\n",
       "      <td>5722.551787</td>\n",
       "      <td>0.5</td>\n",
       "      <td>2021-02-14</td>\n",
       "      <td>2</td>\n",
       "    </tr>\n",
       "    <tr>\n",
       "      <th>17909</th>\n",
       "      <td>1524</td>\n",
       "      <td>4103.998874</td>\n",
       "      <td>0.5</td>\n",
       "      <td>2021-06-18</td>\n",
       "      <td>6</td>\n",
       "    </tr>\n",
       "  </tbody>\n",
       "</table>\n",
       "<p>95 rows × 5 columns</p>\n",
       "</div>"
      ],
      "text/plain": [
       "       user_id     distance  duration       date  month\n",
       "6531       701  4196.445201       0.5 2021-08-31      8\n",
       "6570       704  4830.824371       0.5 2021-10-14     10\n",
       "6680       712  4684.004397       0.5 2021-03-04      3\n",
       "6695       713  5215.642710       0.5 2021-02-25      2\n",
       "6768       718  5197.436649       0.5 2021-02-11      2\n",
       "...        ...          ...       ...        ...    ...\n",
       "17004     1460  5531.335845       0.5 2021-01-19      1\n",
       "17242     1477  6724.932981       0.5 2021-01-12      1\n",
       "17314     1483  4445.481070       0.5 2021-03-06      3\n",
       "17505     1496  5722.551787       0.5 2021-02-14      2\n",
       "17909     1524  4103.998874       0.5 2021-06-18      6\n",
       "\n",
       "[95 rows x 5 columns]"
      ]
     },
     "execution_count": 34,
     "metadata": {},
     "output_type": "execute_result"
    }
   ],
   "source": [
    "rides.query('duration == 0.5')"
   ]
  },
  {
   "cell_type": "code",
   "execution_count": 35,
   "id": "c347ff90-7a8d-4c19-b85f-51755e297272",
   "metadata": {},
   "outputs": [
    {
     "data": {
      "text/plain": [
       "485.75177211092165"
      ]
     },
     "execution_count": 35,
     "metadata": {},
     "output_type": "execute_result"
    }
   ],
   "source": [
    "#посмотрим общее расстояние за эти поездки\n",
    "rides.query('duration == 0.5')['distance'].sum() / 1000"
   ]
  },
  {
   "cell_type": "code",
   "execution_count": 36,
   "id": "70a85cf2-0a4e-4fb0-8d76-5b07b3d92870",
   "metadata": {},
   "outputs": [
    {
     "data": {
      "text/plain": [
       "0.53"
      ]
     },
     "execution_count": 36,
     "metadata": {},
     "output_type": "execute_result"
    }
   ],
   "source": [
    "#доля таких поездок от общего киличества\n",
    "(rides.query('duration == 0.5')['duration'].count() / \n",
    " rides['duration'].count()*100).round(2)"
   ]
  },
  {
   "cell_type": "markdown",
   "id": "8b8cf052-fbeb-4924-baee-42f528873104",
   "metadata": {},
   "source": [
    "**Вывод:** Среднее расстояние за поездку составляет 3070 метров, медиана - 3133 метра. Значения очень близкие между собой, значит больших выбросов немного. Минимальное расстояние за поездку менее 1 метра, скорее всего с самокатом возникли проблемы и поездку пришлось отменить. Рекордсмен же проехал за раз 7211 метров! На графике видно маленький пик в районе 500 метров. Судя по выкладке выше, чаще такие поездки совершают пользователи, зарегистрированные позже других (новички), об этом говорит \"плотность\" их расположения(их id идут практически подряд), также короткие поезди совершают клиенты без подписки ultra, опытные пользователи реже берут самокаты для сверхкоротких поездок. Возможно, у первых 700 пользователей также были поездки короче 200 метров, но они остались за пределами имеющейся информации(в предыдущие периоды). В целом, гистограмма имеет нормальное распределение.\n",
    "\n",
    "***Внимание!!!*** В данных обнаружены поездки, длительностью 0,5 минуты, но с большими пробегами. Как минимум 95 таких поездок с общим пробегом 485 километров! Доля таких поездок от общего количества составляет 0,53%. Это те поездки, на которых компания не только не зарабатывает, но и расходует ресурс самокатов. В данном случае можно говорить о техническом сбое, когда таймер при начале поездки не запускается. Рекомендуется проверить данные случаи ответственным тех специалистам."
   ]
  },
  {
   "cell_type": "markdown",
   "id": "77cb77e0-c351-45ab-b1a5-cf88d9a5ea7b",
   "metadata": {},
   "source": [
    "###  Продолжительность поездок"
   ]
  },
  {
   "cell_type": "code",
   "execution_count": 37,
   "id": "45b9afe5-37c9-4c88-bc59-a5570863e1dd",
   "metadata": {},
   "outputs": [
    {
     "data": {
      "image/png": "[encoded data removed]",
      "text/plain": [
       "<Figure size 640x480 with 1 Axes>"
      ]
     },
     "metadata": {},
     "output_type": "display_data"
    }
   ],
   "source": [
    "rides['duration'].hist(bins=40, edgecolor='white')\n",
    "\n",
    "plt.xlabel('Продолжительность(минут)')\n",
    "plt.ylabel('Количество поездок')\n",
    "plt.title('Распределение по продолжительности')\n",
    "plt.show()"
   ]
  },
  {
   "cell_type": "code",
   "execution_count": 38,
   "id": "685c0f27-1d67-45f4-906d-cbeb019ca5ba",
   "metadata": {},
   "outputs": [
    {
     "data": {
      "text/plain": [
       "count    18068.00\n",
       "mean        17.81\n",
       "std          6.09\n",
       "min          0.50\n",
       "25%         13.60\n",
       "50%         17.68\n",
       "75%         21.72\n",
       "max         40.82\n",
       "Name: duration, dtype: float64"
      ]
     },
     "execution_count": 38,
     "metadata": {},
     "output_type": "execute_result"
    }
   ],
   "source": [
    "rides['duration'].describe().round(2)"
   ]
  },
  {
   "cell_type": "markdown",
   "id": "1e929564-1d78-461c-9a72-f159acd11a58",
   "metadata": {},
   "source": [
    "**Вывод:**  среднее время аренды составляет 17,7 минуты. Межквартильный размах составляет 13,6 - 21,7 минуты. данное распределение является ормальным. Максимальная сессия составила почти 41 минуту. \n",
    "Обратите внимание, на столбец около 0. Здесь также можно увидеть, что таких поездок около 100. О природе данных поездок написано выше - это не отказы от поездок, а незапустившийся таймер, расстояния в таких поездках существенные"
   ]
  },
  {
   "cell_type": "markdown",
   "id": "6f5d9424-e90f-4ce3-866a-e08ff15115b6",
   "metadata": {},
   "source": [
    "## Объединение данных"
   ]
  },
  {
   "cell_type": "markdown",
   "id": "fb04f3f9-c3c7-4c58-9af3-9269f9cc66ee",
   "metadata": {},
   "source": [
    "### Объединение трёх имеющихся датафреймов в один"
   ]
  },
  {
   "cell_type": "code",
   "execution_count": 39,
   "id": "9bc27f8f-0fc2-49d6-8d61-fb392537137f",
   "metadata": {},
   "outputs": [
    {
     "data": {
      "text/html": [
       "<div>\n",
       "<style scoped>\n",
       "    .dataframe tbody tr th:only-of-type {\n",
       "        vertical-align: middle;\n",
       "    }\n",
       "\n",
       "    .dataframe tbody tr th {\n",
       "        vertical-align: top;\n",
       "    }\n",
       "\n",
       "    .dataframe thead th {\n",
       "        text-align: right;\n",
       "    }\n",
       "</style>\n",
       "<table border=\"1\" class=\"dataframe\">\n",
       "  <thead>\n",
       "    <tr style=\"text-align: right;\">\n",
       "      <th></th>\n",
       "      <th>user_id</th>\n",
       "      <th>name</th>\n",
       "      <th>age</th>\n",
       "      <th>city</th>\n",
       "      <th>subscription_type</th>\n",
       "      <th>distance</th>\n",
       "      <th>duration</th>\n",
       "      <th>date</th>\n",
       "      <th>month</th>\n",
       "      <th>minute_price</th>\n",
       "      <th>start_ride_price</th>\n",
       "      <th>subscription_fee</th>\n",
       "    </tr>\n",
       "  </thead>\n",
       "  <tbody>\n",
       "    <tr>\n",
       "      <th>0</th>\n",
       "      <td>1</td>\n",
       "      <td>Кира</td>\n",
       "      <td>22</td>\n",
       "      <td>Тюмень</td>\n",
       "      <td>ultra</td>\n",
       "      <td>4409.919140</td>\n",
       "      <td>25.599769</td>\n",
       "      <td>2021-01-01</td>\n",
       "      <td>1</td>\n",
       "      <td>6</td>\n",
       "      <td>0</td>\n",
       "      <td>199</td>\n",
       "    </tr>\n",
       "    <tr>\n",
       "      <th>1</th>\n",
       "      <td>1</td>\n",
       "      <td>Кира</td>\n",
       "      <td>22</td>\n",
       "      <td>Тюмень</td>\n",
       "      <td>ultra</td>\n",
       "      <td>2617.592153</td>\n",
       "      <td>15.816871</td>\n",
       "      <td>2021-01-18</td>\n",
       "      <td>1</td>\n",
       "      <td>6</td>\n",
       "      <td>0</td>\n",
       "      <td>199</td>\n",
       "    </tr>\n",
       "    <tr>\n",
       "      <th>2</th>\n",
       "      <td>1</td>\n",
       "      <td>Кира</td>\n",
       "      <td>22</td>\n",
       "      <td>Тюмень</td>\n",
       "      <td>ultra</td>\n",
       "      <td>754.159807</td>\n",
       "      <td>6.232113</td>\n",
       "      <td>2021-04-20</td>\n",
       "      <td>4</td>\n",
       "      <td>6</td>\n",
       "      <td>0</td>\n",
       "      <td>199</td>\n",
       "    </tr>\n",
       "    <tr>\n",
       "      <th>3</th>\n",
       "      <td>1</td>\n",
       "      <td>Кира</td>\n",
       "      <td>22</td>\n",
       "      <td>Тюмень</td>\n",
       "      <td>ultra</td>\n",
       "      <td>2694.783254</td>\n",
       "      <td>18.511000</td>\n",
       "      <td>2021-08-11</td>\n",
       "      <td>8</td>\n",
       "      <td>6</td>\n",
       "      <td>0</td>\n",
       "      <td>199</td>\n",
       "    </tr>\n",
       "    <tr>\n",
       "      <th>4</th>\n",
       "      <td>1</td>\n",
       "      <td>Кира</td>\n",
       "      <td>22</td>\n",
       "      <td>Тюмень</td>\n",
       "      <td>ultra</td>\n",
       "      <td>4028.687306</td>\n",
       "      <td>26.265803</td>\n",
       "      <td>2021-08-28</td>\n",
       "      <td>8</td>\n",
       "      <td>6</td>\n",
       "      <td>0</td>\n",
       "      <td>199</td>\n",
       "    </tr>\n",
       "  </tbody>\n",
       "</table>\n",
       "</div>"
      ],
      "text/plain": [
       "   user_id  name  age    city subscription_type     distance   duration  \\\n",
       "0        1  Кира   22  Тюмень             ultra  4409.919140  25.599769   \n",
       "1        1  Кира   22  Тюмень             ultra  2617.592153  15.816871   \n",
       "2        1  Кира   22  Тюмень             ultra   754.159807   6.232113   \n",
       "3        1  Кира   22  Тюмень             ultra  2694.783254  18.511000   \n",
       "4        1  Кира   22  Тюмень             ultra  4028.687306  26.265803   \n",
       "\n",
       "        date  month  minute_price  start_ride_price  subscription_fee  \n",
       "0 2021-01-01      1             6                 0               199  \n",
       "1 2021-01-18      1             6                 0               199  \n",
       "2 2021-04-20      4             6                 0               199  \n",
       "3 2021-08-11      8             6                 0               199  \n",
       "4 2021-08-28      8             6                 0               199  "
      ]
     },
     "execution_count": 39,
     "metadata": {},
     "output_type": "execute_result"
    }
   ],
   "source": [
    "#используем метод merge\n",
    "df = users.merge(rides, on='user_id', how='left')\n",
    "df = df.merge(subscrip, on='subscription_type', how='left')\n",
    "df.head()"
   ]
  },
  {
   "cell_type": "markdown",
   "id": "230cf829-79fd-4f26-942e-662df6768bf5",
   "metadata": {},
   "source": [
    "Проверим новый датафрейм на наличие пропусков"
   ]
  },
  {
   "cell_type": "code",
   "execution_count": 40,
   "id": "b060264a-1434-44b4-a310-a323956308e3",
   "metadata": {},
   "outputs": [
    {
     "data": {
      "text/html": [
       "<div>\n",
       "<style scoped>\n",
       "    .dataframe tbody tr th:only-of-type {\n",
       "        vertical-align: middle;\n",
       "    }\n",
       "\n",
       "    .dataframe tbody tr th {\n",
       "        vertical-align: top;\n",
       "    }\n",
       "\n",
       "    .dataframe thead th {\n",
       "        text-align: right;\n",
       "    }\n",
       "</style>\n",
       "<table border=\"1\" class=\"dataframe\">\n",
       "  <thead>\n",
       "    <tr style=\"text-align: right;\">\n",
       "      <th></th>\n",
       "      <th>user_id</th>\n",
       "      <th>name</th>\n",
       "      <th>age</th>\n",
       "      <th>city</th>\n",
       "      <th>subscription_type</th>\n",
       "      <th>distance</th>\n",
       "      <th>duration</th>\n",
       "      <th>date</th>\n",
       "      <th>month</th>\n",
       "      <th>minute_price</th>\n",
       "      <th>start_ride_price</th>\n",
       "      <th>subscription_fee</th>\n",
       "    </tr>\n",
       "  </thead>\n",
       "  <tbody>\n",
       "    <tr>\n",
       "      <th>0</th>\n",
       "      <td>1</td>\n",
       "      <td>Кира</td>\n",
       "      <td>22</td>\n",
       "      <td>Тюмень</td>\n",
       "      <td>ultra</td>\n",
       "      <td>4409.919140</td>\n",
       "      <td>25.599769</td>\n",
       "      <td>2021-01-01</td>\n",
       "      <td>1</td>\n",
       "      <td>6</td>\n",
       "      <td>0</td>\n",
       "      <td>199</td>\n",
       "    </tr>\n",
       "    <tr>\n",
       "      <th>1</th>\n",
       "      <td>1</td>\n",
       "      <td>Кира</td>\n",
       "      <td>22</td>\n",
       "      <td>Тюмень</td>\n",
       "      <td>ultra</td>\n",
       "      <td>2617.592153</td>\n",
       "      <td>15.816871</td>\n",
       "      <td>2021-01-18</td>\n",
       "      <td>1</td>\n",
       "      <td>6</td>\n",
       "      <td>0</td>\n",
       "      <td>199</td>\n",
       "    </tr>\n",
       "    <tr>\n",
       "      <th>2</th>\n",
       "      <td>1</td>\n",
       "      <td>Кира</td>\n",
       "      <td>22</td>\n",
       "      <td>Тюмень</td>\n",
       "      <td>ultra</td>\n",
       "      <td>754.159807</td>\n",
       "      <td>6.232113</td>\n",
       "      <td>2021-04-20</td>\n",
       "      <td>4</td>\n",
       "      <td>6</td>\n",
       "      <td>0</td>\n",
       "      <td>199</td>\n",
       "    </tr>\n",
       "    <tr>\n",
       "      <th>3</th>\n",
       "      <td>1</td>\n",
       "      <td>Кира</td>\n",
       "      <td>22</td>\n",
       "      <td>Тюмень</td>\n",
       "      <td>ultra</td>\n",
       "      <td>2694.783254</td>\n",
       "      <td>18.511000</td>\n",
       "      <td>2021-08-11</td>\n",
       "      <td>8</td>\n",
       "      <td>6</td>\n",
       "      <td>0</td>\n",
       "      <td>199</td>\n",
       "    </tr>\n",
       "    <tr>\n",
       "      <th>4</th>\n",
       "      <td>1</td>\n",
       "      <td>Кира</td>\n",
       "      <td>22</td>\n",
       "      <td>Тюмень</td>\n",
       "      <td>ultra</td>\n",
       "      <td>4028.687306</td>\n",
       "      <td>26.265803</td>\n",
       "      <td>2021-08-28</td>\n",
       "      <td>8</td>\n",
       "      <td>6</td>\n",
       "      <td>0</td>\n",
       "      <td>199</td>\n",
       "    </tr>\n",
       "  </tbody>\n",
       "</table>\n",
       "</div>"
      ],
      "text/plain": [
       "   user_id  name  age    city subscription_type     distance   duration  \\\n",
       "0        1  Кира   22  Тюмень             ultra  4409.919140  25.599769   \n",
       "1        1  Кира   22  Тюмень             ultra  2617.592153  15.816871   \n",
       "2        1  Кира   22  Тюмень             ultra   754.159807   6.232113   \n",
       "3        1  Кира   22  Тюмень             ultra  2694.783254  18.511000   \n",
       "4        1  Кира   22  Тюмень             ultra  4028.687306  26.265803   \n",
       "\n",
       "        date  month  minute_price  start_ride_price  subscription_fee  \n",
       "0 2021-01-01      1             6                 0               199  \n",
       "1 2021-01-18      1             6                 0               199  \n",
       "2 2021-04-20      4             6                 0               199  \n",
       "3 2021-08-11      8             6                 0               199  \n",
       "4 2021-08-28      8             6                 0               199  "
      ]
     },
     "metadata": {},
     "output_type": "display_data"
    },
    {
     "name": "stdout",
     "output_type": "stream",
     "text": [
      "<class 'pandas.core.frame.DataFrame'>\n",
      "Int64Index: 18068 entries, 0 to 18067\n",
      "Data columns (total 12 columns):\n",
      " #   Column             Non-Null Count  Dtype         \n",
      "---  ------             --------------  -----         \n",
      " 0   user_id            18068 non-null  int64         \n",
      " 1   name               18068 non-null  object        \n",
      " 2   age                18068 non-null  int64         \n",
      " 3   city               18068 non-null  object        \n",
      " 4   subscription_type  18068 non-null  object        \n",
      " 5   distance           18068 non-null  float64       \n",
      " 6   duration           18068 non-null  float64       \n",
      " 7   date               18068 non-null  datetime64[ns]\n",
      " 8   month              18068 non-null  int64         \n",
      " 9   minute_price       18068 non-null  int64         \n",
      " 10  start_ride_price   18068 non-null  int64         \n",
      " 11  subscription_fee   18068 non-null  int64         \n",
      "dtypes: datetime64[ns](1), float64(2), int64(6), object(3)\n",
      "memory usage: 1.8+ MB\n"
     ]
    },
    {
     "data": {
      "text/plain": [
       "None"
      ]
     },
     "metadata": {},
     "output_type": "display_data"
    },
    {
     "data": {
      "text/plain": [
       "None"
      ]
     },
     "metadata": {},
     "output_type": "display_data"
    },
    {
     "data": {
      "text/plain": [
       "user_id              0.0\n",
       "name                 0.0\n",
       "age                  0.0\n",
       "city                 0.0\n",
       "subscription_type    0.0\n",
       "distance             0.0\n",
       "duration             0.0\n",
       "date                 0.0\n",
       "month                0.0\n",
       "minute_price         0.0\n",
       "start_ride_price     0.0\n",
       "subscription_fee     0.0\n",
       "dtype: float64"
      ]
     },
     "execution_count": 40,
     "metadata": {},
     "output_type": "execute_result"
    }
   ],
   "source": [
    "#проверяем новый датафрем на ошибки\n",
    "display(summary(df))\n",
    "df.isna().mean()"
   ]
  },
  {
   "cell_type": "code",
   "execution_count": 41,
   "id": "7d8eb0d8-2a20-4e8b-a9cc-6abdf5ad0baf",
   "metadata": {
    "scrolled": true
   },
   "outputs": [
    {
     "data": {
      "text/html": [
       "<div>\n",
       "<style scoped>\n",
       "    .dataframe tbody tr th:only-of-type {\n",
       "        vertical-align: middle;\n",
       "    }\n",
       "\n",
       "    .dataframe tbody tr th {\n",
       "        vertical-align: top;\n",
       "    }\n",
       "\n",
       "    .dataframe thead th {\n",
       "        text-align: right;\n",
       "    }\n",
       "</style>\n",
       "<table border=\"1\" class=\"dataframe\">\n",
       "  <thead>\n",
       "    <tr style=\"text-align: right;\">\n",
       "      <th></th>\n",
       "      <th>user_id</th>\n",
       "      <th>distance</th>\n",
       "      <th>duration</th>\n",
       "      <th>date</th>\n",
       "      <th>month</th>\n",
       "    </tr>\n",
       "  </thead>\n",
       "  <tbody>\n",
       "    <tr>\n",
       "      <th>0</th>\n",
       "      <td>1</td>\n",
       "      <td>4409.919140</td>\n",
       "      <td>25.599769</td>\n",
       "      <td>2021-01-01</td>\n",
       "      <td>1</td>\n",
       "    </tr>\n",
       "    <tr>\n",
       "      <th>1</th>\n",
       "      <td>1</td>\n",
       "      <td>2617.592153</td>\n",
       "      <td>15.816871</td>\n",
       "      <td>2021-01-18</td>\n",
       "      <td>1</td>\n",
       "    </tr>\n",
       "    <tr>\n",
       "      <th>2</th>\n",
       "      <td>1</td>\n",
       "      <td>754.159807</td>\n",
       "      <td>6.232113</td>\n",
       "      <td>2021-04-20</td>\n",
       "      <td>4</td>\n",
       "    </tr>\n",
       "    <tr>\n",
       "      <th>3</th>\n",
       "      <td>1</td>\n",
       "      <td>2694.783254</td>\n",
       "      <td>18.511000</td>\n",
       "      <td>2021-08-11</td>\n",
       "      <td>8</td>\n",
       "    </tr>\n",
       "    <tr>\n",
       "      <th>4</th>\n",
       "      <td>1</td>\n",
       "      <td>4028.687306</td>\n",
       "      <td>26.265803</td>\n",
       "      <td>2021-08-28</td>\n",
       "      <td>8</td>\n",
       "    </tr>\n",
       "  </tbody>\n",
       "</table>\n",
       "</div>"
      ],
      "text/plain": [
       "   user_id     distance   duration       date  month\n",
       "0        1  4409.919140  25.599769 2021-01-01      1\n",
       "1        1  2617.592153  15.816871 2021-01-18      1\n",
       "2        1   754.159807   6.232113 2021-04-20      4\n",
       "3        1  2694.783254  18.511000 2021-08-11      8\n",
       "4        1  4028.687306  26.265803 2021-08-28      8"
      ]
     },
     "metadata": {},
     "output_type": "display_data"
    },
    {
     "name": "stdout",
     "output_type": "stream",
     "text": [
      "<class 'pandas.core.frame.DataFrame'>\n",
      "RangeIndex: 18068 entries, 0 to 18067\n",
      "Data columns (total 5 columns):\n",
      " #   Column    Non-Null Count  Dtype         \n",
      "---  ------    --------------  -----         \n",
      " 0   user_id   18068 non-null  int64         \n",
      " 1   distance  18068 non-null  float64       \n",
      " 2   duration  18068 non-null  float64       \n",
      " 3   date      18068 non-null  datetime64[ns]\n",
      " 4   month     18068 non-null  int64         \n",
      "dtypes: datetime64[ns](1), float64(2), int64(2)\n",
      "memory usage: 705.9 KB\n"
     ]
    },
    {
     "data": {
      "text/plain": [
       "None"
      ]
     },
     "metadata": {},
     "output_type": "display_data"
    }
   ],
   "source": [
    "#смотрим количество строк ДО объединения\n",
    "summary(rides)"
   ]
  },
  {
   "cell_type": "markdown",
   "id": "10b55ec7-7106-494d-8f29-4c47213f741a",
   "metadata": {},
   "source": [
    "**Вывод:** объединение прошло удачно. Датафреймы соединились корректно, строки не потеряны, пустых ячеек не появилось. Теперь сразу видна общая информация о пользователе, поездке и тарифе."
   ]
  },
  {
   "cell_type": "markdown",
   "id": "ffb395cc-79bf-44db-aeba-030af42d3bcf",
   "metadata": {},
   "source": [
    "### Разделение датафрейма на две части: с подпиской ultra и без неё"
   ]
  },
  {
   "cell_type": "markdown",
   "id": "89fb585d-766a-46b0-8c8c-ac14f272d630",
   "metadata": {},
   "source": [
    "Создадим 2 датафрейма и сразу проверим размерность и пропуски в них."
   ]
  },
  {
   "cell_type": "code",
   "execution_count": 42,
   "id": "b4b71dda-5413-4f90-a8f8-7fd6d698a5d5",
   "metadata": {},
   "outputs": [
    {
     "data": {
      "text/html": [
       "<div>\n",
       "<style scoped>\n",
       "    .dataframe tbody tr th:only-of-type {\n",
       "        vertical-align: middle;\n",
       "    }\n",
       "\n",
       "    .dataframe tbody tr th {\n",
       "        vertical-align: top;\n",
       "    }\n",
       "\n",
       "    .dataframe thead th {\n",
       "        text-align: right;\n",
       "    }\n",
       "</style>\n",
       "<table border=\"1\" class=\"dataframe\">\n",
       "  <thead>\n",
       "    <tr style=\"text-align: right;\">\n",
       "      <th></th>\n",
       "      <th>user_id</th>\n",
       "      <th>name</th>\n",
       "      <th>age</th>\n",
       "      <th>city</th>\n",
       "      <th>subscription_type</th>\n",
       "      <th>distance</th>\n",
       "      <th>duration</th>\n",
       "      <th>date</th>\n",
       "      <th>month</th>\n",
       "      <th>minute_price</th>\n",
       "      <th>start_ride_price</th>\n",
       "      <th>subscription_fee</th>\n",
       "    </tr>\n",
       "  </thead>\n",
       "  <tbody>\n",
       "    <tr>\n",
       "      <th>0</th>\n",
       "      <td>1</td>\n",
       "      <td>Кира</td>\n",
       "      <td>22</td>\n",
       "      <td>Тюмень</td>\n",
       "      <td>ultra</td>\n",
       "      <td>4409.919140</td>\n",
       "      <td>25.599769</td>\n",
       "      <td>2021-01-01</td>\n",
       "      <td>1</td>\n",
       "      <td>6</td>\n",
       "      <td>0</td>\n",
       "      <td>199</td>\n",
       "    </tr>\n",
       "    <tr>\n",
       "      <th>1</th>\n",
       "      <td>1</td>\n",
       "      <td>Кира</td>\n",
       "      <td>22</td>\n",
       "      <td>Тюмень</td>\n",
       "      <td>ultra</td>\n",
       "      <td>2617.592153</td>\n",
       "      <td>15.816871</td>\n",
       "      <td>2021-01-18</td>\n",
       "      <td>1</td>\n",
       "      <td>6</td>\n",
       "      <td>0</td>\n",
       "      <td>199</td>\n",
       "    </tr>\n",
       "    <tr>\n",
       "      <th>2</th>\n",
       "      <td>1</td>\n",
       "      <td>Кира</td>\n",
       "      <td>22</td>\n",
       "      <td>Тюмень</td>\n",
       "      <td>ultra</td>\n",
       "      <td>754.159807</td>\n",
       "      <td>6.232113</td>\n",
       "      <td>2021-04-20</td>\n",
       "      <td>4</td>\n",
       "      <td>6</td>\n",
       "      <td>0</td>\n",
       "      <td>199</td>\n",
       "    </tr>\n",
       "    <tr>\n",
       "      <th>3</th>\n",
       "      <td>1</td>\n",
       "      <td>Кира</td>\n",
       "      <td>22</td>\n",
       "      <td>Тюмень</td>\n",
       "      <td>ultra</td>\n",
       "      <td>2694.783254</td>\n",
       "      <td>18.511000</td>\n",
       "      <td>2021-08-11</td>\n",
       "      <td>8</td>\n",
       "      <td>6</td>\n",
       "      <td>0</td>\n",
       "      <td>199</td>\n",
       "    </tr>\n",
       "    <tr>\n",
       "      <th>4</th>\n",
       "      <td>1</td>\n",
       "      <td>Кира</td>\n",
       "      <td>22</td>\n",
       "      <td>Тюмень</td>\n",
       "      <td>ultra</td>\n",
       "      <td>4028.687306</td>\n",
       "      <td>26.265803</td>\n",
       "      <td>2021-08-28</td>\n",
       "      <td>8</td>\n",
       "      <td>6</td>\n",
       "      <td>0</td>\n",
       "      <td>199</td>\n",
       "    </tr>\n",
       "  </tbody>\n",
       "</table>\n",
       "</div>"
      ],
      "text/plain": [
       "   user_id  name  age    city subscription_type     distance   duration  \\\n",
       "0        1  Кира   22  Тюмень             ultra  4409.919140  25.599769   \n",
       "1        1  Кира   22  Тюмень             ultra  2617.592153  15.816871   \n",
       "2        1  Кира   22  Тюмень             ultra   754.159807   6.232113   \n",
       "3        1  Кира   22  Тюмень             ultra  2694.783254  18.511000   \n",
       "4        1  Кира   22  Тюмень             ultra  4028.687306  26.265803   \n",
       "\n",
       "        date  month  minute_price  start_ride_price  subscription_fee  \n",
       "0 2021-01-01      1             6                 0               199  \n",
       "1 2021-01-18      1             6                 0               199  \n",
       "2 2021-04-20      4             6                 0               199  \n",
       "3 2021-08-11      8             6                 0               199  \n",
       "4 2021-08-28      8             6                 0               199  "
      ]
     },
     "metadata": {},
     "output_type": "display_data"
    },
    {
     "name": "stdout",
     "output_type": "stream",
     "text": [
      "<class 'pandas.core.frame.DataFrame'>\n",
      "Int64Index: 6500 entries, 0 to 6499\n",
      "Data columns (total 12 columns):\n",
      " #   Column             Non-Null Count  Dtype         \n",
      "---  ------             --------------  -----         \n",
      " 0   user_id            6500 non-null   int64         \n",
      " 1   name               6500 non-null   object        \n",
      " 2   age                6500 non-null   int64         \n",
      " 3   city               6500 non-null   object        \n",
      " 4   subscription_type  6500 non-null   object        \n",
      " 5   distance           6500 non-null   float64       \n",
      " 6   duration           6500 non-null   float64       \n",
      " 7   date               6500 non-null   datetime64[ns]\n",
      " 8   month              6500 non-null   int64         \n",
      " 9   minute_price       6500 non-null   int64         \n",
      " 10  start_ride_price   6500 non-null   int64         \n",
      " 11  subscription_fee   6500 non-null   int64         \n",
      "dtypes: datetime64[ns](1), float64(2), int64(6), object(3)\n",
      "memory usage: 660.2+ KB\n"
     ]
    },
    {
     "data": {
      "text/plain": [
       "None"
      ]
     },
     "metadata": {},
     "output_type": "display_data"
    },
    {
     "data": {
      "text/plain": [
       "None"
      ]
     },
     "metadata": {},
     "output_type": "display_data"
    },
    {
     "data": {
      "text/plain": [
       "user_id              0\n",
       "name                 0\n",
       "age                  0\n",
       "city                 0\n",
       "subscription_type    0\n",
       "distance             0\n",
       "duration             0\n",
       "date                 0\n",
       "month                0\n",
       "minute_price         0\n",
       "start_ride_price     0\n",
       "subscription_fee     0\n",
       "dtype: int64"
      ]
     },
     "execution_count": 42,
     "metadata": {},
     "output_type": "execute_result"
    }
   ],
   "source": [
    "#с подпиской\n",
    "df_ultra = df[df['subscription_type'] == 'ultra']\n",
    "\n",
    "display(summary(df_ultra))\n",
    "df_ultra.isna().sum()"
   ]
  },
  {
   "cell_type": "code",
   "execution_count": 43,
   "id": "72ef2b88-be19-471e-8742-498f4e93f72b",
   "metadata": {},
   "outputs": [
    {
     "data": {
      "text/html": [
       "<div>\n",
       "<style scoped>\n",
       "    .dataframe tbody tr th:only-of-type {\n",
       "        vertical-align: middle;\n",
       "    }\n",
       "\n",
       "    .dataframe tbody tr th {\n",
       "        vertical-align: top;\n",
       "    }\n",
       "\n",
       "    .dataframe thead th {\n",
       "        text-align: right;\n",
       "    }\n",
       "</style>\n",
       "<table border=\"1\" class=\"dataframe\">\n",
       "  <thead>\n",
       "    <tr style=\"text-align: right;\">\n",
       "      <th></th>\n",
       "      <th>user_id</th>\n",
       "      <th>name</th>\n",
       "      <th>age</th>\n",
       "      <th>city</th>\n",
       "      <th>subscription_type</th>\n",
       "      <th>distance</th>\n",
       "      <th>duration</th>\n",
       "      <th>date</th>\n",
       "      <th>month</th>\n",
       "      <th>minute_price</th>\n",
       "      <th>start_ride_price</th>\n",
       "      <th>subscription_fee</th>\n",
       "    </tr>\n",
       "  </thead>\n",
       "  <tbody>\n",
       "    <tr>\n",
       "      <th>6500</th>\n",
       "      <td>700</td>\n",
       "      <td>Айдар</td>\n",
       "      <td>22</td>\n",
       "      <td>Омск</td>\n",
       "      <td>free</td>\n",
       "      <td>2515.690719</td>\n",
       "      <td>14.944286</td>\n",
       "      <td>2021-01-02</td>\n",
       "      <td>1</td>\n",
       "      <td>8</td>\n",
       "      <td>50</td>\n",
       "      <td>0</td>\n",
       "    </tr>\n",
       "    <tr>\n",
       "      <th>6501</th>\n",
       "      <td>700</td>\n",
       "      <td>Айдар</td>\n",
       "      <td>22</td>\n",
       "      <td>Омск</td>\n",
       "      <td>free</td>\n",
       "      <td>846.932642</td>\n",
       "      <td>16.234663</td>\n",
       "      <td>2021-02-01</td>\n",
       "      <td>2</td>\n",
       "      <td>8</td>\n",
       "      <td>50</td>\n",
       "      <td>0</td>\n",
       "    </tr>\n",
       "    <tr>\n",
       "      <th>6502</th>\n",
       "      <td>700</td>\n",
       "      <td>Айдар</td>\n",
       "      <td>22</td>\n",
       "      <td>Омск</td>\n",
       "      <td>free</td>\n",
       "      <td>4004.434142</td>\n",
       "      <td>20.016628</td>\n",
       "      <td>2021-02-04</td>\n",
       "      <td>2</td>\n",
       "      <td>8</td>\n",
       "      <td>50</td>\n",
       "      <td>0</td>\n",
       "    </tr>\n",
       "    <tr>\n",
       "      <th>6503</th>\n",
       "      <td>700</td>\n",
       "      <td>Айдар</td>\n",
       "      <td>22</td>\n",
       "      <td>Омск</td>\n",
       "      <td>free</td>\n",
       "      <td>1205.911290</td>\n",
       "      <td>9.782872</td>\n",
       "      <td>2021-02-10</td>\n",
       "      <td>2</td>\n",
       "      <td>8</td>\n",
       "      <td>50</td>\n",
       "      <td>0</td>\n",
       "    </tr>\n",
       "    <tr>\n",
       "      <th>6504</th>\n",
       "      <td>700</td>\n",
       "      <td>Айдар</td>\n",
       "      <td>22</td>\n",
       "      <td>Омск</td>\n",
       "      <td>free</td>\n",
       "      <td>3047.379435</td>\n",
       "      <td>17.427673</td>\n",
       "      <td>2021-02-14</td>\n",
       "      <td>2</td>\n",
       "      <td>8</td>\n",
       "      <td>50</td>\n",
       "      <td>0</td>\n",
       "    </tr>\n",
       "  </tbody>\n",
       "</table>\n",
       "</div>"
      ],
      "text/plain": [
       "      user_id   name  age  city subscription_type     distance   duration  \\\n",
       "6500      700  Айдар   22  Омск              free  2515.690719  14.944286   \n",
       "6501      700  Айдар   22  Омск              free   846.932642  16.234663   \n",
       "6502      700  Айдар   22  Омск              free  4004.434142  20.016628   \n",
       "6503      700  Айдар   22  Омск              free  1205.911290   9.782872   \n",
       "6504      700  Айдар   22  Омск              free  3047.379435  17.427673   \n",
       "\n",
       "           date  month  minute_price  start_ride_price  subscription_fee  \n",
       "6500 2021-01-02      1             8                50                 0  \n",
       "6501 2021-02-01      2             8                50                 0  \n",
       "6502 2021-02-04      2             8                50                 0  \n",
       "6503 2021-02-10      2             8                50                 0  \n",
       "6504 2021-02-14      2             8                50                 0  "
      ]
     },
     "metadata": {},
     "output_type": "display_data"
    },
    {
     "name": "stdout",
     "output_type": "stream",
     "text": [
      "<class 'pandas.core.frame.DataFrame'>\n",
      "Int64Index: 11568 entries, 6500 to 18067\n",
      "Data columns (total 12 columns):\n",
      " #   Column             Non-Null Count  Dtype         \n",
      "---  ------             --------------  -----         \n",
      " 0   user_id            11568 non-null  int64         \n",
      " 1   name               11568 non-null  object        \n",
      " 2   age                11568 non-null  int64         \n",
      " 3   city               11568 non-null  object        \n",
      " 4   subscription_type  11568 non-null  object        \n",
      " 5   distance           11568 non-null  float64       \n",
      " 6   duration           11568 non-null  float64       \n",
      " 7   date               11568 non-null  datetime64[ns]\n",
      " 8   month              11568 non-null  int64         \n",
      " 9   minute_price       11568 non-null  int64         \n",
      " 10  start_ride_price   11568 non-null  int64         \n",
      " 11  subscription_fee   11568 non-null  int64         \n",
      "dtypes: datetime64[ns](1), float64(2), int64(6), object(3)\n",
      "memory usage: 1.1+ MB\n"
     ]
    },
    {
     "data": {
      "text/plain": [
       "None"
      ]
     },
     "metadata": {},
     "output_type": "display_data"
    },
    {
     "data": {
      "text/plain": [
       "None"
      ]
     },
     "metadata": {},
     "output_type": "display_data"
    },
    {
     "data": {
      "text/plain": [
       "user_id              0\n",
       "name                 0\n",
       "age                  0\n",
       "city                 0\n",
       "subscription_type    0\n",
       "distance             0\n",
       "duration             0\n",
       "date                 0\n",
       "month                0\n",
       "minute_price         0\n",
       "start_ride_price     0\n",
       "subscription_fee     0\n",
       "dtype: int64"
      ]
     },
     "execution_count": 43,
     "metadata": {},
     "output_type": "execute_result"
    }
   ],
   "source": [
    "#без подписки\n",
    "df_free = df[df['subscription_type'] == 'free']\n",
    "\n",
    "display(summary(df_free))\n",
    "df_free.isna().sum()"
   ]
  },
  {
   "cell_type": "markdown",
   "id": "f5bacc32-2abb-46de-bc8f-f95df6e4a1c1",
   "metadata": {},
   "source": [
    "**Вывод:** датафрейм успешно разделен на поездки с подпиской и без нее. Строки не потеряны, пропуски не появились."
   ]
  },
  {
   "cell_type": "markdown",
   "id": "0b4a4cec-5675-4dfd-a77e-fca332e3987a",
   "metadata": {},
   "source": [
    "### Визуализация данных по поездкам с подпиской и без таковой"
   ]
  },
  {
   "cell_type": "markdown",
   "id": "3754918b-2d6f-4a0a-a045-d8b806a9a45a",
   "metadata": {},
   "source": [
    "Серым обозначим пользователей без подписки, зеленым - с подпиской Ultra"
   ]
  },
  {
   "cell_type": "code",
   "execution_count": 44,
   "id": "5435d64f-401b-4d9a-bbaa-afabf51e055f",
   "metadata": {},
   "outputs": [
    {
     "data": {
      "image/png": "[encoded data removed]",
      "text/plain": [
       "<Figure size 640x480 with 1 Axes>"
      ]
     },
     "metadata": {},
     "output_type": "display_data"
    }
   ],
   "source": [
    "plt.hist(df_free['distance'], \n",
    "         bins=40,\n",
    "         alpha=0.8, \n",
    "         edgecolor='white', \n",
    "         color='silver')\n",
    "plt.hist(df_ultra['distance'], \n",
    "         bins=40, \n",
    "         alpha=0.4, \n",
    "         edgecolor='white', \n",
    "         color='lightgreen')\n",
    "\n",
    "\n",
    "plt.grid(True)\n",
    "plt.xlabel('Расстояние(метров)')\n",
    "plt.ylabel('Количество поездок')\n",
    "plt.title('Распределение по расстоянию')\n",
    "plt.show()"
   ]
  },
  {
   "cell_type": "code",
   "execution_count": 45,
   "id": "7e28088b-4753-4623-bfb3-c11952361de8",
   "metadata": {},
   "outputs": [
    {
     "data": {
      "text/plain": [
       "count    6500.00\n",
       "mean     3115.45\n",
       "std       836.90\n",
       "min       244.21\n",
       "25%      2785.44\n",
       "50%      3148.64\n",
       "75%      3560.57\n",
       "max      5699.77\n",
       "Name: distance, dtype: float64"
      ]
     },
     "execution_count": 45,
     "metadata": {},
     "output_type": "execute_result"
    }
   ],
   "source": [
    "#ultra\n",
    "df_ultra['distance'].describe().round(2)"
   ]
  },
  {
   "cell_type": "code",
   "execution_count": 46,
   "id": "6ec2fd4b-12f4-41fb-be65-c33c7dcdd199",
   "metadata": {},
   "outputs": [
    {
     "data": {
      "text/plain": [
       "count    11568.00\n",
       "mean      3045.50\n",
       "std       1246.17\n",
       "min          0.86\n",
       "25%       2366.56\n",
       "50%       3114.65\n",
       "75%       3905.70\n",
       "max       7211.01\n",
       "Name: distance, dtype: float64"
      ]
     },
     "execution_count": 46,
     "metadata": {},
     "output_type": "execute_result"
    }
   ],
   "source": [
    "#free\n",
    "df_free['distance'].describe().round(2)"
   ]
  },
  {
   "cell_type": "markdown",
   "id": "e0b853e2-5ef1-4642-a685-5e1aef9f0d5c",
   "metadata": {},
   "source": [
    "**Вывод:** среднее расстояние за поездку в обоих случаях примерно равно 3100 метров, в то же время расстояния во время аренды с подпиской расположены более плотно отностительно среднего значения. Также с подпиской полностью отсутствуют ультракороткие поездки, в то время как в арендах без подписки около 150 поездок в принципе имеют значения близкие к 0, то есть поездки не состоялись."
   ]
  },
  {
   "cell_type": "code",
   "execution_count": 47,
   "id": "55580817-f11b-4cfa-89f2-ff3ffa595a77",
   "metadata": {},
   "outputs": [
    {
     "data": {
      "image/png": "[encoded data removed]",
      "text/plain": [
       "<Figure size 640x480 with 1 Axes>"
      ]
     },
     "metadata": {},
     "output_type": "display_data"
    }
   ],
   "source": [
    "plt.hist(df_free['duration'], \n",
    "         bins=40, \n",
    "         alpha=0.8, \n",
    "         edgecolor='white', \n",
    "         color='silver')\n",
    "plt.hist(df_ultra['duration'], \n",
    "         bins=40, \n",
    "         alpha=0.4,\n",
    "         edgecolor='white', \n",
    "         color='lightgreen')\n",
    "\n",
    "plt.grid(True)\n",
    "plt.xlabel('Длительность(минут)')\n",
    "plt.ylabel('Количество поездок')\n",
    "plt.title('Распределение по времени')\n",
    "plt.show()"
   ]
  },
  {
   "cell_type": "code",
   "execution_count": 48,
   "id": "020fcb46-4cc9-4baf-8bd6-961e2ce84e5a",
   "metadata": {},
   "outputs": [
    {
     "data": {
      "text/plain": [
       "count    6500.00\n",
       "mean       18.54\n",
       "std         5.57\n",
       "min         3.76\n",
       "25%        14.52\n",
       "50%        18.18\n",
       "75%        21.88\n",
       "max        40.82\n",
       "Name: duration, dtype: float64"
      ]
     },
     "execution_count": 48,
     "metadata": {},
     "output_type": "execute_result"
    }
   ],
   "source": [
    "df_ultra['duration'].describe().round(2)"
   ]
  },
  {
   "cell_type": "code",
   "execution_count": 49,
   "id": "f8bc4dba-65f5-4377-9620-c70e3f9ce0ac",
   "metadata": {},
   "outputs": [
    {
     "data": {
      "text/plain": [
       "count    11568.00\n",
       "mean        17.39\n",
       "std          6.33\n",
       "min          0.50\n",
       "25%         12.96\n",
       "50%         17.33\n",
       "75%         21.59\n",
       "max         34.95\n",
       "Name: duration, dtype: float64"
      ]
     },
     "execution_count": 49,
     "metadata": {},
     "output_type": "execute_result"
    }
   ],
   "source": [
    "df_free['duration'].describe().round(2)"
   ]
  },
  {
   "cell_type": "markdown",
   "id": "1719374d-3ff8-4937-8a0c-1176b0d7c75c",
   "metadata": {},
   "source": [
    "**Вывод:** из инфографики видно, что несмотря на платный старт и более высокую стоимость минуты без подписки, такие поездки совершаются почти вдвое чаще, чем с подпиской. Длительность поездок в среднем также примерно одинакова - 17-18 минут. Без подписки присутсвует около 100 поездок, длительностью 1 минута - опять же те поезки с невключённым таймером. У пользователей с подпиской таких поездок нет. Интересное наблюдение: максимальное расстояние преодолел пользователь без подписки, а самая долгая аренда была с подпиской. Это может свидетельствовать о том, что пользователи с подпиской выбирают более низкую скорость передвижения во время поездок, так как стоимость минуты у них ниже на 25%."
   ]
  },
  {
   "cell_type": "markdown",
   "id": "9c99e01a-32cd-4cdd-8649-bdd9d3f91fed",
   "metadata": {},
   "source": [
    "##  Подсчет выручки"
   ]
  },
  {
   "cell_type": "markdown",
   "id": "f18ee76a-ed39-4728-8ccd-c8aaba501428",
   "metadata": {},
   "source": [
    "###  Создадим датафрейм с агрегированными данными о поездках"
   ]
  },
  {
   "cell_type": "markdown",
   "id": "d009d9b3-ac6f-4a30-a25e-871ff418aa6f",
   "metadata": {},
   "source": [
    "Для подсчета выручки необходимо округлить длительность всех поездок в большую сторону."
   ]
  },
  {
   "cell_type": "code",
   "execution_count": 109,
   "id": "8e4fbda9-81ae-47d0-a1a7-bad587a85e3d",
   "metadata": {},
   "outputs": [
    {
     "data": {
      "text/html": [
       "<div>\n",
       "<style scoped>\n",
       "    .dataframe tbody tr th:only-of-type {\n",
       "        vertical-align: middle;\n",
       "    }\n",
       "\n",
       "    .dataframe tbody tr th {\n",
       "        vertical-align: top;\n",
       "    }\n",
       "\n",
       "    .dataframe thead th {\n",
       "        text-align: right;\n",
       "    }\n",
       "</style>\n",
       "<table border=\"1\" class=\"dataframe\">\n",
       "  <thead>\n",
       "    <tr style=\"text-align: right;\">\n",
       "      <th></th>\n",
       "      <th>user_id</th>\n",
       "      <th>name</th>\n",
       "      <th>age</th>\n",
       "      <th>city</th>\n",
       "      <th>subscription_type</th>\n",
       "      <th>distance</th>\n",
       "      <th>duration</th>\n",
       "      <th>date</th>\n",
       "      <th>month</th>\n",
       "      <th>minute_price</th>\n",
       "      <th>start_ride_price</th>\n",
       "      <th>subscription_fee</th>\n",
       "    </tr>\n",
       "  </thead>\n",
       "  <tbody>\n",
       "    <tr>\n",
       "      <th>0</th>\n",
       "      <td>1</td>\n",
       "      <td>Кира</td>\n",
       "      <td>22</td>\n",
       "      <td>Тюмень</td>\n",
       "      <td>ultra</td>\n",
       "      <td>4409.919140</td>\n",
       "      <td>26.0</td>\n",
       "      <td>2021-01-01</td>\n",
       "      <td>1</td>\n",
       "      <td>6</td>\n",
       "      <td>0</td>\n",
       "      <td>199</td>\n",
       "    </tr>\n",
       "    <tr>\n",
       "      <th>1</th>\n",
       "      <td>1</td>\n",
       "      <td>Кира</td>\n",
       "      <td>22</td>\n",
       "      <td>Тюмень</td>\n",
       "      <td>ultra</td>\n",
       "      <td>2617.592153</td>\n",
       "      <td>16.0</td>\n",
       "      <td>2021-01-18</td>\n",
       "      <td>1</td>\n",
       "      <td>6</td>\n",
       "      <td>0</td>\n",
       "      <td>199</td>\n",
       "    </tr>\n",
       "    <tr>\n",
       "      <th>2</th>\n",
       "      <td>1</td>\n",
       "      <td>Кира</td>\n",
       "      <td>22</td>\n",
       "      <td>Тюмень</td>\n",
       "      <td>ultra</td>\n",
       "      <td>754.159807</td>\n",
       "      <td>7.0</td>\n",
       "      <td>2021-04-20</td>\n",
       "      <td>4</td>\n",
       "      <td>6</td>\n",
       "      <td>0</td>\n",
       "      <td>199</td>\n",
       "    </tr>\n",
       "    <tr>\n",
       "      <th>3</th>\n",
       "      <td>1</td>\n",
       "      <td>Кира</td>\n",
       "      <td>22</td>\n",
       "      <td>Тюмень</td>\n",
       "      <td>ultra</td>\n",
       "      <td>2694.783254</td>\n",
       "      <td>19.0</td>\n",
       "      <td>2021-08-11</td>\n",
       "      <td>8</td>\n",
       "      <td>6</td>\n",
       "      <td>0</td>\n",
       "      <td>199</td>\n",
       "    </tr>\n",
       "    <tr>\n",
       "      <th>4</th>\n",
       "      <td>1</td>\n",
       "      <td>Кира</td>\n",
       "      <td>22</td>\n",
       "      <td>Тюмень</td>\n",
       "      <td>ultra</td>\n",
       "      <td>4028.687306</td>\n",
       "      <td>27.0</td>\n",
       "      <td>2021-08-28</td>\n",
       "      <td>8</td>\n",
       "      <td>6</td>\n",
       "      <td>0</td>\n",
       "      <td>199</td>\n",
       "    </tr>\n",
       "  </tbody>\n",
       "</table>\n",
       "</div>"
      ],
      "text/plain": [
       "   user_id  name  age    city subscription_type     distance  duration  \\\n",
       "0        1  Кира   22  Тюмень             ultra  4409.919140      26.0   \n",
       "1        1  Кира   22  Тюмень             ultra  2617.592153      16.0   \n",
       "2        1  Кира   22  Тюмень             ultra   754.159807       7.0   \n",
       "3        1  Кира   22  Тюмень             ultra  2694.783254      19.0   \n",
       "4        1  Кира   22  Тюмень             ultra  4028.687306      27.0   \n",
       "\n",
       "        date  month  minute_price  start_ride_price  subscription_fee  \n",
       "0 2021-01-01      1             6                 0               199  \n",
       "1 2021-01-18      1             6                 0               199  \n",
       "2 2021-04-20      4             6                 0               199  \n",
       "3 2021-08-11      8             6                 0               199  \n",
       "4 2021-08-28      8             6                 0               199  "
      ]
     },
     "execution_count": 109,
     "metadata": {},
     "output_type": "execute_result"
    }
   ],
   "source": [
    "# каждое значение из столбца duration округляется с помощью «потолка»: \n",
    "df['duration'] = np.ceil(df['duration'])\n",
    "df.head()"
   ]
  },
  {
   "cell_type": "markdown",
   "id": "600f1d34-af9d-4c45-ab30-8db47870ed8e",
   "metadata": {},
   "source": [
    "Создаём датафрем с суммой всех поездок по пользователям за каждый месяц."
   ]
  },
  {
   "cell_type": "code",
   "execution_count": 111,
   "id": "2c071907-a3cf-4cbd-9c2b-1a19a42127c3",
   "metadata": {},
   "outputs": [
    {
     "data": {
      "text/html": [
       "<div>\n",
       "<style scoped>\n",
       "    .dataframe tbody tr th:only-of-type {\n",
       "        vertical-align: middle;\n",
       "    }\n",
       "\n",
       "    .dataframe tbody tr th {\n",
       "        vertical-align: top;\n",
       "    }\n",
       "\n",
       "    .dataframe thead th {\n",
       "        text-align: right;\n",
       "    }\n",
       "</style>\n",
       "<table border=\"1\" class=\"dataframe\">\n",
       "  <thead>\n",
       "    <tr style=\"text-align: right;\">\n",
       "      <th></th>\n",
       "      <th></th>\n",
       "      <th>total_distance</th>\n",
       "      <th>total_duration</th>\n",
       "      <th>subscription_type</th>\n",
       "      <th>total_rides</th>\n",
       "    </tr>\n",
       "    <tr>\n",
       "      <th>user_id</th>\n",
       "      <th>month</th>\n",
       "      <th></th>\n",
       "      <th></th>\n",
       "      <th></th>\n",
       "      <th></th>\n",
       "    </tr>\n",
       "  </thead>\n",
       "  <tbody>\n",
       "    <tr>\n",
       "      <th rowspan=\"6\" valign=\"top\">1</th>\n",
       "      <th>1</th>\n",
       "      <td>7027.511294</td>\n",
       "      <td>42.0</td>\n",
       "      <td>ultra</td>\n",
       "      <td>2</td>\n",
       "    </tr>\n",
       "    <tr>\n",
       "      <th>4</th>\n",
       "      <td>754.159807</td>\n",
       "      <td>7.0</td>\n",
       "      <td>ultra</td>\n",
       "      <td>1</td>\n",
       "    </tr>\n",
       "    <tr>\n",
       "      <th>8</th>\n",
       "      <td>6723.470560</td>\n",
       "      <td>46.0</td>\n",
       "      <td>ultra</td>\n",
       "      <td>2</td>\n",
       "    </tr>\n",
       "    <tr>\n",
       "      <th>10</th>\n",
       "      <td>5809.911100</td>\n",
       "      <td>32.0</td>\n",
       "      <td>ultra</td>\n",
       "      <td>2</td>\n",
       "    </tr>\n",
       "    <tr>\n",
       "      <th>11</th>\n",
       "      <td>7003.499363</td>\n",
       "      <td>56.0</td>\n",
       "      <td>ultra</td>\n",
       "      <td>3</td>\n",
       "    </tr>\n",
       "    <tr>\n",
       "      <th>12</th>\n",
       "      <td>6751.629942</td>\n",
       "      <td>28.0</td>\n",
       "      <td>ultra</td>\n",
       "      <td>2</td>\n",
       "    </tr>\n",
       "    <tr>\n",
       "      <th rowspan=\"4\" valign=\"top\">2</th>\n",
       "      <th>3</th>\n",
       "      <td>10187.723006</td>\n",
       "      <td>63.0</td>\n",
       "      <td>ultra</td>\n",
       "      <td>3</td>\n",
       "    </tr>\n",
       "    <tr>\n",
       "      <th>4</th>\n",
       "      <td>6164.381824</td>\n",
       "      <td>40.0</td>\n",
       "      <td>ultra</td>\n",
       "      <td>2</td>\n",
       "    </tr>\n",
       "    <tr>\n",
       "      <th>6</th>\n",
       "      <td>3255.338202</td>\n",
       "      <td>14.0</td>\n",
       "      <td>ultra</td>\n",
       "      <td>1</td>\n",
       "    </tr>\n",
       "    <tr>\n",
       "      <th>7</th>\n",
       "      <td>6780.722964</td>\n",
       "      <td>48.0</td>\n",
       "      <td>ultra</td>\n",
       "      <td>2</td>\n",
       "    </tr>\n",
       "  </tbody>\n",
       "</table>\n",
       "</div>"
      ],
      "text/plain": [
       "               total_distance  total_duration subscription_type  total_rides\n",
       "user_id month                                                               \n",
       "1       1         7027.511294            42.0             ultra            2\n",
       "        4          754.159807             7.0             ultra            1\n",
       "        8         6723.470560            46.0             ultra            2\n",
       "        10        5809.911100            32.0             ultra            2\n",
       "        11        7003.499363            56.0             ultra            3\n",
       "        12        6751.629942            28.0             ultra            2\n",
       "2       3        10187.723006            63.0             ultra            3\n",
       "        4         6164.381824            40.0             ultra            2\n",
       "        6         3255.338202            14.0             ultra            1\n",
       "        7         6780.722964            48.0             ultra            2"
      ]
     },
     "execution_count": 111,
     "metadata": {},
     "output_type": "execute_result"
    }
   ],
   "source": [
    "df_final = df.pivot_table(index=['user_id', 'month'], \n",
    "                          values=['distance', 'duration', 'subscription_type'], \n",
    "                          aggfunc={'distance': sum, 'duration' : sum, 'user_id' : len, 'subscription_type' : min})\n",
    "df_final.columns = ['total_distance', 'total_duration', 'subscription_type', 'total_rides']\n",
    "df_final.head(10)"
   ]
  },
  {
   "cell_type": "code",
   "execution_count": 93,
   "id": "d8ebbacd-b401-44a6-920f-24ab865db6f4",
   "metadata": {},
   "outputs": [
    {
     "data": {
      "text/plain": [
       "total_distance       0\n",
       "total_duration       0\n",
       "subscription_type    0\n",
       "total_rides          0\n",
       "dtype: int64"
      ]
     },
     "execution_count": 93,
     "metadata": {},
     "output_type": "execute_result"
    }
   ],
   "source": [
    "#сразу проверим на пропуски\n",
    "df_final.isna().sum()"
   ]
  },
  {
   "cell_type": "markdown",
   "id": "95f60fc0-cf25-4778-885e-7c9bdd48bffc",
   "metadata": {},
   "source": [
    "Данные сагрегировались корректно, пропусков нет"
   ]
  },
  {
   "cell_type": "markdown",
   "id": "15526650-59d7-4d9e-a431-deaba0641c7d",
   "metadata": {},
   "source": [
    "### Добавим столбец с выручкой"
   ]
  },
  {
   "cell_type": "markdown",
   "id": "c9f5a3af-7aaa-4a3a-8582-830f204e3105",
   "metadata": {},
   "source": [
    "Добавим в датафрейм столбцы со стоимостью минуты, старта и подписки для дальнейшего подсчета выручки. Для этого воспользуемся функцией"
   ]
  },
  {
   "cell_type": "code",
   "execution_count": 53,
   "id": "e52f55d0-03f8-411c-97b7-413c635f920c",
   "metadata": {},
   "outputs": [],
   "source": [
    "def minute_price(row):\n",
    "    '''\n",
    "    устанавливает стоимость минуты по тарифам\n",
    "    '''\n",
    "    if row['subscription_type'] == 'ultra':\n",
    "        return  6\n",
    "    else: \n",
    "        return  8"
   ]
  },
  {
   "cell_type": "code",
   "execution_count": 54,
   "id": "4bf9a51d-9d48-4fc8-a2b5-f0e8fcbd3072",
   "metadata": {},
   "outputs": [],
   "source": [
    "df_final['minute_price'] = df_final.apply(minute_price, axis=1)"
   ]
  },
  {
   "cell_type": "code",
   "execution_count": 55,
   "id": "da0056e4-81a8-4bef-93b9-fb59b6c42034",
   "metadata": {},
   "outputs": [],
   "source": [
    "def start_price(row):\n",
    "    '''\n",
    "    устанавливает стоимость старта по тарифам\n",
    "    '''\n",
    "    if row['subscription_type'] == 'ultra':\n",
    "        return  0\n",
    "    else: \n",
    "        return  50"
   ]
  },
  {
   "cell_type": "code",
   "execution_count": 56,
   "id": "815a19ac-032f-415d-be8a-da4a0854afa1",
   "metadata": {},
   "outputs": [],
   "source": [
    "df_final['start_price'] = df_final.apply(start_price, axis=1)"
   ]
  },
  {
   "cell_type": "code",
   "execution_count": 57,
   "id": "cf4caebe-f87d-40bc-9b7b-d0dbbf531c9a",
   "metadata": {},
   "outputs": [],
   "source": [
    "def subscription_price(row):\n",
    "    '''\n",
    "    устанавливает стоимость подписки по тарифам\n",
    "    '''\n",
    "    if row['subscription_type'] == 'ultra':\n",
    "        return  199\n",
    "    else: \n",
    "        return  0"
   ]
  },
  {
   "cell_type": "code",
   "execution_count": 58,
   "id": "ff86025f-5659-45c6-a16e-51e309dcc685",
   "metadata": {},
   "outputs": [],
   "source": [
    "df_final['subscription_price'] = df_final.apply(subscription_price, axis=1)"
   ]
  },
  {
   "cell_type": "markdown",
   "id": "b1aef828-6afc-4f5f-937e-342d84ed71ad",
   "metadata": {},
   "source": [
    "Проверим, что всё добавилось как положено, без пропусков и ошибок."
   ]
  },
  {
   "cell_type": "code",
   "execution_count": 105,
   "id": "1334d001-32f8-4380-810b-f7cd9ab21418",
   "metadata": {},
   "outputs": [
    {
     "data": {
      "text/html": [
       "<div>\n",
       "<style scoped>\n",
       "    .dataframe tbody tr th:only-of-type {\n",
       "        vertical-align: middle;\n",
       "    }\n",
       "\n",
       "    .dataframe tbody tr th {\n",
       "        vertical-align: top;\n",
       "    }\n",
       "\n",
       "    .dataframe thead th {\n",
       "        text-align: right;\n",
       "    }\n",
       "</style>\n",
       "<table border=\"1\" class=\"dataframe\">\n",
       "  <thead>\n",
       "    <tr style=\"text-align: right;\">\n",
       "      <th></th>\n",
       "      <th></th>\n",
       "      <th>total_distance</th>\n",
       "      <th>total_duration</th>\n",
       "      <th>subscription_type</th>\n",
       "      <th>total_rides</th>\n",
       "    </tr>\n",
       "    <tr>\n",
       "      <th>user_id</th>\n",
       "      <th>month</th>\n",
       "      <th></th>\n",
       "      <th></th>\n",
       "      <th></th>\n",
       "      <th></th>\n",
       "    </tr>\n",
       "  </thead>\n",
       "  <tbody>\n",
       "    <tr>\n",
       "      <th rowspan=\"5\" valign=\"top\">1</th>\n",
       "      <th>1</th>\n",
       "      <td>7027.511294</td>\n",
       "      <td>42.0</td>\n",
       "      <td>ultra</td>\n",
       "      <td>2</td>\n",
       "    </tr>\n",
       "    <tr>\n",
       "      <th>4</th>\n",
       "      <td>754.159807</td>\n",
       "      <td>7.0</td>\n",
       "      <td>ultra</td>\n",
       "      <td>1</td>\n",
       "    </tr>\n",
       "    <tr>\n",
       "      <th>8</th>\n",
       "      <td>6723.470560</td>\n",
       "      <td>46.0</td>\n",
       "      <td>ultra</td>\n",
       "      <td>2</td>\n",
       "    </tr>\n",
       "    <tr>\n",
       "      <th>10</th>\n",
       "      <td>5809.911100</td>\n",
       "      <td>32.0</td>\n",
       "      <td>ultra</td>\n",
       "      <td>2</td>\n",
       "    </tr>\n",
       "    <tr>\n",
       "      <th>11</th>\n",
       "      <td>7003.499363</td>\n",
       "      <td>56.0</td>\n",
       "      <td>ultra</td>\n",
       "      <td>3</td>\n",
       "    </tr>\n",
       "  </tbody>\n",
       "</table>\n",
       "</div>"
      ],
      "text/plain": [
       "               total_distance  total_duration subscription_type  total_rides\n",
       "user_id month                                                               \n",
       "1       1         7027.511294            42.0             ultra            2\n",
       "        4          754.159807             7.0             ultra            1\n",
       "        8         6723.470560            46.0             ultra            2\n",
       "        10        5809.911100            32.0             ultra            2\n",
       "        11        7003.499363            56.0             ultra            3"
      ]
     },
     "metadata": {},
     "output_type": "display_data"
    },
    {
     "data": {
      "text/html": [
       "<div>\n",
       "<style scoped>\n",
       "    .dataframe tbody tr th:only-of-type {\n",
       "        vertical-align: middle;\n",
       "    }\n",
       "\n",
       "    .dataframe tbody tr th {\n",
       "        vertical-align: top;\n",
       "    }\n",
       "\n",
       "    .dataframe thead th {\n",
       "        text-align: right;\n",
       "    }\n",
       "</style>\n",
       "<table border=\"1\" class=\"dataframe\">\n",
       "  <thead>\n",
       "    <tr style=\"text-align: right;\">\n",
       "      <th></th>\n",
       "      <th></th>\n",
       "      <th>total_distance</th>\n",
       "      <th>total_duration</th>\n",
       "      <th>subscription_type</th>\n",
       "      <th>total_rides</th>\n",
       "    </tr>\n",
       "    <tr>\n",
       "      <th>user_id</th>\n",
       "      <th>month</th>\n",
       "      <th></th>\n",
       "      <th></th>\n",
       "      <th></th>\n",
       "      <th></th>\n",
       "    </tr>\n",
       "  </thead>\n",
       "  <tbody>\n",
       "    <tr>\n",
       "      <th rowspan=\"5\" valign=\"top\">1534</th>\n",
       "      <th>6</th>\n",
       "      <td>3409.468534</td>\n",
       "      <td>26.0</td>\n",
       "      <td>free</td>\n",
       "      <td>2</td>\n",
       "    </tr>\n",
       "    <tr>\n",
       "      <th>8</th>\n",
       "      <td>7622.453034</td>\n",
       "      <td>48.0</td>\n",
       "      <td>free</td>\n",
       "      <td>2</td>\n",
       "    </tr>\n",
       "    <tr>\n",
       "      <th>9</th>\n",
       "      <td>4928.173852</td>\n",
       "      <td>23.0</td>\n",
       "      <td>free</td>\n",
       "      <td>1</td>\n",
       "    </tr>\n",
       "    <tr>\n",
       "      <th>11</th>\n",
       "      <td>13350.015305</td>\n",
       "      <td>78.0</td>\n",
       "      <td>free</td>\n",
       "      <td>4</td>\n",
       "    </tr>\n",
       "    <tr>\n",
       "      <th>12</th>\n",
       "      <td>2371.711192</td>\n",
       "      <td>16.0</td>\n",
       "      <td>free</td>\n",
       "      <td>1</td>\n",
       "    </tr>\n",
       "  </tbody>\n",
       "</table>\n",
       "</div>"
      ],
      "text/plain": [
       "               total_distance  total_duration subscription_type  total_rides\n",
       "user_id month                                                               \n",
       "1534    6         3409.468534            26.0              free            2\n",
       "        8         7622.453034            48.0              free            2\n",
       "        9         4928.173852            23.0              free            1\n",
       "        11       13350.015305            78.0              free            4\n",
       "        12        2371.711192            16.0              free            1"
      ]
     },
     "metadata": {},
     "output_type": "display_data"
    },
    {
     "data": {
      "text/plain": [
       "total_distance       0\n",
       "total_duration       0\n",
       "subscription_type    0\n",
       "total_rides          0\n",
       "dtype: int64"
      ]
     },
     "execution_count": 105,
     "metadata": {},
     "output_type": "execute_result"
    }
   ],
   "source": [
    "display(df_final.head())\n",
    "display(df_final.tail())\n",
    "df_final.isna().sum()"
   ]
  },
  {
   "cell_type": "markdown",
   "id": "9f4c616f-841e-4d4e-80de-ccbb7167dd87",
   "metadata": {},
   "source": [
    "Стобцы добавились корректно. Теперь посчитаем выручку."
   ]
  },
  {
   "cell_type": "code",
   "execution_count": 60,
   "id": "469cfdae-fbad-44b1-bf2f-a364a342cbd1",
   "metadata": {},
   "outputs": [],
   "source": [
    "df_final['revenue_per_month'] = df_final['minute_price'] * df_final['total_duration'] + df_final['start_price'] * df_final['total_rides'] + df_final['subscription_price']"
   ]
  },
  {
   "cell_type": "code",
   "execution_count": 61,
   "id": "78ae42cb-55cc-4aef-af25-f38af7f5463e",
   "metadata": {},
   "outputs": [
    {
     "data": {
      "text/html": [
       "<div>\n",
       "<style scoped>\n",
       "    .dataframe tbody tr th:only-of-type {\n",
       "        vertical-align: middle;\n",
       "    }\n",
       "\n",
       "    .dataframe tbody tr th {\n",
       "        vertical-align: top;\n",
       "    }\n",
       "\n",
       "    .dataframe thead th {\n",
       "        text-align: right;\n",
       "    }\n",
       "</style>\n",
       "<table border=\"1\" class=\"dataframe\">\n",
       "  <thead>\n",
       "    <tr style=\"text-align: right;\">\n",
       "      <th></th>\n",
       "      <th></th>\n",
       "      <th>total_distance</th>\n",
       "      <th>total_duration</th>\n",
       "      <th>subscription_type</th>\n",
       "      <th>total_rides</th>\n",
       "      <th>minute_price</th>\n",
       "      <th>start_price</th>\n",
       "      <th>subscription_price</th>\n",
       "      <th>revenue_per_month</th>\n",
       "    </tr>\n",
       "    <tr>\n",
       "      <th>user_id</th>\n",
       "      <th>month</th>\n",
       "      <th></th>\n",
       "      <th></th>\n",
       "      <th></th>\n",
       "      <th></th>\n",
       "      <th></th>\n",
       "      <th></th>\n",
       "      <th></th>\n",
       "      <th></th>\n",
       "    </tr>\n",
       "  </thead>\n",
       "  <tbody>\n",
       "    <tr>\n",
       "      <th rowspan=\"6\" valign=\"top\">1</th>\n",
       "      <th>1</th>\n",
       "      <td>7027.511294</td>\n",
       "      <td>42.0</td>\n",
       "      <td>ultra</td>\n",
       "      <td>2</td>\n",
       "      <td>6</td>\n",
       "      <td>0</td>\n",
       "      <td>199</td>\n",
       "      <td>451.0</td>\n",
       "    </tr>\n",
       "    <tr>\n",
       "      <th>4</th>\n",
       "      <td>754.159807</td>\n",
       "      <td>7.0</td>\n",
       "      <td>ultra</td>\n",
       "      <td>1</td>\n",
       "      <td>6</td>\n",
       "      <td>0</td>\n",
       "      <td>199</td>\n",
       "      <td>241.0</td>\n",
       "    </tr>\n",
       "    <tr>\n",
       "      <th>8</th>\n",
       "      <td>6723.470560</td>\n",
       "      <td>46.0</td>\n",
       "      <td>ultra</td>\n",
       "      <td>2</td>\n",
       "      <td>6</td>\n",
       "      <td>0</td>\n",
       "      <td>199</td>\n",
       "      <td>475.0</td>\n",
       "    </tr>\n",
       "    <tr>\n",
       "      <th>10</th>\n",
       "      <td>5809.911100</td>\n",
       "      <td>32.0</td>\n",
       "      <td>ultra</td>\n",
       "      <td>2</td>\n",
       "      <td>6</td>\n",
       "      <td>0</td>\n",
       "      <td>199</td>\n",
       "      <td>391.0</td>\n",
       "    </tr>\n",
       "    <tr>\n",
       "      <th>11</th>\n",
       "      <td>7003.499363</td>\n",
       "      <td>56.0</td>\n",
       "      <td>ultra</td>\n",
       "      <td>3</td>\n",
       "      <td>6</td>\n",
       "      <td>0</td>\n",
       "      <td>199</td>\n",
       "      <td>535.0</td>\n",
       "    </tr>\n",
       "    <tr>\n",
       "      <th>12</th>\n",
       "      <td>6751.629942</td>\n",
       "      <td>28.0</td>\n",
       "      <td>ultra</td>\n",
       "      <td>2</td>\n",
       "      <td>6</td>\n",
       "      <td>0</td>\n",
       "      <td>199</td>\n",
       "      <td>367.0</td>\n",
       "    </tr>\n",
       "    <tr>\n",
       "      <th rowspan=\"4\" valign=\"top\">2</th>\n",
       "      <th>3</th>\n",
       "      <td>10187.723006</td>\n",
       "      <td>63.0</td>\n",
       "      <td>ultra</td>\n",
       "      <td>3</td>\n",
       "      <td>6</td>\n",
       "      <td>0</td>\n",
       "      <td>199</td>\n",
       "      <td>577.0</td>\n",
       "    </tr>\n",
       "    <tr>\n",
       "      <th>4</th>\n",
       "      <td>6164.381824</td>\n",
       "      <td>40.0</td>\n",
       "      <td>ultra</td>\n",
       "      <td>2</td>\n",
       "      <td>6</td>\n",
       "      <td>0</td>\n",
       "      <td>199</td>\n",
       "      <td>439.0</td>\n",
       "    </tr>\n",
       "    <tr>\n",
       "      <th>6</th>\n",
       "      <td>3255.338202</td>\n",
       "      <td>14.0</td>\n",
       "      <td>ultra</td>\n",
       "      <td>1</td>\n",
       "      <td>6</td>\n",
       "      <td>0</td>\n",
       "      <td>199</td>\n",
       "      <td>283.0</td>\n",
       "    </tr>\n",
       "    <tr>\n",
       "      <th>7</th>\n",
       "      <td>6780.722964</td>\n",
       "      <td>48.0</td>\n",
       "      <td>ultra</td>\n",
       "      <td>2</td>\n",
       "      <td>6</td>\n",
       "      <td>0</td>\n",
       "      <td>199</td>\n",
       "      <td>487.0</td>\n",
       "    </tr>\n",
       "  </tbody>\n",
       "</table>\n",
       "</div>"
      ],
      "text/plain": [
       "               total_distance  total_duration subscription_type  total_rides  \\\n",
       "user_id month                                                                  \n",
       "1       1         7027.511294            42.0             ultra            2   \n",
       "        4          754.159807             7.0             ultra            1   \n",
       "        8         6723.470560            46.0             ultra            2   \n",
       "        10        5809.911100            32.0             ultra            2   \n",
       "        11        7003.499363            56.0             ultra            3   \n",
       "        12        6751.629942            28.0             ultra            2   \n",
       "2       3        10187.723006            63.0             ultra            3   \n",
       "        4         6164.381824            40.0             ultra            2   \n",
       "        6         3255.338202            14.0             ultra            1   \n",
       "        7         6780.722964            48.0             ultra            2   \n",
       "\n",
       "               minute_price  start_price  subscription_price  \\\n",
       "user_id month                                                  \n",
       "1       1                 6            0                 199   \n",
       "        4                 6            0                 199   \n",
       "        8                 6            0                 199   \n",
       "        10                6            0                 199   \n",
       "        11                6            0                 199   \n",
       "        12                6            0                 199   \n",
       "2       3                 6            0                 199   \n",
       "        4                 6            0                 199   \n",
       "        6                 6            0                 199   \n",
       "        7                 6            0                 199   \n",
       "\n",
       "               revenue_per_month  \n",
       "user_id month                     \n",
       "1       1                  451.0  \n",
       "        4                  241.0  \n",
       "        8                  475.0  \n",
       "        10                 391.0  \n",
       "        11                 535.0  \n",
       "        12                 367.0  \n",
       "2       3                  577.0  \n",
       "        4                  439.0  \n",
       "        6                  283.0  \n",
       "        7                  487.0  "
      ]
     },
     "execution_count": 61,
     "metadata": {},
     "output_type": "execute_result"
    }
   ],
   "source": [
    "df_final.head(10)"
   ]
  },
  {
   "cell_type": "code",
   "execution_count": 62,
   "id": "ac057f0a-eb0e-4984-9948-fec70d58f883",
   "metadata": {},
   "outputs": [
    {
     "data": {
      "text/plain": [
       "total_distance        0\n",
       "total_duration        0\n",
       "subscription_type     0\n",
       "total_rides           0\n",
       "minute_price          0\n",
       "start_price           0\n",
       "subscription_price    0\n",
       "revenue_per_month     0\n",
       "dtype: int64"
      ]
     },
     "execution_count": 62,
     "metadata": {},
     "output_type": "execute_result"
    }
   ],
   "source": [
    "#ещё раз проверяем на пропуски\n",
    "df_final.isna().sum()"
   ]
  },
  {
   "cell_type": "markdown",
   "id": "20cd0ee4-485c-4b04-ac3c-549fac128b8c",
   "metadata": {},
   "source": [
    "**Вывод:** создана итоговая сводная таблица, в которой отображено время аренды к оплате, общая дистанция по каждому пользователю в каждом месяце, количество поездок и общая стоимость аренды по месяцам с учетом стоимости подписки и платного старта. Датафрейм создался корректно, без пропусков. Можно приступать к проверке гипотез."
   ]
  },
  {
   "cell_type": "markdown",
   "id": "119931d1-0e54-43c2-ad4a-ce080f6bc450",
   "metadata": {},
   "source": [
    "###  Посчитаем среднюю выручку по пользователям"
   ]
  },
  {
   "cell_type": "markdown",
   "id": "d342be05-4425-4111-b6ed-c97d6a9b0d78",
   "metadata": {},
   "source": [
    "Считаем среднюю выручку по пользователям помесячно."
   ]
  },
  {
   "cell_type": "code",
   "execution_count": 63,
   "id": "f5be371e-8526-486c-bd02-e3dc9bb27f2a",
   "metadata": {},
   "outputs": [
    {
     "data": {
      "text/html": [
       "<div>\n",
       "<style scoped>\n",
       "    .dataframe tbody tr th:only-of-type {\n",
       "        vertical-align: middle;\n",
       "    }\n",
       "\n",
       "    .dataframe tbody tr th {\n",
       "        vertical-align: top;\n",
       "    }\n",
       "\n",
       "    .dataframe thead th {\n",
       "        text-align: right;\n",
       "    }\n",
       "</style>\n",
       "<table border=\"1\" class=\"dataframe\">\n",
       "  <thead>\n",
       "    <tr style=\"text-align: right;\">\n",
       "      <th></th>\n",
       "      <th>free_avg</th>\n",
       "    </tr>\n",
       "    <tr>\n",
       "      <th>month</th>\n",
       "      <th></th>\n",
       "    </tr>\n",
       "  </thead>\n",
       "  <tbody>\n",
       "    <tr>\n",
       "      <th>1</th>\n",
       "      <td>232.16</td>\n",
       "    </tr>\n",
       "    <tr>\n",
       "      <th>2</th>\n",
       "      <td>198.63</td>\n",
       "    </tr>\n",
       "    <tr>\n",
       "      <th>3</th>\n",
       "      <td>224.21</td>\n",
       "    </tr>\n",
       "    <tr>\n",
       "      <th>4</th>\n",
       "      <td>222.27</td>\n",
       "    </tr>\n",
       "    <tr>\n",
       "      <th>5</th>\n",
       "      <td>225.19</td>\n",
       "    </tr>\n",
       "    <tr>\n",
       "      <th>6</th>\n",
       "      <td>230.11</td>\n",
       "    </tr>\n",
       "    <tr>\n",
       "      <th>7</th>\n",
       "      <td>221.60</td>\n",
       "    </tr>\n",
       "    <tr>\n",
       "      <th>8</th>\n",
       "      <td>224.09</td>\n",
       "    </tr>\n",
       "    <tr>\n",
       "      <th>9</th>\n",
       "      <td>231.98</td>\n",
       "    </tr>\n",
       "    <tr>\n",
       "      <th>10</th>\n",
       "      <td>217.28</td>\n",
       "    </tr>\n",
       "    <tr>\n",
       "      <th>11</th>\n",
       "      <td>214.46</td>\n",
       "    </tr>\n",
       "    <tr>\n",
       "      <th>12</th>\n",
       "      <td>233.60</td>\n",
       "    </tr>\n",
       "  </tbody>\n",
       "</table>\n",
       "</div>"
      ],
      "text/plain": [
       "       free_avg\n",
       "month          \n",
       "1        232.16\n",
       "2        198.63\n",
       "3        224.21\n",
       "4        222.27\n",
       "5        225.19\n",
       "6        230.11\n",
       "7        221.60\n",
       "8        224.09\n",
       "9        231.98\n",
       "10       217.28\n",
       "11       214.46\n",
       "12       233.60"
      ]
     },
     "execution_count": 63,
     "metadata": {},
     "output_type": "execute_result"
    }
   ],
   "source": [
    "#средняя выручка на одного пользователя по месяцам free\n",
    "value_per_month_free = df_final.query('subscription_type == \"free\"').pivot_table(index='month', \n",
    "                                                                                 values='revenue_per_month', \n",
    "                                                                                 aggfunc='sum')\n",
    "value_per_month_free['revenue_per_month'] = (value_per_month_free['revenue_per_month'] / \n",
    "                                             users.query('subscription_type == \"free\"')['user_id'].count()).round(2)\n",
    "value_per_month_free.columns =['free_avg']\n",
    "value_per_month_free"
   ]
  },
  {
   "cell_type": "code",
   "execution_count": 64,
   "id": "5390fb68-057f-454a-b9c2-3602190d50c9",
   "metadata": {},
   "outputs": [
    {
     "data": {
      "text/html": [
       "<div>\n",
       "<style scoped>\n",
       "    .dataframe tbody tr th:only-of-type {\n",
       "        vertical-align: middle;\n",
       "    }\n",
       "\n",
       "    .dataframe tbody tr th {\n",
       "        vertical-align: top;\n",
       "    }\n",
       "\n",
       "    .dataframe thead th {\n",
       "        text-align: right;\n",
       "    }\n",
       "</style>\n",
       "<table border=\"1\" class=\"dataframe\">\n",
       "  <thead>\n",
       "    <tr style=\"text-align: right;\">\n",
       "      <th></th>\n",
       "      <th>ultra_avg</th>\n",
       "    </tr>\n",
       "    <tr>\n",
       "      <th>month</th>\n",
       "      <th></th>\n",
       "    </tr>\n",
       "  </thead>\n",
       "  <tbody>\n",
       "    <tr>\n",
       "      <th>1</th>\n",
       "      <td>206.16</td>\n",
       "    </tr>\n",
       "    <tr>\n",
       "      <th>2</th>\n",
       "      <td>178.21</td>\n",
       "    </tr>\n",
       "    <tr>\n",
       "      <th>3</th>\n",
       "      <td>204.02</td>\n",
       "    </tr>\n",
       "    <tr>\n",
       "      <th>4</th>\n",
       "      <td>196.45</td>\n",
       "    </tr>\n",
       "    <tr>\n",
       "      <th>5</th>\n",
       "      <td>213.50</td>\n",
       "    </tr>\n",
       "    <tr>\n",
       "      <th>6</th>\n",
       "      <td>205.77</td>\n",
       "    </tr>\n",
       "    <tr>\n",
       "      <th>7</th>\n",
       "      <td>205.24</td>\n",
       "    </tr>\n",
       "    <tr>\n",
       "      <th>8</th>\n",
       "      <td>198.19</td>\n",
       "    </tr>\n",
       "    <tr>\n",
       "      <th>9</th>\n",
       "      <td>185.03</td>\n",
       "    </tr>\n",
       "    <tr>\n",
       "      <th>10</th>\n",
       "      <td>191.61</td>\n",
       "    </tr>\n",
       "    <tr>\n",
       "      <th>11</th>\n",
       "      <td>181.04</td>\n",
       "    </tr>\n",
       "    <tr>\n",
       "      <th>12</th>\n",
       "      <td>187.48</td>\n",
       "    </tr>\n",
       "  </tbody>\n",
       "</table>\n",
       "</div>"
      ],
      "text/plain": [
       "       ultra_avg\n",
       "month           \n",
       "1         206.16\n",
       "2         178.21\n",
       "3         204.02\n",
       "4         196.45\n",
       "5         213.50\n",
       "6         205.77\n",
       "7         205.24\n",
       "8         198.19\n",
       "9         185.03\n",
       "10        191.61\n",
       "11        181.04\n",
       "12        187.48"
      ]
     },
     "execution_count": 64,
     "metadata": {},
     "output_type": "execute_result"
    }
   ],
   "source": [
    "#средняя выручка на одного пользователя по месяцам ultra\n",
    "value_per_month_ultra = df_final.query('subscription_type == \"ultra\"').pivot_table(index='month', \n",
    "                                                                                   values='revenue_per_month', \n",
    "                                                                                   aggfunc='sum')\n",
    "value_per_month_ultra['revenue_per_month'] = (value_per_month_ultra['revenue_per_month'] / \n",
    "                                              users.query('subscription_type == \"ultra\"')['user_id'].count()).round(2)\n",
    "value_per_month_ultra.columns =['ultra_avg']\n",
    "value_per_month_ultra"
   ]
  },
  {
   "cell_type": "markdown",
   "id": "79bf2770-6b98-4dd1-9626-34928057a0e3",
   "metadata": {},
   "source": [
    "Для удобства сравнения соберём в одну таблицу."
   ]
  },
  {
   "cell_type": "code",
   "execution_count": 65,
   "id": "4b2deae8-c43b-4ff9-bc4e-b49cb16f548f",
   "metadata": {},
   "outputs": [
    {
     "data": {
      "text/html": [
       "<div>\n",
       "<style scoped>\n",
       "    .dataframe tbody tr th:only-of-type {\n",
       "        vertical-align: middle;\n",
       "    }\n",
       "\n",
       "    .dataframe tbody tr th {\n",
       "        vertical-align: top;\n",
       "    }\n",
       "\n",
       "    .dataframe thead th {\n",
       "        text-align: right;\n",
       "    }\n",
       "</style>\n",
       "<table border=\"1\" class=\"dataframe\">\n",
       "  <thead>\n",
       "    <tr style=\"text-align: right;\">\n",
       "      <th></th>\n",
       "      <th>free_avg</th>\n",
       "      <th>ultra_avg</th>\n",
       "    </tr>\n",
       "    <tr>\n",
       "      <th>month</th>\n",
       "      <th></th>\n",
       "      <th></th>\n",
       "    </tr>\n",
       "  </thead>\n",
       "  <tbody>\n",
       "    <tr>\n",
       "      <th>1</th>\n",
       "      <td>232.16</td>\n",
       "      <td>206.16</td>\n",
       "    </tr>\n",
       "    <tr>\n",
       "      <th>2</th>\n",
       "      <td>198.63</td>\n",
       "      <td>178.21</td>\n",
       "    </tr>\n",
       "    <tr>\n",
       "      <th>3</th>\n",
       "      <td>224.21</td>\n",
       "      <td>204.02</td>\n",
       "    </tr>\n",
       "    <tr>\n",
       "      <th>4</th>\n",
       "      <td>222.27</td>\n",
       "      <td>196.45</td>\n",
       "    </tr>\n",
       "    <tr>\n",
       "      <th>5</th>\n",
       "      <td>225.19</td>\n",
       "      <td>213.50</td>\n",
       "    </tr>\n",
       "    <tr>\n",
       "      <th>6</th>\n",
       "      <td>230.11</td>\n",
       "      <td>205.77</td>\n",
       "    </tr>\n",
       "    <tr>\n",
       "      <th>7</th>\n",
       "      <td>221.60</td>\n",
       "      <td>205.24</td>\n",
       "    </tr>\n",
       "    <tr>\n",
       "      <th>8</th>\n",
       "      <td>224.09</td>\n",
       "      <td>198.19</td>\n",
       "    </tr>\n",
       "    <tr>\n",
       "      <th>9</th>\n",
       "      <td>231.98</td>\n",
       "      <td>185.03</td>\n",
       "    </tr>\n",
       "    <tr>\n",
       "      <th>10</th>\n",
       "      <td>217.28</td>\n",
       "      <td>191.61</td>\n",
       "    </tr>\n",
       "    <tr>\n",
       "      <th>11</th>\n",
       "      <td>214.46</td>\n",
       "      <td>181.04</td>\n",
       "    </tr>\n",
       "    <tr>\n",
       "      <th>12</th>\n",
       "      <td>233.60</td>\n",
       "      <td>187.48</td>\n",
       "    </tr>\n",
       "  </tbody>\n",
       "</table>\n",
       "</div>"
      ],
      "text/plain": [
       "       free_avg  ultra_avg\n",
       "month                     \n",
       "1        232.16     206.16\n",
       "2        198.63     178.21\n",
       "3        224.21     204.02\n",
       "4        222.27     196.45\n",
       "5        225.19     213.50\n",
       "6        230.11     205.77\n",
       "7        221.60     205.24\n",
       "8        224.09     198.19\n",
       "9        231.98     185.03\n",
       "10       217.28     191.61\n",
       "11       214.46     181.04\n",
       "12       233.60     187.48"
      ]
     },
     "execution_count": 65,
     "metadata": {},
     "output_type": "execute_result"
    }
   ],
   "source": [
    "#объединяем данные\n",
    "avg_per_month = value_per_month_free.merge(value_per_month_ultra, \n",
    "                                           on ='month', \n",
    "                                           how='left')\n",
    "avg_per_month"
   ]
  },
  {
   "cell_type": "code",
   "execution_count": 66,
   "id": "fe6047b2-f8e9-468e-a67e-74bbdba51dea",
   "metadata": {},
   "outputs": [
    {
     "data": {
      "image/png": "[encoded data removed]",
      "text/plain": [
       "<Figure size 640x480 with 1 Axes>"
      ]
     },
     "metadata": {},
     "output_type": "display_data"
    }
   ],
   "source": [
    "#график для визуализации\n",
    "avg_per_month.plot(kind='bar', color=['silver','lightgreen'])\n",
    "\n",
    "plt.grid(True)\n",
    "plt.xlabel('Месяц')\n",
    "plt.ylabel('Стоимость')\n",
    "plt.title('Средняя выручка на пользователя')\n",
    "plt.show()"
   ]
  },
  {
   "cell_type": "markdown",
   "id": "595bf2cf-ed89-4e3f-a45d-d8a1f7314326",
   "metadata": {},
   "source": [
    "Посчитаем среднюю стоимость поездки."
   ]
  },
  {
   "cell_type": "code",
   "execution_count": 67,
   "id": "f475bc59-effc-47fd-9226-7c55bd790b71",
   "metadata": {
    "scrolled": true
   },
   "outputs": [
    {
     "data": {
      "text/plain": [
       "193.13"
      ]
     },
     "execution_count": 67,
     "metadata": {},
     "output_type": "execute_result"
    }
   ],
   "source": [
    "#средняя стоимость поездки free\n",
    "(df_final.query('subscription_type == \"free\"')['revenue_per_month'].sum() / df_final.query('subscription_type == \"free\"')['total_rides'].sum()).round(2)"
   ]
  },
  {
   "cell_type": "code",
   "execution_count": 68,
   "id": "7ebf7525-9a01-4e17-a913-91ebd6c4d0f3",
   "metadata": {},
   "outputs": [
    {
     "data": {
      "text/plain": [
       "253.01"
      ]
     },
     "execution_count": 68,
     "metadata": {},
     "output_type": "execute_result"
    }
   ],
   "source": [
    "#средняя стоимость поездки Ultra\n",
    "(df_final.query('subscription_type == \"ultra\"')['revenue_per_month'].sum() / df_final.query('subscription_type == \"ultra\"')['total_rides'].sum()).round(2)"
   ]
  },
  {
   "cell_type": "markdown",
   "id": "5db76f34-775e-4a35-b9f6-fd1d16934f87",
   "metadata": {},
   "source": [
    "Посчитаем среднемесячную выручку на пользователя в 2021 году."
   ]
  },
  {
   "cell_type": "code",
   "execution_count": 69,
   "id": "2b82047b-099e-4ebd-8799-0ff0edc21c04",
   "metadata": {},
   "outputs": [
    {
     "data": {
      "text/plain": [
       "222.96"
      ]
     },
     "execution_count": 69,
     "metadata": {},
     "output_type": "execute_result"
    }
   ],
   "source": [
    "# среднемесячная годовая выручка от пользователя free\n",
    "(df_final.query('subscription_type == \"free\"')['revenue_per_month'].sum() / \n",
    " users.query('subscription_type == \"free\"')['user_id'].count() / 12).round(2)"
   ]
  },
  {
   "cell_type": "code",
   "execution_count": 70,
   "id": "1773728d-9bf5-48ca-975c-c80f7658d511",
   "metadata": {},
   "outputs": [
    {
     "data": {
      "text/plain": [
       "196.06"
      ]
     },
     "execution_count": 70,
     "metadata": {},
     "output_type": "execute_result"
    }
   ],
   "source": [
    "# среднемесячная годовая выручка от пользователя Ultra\n",
    "(df_final.query('subscription_type == \"ultra\"')['revenue_per_month'].sum() / \n",
    " users.query('subscription_type == \"ultra\"')['user_id'].count() / 12).round(2)"
   ]
  },
  {
   "cell_type": "markdown",
   "id": "0732f58e-c4a7-4fa4-9abd-ff6d5bc4639c",
   "metadata": {},
   "source": [
    "Посчитаем суммарную выручку за 2021 год по группам пользователей"
   ]
  },
  {
   "cell_type": "code",
   "execution_count": 71,
   "id": "711acf1d-21d2-4a5d-bbc4-a2c0cfcf173d",
   "metadata": {},
   "outputs": [
    {
     "data": {
      "text/plain": [
       "2234104.0"
      ]
     },
     "execution_count": 71,
     "metadata": {},
     "output_type": "execute_result"
    }
   ],
   "source": [
    "# итого за 2021 год без подписки\n",
    "df_final.query('subscription_type == \"free\"')['revenue_per_month'].sum()"
   ]
  },
  {
   "cell_type": "code",
   "execution_count": 72,
   "id": "536ceefe-b6c8-4fd8-901b-cf73adb348aa",
   "metadata": {},
   "outputs": [
    {
     "data": {
      "text/plain": [
       "1644537.0"
      ]
     },
     "execution_count": 72,
     "metadata": {},
     "output_type": "execute_result"
    }
   ],
   "source": [
    "#итого за 2021 год с подпиской Ultra\n",
    "df_final.query('subscription_type == \"ultra\"')['revenue_per_month'].sum()"
   ]
  },
  {
   "cell_type": "code",
   "execution_count": 73,
   "id": "4fd2477d",
   "metadata": {
    "scrolled": true
   },
   "outputs": [
    {
     "data": {
      "text/plain": [
       "3878641.0"
      ]
     },
     "execution_count": 73,
     "metadata": {},
     "output_type": "execute_result"
    }
   ],
   "source": [
    "#общая выручка за 2021 год\n",
    "df_final['revenue_per_month'].sum()"
   ]
  },
  {
   "cell_type": "markdown",
   "id": "77c3bee5-84fe-40e0-99b1-6a5f4fc3550b",
   "metadata": {},
   "source": [
    "**Вывод:** средняя выручка по месяцам немного колеблется, но находится примерно на одном уровне на протяжении всего года. Минимальноые средние значения выручка принимает в феврале - 178,21 и 198,63 у клиентов с подпиской и без соответственно. Вероятно, по климатическим условиям. Самые высокие средние показатели выручки на одного пользователя приходятся на летние месяцы. Средняя выручка от пользоватлей без подписки немного выше, чем от пользователей без подписки. Это обусловлено тем, что клиенты без подписки берут самокаты в аренду почти вдвое чаще, при этом у клиентов с подпиской Ultra в среднем стоимость каждой отдельной поездки выше.  Среднемесячная выручка от клиентов с подпиской Ultra составила 196,06, без подписки - 222,96, что на 13,7% больше. Общая выручка за год от подписчиков Ultra составила 1644537,00, без подписки - 2234104,00 Общая выручка за год - 3878641.00.\n",
    "Средняя цена аренды с учетом стоимости самой подписки у пользователей Ultra - 253, а без Ultra только 193."
   ]
  },
  {
   "cell_type": "markdown",
   "id": "4ef63cfd-ac44-49d6-9252-5d5099bad229",
   "metadata": {},
   "source": [
    "## Проверка гипотез"
   ]
  },
  {
   "cell_type": "markdown",
   "id": "ef8817cf-cade-4fff-a0ab-f85ecba2d8b4",
   "metadata": {},
   "source": [
    "### Тратят ли пользователи с подпиской больше времени на поездки?"
   ]
  },
  {
   "cell_type": "markdown",
   "id": "c734e79d-6826-4ed3-b74c-2204cb24133b",
   "metadata": {},
   "source": [
    "- Нулевая гипотеза: позователи с подпиской в среднем тратят столько же времени на поездки, сколько и пользователи без подписки. среднее значение `df_ultra['duration']` = среднему значению `df_free['duration']`.\n",
    "- Альтернативная гипотеза: пользователи с подпиской в среднем тратят больше времени на поездки. среднее значение `df_ultra['duration']` > среднего значения `df_free['duration']`"
   ]
  },
  {
   "cell_type": "code",
   "execution_count": 74,
   "id": "df6993b7-7810-457b-808e-1169dd356013",
   "metadata": {
    "scrolled": true
   },
   "outputs": [
    {
     "name": "stdout",
     "output_type": "stream",
     "text": [
      "p-value: 1.2804098316645613e-34\n",
      "Отвергаем нулевую гипотезу\n"
     ]
    }
   ],
   "source": [
    "alpha = 0.05\n",
    "\n",
    "results = st.ttest_ind(df_ultra['duration'], \n",
    "                       df_free['duration'], \n",
    "                       alternative='greater')\n",
    "\n",
    "print(f'p-value: {results.pvalue}')\n",
    "\n",
    "# проверяем p-value\n",
    "if results.pvalue < alpha:\n",
    "    print('Отвергаем нулевую гипотезу')\n",
    "else:\n",
    "    print('Нет оснований отвергнуть нулевую гипотезу')"
   ]
  },
  {
   "cell_type": "markdown",
   "id": "ce0d984e-5a00-43fc-8840-b03a7fbbcc84",
   "metadata": {},
   "source": [
    "**Вывод:** такое маленькое значение p-value, близкое к нулю заметно ниже уровня значимости. Это означает, что вероятность получить такие или более экстремальные результаты при условии, что нулевая гипотеза верна, крайне мала.\n",
    "В итоге, имеем основания отвергнуть гипотезу, что среднее время, проводимое всеми пользователями одинаково, так как вероятность получить одинаковый результат практически равна нулю. Склоняемся к гипотезе, что среднее время в поездках у пользователей с подпиской выше и они выгоднее компании."
   ]
  },
  {
   "cell_type": "code",
   "execution_count": 75,
   "id": "3af9471d",
   "metadata": {},
   "outputs": [
    {
     "name": "stdout",
     "output_type": "stream",
     "text": [
      "p-значение: 0.19124505225722097\n",
      "Не получилось отвергнуть нулевую гипотезу\n"
     ]
    }
   ],
   "source": [
    "# Приведены два датасета: сумма покупок, совершённых за месяц посетителями ...\n",
    "\n",
    "sample_1 = [3071, 3636, 3454, 3151, 2185, 3259, 1727, 2263, 2015,\n",
    "2582, 4815, 633, 3186, 887, 2028, 3589, 2564, 1422, 1785,\n",
    "3180, 1770, 2716, 2546, 1848, 4644, 3134, 475, 2686,\n",
    "1838, 3352]\n",
    "sample_2 = [1211, 1228, 2157, 3699, 600, 1898, 1688, 1420, 5048, 3007,\n",
    "509, 3777, 5583, 3949, 121, 1674, 4300, 1338, 3066,\n",
    "3562, 1010, 2311, 462, 863, 2021, 528, 1849, 255,\n",
    "1740, 2596]\n",
    "alpha = .05 # критический уровень статистической значимости\n",
    "# если p-value окажется меньше него - отвергнем гипотезу\n",
    "results = st.ttest_ind(\n",
    "sample_1,\n",
    "sample_2)\n",
    "print('p-значение:', results.pvalue)\n",
    "if (results.pvalue < alpha):\n",
    "    print(\"Отвергаем нулевую гипотезу\")\n",
    "else:\n",
    "    print(\"Не получилось отвергнуть нулевую гипотезу\")"
   ]
  },
  {
   "cell_type": "markdown",
   "id": "89832375-8d5c-4686-a1b9-8f507cee99b6",
   "metadata": {},
   "source": [
    "### Проверка оптимального использования самокатов пользователями с подпиской"
   ]
  },
  {
   "cell_type": "markdown",
   "id": "7b0674ab-b749-470c-b0a9-8ec9d5f4e0d1",
   "metadata": {},
   "source": [
    "Расстояние одной поездки в 3130 метров - оптимальное с точки зрения износа самоката. Можно ли сказать, что среднее расстояние, которое проезжают пользователи с подпиской за одну поездку, не превышает 3130 метров? Проверим гипотезу.\n",
    "- Нулевая гипотеза: среднее значение `df_ultra['distance'] = 3130.`\n",
    "- Альтернативная гипотеза: среднее значение `df_ultra['distance'] > 3130`"
   ]
  },
  {
   "cell_type": "code",
   "execution_count": 76,
   "id": "6c4b7de5-1cdc-4604-9166-13f433093d33",
   "metadata": {},
   "outputs": [
    {
     "name": "stdout",
     "output_type": "stream",
     "text": [
      "p-value: 0.9195368847849785\n",
      "Не получилось отвергнуть нулевую гипотезу\n"
     ]
    }
   ],
   "source": [
    "interested_value = 3130\n",
    "\n",
    "alpha = 0.05 \n",
    "\n",
    "results = st.ttest_1samp(df_ultra['distance'],\n",
    "                         interested_value, \n",
    "                         alternative='greater')\n",
    "\n",
    "print(f'p-value: {results.pvalue}')\n",
    "\n",
    "if (results.pvalue < alpha):\n",
    "    print('Отвергаем нулевую гипотезу')\n",
    "else:\n",
    "    print('Не получилось отвергнуть нулевую гипотезу')"
   ]
  },
  {
   "cell_type": "markdown",
   "id": "b39cf5fc-6032-4e9d-8509-d6d691de07ae",
   "metadata": {},
   "source": [
    "**Вывод:** значение p-value большое, верятность случайно получить результат нулевой гипотезы высока, не получилось отвергнуть нулевую гипотезу. Среднее расстояние, которое проезжают подписчики ultra не выходит за оптимальные для самокатов 3130 метров"
   ]
  },
  {
   "cell_type": "markdown",
   "id": "71775112-0077-4a99-bafa-d30361dd7886",
   "metadata": {},
   "source": [
    "### Будет ли помесячная выручка от пользователей с подпиской выше?"
   ]
  },
  {
   "cell_type": "markdown",
   "id": "1a210bf0-13d2-42c3-8d62-e36882231477",
   "metadata": {},
   "source": [
    "- Нулевая гипотеза: средняя выручка от пользователей с подпиской равна средней выручке от пользователей без подписки.\n",
    "- Альтернативная гипотеза: средняя выручка от пользователей с подпиской выше средней выручки от пользователей без подписки."
   ]
  },
  {
   "cell_type": "code",
   "execution_count": 77,
   "id": "af6c1961-f2d3-45f2-966e-273f23cd2ab7",
   "metadata": {},
   "outputs": [
    {
     "name": "stdout",
     "output_type": "stream",
     "text": [
      "p-value: 1.8850394384715216e-31\n",
      "Отвергаем нулевую гипотезу\n"
     ]
    }
   ],
   "source": [
    "alpha = 0.05\n",
    "\n",
    "results = st.ttest_ind(df_final.loc[df_final['subscription_type'] \n",
    "                       == 'ultra', 'revenue_per_month'], \n",
    "                       df_final.loc[df_final['subscription_type'] \n",
    "                       == 'free', 'revenue_per_month'], alternative='greater')\n",
    "\n",
    "print(f'p-value: {results.pvalue}')\n",
    "\n",
    "# проверяем p-value\n",
    "if results.pvalue < alpha:\n",
    "    print('Отвергаем нулевую гипотезу')\n",
    "else:\n",
    "    print('Нет оснований отвергнуть нулевую гипотезу')"
   ]
  },
  {
   "cell_type": "markdown",
   "id": "e8c969ef-6124-4f52-91e9-1330ebbb6f5b",
   "metadata": {},
   "source": [
    "**Вывод:** p-value крайне мало, есть все основания отвергнуть нулевую гипотезу, т.к. при значении P-value близком нулю вероятность получить одинаковую выручку от пользователей без подписки и с подпиской также стремится к нулю. Склониться в пользу альтернативной гипотезы: средняя выручка от пользователей с подпиской выше средней выручки от пользователей без подписки."
   ]
  },
  {
   "cell_type": "markdown",
   "id": "806b3bfa-b0b6-4f7a-942b-6b187c1257f2",
   "metadata": {},
   "source": [
    "### Какой тест понадобится для проверки изменения количества обращений в ТП после обновления приложения?"
   ]
  },
  {
   "cell_type": "markdown",
   "id": "e93ef3aa-7f45-4f32-a32f-72d36ccc7ba9",
   "metadata": {},
   "source": [
    "В данном случае подойдёт гипотеза о равенстве средних для зависимых выборок. Гипотезы будут сформулированы так:\n",
    "- H0 : μ1 = μ2\n",
    "- H1 : μ1 < μ2\n",
    "\n",
    "где μ1 и μ2 - средние значения обращений в техподдержку ДО и ПОСЛЕ изменения.\n",
    "\n",
    "Выборки в данном случае будут парными. Парная выборка оначает, что некоторая переменная будет измеряться дважды - до и после изменений. Гиптеза в данном случае будет односторонняя в левую сторону.\n",
    "\n",
    "Метод, который нужно использовать при сравнении`: scipy.stats.ttest_rel`()"
   ]
  },
  {
   "cell_type": "markdown",
   "id": "a8936eec-e40f-4e77-9969-a83ebb64758b",
   "metadata": {},
   "source": [
    "## 7. Общий вывод"
   ]
  },
  {
   "cell_type": "markdown",
   "id": "7b865b4b-604d-4eb1-84c8-2fd20fed266c",
   "metadata": {},
   "source": [
    "Проведена предобработка данных:\n",
    "\n",
    "- удалены явные дубликаты,\n",
    "- добавлен столбец с номером месяца.\n",
    "\n",
    "Произведён исследовательский анализ данных:\n",
    "- определены города присутствия и количество пользователей в них - 8 городов с количеством пользователей от 168 до 219 человек,\n",
    "- количество пользователей с подпиской составляет 46,6%, остальные ее еще не поключили,\n",
    "- основная масса пользователей в возрасте от 22 до 28 лет,\n",
    "- среднее расстояние за одну поездку составляет около 3100 метров\n",
    "- среднее время аренды - 17,7 минут.\n",
    "\n",
    "Объединение данных:\n",
    "- данные убъединены в один датафрейм,\n",
    "- созданы два датафрейма для пользователей с подпиской и без подписки,\n",
    "- проведен отдельный анализ поведения пользователей с подпиской и без подписки. Среднее время аренды у обеих категорий примерно одинаковое и составляет 17-18 минут, среднее расстояние также примерно одинаковое - около 3100 метров однако пользователи без подписки имеют более обширный диапазон по пройденному расстоянию.\n",
    "\n",
    "Подсчитана помесячная выручка по каждому пользователю:\n",
    " - средняя выручка в месяц на одного пользователя с подпиской Ultra - 196,06\n",
    " - средняя выручка в месяц на одного пользователя без подписки - 222,96\n",
    " - общая годовая выручка от пользователей с подпиской Ultra - 1644537,00\n",
    " - общая годовая выручка от пользователей без подписки - 2234104,00\n",
    " \n",
    " - средняя стоимость одной поездки у пользователей с подпиской Ultra - 253,01\n",
    " - средняя стоимость одной поездки у пользователей без подписки - 193,13\n",
    "\n",
    "Проверены гипотезы: \n",
    "- Тратят ли пользователи с подпиской больше времени на поездки? Склоняемся к гипотезе, что пользователи с подпиской проводят больше времени в аренде.\n",
    "- Расстояние одной поездки в 3130 метров - оптимальное с точки зрения износа самоката. Можно ли сказать, что среднее расстояние, которое проезжают пользователи с подпиской за одну поездку, не превышает 3130 метров? Но отвергаем гипотезу, что среднее расстояние у пользователей Ultra не превышает 3130 метров.\n",
    "- Больше ли выручка от пользователей с подпиской, чем от пользователей без подписки? Не отвергаем гипотезу, что пользователи с подпиской приносят больше прибыли компании.\n",
    "\n",
    "**Выводы и рекомендации:** \n",
    "- исследование показало, что пользователей с подпиской Ultra и без неё примерно одинаковое количество;\n",
    "- пользователи без подписки берут самокаты в аренду почти вдвое чаще, но прибыли при этом приносят лишь на 13,7% больше, чем пользователи с подпиской;\n",
    "- клиенты с попиской бережнее относятся к самокатам - скорость их передвижения ниже, а средее расстояние за поедку стремится к оптимальному для техники значению;\n",
    "- необходима кампания по привлечению новых клиентов, например реферальная программа или бесплатная первая поездка;\n",
    "- рекомендуется провести мероприятия по продвижению, чтобы мотивировать уже имеющихся пользователей поключить подписку Ultra с сохранением активности поездок, например раздача пробной подписки;\n",
    "- на этапе обработки данных обнаружены поездки с неработающим таймером(поездки почти бесплатные), необходимо найти причину аномалии и устранить."
   ]
  }
 ],
 "metadata": {
  "ExecuteTimeLog": [
   {
    "duration": 55,
    "start_time": "2024-02-22T15:37:29.462Z"
   },
   {
    "duration": 1179,
    "start_time": "2024-02-22T15:38:07.501Z"
   },
   {
    "duration": 28,
    "start_time": "2024-02-22T15:38:08.682Z"
   },
   {
    "duration": 31,
    "start_time": "2024-02-22T15:38:08.712Z"
   },
   {
    "duration": 15,
    "start_time": "2024-02-22T15:38:08.745Z"
   },
   {
    "duration": 15,
    "start_time": "2024-02-22T15:38:08.762Z"
   },
   {
    "duration": 11,
    "start_time": "2024-02-22T15:38:08.779Z"
   },
   {
    "duration": 14,
    "start_time": "2024-02-22T15:38:08.792Z"
   },
   {
    "duration": 13,
    "start_time": "2024-02-22T15:38:08.808Z"
   },
   {
    "duration": 7,
    "start_time": "2024-02-22T15:38:08.822Z"
   },
   {
    "duration": 12,
    "start_time": "2024-02-22T15:38:08.831Z"
   },
   {
    "duration": 19,
    "start_time": "2024-02-22T15:38:08.845Z"
   },
   {
    "duration": 19,
    "start_time": "2024-02-22T15:38:08.865Z"
   },
   {
    "duration": 9,
    "start_time": "2024-02-22T15:38:08.885Z"
   },
   {
    "duration": 20,
    "start_time": "2024-02-22T15:38:08.896Z"
   },
   {
    "duration": 7,
    "start_time": "2024-02-22T15:38:08.918Z"
   },
   {
    "duration": 13,
    "start_time": "2024-02-22T15:38:08.926Z"
   },
   {
    "duration": 19,
    "start_time": "2024-02-22T15:38:08.940Z"
   },
   {
    "duration": 22,
    "start_time": "2024-02-22T15:38:08.961Z"
   },
   {
    "duration": 16,
    "start_time": "2024-02-22T15:38:08.985Z"
   },
   {
    "duration": 179,
    "start_time": "2024-02-22T15:38:09.003Z"
   },
   {
    "duration": 9,
    "start_time": "2024-02-22T15:38:09.183Z"
   },
   {
    "duration": 9,
    "start_time": "2024-02-22T15:38:09.194Z"
   },
   {
    "duration": 145,
    "start_time": "2024-02-22T15:38:09.205Z"
   },
   {
    "duration": 181,
    "start_time": "2024-02-22T15:38:09.352Z"
   },
   {
    "duration": 9,
    "start_time": "2024-02-22T15:38:09.534Z"
   },
   {
    "duration": 223,
    "start_time": "2024-02-22T15:38:09.544Z"
   },
   {
    "duration": 13,
    "start_time": "2024-02-22T15:38:09.769Z"
   },
   {
    "duration": 215,
    "start_time": "2024-02-22T15:38:09.785Z"
   },
   {
    "duration": 9,
    "start_time": "2024-02-22T15:38:10.002Z"
   },
   {
    "duration": 57,
    "start_time": "2024-02-22T15:38:10.012Z"
   },
   {
    "duration": 23,
    "start_time": "2024-02-22T15:38:10.071Z"
   },
   {
    "duration": 15,
    "start_time": "2024-02-22T15:38:10.095Z"
   },
   {
    "duration": 200,
    "start_time": "2024-02-22T15:38:10.111Z"
   },
   {
    "duration": 8,
    "start_time": "2024-02-22T15:38:10.313Z"
   },
   {
    "duration": 226,
    "start_time": "2024-02-22T15:38:10.323Z"
   },
   {
    "duration": 8,
    "start_time": "2024-02-22T15:38:10.551Z"
   },
   {
    "duration": 200,
    "start_time": "2024-02-22T15:38:10.561Z"
   },
   {
    "duration": 18,
    "start_time": "2024-02-22T15:38:10.763Z"
   },
   {
    "duration": 205,
    "start_time": "2024-02-22T15:38:10.783Z"
   },
   {
    "duration": 8,
    "start_time": "2024-02-22T15:38:10.990Z"
   },
   {
    "duration": 1018,
    "start_time": "2024-02-22T15:38:11.000Z"
   },
   {
    "duration": 14,
    "start_time": "2024-02-22T15:38:12.020Z"
   },
   {
    "duration": 1078,
    "start_time": "2024-02-22T15:38:12.036Z"
   },
   {
    "duration": 4,
    "start_time": "2024-02-22T15:38:13.115Z"
   },
   {
    "duration": 136,
    "start_time": "2024-02-22T15:38:13.120Z"
   },
   {
    "duration": 12,
    "start_time": "2024-02-22T15:38:13.258Z"
   },
   {
    "duration": 4,
    "start_time": "2024-02-22T15:38:13.281Z"
   },
   {
    "duration": 20,
    "start_time": "2024-02-22T15:38:13.287Z"
   },
   {
    "duration": 31,
    "start_time": "2024-02-22T15:38:13.309Z"
   },
   {
    "duration": 24,
    "start_time": "2024-02-22T15:38:13.341Z"
   },
   {
    "duration": 1159,
    "start_time": "2024-02-22T15:46:45.015Z"
   },
   {
    "duration": 28,
    "start_time": "2024-02-22T15:46:46.176Z"
   },
   {
    "duration": 30,
    "start_time": "2024-02-22T15:46:46.206Z"
   },
   {
    "duration": 15,
    "start_time": "2024-02-22T15:46:46.238Z"
   },
   {
    "duration": 13,
    "start_time": "2024-02-22T15:46:46.254Z"
   },
   {
    "duration": 21,
    "start_time": "2024-02-22T15:46:46.268Z"
   },
   {
    "duration": 13,
    "start_time": "2024-02-22T15:46:46.290Z"
   },
   {
    "duration": 12,
    "start_time": "2024-02-22T15:46:46.304Z"
   },
   {
    "duration": 29,
    "start_time": "2024-02-22T15:46:46.318Z"
   },
   {
    "duration": 17,
    "start_time": "2024-02-22T15:46:46.349Z"
   },
   {
    "duration": 23,
    "start_time": "2024-02-22T15:46:46.367Z"
   },
   {
    "duration": 5,
    "start_time": "2024-02-22T15:46:46.392Z"
   },
   {
    "duration": 7,
    "start_time": "2024-02-22T15:46:46.398Z"
   },
   {
    "duration": 14,
    "start_time": "2024-02-22T15:46:46.406Z"
   },
   {
    "duration": 12,
    "start_time": "2024-02-22T15:46:46.421Z"
   },
   {
    "duration": 6,
    "start_time": "2024-02-22T15:46:46.435Z"
   },
   {
    "duration": 5,
    "start_time": "2024-02-22T15:46:46.443Z"
   },
   {
    "duration": 20,
    "start_time": "2024-02-22T15:46:46.449Z"
   },
   {
    "duration": 27,
    "start_time": "2024-02-22T15:46:46.481Z"
   },
   {
    "duration": 173,
    "start_time": "2024-02-22T15:46:46.510Z"
   },
   {
    "duration": 11,
    "start_time": "2024-02-22T15:46:46.684Z"
   },
   {
    "duration": 11,
    "start_time": "2024-02-22T15:46:46.696Z"
   },
   {
    "duration": 151,
    "start_time": "2024-02-22T15:46:46.708Z"
   },
   {
    "duration": 184,
    "start_time": "2024-02-22T15:46:46.861Z"
   },
   {
    "duration": 8,
    "start_time": "2024-02-22T15:46:47.046Z"
   },
   {
    "duration": 214,
    "start_time": "2024-02-22T15:46:47.056Z"
   },
   {
    "duration": 16,
    "start_time": "2024-02-22T15:46:47.274Z"
   },
   {
    "duration": 239,
    "start_time": "2024-02-22T15:46:47.295Z"
   },
   {
    "duration": 9,
    "start_time": "2024-02-22T15:46:47.536Z"
   },
   {
    "duration": 44,
    "start_time": "2024-02-22T15:46:47.547Z"
   },
   {
    "duration": 17,
    "start_time": "2024-02-22T15:46:47.593Z"
   },
   {
    "duration": 17,
    "start_time": "2024-02-22T15:46:47.612Z"
   },
   {
    "duration": 218,
    "start_time": "2024-02-22T15:46:47.631Z"
   },
   {
    "duration": 8,
    "start_time": "2024-02-22T15:46:47.851Z"
   },
   {
    "duration": 215,
    "start_time": "2024-02-22T15:46:47.860Z"
   },
   {
    "duration": 8,
    "start_time": "2024-02-22T15:46:48.079Z"
   },
   {
    "duration": 196,
    "start_time": "2024-02-22T15:46:48.089Z"
   },
   {
    "duration": 8,
    "start_time": "2024-02-22T15:46:48.286Z"
   },
   {
    "duration": 210,
    "start_time": "2024-02-22T15:46:48.296Z"
   },
   {
    "duration": 9,
    "start_time": "2024-02-22T15:46:48.507Z"
   },
   {
    "duration": 1044,
    "start_time": "2024-02-22T15:46:48.517Z"
   },
   {
    "duration": 20,
    "start_time": "2024-02-22T15:46:49.563Z"
   },
   {
    "duration": 959,
    "start_time": "2024-02-22T15:46:49.585Z"
   },
   {
    "duration": 4,
    "start_time": "2024-02-22T15:46:50.545Z"
   },
   {
    "duration": 153,
    "start_time": "2024-02-22T15:46:50.551Z"
   },
   {
    "duration": 13,
    "start_time": "2024-02-22T15:46:50.706Z"
   },
   {
    "duration": 5,
    "start_time": "2024-02-22T15:46:50.720Z"
   },
   {
    "duration": 19,
    "start_time": "2024-02-22T15:46:50.726Z"
   },
   {
    "duration": 5,
    "start_time": "2024-02-22T15:46:50.747Z"
   },
   {
    "duration": 17,
    "start_time": "2024-02-22T15:46:50.753Z"
   },
   {
    "duration": 50,
    "start_time": "2024-02-24T19:12:38.965Z"
   },
   {
    "duration": 1246,
    "start_time": "2024-02-24T19:12:47.500Z"
   },
   {
    "duration": 75,
    "start_time": "2024-02-24T19:12:48.748Z"
   },
   {
    "duration": 76,
    "start_time": "2024-02-24T19:12:48.824Z"
   },
   {
    "duration": 51,
    "start_time": "2024-02-24T19:12:48.902Z"
   },
   {
    "duration": 3,
    "start_time": "2024-02-24T19:12:48.955Z"
   },
   {
    "duration": 39,
    "start_time": "2024-02-24T19:12:48.960Z"
   },
   {
    "duration": 18,
    "start_time": "2024-02-24T19:12:49.001Z"
   },
   {
    "duration": 26,
    "start_time": "2024-02-24T19:12:49.021Z"
   },
   {
    "duration": 8,
    "start_time": "2024-02-24T19:12:49.049Z"
   },
   {
    "duration": 14,
    "start_time": "2024-02-24T19:12:49.059Z"
   },
   {
    "duration": 18,
    "start_time": "2024-02-24T19:12:49.075Z"
   },
   {
    "duration": 29,
    "start_time": "2024-02-24T19:12:49.095Z"
   },
   {
    "duration": 8,
    "start_time": "2024-02-24T19:12:49.126Z"
   },
   {
    "duration": 14,
    "start_time": "2024-02-24T19:12:49.139Z"
   },
   {
    "duration": 6,
    "start_time": "2024-02-24T19:12:49.155Z"
   },
   {
    "duration": 9,
    "start_time": "2024-02-24T19:12:49.163Z"
   },
   {
    "duration": 49,
    "start_time": "2024-02-24T19:12:49.174Z"
   },
   {
    "duration": 218,
    "start_time": "2024-02-24T19:12:49.225Z"
   },
   {
    "duration": 15,
    "start_time": "2024-02-24T19:12:49.445Z"
   },
   {
    "duration": 102,
    "start_time": "2024-02-24T19:12:49.462Z"
   },
   {
    "duration": 193,
    "start_time": "2024-02-24T19:12:49.566Z"
   },
   {
    "duration": 9,
    "start_time": "2024-02-24T19:12:49.760Z"
   },
   {
    "duration": 11,
    "start_time": "2024-02-24T19:12:49.771Z"
   },
   {
    "duration": 8,
    "start_time": "2024-02-24T19:12:49.783Z"
   },
   {
    "duration": 35,
    "start_time": "2024-02-24T19:12:49.793Z"
   },
   {
    "duration": 19,
    "start_time": "2024-02-24T19:12:49.830Z"
   },
   {
    "duration": 15,
    "start_time": "2024-02-24T19:12:49.851Z"
   },
   {
    "duration": 234,
    "start_time": "2024-02-24T19:12:49.867Z"
   },
   {
    "duration": 9,
    "start_time": "2024-02-24T19:12:50.103Z"
   },
   {
    "duration": 25,
    "start_time": "2024-02-24T19:12:50.123Z"
   },
   {
    "duration": 11,
    "start_time": "2024-02-24T19:12:50.149Z"
   },
   {
    "duration": 15,
    "start_time": "2024-02-24T19:12:50.162Z"
   },
   {
    "duration": 7,
    "start_time": "2024-02-24T19:12:50.179Z"
   },
   {
    "duration": 46,
    "start_time": "2024-02-24T19:12:50.188Z"
   },
   {
    "duration": 205,
    "start_time": "2024-02-24T19:12:50.236Z"
   },
   {
    "duration": 12,
    "start_time": "2024-02-24T19:12:50.443Z"
   },
   {
    "duration": 37,
    "start_time": "2024-02-24T19:12:50.457Z"
   },
   {
    "duration": 53,
    "start_time": "2024-02-24T19:12:50.496Z"
   },
   {
    "duration": 19,
    "start_time": "2024-02-24T19:12:50.551Z"
   },
   {
    "duration": 71,
    "start_time": "2024-02-24T19:12:50.572Z"
   },
   {
    "duration": 44,
    "start_time": "2024-02-24T19:12:50.647Z"
   },
   {
    "duration": 311,
    "start_time": "2024-02-24T19:12:50.693Z"
   },
   {
    "duration": 18,
    "start_time": "2024-02-24T19:12:51.006Z"
   },
   {
    "duration": 9,
    "start_time": "2024-02-24T19:12:51.025Z"
   },
   {
    "duration": 344,
    "start_time": "2024-02-24T19:12:51.036Z"
   },
   {
    "duration": 8,
    "start_time": "2024-02-24T19:12:51.382Z"
   },
   {
    "duration": 38,
    "start_time": "2024-02-24T19:12:51.392Z"
   },
   {
    "duration": 973,
    "start_time": "2024-02-24T19:12:51.432Z"
   },
   {
    "duration": 6,
    "start_time": "2024-02-24T19:12:52.407Z"
   },
   {
    "duration": 15,
    "start_time": "2024-02-24T19:12:52.423Z"
   },
   {
    "duration": 24,
    "start_time": "2024-02-24T19:12:52.439Z"
   },
   {
    "duration": 6,
    "start_time": "2024-02-24T19:12:52.465Z"
   },
   {
    "duration": 4,
    "start_time": "2024-02-24T19:12:52.473Z"
   },
   {
    "duration": 9,
    "start_time": "2024-02-24T19:12:52.479Z"
   },
   {
    "duration": 161,
    "start_time": "2024-02-24T19:12:52.490Z"
   },
   {
    "duration": 14,
    "start_time": "2024-02-24T19:12:52.653Z"
   },
   {
    "duration": 14,
    "start_time": "2024-02-24T19:12:52.669Z"
   },
   {
    "duration": 26,
    "start_time": "2024-02-24T19:12:52.685Z"
   },
   {
    "duration": 20,
    "start_time": "2024-02-24T19:12:52.722Z"
   },
   {
    "duration": 13,
    "start_time": "2024-02-24T19:12:52.744Z"
   },
   {
    "duration": 238,
    "start_time": "2024-02-24T19:12:52.759Z"
   },
   {
    "duration": 30,
    "start_time": "2024-02-24T19:12:52.999Z"
   },
   {
    "duration": 12,
    "start_time": "2024-02-24T19:12:53.031Z"
   },
   {
    "duration": 11,
    "start_time": "2024-02-24T19:12:53.045Z"
   },
   {
    "duration": 43,
    "start_time": "2024-02-24T19:12:53.058Z"
   },
   {
    "duration": 9,
    "start_time": "2024-02-24T19:12:53.103Z"
   },
   {
    "duration": 11,
    "start_time": "2024-02-24T19:12:53.114Z"
   },
   {
    "duration": 28,
    "start_time": "2024-02-24T19:12:53.127Z"
   },
   {
    "duration": 6,
    "start_time": "2024-02-24T19:12:53.157Z"
   },
   {
    "duration": 12,
    "start_time": "2024-02-24T19:12:53.165Z"
   },
   {
    "duration": 10,
    "start_time": "2024-02-24T19:20:16.916Z"
   },
   {
    "duration": 1191,
    "start_time": "2024-02-24T19:31:23.729Z"
   },
   {
    "duration": 30,
    "start_time": "2024-02-24T19:31:24.922Z"
   },
   {
    "duration": 37,
    "start_time": "2024-02-24T19:31:24.953Z"
   },
   {
    "duration": 16,
    "start_time": "2024-02-24T19:31:24.992Z"
   },
   {
    "duration": 4,
    "start_time": "2024-02-24T19:31:25.009Z"
   },
   {
    "duration": 33,
    "start_time": "2024-02-24T19:31:25.014Z"
   },
   {
    "duration": 19,
    "start_time": "2024-02-24T19:31:25.065Z"
   },
   {
    "duration": 16,
    "start_time": "2024-02-24T19:31:25.086Z"
   },
   {
    "duration": 20,
    "start_time": "2024-02-24T19:31:25.103Z"
   },
   {
    "duration": 5,
    "start_time": "2024-02-24T19:31:25.126Z"
   },
   {
    "duration": 7,
    "start_time": "2024-02-24T19:31:25.133Z"
   },
   {
    "duration": 15,
    "start_time": "2024-02-24T19:31:25.141Z"
   },
   {
    "duration": 6,
    "start_time": "2024-02-24T19:31:25.158Z"
   },
   {
    "duration": 10,
    "start_time": "2024-02-24T19:31:25.166Z"
   },
   {
    "duration": 6,
    "start_time": "2024-02-24T19:31:25.177Z"
   },
   {
    "duration": 42,
    "start_time": "2024-02-24T19:31:25.185Z"
   },
   {
    "duration": 17,
    "start_time": "2024-02-24T19:31:25.229Z"
   },
   {
    "duration": 225,
    "start_time": "2024-02-24T19:31:25.247Z"
   },
   {
    "duration": 16,
    "start_time": "2024-02-24T19:31:25.474Z"
   },
   {
    "duration": 120,
    "start_time": "2024-02-24T19:31:25.492Z"
   },
   {
    "duration": 203,
    "start_time": "2024-02-24T19:31:25.613Z"
   },
   {
    "duration": 8,
    "start_time": "2024-02-24T19:31:25.823Z"
   },
   {
    "duration": 9,
    "start_time": "2024-02-24T19:31:25.833Z"
   },
   {
    "duration": 8,
    "start_time": "2024-02-24T19:31:25.844Z"
   },
   {
    "duration": 17,
    "start_time": "2024-02-24T19:31:25.853Z"
   },
   {
    "duration": 13,
    "start_time": "2024-02-24T19:31:25.872Z"
   },
   {
    "duration": 38,
    "start_time": "2024-02-24T19:31:25.886Z"
   },
   {
    "duration": 220,
    "start_time": "2024-02-24T19:31:25.928Z"
   },
   {
    "duration": 10,
    "start_time": "2024-02-24T19:31:26.149Z"
   },
   {
    "duration": 21,
    "start_time": "2024-02-24T19:31:26.161Z"
   },
   {
    "duration": 10,
    "start_time": "2024-02-24T19:31:26.184Z"
   },
   {
    "duration": 41,
    "start_time": "2024-02-24T19:31:26.196Z"
   },
   {
    "duration": 7,
    "start_time": "2024-02-24T19:31:26.239Z"
   },
   {
    "duration": 11,
    "start_time": "2024-02-24T19:31:26.247Z"
   },
   {
    "duration": 228,
    "start_time": "2024-02-24T19:31:26.260Z"
   },
   {
    "duration": 10,
    "start_time": "2024-02-24T19:31:26.490Z"
   },
   {
    "duration": 42,
    "start_time": "2024-02-24T19:31:26.502Z"
   },
   {
    "duration": 34,
    "start_time": "2024-02-24T19:31:26.546Z"
   },
   {
    "duration": 43,
    "start_time": "2024-02-24T19:31:26.582Z"
   },
   {
    "duration": 37,
    "start_time": "2024-02-24T19:31:26.627Z"
   },
   {
    "duration": 67,
    "start_time": "2024-02-24T19:31:26.665Z"
   },
   {
    "duration": 305,
    "start_time": "2024-02-24T19:31:26.734Z"
   },
   {
    "duration": 9,
    "start_time": "2024-02-24T19:31:27.040Z"
   },
   {
    "duration": 15,
    "start_time": "2024-02-24T19:31:27.051Z"
   },
   {
    "duration": 345,
    "start_time": "2024-02-24T19:31:27.067Z"
   },
   {
    "duration": 10,
    "start_time": "2024-02-24T19:31:27.414Z"
   },
   {
    "duration": 21,
    "start_time": "2024-02-24T19:31:27.426Z"
   },
   {
    "duration": 942,
    "start_time": "2024-02-24T19:31:27.448Z"
   },
   {
    "duration": 7,
    "start_time": "2024-02-24T19:31:28.391Z"
   },
   {
    "duration": 29,
    "start_time": "2024-02-24T19:31:28.399Z"
   },
   {
    "duration": 21,
    "start_time": "2024-02-24T19:31:28.430Z"
   },
   {
    "duration": 7,
    "start_time": "2024-02-24T19:31:28.452Z"
   },
   {
    "duration": 3,
    "start_time": "2024-02-24T19:31:28.461Z"
   },
   {
    "duration": 11,
    "start_time": "2024-02-24T19:31:28.465Z"
   },
   {
    "duration": 150,
    "start_time": "2024-02-24T19:31:28.478Z"
   },
   {
    "duration": 12,
    "start_time": "2024-02-24T19:31:28.630Z"
   },
   {
    "duration": 9,
    "start_time": "2024-02-24T19:31:28.643Z"
   },
   {
    "duration": 23,
    "start_time": "2024-02-24T19:31:28.653Z"
   },
   {
    "duration": 17,
    "start_time": "2024-02-24T19:31:28.678Z"
   },
   {
    "duration": 34,
    "start_time": "2024-02-24T19:31:28.697Z"
   },
   {
    "duration": 236,
    "start_time": "2024-02-24T19:31:28.733Z"
   },
   {
    "duration": 10,
    "start_time": "2024-02-24T19:31:28.971Z"
   },
   {
    "duration": 30,
    "start_time": "2024-02-24T19:31:28.982Z"
   },
   {
    "duration": 9,
    "start_time": "2024-02-24T19:31:29.014Z"
   },
   {
    "duration": 11,
    "start_time": "2024-02-24T19:31:29.024Z"
   },
   {
    "duration": 8,
    "start_time": "2024-02-24T19:31:29.037Z"
   },
   {
    "duration": 16,
    "start_time": "2024-02-24T19:31:29.047Z"
   },
   {
    "duration": 7,
    "start_time": "2024-02-24T19:31:29.065Z"
   },
   {
    "duration": 30,
    "start_time": "2024-02-24T19:31:29.074Z"
   },
   {
    "duration": 12,
    "start_time": "2024-02-24T19:31:29.107Z"
   },
   {
    "duration": 71,
    "start_time": "2024-02-26T08:22:16.864Z"
   },
   {
    "duration": 1555,
    "start_time": "2024-02-26T08:22:26.959Z"
   },
   {
    "duration": 92,
    "start_time": "2024-02-26T08:22:28.519Z"
   },
   {
    "duration": 417,
    "start_time": "2024-02-26T08:22:28.613Z"
   },
   {
    "duration": 55,
    "start_time": "2024-02-26T08:22:29.032Z"
   },
   {
    "duration": 5,
    "start_time": "2024-02-26T08:22:29.091Z"
   },
   {
    "duration": 34,
    "start_time": "2024-02-26T08:22:29.099Z"
   },
   {
    "duration": 24,
    "start_time": "2024-02-26T08:22:29.134Z"
   },
   {
    "duration": 37,
    "start_time": "2024-02-26T08:22:29.160Z"
   },
   {
    "duration": 7,
    "start_time": "2024-02-26T08:22:29.202Z"
   },
   {
    "duration": 39,
    "start_time": "2024-02-26T08:22:29.211Z"
   },
   {
    "duration": 30,
    "start_time": "2024-02-26T08:22:29.252Z"
   },
   {
    "duration": 11,
    "start_time": "2024-02-26T08:22:29.286Z"
   },
   {
    "duration": 41,
    "start_time": "2024-02-26T08:22:29.301Z"
   },
   {
    "duration": 26,
    "start_time": "2024-02-26T08:22:29.345Z"
   },
   {
    "duration": 19,
    "start_time": "2024-02-26T08:22:29.372Z"
   },
   {
    "duration": 15,
    "start_time": "2024-02-26T08:22:29.393Z"
   },
   {
    "duration": 21,
    "start_time": "2024-02-26T08:22:29.410Z"
   },
   {
    "duration": 274,
    "start_time": "2024-02-26T08:22:29.433Z"
   },
   {
    "duration": 16,
    "start_time": "2024-02-26T08:22:29.709Z"
   },
   {
    "duration": 127,
    "start_time": "2024-02-26T08:22:29.727Z"
   },
   {
    "duration": 251,
    "start_time": "2024-02-26T08:22:29.856Z"
   },
   {
    "duration": 18,
    "start_time": "2024-02-26T08:22:30.109Z"
   },
   {
    "duration": 178,
    "start_time": "2024-02-26T08:22:30.129Z"
   },
   {
    "duration": 359,
    "start_time": "2024-02-26T08:22:30.310Z"
   },
   {
    "duration": 171,
    "start_time": "2024-02-26T08:22:30.686Z"
   },
   {
    "duration": 63,
    "start_time": "2024-02-26T08:22:30.859Z"
   },
   {
    "duration": 114,
    "start_time": "2024-02-26T08:22:30.925Z"
   },
   {
    "duration": 579,
    "start_time": "2024-02-26T08:22:31.041Z"
   },
   {
    "duration": 11,
    "start_time": "2024-02-26T08:22:31.622Z"
   },
   {
    "duration": 58,
    "start_time": "2024-02-26T08:22:31.635Z"
   },
   {
    "duration": 15,
    "start_time": "2024-02-26T08:22:31.699Z"
   },
   {
    "duration": 12,
    "start_time": "2024-02-26T08:22:31.716Z"
   },
   {
    "duration": 28,
    "start_time": "2024-02-26T08:22:31.729Z"
   },
   {
    "duration": 43,
    "start_time": "2024-02-26T08:22:31.759Z"
   },
   {
    "duration": 23,
    "start_time": "2024-02-26T08:22:31.805Z"
   },
   {
    "duration": 15,
    "start_time": "2024-02-26T08:22:31.830Z"
   },
   {
    "duration": 241,
    "start_time": "2024-02-26T08:22:31.846Z"
   },
   {
    "duration": 17,
    "start_time": "2024-02-26T08:22:32.093Z"
   },
   {
    "duration": 39,
    "start_time": "2024-02-26T08:22:32.113Z"
   },
   {
    "duration": 72,
    "start_time": "2024-02-26T08:22:32.154Z"
   },
   {
    "duration": 21,
    "start_time": "2024-02-26T08:22:32.233Z"
   },
   {
    "duration": 73,
    "start_time": "2024-02-26T08:22:32.256Z"
   },
   {
    "duration": 57,
    "start_time": "2024-02-26T08:22:32.330Z"
   },
   {
    "duration": 368,
    "start_time": "2024-02-26T08:22:32.389Z"
   },
   {
    "duration": 39,
    "start_time": "2024-02-26T08:22:32.760Z"
   },
   {
    "duration": 12,
    "start_time": "2024-02-26T08:22:32.802Z"
   },
   {
    "duration": 409,
    "start_time": "2024-02-26T08:22:32.816Z"
   },
   {
    "duration": 11,
    "start_time": "2024-02-26T08:22:33.227Z"
   },
   {
    "duration": 13,
    "start_time": "2024-02-26T08:22:33.240Z"
   },
   {
    "duration": 51,
    "start_time": "2024-02-26T08:22:33.255Z"
   },
   {
    "duration": 1079,
    "start_time": "2024-02-26T08:22:33.308Z"
   },
   {
    "duration": 21,
    "start_time": "2024-02-26T08:22:34.389Z"
   },
   {
    "duration": 4,
    "start_time": "2024-02-26T08:22:34.413Z"
   },
   {
    "duration": 117,
    "start_time": "2024-02-26T08:22:34.419Z"
   },
   {
    "duration": 3,
    "start_time": "2024-02-26T08:22:34.539Z"
   },
   {
    "duration": 112,
    "start_time": "2024-02-26T08:22:34.544Z"
   },
   {
    "duration": 3,
    "start_time": "2024-02-26T08:22:34.658Z"
   },
   {
    "duration": 99,
    "start_time": "2024-02-26T08:22:34.663Z"
   },
   {
    "duration": 42,
    "start_time": "2024-02-26T08:22:34.764Z"
   },
   {
    "duration": 5,
    "start_time": "2024-02-26T08:22:34.808Z"
   },
   {
    "duration": 14,
    "start_time": "2024-02-26T08:22:34.815Z"
   },
   {
    "duration": 13,
    "start_time": "2024-02-26T08:22:34.831Z"
   },
   {
    "duration": 68,
    "start_time": "2024-02-26T08:22:34.846Z"
   },
   {
    "duration": 25,
    "start_time": "2024-02-26T08:22:34.917Z"
   },
   {
    "duration": 17,
    "start_time": "2024-02-26T08:22:34.944Z"
   },
   {
    "duration": 251,
    "start_time": "2024-02-26T08:22:34.962Z"
   },
   {
    "duration": 11,
    "start_time": "2024-02-26T08:22:35.215Z"
   },
   {
    "duration": 10,
    "start_time": "2024-02-26T08:22:35.228Z"
   },
   {
    "duration": 10,
    "start_time": "2024-02-26T08:22:35.240Z"
   },
   {
    "duration": 49,
    "start_time": "2024-02-26T08:22:35.252Z"
   },
   {
    "duration": 8,
    "start_time": "2024-02-26T08:22:35.304Z"
   },
   {
    "duration": 7,
    "start_time": "2024-02-26T08:22:35.314Z"
   },
   {
    "duration": 5,
    "start_time": "2024-02-26T08:22:35.323Z"
   },
   {
    "duration": 7,
    "start_time": "2024-02-26T08:22:35.330Z"
   },
   {
    "duration": 45,
    "start_time": "2024-02-26T08:22:35.339Z"
   },
   {
    "duration": 16,
    "start_time": "2024-02-26T08:22:35.387Z"
   },
   {
    "duration": 11,
    "start_time": "2024-02-26T08:22:35.405Z"
   },
   {
    "duration": 23,
    "start_time": "2024-02-26T08:22:35.418Z"
   },
   {
    "duration": 41,
    "start_time": "2024-02-26T08:22:35.443Z"
   },
   {
    "duration": 11,
    "start_time": "2024-02-26T08:22:35.496Z"
   },
   {
    "duration": 7,
    "start_time": "2024-02-26T08:22:35.508Z"
   },
   {
    "duration": 26,
    "start_time": "2024-02-26T08:22:35.517Z"
   },
   {
    "duration": 18,
    "start_time": "2024-02-26T08:22:35.544Z"
   },
   {
    "duration": 38,
    "start_time": "2024-02-26T08:22:35.563Z"
   },
   {
    "duration": 13,
    "start_time": "2024-02-26T08:22:35.604Z"
   },
   {
    "duration": 14,
    "start_time": "2024-02-26T08:22:35.618Z"
   },
   {
    "duration": 6,
    "start_time": "2024-02-26T08:22:35.633Z"
   },
   {
    "duration": 4,
    "start_time": "2024-02-26T08:22:35.640Z"
   },
   {
    "duration": 4,
    "start_time": "2024-02-26T08:22:35.646Z"
   },
   {
    "duration": 157,
    "start_time": "2024-02-26T08:22:35.652Z"
   },
   {
    "duration": 0,
    "start_time": "2024-02-26T08:22:35.811Z"
   },
   {
    "duration": 0,
    "start_time": "2024-02-26T08:22:35.813Z"
   },
   {
    "duration": 0,
    "start_time": "2024-02-26T08:22:35.815Z"
   },
   {
    "duration": 0,
    "start_time": "2024-02-26T08:22:35.816Z"
   },
   {
    "duration": 1,
    "start_time": "2024-02-26T08:22:35.817Z"
   },
   {
    "duration": 0,
    "start_time": "2024-02-26T08:22:35.819Z"
   },
   {
    "duration": 0,
    "start_time": "2024-02-26T08:22:35.820Z"
   },
   {
    "duration": 6,
    "start_time": "2024-02-26T08:26:37.695Z"
   },
   {
    "duration": 9,
    "start_time": "2024-02-26T08:26:38.301Z"
   },
   {
    "duration": 964,
    "start_time": "2024-02-26T08:26:38.645Z"
   },
   {
    "duration": 3,
    "start_time": "2024-02-26T08:26:39.611Z"
   },
   {
    "duration": 16,
    "start_time": "2024-02-26T08:26:39.615Z"
   },
   {
    "duration": 170,
    "start_time": "2024-02-26T08:26:39.633Z"
   },
   {
    "duration": 12,
    "start_time": "2024-02-26T08:26:43.220Z"
   },
   {
    "duration": 13,
    "start_time": "2024-02-26T08:26:43.692Z"
   },
   {
    "duration": 932,
    "start_time": "2024-02-26T08:26:44.355Z"
   },
   {
    "duration": 1318,
    "start_time": "2024-02-26T08:27:39.809Z"
   },
   {
    "duration": 28,
    "start_time": "2024-02-26T08:27:41.129Z"
   },
   {
    "duration": 42,
    "start_time": "2024-02-26T08:27:41.159Z"
   },
   {
    "duration": 15,
    "start_time": "2024-02-26T08:27:41.204Z"
   },
   {
    "duration": 29,
    "start_time": "2024-02-26T08:27:41.221Z"
   },
   {
    "duration": 25,
    "start_time": "2024-02-26T08:27:41.252Z"
   },
   {
    "duration": 27,
    "start_time": "2024-02-26T08:27:41.279Z"
   },
   {
    "duration": 16,
    "start_time": "2024-02-26T08:27:41.308Z"
   },
   {
    "duration": 6,
    "start_time": "2024-02-26T08:27:41.326Z"
   },
   {
    "duration": 5,
    "start_time": "2024-02-26T08:27:41.335Z"
   },
   {
    "duration": 44,
    "start_time": "2024-02-26T08:27:41.342Z"
   },
   {
    "duration": 12,
    "start_time": "2024-02-26T08:27:41.389Z"
   },
   {
    "duration": 19,
    "start_time": "2024-02-26T08:27:41.403Z"
   },
   {
    "duration": 7,
    "start_time": "2024-02-26T08:27:41.424Z"
   },
   {
    "duration": 6,
    "start_time": "2024-02-26T08:27:41.433Z"
   },
   {
    "duration": 16,
    "start_time": "2024-02-26T08:27:41.441Z"
   },
   {
    "duration": 43,
    "start_time": "2024-02-26T08:27:41.459Z"
   },
   {
    "duration": 245,
    "start_time": "2024-02-26T08:27:41.504Z"
   },
   {
    "duration": 15,
    "start_time": "2024-02-26T08:27:41.751Z"
   },
   {
    "duration": 150,
    "start_time": "2024-02-26T08:27:41.767Z"
   },
   {
    "duration": 605,
    "start_time": "2024-02-26T08:27:41.918Z"
   },
   {
    "duration": 77,
    "start_time": "2024-02-26T08:27:42.526Z"
   },
   {
    "duration": 14,
    "start_time": "2024-02-26T08:27:42.611Z"
   },
   {
    "duration": 10,
    "start_time": "2024-02-26T08:27:42.627Z"
   },
   {
    "duration": 60,
    "start_time": "2024-02-26T08:27:42.639Z"
   },
   {
    "duration": 21,
    "start_time": "2024-02-26T08:27:42.702Z"
   },
   {
    "duration": 63,
    "start_time": "2024-02-26T08:27:42.725Z"
   },
   {
    "duration": 520,
    "start_time": "2024-02-26T08:27:42.795Z"
   },
   {
    "duration": 9,
    "start_time": "2024-02-26T08:27:43.317Z"
   },
   {
    "duration": 32,
    "start_time": "2024-02-26T08:27:43.384Z"
   },
   {
    "duration": 11,
    "start_time": "2024-02-26T08:27:43.418Z"
   },
   {
    "duration": 17,
    "start_time": "2024-02-26T08:27:43.489Z"
   },
   {
    "duration": 15,
    "start_time": "2024-02-26T08:27:43.508Z"
   },
   {
    "duration": 71,
    "start_time": "2024-02-26T08:27:43.525Z"
   },
   {
    "duration": 11,
    "start_time": "2024-02-26T08:27:43.599Z"
   },
   {
    "duration": 11,
    "start_time": "2024-02-26T08:27:43.612Z"
   },
   {
    "duration": 438,
    "start_time": "2024-02-26T08:27:43.626Z"
   },
   {
    "duration": 30,
    "start_time": "2024-02-26T08:27:44.065Z"
   },
   {
    "duration": 28,
    "start_time": "2024-02-26T08:27:44.097Z"
   },
   {
    "duration": 33,
    "start_time": "2024-02-26T08:27:44.127Z"
   },
   {
    "duration": 46,
    "start_time": "2024-02-26T08:27:44.162Z"
   },
   {
    "duration": 30,
    "start_time": "2024-02-26T08:27:44.210Z"
   },
   {
    "duration": 65,
    "start_time": "2024-02-26T08:27:44.242Z"
   },
   {
    "duration": 344,
    "start_time": "2024-02-26T08:27:44.309Z"
   },
   {
    "duration": 9,
    "start_time": "2024-02-26T08:27:44.658Z"
   },
   {
    "duration": 32,
    "start_time": "2024-02-26T08:27:44.668Z"
   },
   {
    "duration": 369,
    "start_time": "2024-02-26T08:27:44.702Z"
   },
   {
    "duration": 23,
    "start_time": "2024-02-26T08:27:45.080Z"
   },
   {
    "duration": 34,
    "start_time": "2024-02-26T08:27:45.104Z"
   },
   {
    "duration": 23,
    "start_time": "2024-02-26T08:27:45.140Z"
   },
   {
    "duration": 1060,
    "start_time": "2024-02-26T08:27:45.164Z"
   },
   {
    "duration": 8,
    "start_time": "2024-02-26T08:27:46.226Z"
   },
   {
    "duration": 8,
    "start_time": "2024-02-26T08:27:46.236Z"
   },
   {
    "duration": 98,
    "start_time": "2024-02-26T08:27:46.246Z"
   },
   {
    "duration": 3,
    "start_time": "2024-02-26T08:27:46.346Z"
   },
   {
    "duration": 106,
    "start_time": "2024-02-26T08:27:46.351Z"
   },
   {
    "duration": 4,
    "start_time": "2024-02-26T08:27:46.458Z"
   },
   {
    "duration": 137,
    "start_time": "2024-02-26T08:27:46.463Z"
   },
   {
    "duration": 28,
    "start_time": "2024-02-26T08:27:46.602Z"
   },
   {
    "duration": 6,
    "start_time": "2024-02-26T08:27:46.632Z"
   },
   {
    "duration": 26,
    "start_time": "2024-02-26T08:27:46.640Z"
   },
   {
    "duration": 33,
    "start_time": "2024-02-26T08:27:46.668Z"
   },
   {
    "duration": 25,
    "start_time": "2024-02-26T08:27:46.703Z"
   },
   {
    "duration": 18,
    "start_time": "2024-02-26T08:27:46.730Z"
   },
   {
    "duration": 12,
    "start_time": "2024-02-26T08:27:46.750Z"
   },
   {
    "duration": 264,
    "start_time": "2024-02-26T08:27:46.763Z"
   },
   {
    "duration": 14,
    "start_time": "2024-02-26T08:27:47.030Z"
   },
   {
    "duration": 11,
    "start_time": "2024-02-26T08:27:47.046Z"
   },
   {
    "duration": 45,
    "start_time": "2024-02-26T08:27:47.059Z"
   },
   {
    "duration": 10,
    "start_time": "2024-02-26T08:27:47.107Z"
   },
   {
    "duration": 10,
    "start_time": "2024-02-26T08:27:47.118Z"
   },
   {
    "duration": 13,
    "start_time": "2024-02-26T08:27:47.130Z"
   },
   {
    "duration": 5,
    "start_time": "2024-02-26T08:27:47.144Z"
   },
   {
    "duration": 34,
    "start_time": "2024-02-26T08:27:47.151Z"
   },
   {
    "duration": 14,
    "start_time": "2024-02-26T08:27:47.187Z"
   },
   {
    "duration": 11,
    "start_time": "2024-02-26T08:27:47.203Z"
   },
   {
    "duration": 9,
    "start_time": "2024-02-26T08:27:47.215Z"
   },
   {
    "duration": 23,
    "start_time": "2024-02-26T08:27:47.226Z"
   },
   {
    "duration": 37,
    "start_time": "2024-02-26T08:27:47.251Z"
   },
   {
    "duration": 18,
    "start_time": "2024-02-26T08:27:47.300Z"
   },
   {
    "duration": 11,
    "start_time": "2024-02-26T08:27:47.320Z"
   },
   {
    "duration": 14,
    "start_time": "2024-02-26T08:27:47.337Z"
   },
   {
    "duration": 15,
    "start_time": "2024-02-26T08:27:47.352Z"
   },
   {
    "duration": 23,
    "start_time": "2024-02-26T08:27:47.381Z"
   },
   {
    "duration": 20,
    "start_time": "2024-02-26T08:27:47.406Z"
   },
   {
    "duration": 14,
    "start_time": "2024-02-26T08:27:47.428Z"
   },
   {
    "duration": 9,
    "start_time": "2024-02-26T08:27:47.444Z"
   },
   {
    "duration": 38,
    "start_time": "2024-02-26T08:27:47.454Z"
   },
   {
    "duration": 3,
    "start_time": "2024-02-26T08:27:47.494Z"
   },
   {
    "duration": 16,
    "start_time": "2024-02-26T08:27:47.498Z"
   },
   {
    "duration": 919,
    "start_time": "2024-02-26T08:27:47.516Z"
   },
   {
    "duration": 5,
    "start_time": "2024-02-26T08:27:48.436Z"
   },
   {
    "duration": 20,
    "start_time": "2024-02-26T08:27:48.442Z"
   },
   {
    "duration": 201,
    "start_time": "2024-02-26T08:27:48.464Z"
   },
   {
    "duration": 26,
    "start_time": "2024-02-26T08:27:48.666Z"
   },
   {
    "duration": 20,
    "start_time": "2024-02-26T08:27:48.694Z"
   },
   {
    "duration": 895,
    "start_time": "2024-02-26T08:27:48.719Z"
   }
  ],
  "kernelspec": {
   "display_name": "Python 3 (ipykernel)",
   "language": "python",
   "name": "python3"
  },
  "language_info": {
   "codemirror_mode": {
    "name": "ipython",
    "version": 3
   },
   "file_extension": ".py",
   "mimetype": "text/x-python",
   "name": "python",
   "nbconvert_exporter": "python",
   "pygments_lexer": "ipython3",
   "version": "3.9.19"
  },
  "toc": {
   "base_numbering": 1,
   "nav_menu": {},
   "number_sections": true,
   "sideBar": true,
   "skip_h1_title": true,
   "title_cell": "Table of Contents",
   "title_sidebar": "Contents",
   "toc_cell": false,
   "toc_position": {},
   "toc_section_display": true,
   "toc_window_display": true
  }
 },
 "nbformat": 4,
 "nbformat_minor": 5
}
