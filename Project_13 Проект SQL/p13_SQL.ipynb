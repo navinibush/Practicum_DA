{
 "cells": [
  {
   "cell_type": "markdown",
   "id": "edb9b9f0-fa99-4a94-bf8f-195d4cf7dcfb",
   "metadata": {},
   "source": [
    "# Анализ базы данных книг для мобильного приложения.\n",
    "\n",
    "***Задача: проанализировать базу данных***\n",
    "\n",
    "***Цель: сформулировать ценностное предложение для нового продукта.***\n",
    "\n",
    "**Описание данных**\n",
    "\n",
    "Таблица `books`:\n",
    "- `book_id` - идентификатор книги\n",
    "- `author_id` - идентификатор пользователя\n",
    "- `title` - название книги\n",
    "- `num_pages` - количество страниц\n",
    "- `publication_date` - дата публикации книги\n",
    "- `publisher_id` - идентификатор издателя\n",
    "\n",
    "Таблица `authors`:\n",
    "- `author_id` - идентификатор автора\n",
    "- `author` - имя автора\n",
    "\n",
    "Таблица `publishers`:\n",
    "- `publisher_id` - идентификатор издательства\n",
    "- `publisher` - название издательства\n",
    "\n",
    "Таблица `ratings`:\n",
    "\n",
    "- `rating_id` - идентификатор оценки\n",
    "- `book_id` - идентификатор книги\n",
    "- `username` - имя пользователя,оставившего оценку\n",
    "- `rating` - оценка книги\n",
    "\n",
    "Таблица `reviews`:\n",
    "- `review_id` - идентификатор обзора\n",
    "- `book_id` - идентификатор книги\n",
    "- `username` - имя автора обзора\n",
    "- `text` - текст обзора\n",
    "\n",
    "План работы:\n",
    "1. Подключить библиотеки, написать код для обработки SQL-запросов\n",
    "2. Исследовать таблицы, вывести первые строки\n",
    "3. Решить задачи с помощью SQL-кода:\n",
    "   - Посчитать, сколько книг вышло после 1 января 2000 года\n",
    "   - Для каждой книги посчитатье количество обзоров и среднюю оценку\n",
    "   - Определить издательство, которое выпустило наибольшее число книг толще 50 страниц, чтобы исключить из анализа брошюры\n",
    "   - Определить автора с самой высокой средней оценкой книг, учитывая только книги с 50 и более оценками\n",
    "   - Посчитать среднее количество обзоров от пользователей, которые поставили больше 48 оценок\n",
    "4. Сделать выводы по задачам."
   ]
  },
  {
   "cell_type": "markdown",
   "id": "4580d3c9-8ca7-4e4e-82b3-afc6b41408a9",
   "metadata": {},
   "source": [
    "##  Подключение библиотек, написание кода для запросов."
   ]
  },
  {
   "cell_type": "markdown",
   "id": "53768785-e9aa-492e-bacb-bf7483a23db7",
   "metadata": {},
   "source": [
    "### Подкючение библиотек."
   ]
  },
  {
   "cell_type": "code",
   "execution_count": 1,
   "id": "a39f1101-279d-48c6-b721-1734dd33726b",
   "metadata": {},
   "outputs": [],
   "source": [
    "# импортируем библиотеки\n",
    "import pandas as pd\n",
    "import sqlalchemy as sa"
   ]
  },
  {
   "cell_type": "markdown",
   "id": "8b6b7fa1-88ea-4f31-85e3-fb32306fdbe6",
   "metadata": {},
   "source": [
    "### Код для подключения к базе данных и функция для запросов."
   ]
  },
  {
   "cell_type": "code",
   "execution_count": 2,
   "id": "e4ec6824-2673-4c3f-8aba-8a25e9ac468f",
   "metadata": {},
   "outputs": [],
   "source": [
    "# устанавливаем параметры\n",
    "db_config = {\n",
    "            'user': 'praktikum_student', # имя пользователя\n",
    "            'pwd': 'Sdf4$2;d-d30pp', # пароль\n",
    "            'host': 'rc1b-wcoijxj3yxfsf3fs.mdb.yandexcloud.net',\n",
    "            'port': 6432, # порт подключения\n",
    "            'db': 'data-analyst-final-project-db' # название базы данных\n",
    "            }\n",
    "connection_string = 'postgresql://{user}:{pwd}@{host}:{port}/{db}'.format(**db_config)\n",
    "\n",
    "# сохраняем коннектор\n",
    "engine = sa.create_engine(connection_string, connect_args={'sslmode':'require'})"
   ]
  },
  {
   "cell_type": "code",
   "execution_count": 3,
   "id": "9574d662-f776-433b-a74e-2ff00503b436",
   "metadata": {},
   "outputs": [],
   "source": [
    "# чтобы выполнить SQL-запрос, пишем функцию с использованием Pandas\n",
    "def get_sql_data(query:str, engine:sa.engine.base.Engine=engine) -> pd.DataFrame:\n",
    "    '''Открываем соединение, получаем данные из sql, закрываем соединение'''\n",
    "    with engine.connect() as con:\n",
    "        return pd.read_sql(sql=sa.text(query), con = con)"
   ]
  },
  {
   "cell_type": "markdown",
   "id": "8b15e367-840e-43d6-b535-2bfb1310687d",
   "metadata": {},
   "source": [
    "##  Исследование таблиц.\n",
    "\n",
    "Поскольку требуется произвести одни и те же операции с несколькими таблицами, напишем функции для упрощения кода."
   ]
  },
  {
   "cell_type": "code",
   "execution_count": 4,
   "id": "fec29193-ac11-4f99-b413-9f7cee56389b",
   "metadata": {},
   "outputs": [],
   "source": [
    "def summary(table):\n",
    "    '''\n",
    "    получение первых 5 строк из таблицы\n",
    "    '''\n",
    "    query = f'SELECT * FROM {table} LIMIT 5'\n",
    "    return get_sql_data(query)"
   ]
  },
  {
   "cell_type": "code",
   "execution_count": 5,
   "id": "0274bdd1-47ce-4b58-9eae-fe5968052434",
   "metadata": {},
   "outputs": [],
   "source": [
    "def dist_count(table, field):\n",
    "    '''\n",
    "    получение количества уникальных значений в поле\n",
    "    '''\n",
    "    query = f'SELECT COUNT(DISTINCT {field}) FROM {table}'\n",
    "    return get_sql_data(query)"
   ]
  },
  {
   "cell_type": "code",
   "execution_count": 6,
   "id": "ba50aa1c-621d-4ece-a435-35ec6ae1c3fc",
   "metadata": {},
   "outputs": [],
   "source": [
    "def min_max(table, field):\n",
    "    '''\n",
    "    получение минимального и максимального значений в поле\n",
    "    '''\n",
    "    query = f'SELECT MIN ({field}), MAX ({field})  FROM {table}'\n",
    "    return get_sql_data(query)"
   ]
  },
  {
   "cell_type": "code",
   "execution_count": 7,
   "id": "fe0df93e-d9ba-43c6-9490-8695324d3de4",
   "metadata": {},
   "outputs": [],
   "source": [
    "def avg_func(table, field):\n",
    "    '''\n",
    "    получение среднего значения в поле\n",
    "    '''\n",
    "    query = f'SELECT ROUND(AVG({field}), 2) FROM {table}'\n",
    "    return get_sql_data(query)"
   ]
  },
  {
   "cell_type": "code",
   "execution_count": 8,
   "id": "073f6182-99c8-419a-bc70-3692ef9c0ce2",
   "metadata": {},
   "outputs": [],
   "source": [
    "def avg_count(table, field1, field2):\n",
    "    '''\n",
    "    получение количества уникальных значений в поле\n",
    "    '''\n",
    "    query = f'SELECT ROUND(COUNT(DISTINCT {field1})::numeric / COUNT(DISTINCT {field2}), 2) AS avg_cnt FROM {table}'\n",
    "    return get_sql_data(query)"
   ]
  },
  {
   "cell_type": "markdown",
   "id": "4c665760-bd6e-4a03-a477-427bb27e5a65",
   "metadata": {},
   "source": [
    "###  Таблица Books."
   ]
  },
  {
   "cell_type": "markdown",
   "id": "bfe1960e-2830-4282-bced-7859a22ba221",
   "metadata": {},
   "source": [
    "**Первые 5 строк таблицы.**"
   ]
  },
  {
   "cell_type": "code",
   "execution_count": 9,
   "id": "d7eeebdc-1408-4321-aee5-8e023e6cf573",
   "metadata": {},
   "outputs": [
    {
     "data": {
      "text/html": [
       "<div>\n",
       "<style scoped>\n",
       "    .dataframe tbody tr th:only-of-type {\n",
       "        vertical-align: middle;\n",
       "    }\n",
       "\n",
       "    .dataframe tbody tr th {\n",
       "        vertical-align: top;\n",
       "    }\n",
       "\n",
       "    .dataframe thead th {\n",
       "        text-align: right;\n",
       "    }\n",
       "</style>\n",
       "<table border=\"1\" class=\"dataframe\">\n",
       "  <thead>\n",
       "    <tr style=\"text-align: right;\">\n",
       "      <th></th>\n",
       "      <th>book_id</th>\n",
       "      <th>author_id</th>\n",
       "      <th>title</th>\n",
       "      <th>num_pages</th>\n",
       "      <th>publication_date</th>\n",
       "      <th>publisher_id</th>\n",
       "    </tr>\n",
       "  </thead>\n",
       "  <tbody>\n",
       "    <tr>\n",
       "      <th>0</th>\n",
       "      <td>1</td>\n",
       "      <td>546</td>\n",
       "      <td>'Salem's Lot</td>\n",
       "      <td>594</td>\n",
       "      <td>2005-11-01</td>\n",
       "      <td>93</td>\n",
       "    </tr>\n",
       "    <tr>\n",
       "      <th>1</th>\n",
       "      <td>2</td>\n",
       "      <td>465</td>\n",
       "      <td>1 000 Places to See Before You Die</td>\n",
       "      <td>992</td>\n",
       "      <td>2003-05-22</td>\n",
       "      <td>336</td>\n",
       "    </tr>\n",
       "    <tr>\n",
       "      <th>2</th>\n",
       "      <td>3</td>\n",
       "      <td>407</td>\n",
       "      <td>13 Little Blue Envelopes (Little Blue Envelope...</td>\n",
       "      <td>322</td>\n",
       "      <td>2010-12-21</td>\n",
       "      <td>135</td>\n",
       "    </tr>\n",
       "    <tr>\n",
       "      <th>3</th>\n",
       "      <td>4</td>\n",
       "      <td>82</td>\n",
       "      <td>1491: New Revelations of the Americas Before C...</td>\n",
       "      <td>541</td>\n",
       "      <td>2006-10-10</td>\n",
       "      <td>309</td>\n",
       "    </tr>\n",
       "    <tr>\n",
       "      <th>4</th>\n",
       "      <td>5</td>\n",
       "      <td>125</td>\n",
       "      <td>1776</td>\n",
       "      <td>386</td>\n",
       "      <td>2006-07-04</td>\n",
       "      <td>268</td>\n",
       "    </tr>\n",
       "  </tbody>\n",
       "</table>\n",
       "</div>"
      ],
      "text/plain": [
       "   book_id  author_id                                              title  \\\n",
       "0        1        546                                       'Salem's Lot   \n",
       "1        2        465                 1 000 Places to See Before You Die   \n",
       "2        3        407  13 Little Blue Envelopes (Little Blue Envelope...   \n",
       "3        4         82  1491: New Revelations of the Americas Before C...   \n",
       "4        5        125                                               1776   \n",
       "\n",
       "   num_pages publication_date  publisher_id  \n",
       "0        594       2005-11-01            93  \n",
       "1        992       2003-05-22           336  \n",
       "2        322       2010-12-21           135  \n",
       "3        541       2006-10-10           309  \n",
       "4        386       2006-07-04           268  "
      ]
     },
     "execution_count": 9,
     "metadata": {},
     "output_type": "execute_result"
    }
   ],
   "source": [
    "summary('books')"
   ]
  },
  {
   "cell_type": "markdown",
   "id": "5f396c38-f2fb-45db-b36f-bc9f3fd3425c",
   "metadata": {},
   "source": [
    "**Количество строк в таблице(количество книг).**\n",
    "\n",
    "Поскольку каждое значение значение book_id само по себе уникально, для определения количества строк подойдет функция, которая содержит DISTINCT"
   ]
  },
  {
   "cell_type": "code",
   "execution_count": 10,
   "id": "e120cf06-0a18-45ee-84e4-a7e4b2c6e032",
   "metadata": {},
   "outputs": [
    {
     "data": {
      "text/html": [
       "<div>\n",
       "<style scoped>\n",
       "    .dataframe tbody tr th:only-of-type {\n",
       "        vertical-align: middle;\n",
       "    }\n",
       "\n",
       "    .dataframe tbody tr th {\n",
       "        vertical-align: top;\n",
       "    }\n",
       "\n",
       "    .dataframe thead th {\n",
       "        text-align: right;\n",
       "    }\n",
       "</style>\n",
       "<table border=\"1\" class=\"dataframe\">\n",
       "  <thead>\n",
       "    <tr style=\"text-align: right;\">\n",
       "      <th></th>\n",
       "      <th>count</th>\n",
       "    </tr>\n",
       "  </thead>\n",
       "  <tbody>\n",
       "    <tr>\n",
       "      <th>0</th>\n",
       "      <td>1000</td>\n",
       "    </tr>\n",
       "  </tbody>\n",
       "</table>\n",
       "</div>"
      ],
      "text/plain": [
       "   count\n",
       "0   1000"
      ]
     },
     "execution_count": 10,
     "metadata": {},
     "output_type": "execute_result"
    }
   ],
   "source": [
    "dist_count('books', 'book_id')"
   ]
  },
  {
   "cell_type": "markdown",
   "id": "b2c799d9-6999-42aa-8e96-7a8346249510",
   "metadata": {},
   "source": [
    "**Кличество уникальных названий книг**"
   ]
  },
  {
   "cell_type": "code",
   "execution_count": 11,
   "id": "82add9c7-20af-4e6e-a3a2-b0cc3602b865",
   "metadata": {},
   "outputs": [
    {
     "data": {
      "text/html": [
       "<div>\n",
       "<style scoped>\n",
       "    .dataframe tbody tr th:only-of-type {\n",
       "        vertical-align: middle;\n",
       "    }\n",
       "\n",
       "    .dataframe tbody tr th {\n",
       "        vertical-align: top;\n",
       "    }\n",
       "\n",
       "    .dataframe thead th {\n",
       "        text-align: right;\n",
       "    }\n",
       "</style>\n",
       "<table border=\"1\" class=\"dataframe\">\n",
       "  <thead>\n",
       "    <tr style=\"text-align: right;\">\n",
       "      <th></th>\n",
       "      <th>count</th>\n",
       "    </tr>\n",
       "  </thead>\n",
       "  <tbody>\n",
       "    <tr>\n",
       "      <th>0</th>\n",
       "      <td>999</td>\n",
       "    </tr>\n",
       "  </tbody>\n",
       "</table>\n",
       "</div>"
      ],
      "text/plain": [
       "   count\n",
       "0    999"
      ]
     },
     "execution_count": 11,
     "metadata": {},
     "output_type": "execute_result"
    }
   ],
   "source": [
    "dist_count('books', 'title')"
   ]
  },
  {
   "cell_type": "markdown",
   "id": "1b6a8104-a0d6-44e3-8bf5-def0c4e2bfef",
   "metadata": {},
   "source": [
    "Количество уникальных названий на 1 меньше, чем книг всего. Значит какая-то книга была издана дважды. Сгруппируем по названию, найдем эту книгу."
   ]
  },
  {
   "cell_type": "code",
   "execution_count": 12,
   "id": "b4082116-a636-4cd3-8b70-127300f76cbc",
   "metadata": {},
   "outputs": [
    {
     "data": {
      "text/html": [
       "<div>\n",
       "<style scoped>\n",
       "    .dataframe tbody tr th:only-of-type {\n",
       "        vertical-align: middle;\n",
       "    }\n",
       "\n",
       "    .dataframe tbody tr th {\n",
       "        vertical-align: top;\n",
       "    }\n",
       "\n",
       "    .dataframe thead th {\n",
       "        text-align: right;\n",
       "    }\n",
       "</style>\n",
       "<table border=\"1\" class=\"dataframe\">\n",
       "  <thead>\n",
       "    <tr style=\"text-align: right;\">\n",
       "      <th></th>\n",
       "      <th>title</th>\n",
       "      <th>count</th>\n",
       "    </tr>\n",
       "  </thead>\n",
       "  <tbody>\n",
       "    <tr>\n",
       "      <th>0</th>\n",
       "      <td>Memoirs of a Geisha</td>\n",
       "      <td>2</td>\n",
       "    </tr>\n",
       "  </tbody>\n",
       "</table>\n",
       "</div>"
      ],
      "text/plain": [
       "                 title  count\n",
       "0  Memoirs of a Geisha      2"
      ]
     },
     "execution_count": 12,
     "metadata": {},
     "output_type": "execute_result"
    }
   ],
   "source": [
    "query = '''SELECT title, COUNT(title) FROM books GROUP BY title\n",
    "ORDER BY count DESC LIMIT 1\n",
    "'''\n",
    "get_sql_data(query)"
   ]
  },
  {
   "cell_type": "code",
   "execution_count": 13,
   "id": "0c3eb6e2-a090-4ac9-b5d0-57f57f94de61",
   "metadata": {},
   "outputs": [
    {
     "data": {
      "text/html": [
       "<div>\n",
       "<style scoped>\n",
       "    .dataframe tbody tr th:only-of-type {\n",
       "        vertical-align: middle;\n",
       "    }\n",
       "\n",
       "    .dataframe tbody tr th {\n",
       "        vertical-align: top;\n",
       "    }\n",
       "\n",
       "    .dataframe thead th {\n",
       "        text-align: right;\n",
       "    }\n",
       "</style>\n",
       "<table border=\"1\" class=\"dataframe\">\n",
       "  <thead>\n",
       "    <tr style=\"text-align: right;\">\n",
       "      <th></th>\n",
       "      <th>book_id</th>\n",
       "      <th>author_id</th>\n",
       "      <th>title</th>\n",
       "      <th>num_pages</th>\n",
       "      <th>publication_date</th>\n",
       "      <th>publisher_id</th>\n",
       "    </tr>\n",
       "  </thead>\n",
       "  <tbody>\n",
       "    <tr>\n",
       "      <th>0</th>\n",
       "      <td>426</td>\n",
       "      <td>39</td>\n",
       "      <td>Memoirs of a Geisha</td>\n",
       "      <td>434</td>\n",
       "      <td>2005-11-15</td>\n",
       "      <td>241</td>\n",
       "    </tr>\n",
       "    <tr>\n",
       "      <th>1</th>\n",
       "      <td>427</td>\n",
       "      <td>39</td>\n",
       "      <td>Memoirs of a Geisha</td>\n",
       "      <td>503</td>\n",
       "      <td>2005-11-22</td>\n",
       "      <td>311</td>\n",
       "    </tr>\n",
       "  </tbody>\n",
       "</table>\n",
       "</div>"
      ],
      "text/plain": [
       "   book_id  author_id                title  num_pages publication_date  \\\n",
       "0      426         39  Memoirs of a Geisha        434       2005-11-15   \n",
       "1      427         39  Memoirs of a Geisha        503       2005-11-22   \n",
       "\n",
       "   publisher_id  \n",
       "0           241  \n",
       "1           311  "
      ]
     },
     "execution_count": 13,
     "metadata": {},
     "output_type": "execute_result"
    }
   ],
   "source": [
    "query = '''SELECT * FROM books\n",
    "WHERE title = 'Memoirs of a Geisha'\n",
    "'''\n",
    "get_sql_data(query)"
   ]
  },
  {
   "cell_type": "markdown",
   "id": "548e4874-6c3b-4989-a9dd-ecf9c006b1eb",
   "metadata": {},
   "source": [
    "Мемуары гейши были выпущены разными издательствами в разном формате примерно в одно время. Теория подтвердилась."
   ]
  },
  {
   "cell_type": "markdown",
   "id": "b96ee17f-0a8a-4fb3-9b49-e5e9e6b2269c",
   "metadata": {},
   "source": [
    "**Количество уникальных авторов.**"
   ]
  },
  {
   "cell_type": "code",
   "execution_count": 14,
   "id": "5230c60e-e111-4e48-9e86-28996d25cf53",
   "metadata": {},
   "outputs": [
    {
     "data": {
      "text/html": [
       "<div>\n",
       "<style scoped>\n",
       "    .dataframe tbody tr th:only-of-type {\n",
       "        vertical-align: middle;\n",
       "    }\n",
       "\n",
       "    .dataframe tbody tr th {\n",
       "        vertical-align: top;\n",
       "    }\n",
       "\n",
       "    .dataframe thead th {\n",
       "        text-align: right;\n",
       "    }\n",
       "</style>\n",
       "<table border=\"1\" class=\"dataframe\">\n",
       "  <thead>\n",
       "    <tr style=\"text-align: right;\">\n",
       "      <th></th>\n",
       "      <th>count</th>\n",
       "    </tr>\n",
       "  </thead>\n",
       "  <tbody>\n",
       "    <tr>\n",
       "      <th>0</th>\n",
       "      <td>636</td>\n",
       "    </tr>\n",
       "  </tbody>\n",
       "</table>\n",
       "</div>"
      ],
      "text/plain": [
       "   count\n",
       "0    636"
      ]
     },
     "execution_count": 14,
     "metadata": {},
     "output_type": "execute_result"
    }
   ],
   "source": [
    "dist_count('books', 'author_id')"
   ]
  },
  {
   "cell_type": "markdown",
   "id": "e5a9e997-2cca-475e-b086-bcec664449fe",
   "metadata": {},
   "source": [
    "**Количество уникальных издательств.**"
   ]
  },
  {
   "cell_type": "code",
   "execution_count": 15,
   "id": "5d3ae82f-988f-43b9-813e-3588ea8db024",
   "metadata": {},
   "outputs": [
    {
     "data": {
      "text/html": [
       "<div>\n",
       "<style scoped>\n",
       "    .dataframe tbody tr th:only-of-type {\n",
       "        vertical-align: middle;\n",
       "    }\n",
       "\n",
       "    .dataframe tbody tr th {\n",
       "        vertical-align: top;\n",
       "    }\n",
       "\n",
       "    .dataframe thead th {\n",
       "        text-align: right;\n",
       "    }\n",
       "</style>\n",
       "<table border=\"1\" class=\"dataframe\">\n",
       "  <thead>\n",
       "    <tr style=\"text-align: right;\">\n",
       "      <th></th>\n",
       "      <th>count</th>\n",
       "    </tr>\n",
       "  </thead>\n",
       "  <tbody>\n",
       "    <tr>\n",
       "      <th>0</th>\n",
       "      <td>340</td>\n",
       "    </tr>\n",
       "  </tbody>\n",
       "</table>\n",
       "</div>"
      ],
      "text/plain": [
       "   count\n",
       "0    340"
      ]
     },
     "execution_count": 15,
     "metadata": {},
     "output_type": "execute_result"
    }
   ],
   "source": [
    "dist_count('books', 'publisher_id')"
   ]
  },
  {
   "cell_type": "markdown",
   "id": "1c329c68-ceaa-4c5c-9398-11d4db86200f",
   "metadata": {},
   "source": [
    "**Количество страниц.**"
   ]
  },
  {
   "cell_type": "code",
   "execution_count": 16,
   "id": "228065fb-13c9-4cac-8865-1a483bb6eee7",
   "metadata": {},
   "outputs": [
    {
     "data": {
      "text/html": [
       "<div>\n",
       "<style scoped>\n",
       "    .dataframe tbody tr th:only-of-type {\n",
       "        vertical-align: middle;\n",
       "    }\n",
       "\n",
       "    .dataframe tbody tr th {\n",
       "        vertical-align: top;\n",
       "    }\n",
       "\n",
       "    .dataframe thead th {\n",
       "        text-align: right;\n",
       "    }\n",
       "</style>\n",
       "<table border=\"1\" class=\"dataframe\">\n",
       "  <thead>\n",
       "    <tr style=\"text-align: right;\">\n",
       "      <th></th>\n",
       "      <th>min</th>\n",
       "      <th>max</th>\n",
       "    </tr>\n",
       "  </thead>\n",
       "  <tbody>\n",
       "    <tr>\n",
       "      <th>0</th>\n",
       "      <td>14</td>\n",
       "      <td>2690</td>\n",
       "    </tr>\n",
       "  </tbody>\n",
       "</table>\n",
       "</div>"
      ],
      "text/plain": [
       "   min   max\n",
       "0   14  2690"
      ]
     },
     "execution_count": 16,
     "metadata": {},
     "output_type": "execute_result"
    }
   ],
   "source": [
    "min_max('books', 'num_pages')"
   ]
  },
  {
   "cell_type": "code",
   "execution_count": 17,
   "id": "bf9556bb-1d8b-4bf4-bbf3-af7a79a9f23a",
   "metadata": {},
   "outputs": [
    {
     "data": {
      "text/html": [
       "<div>\n",
       "<style scoped>\n",
       "    .dataframe tbody tr th:only-of-type {\n",
       "        vertical-align: middle;\n",
       "    }\n",
       "\n",
       "    .dataframe tbody tr th {\n",
       "        vertical-align: top;\n",
       "    }\n",
       "\n",
       "    .dataframe thead th {\n",
       "        text-align: right;\n",
       "    }\n",
       "</style>\n",
       "<table border=\"1\" class=\"dataframe\">\n",
       "  <thead>\n",
       "    <tr style=\"text-align: right;\">\n",
       "      <th></th>\n",
       "      <th>round</th>\n",
       "    </tr>\n",
       "  </thead>\n",
       "  <tbody>\n",
       "    <tr>\n",
       "      <th>0</th>\n",
       "      <td>389.11</td>\n",
       "    </tr>\n",
       "  </tbody>\n",
       "</table>\n",
       "</div>"
      ],
      "text/plain": [
       "    round\n",
       "0  389.11"
      ]
     },
     "execution_count": 17,
     "metadata": {},
     "output_type": "execute_result"
    }
   ],
   "source": [
    "avg_func('books', 'num_pages')"
   ]
  },
  {
   "cell_type": "markdown",
   "id": "7df01de7-4246-4371-8e1f-8cf9d718c050",
   "metadata": {},
   "source": [
    "**Дата публикации**"
   ]
  },
  {
   "cell_type": "code",
   "execution_count": 18,
   "id": "1f2ae51e-3330-4942-b985-4586dfb3c030",
   "metadata": {},
   "outputs": [
    {
     "data": {
      "text/html": [
       "<div>\n",
       "<style scoped>\n",
       "    .dataframe tbody tr th:only-of-type {\n",
       "        vertical-align: middle;\n",
       "    }\n",
       "\n",
       "    .dataframe tbody tr th {\n",
       "        vertical-align: top;\n",
       "    }\n",
       "\n",
       "    .dataframe thead th {\n",
       "        text-align: right;\n",
       "    }\n",
       "</style>\n",
       "<table border=\"1\" class=\"dataframe\">\n",
       "  <thead>\n",
       "    <tr style=\"text-align: right;\">\n",
       "      <th></th>\n",
       "      <th>min</th>\n",
       "      <th>max</th>\n",
       "    </tr>\n",
       "  </thead>\n",
       "  <tbody>\n",
       "    <tr>\n",
       "      <th>0</th>\n",
       "      <td>1952-12-01</td>\n",
       "      <td>2020-03-31</td>\n",
       "    </tr>\n",
       "  </tbody>\n",
       "</table>\n",
       "</div>"
      ],
      "text/plain": [
       "          min         max\n",
       "0  1952-12-01  2020-03-31"
      ]
     },
     "execution_count": 18,
     "metadata": {},
     "output_type": "execute_result"
    }
   ],
   "source": [
    "min_max('books', 'publication_date')"
   ]
  },
  {
   "cell_type": "markdown",
   "id": "a017744e-c280-45ff-a860-395e90b20f19",
   "metadata": {},
   "source": [
    "**Выводы по таблице `books`**\n",
    "Таблица содержит:\n",
    "- 6 столбцов,\n",
    "- 1000 строк,\n",
    "- 999 уникальных названий книг,\n",
    "- 636 авторов книг,\n",
    "- 340 издательств,\n",
    "\n",
    "Количество страниц в книгах находится в диапазоне от 14 до 2690 страниц, в среднем 389 страниц.\n",
    "\n",
    "Периоды издания книг с 1 декабря 1952 года по 31 марта 2020."
   ]
  },
  {
   "cell_type": "markdown",
   "id": "fdc5c784-a074-4ad5-b1bd-303db0707293",
   "metadata": {},
   "source": [
    "###  Таблица Authors."
   ]
  },
  {
   "cell_type": "markdown",
   "id": "651c0618-8809-4fe4-8a4e-53b653b19282",
   "metadata": {},
   "source": [
    "**Первые 5 строк таблицы.**"
   ]
  },
  {
   "cell_type": "code",
   "execution_count": 19,
   "id": "144cf415-ce71-492a-a900-b1255f3ec44a",
   "metadata": {},
   "outputs": [
    {
     "data": {
      "text/html": [
       "<div>\n",
       "<style scoped>\n",
       "    .dataframe tbody tr th:only-of-type {\n",
       "        vertical-align: middle;\n",
       "    }\n",
       "\n",
       "    .dataframe tbody tr th {\n",
       "        vertical-align: top;\n",
       "    }\n",
       "\n",
       "    .dataframe thead th {\n",
       "        text-align: right;\n",
       "    }\n",
       "</style>\n",
       "<table border=\"1\" class=\"dataframe\">\n",
       "  <thead>\n",
       "    <tr style=\"text-align: right;\">\n",
       "      <th></th>\n",
       "      <th>author_id</th>\n",
       "      <th>author</th>\n",
       "    </tr>\n",
       "  </thead>\n",
       "  <tbody>\n",
       "    <tr>\n",
       "      <th>0</th>\n",
       "      <td>1</td>\n",
       "      <td>A.S. Byatt</td>\n",
       "    </tr>\n",
       "    <tr>\n",
       "      <th>1</th>\n",
       "      <td>2</td>\n",
       "      <td>Aesop/Laura Harris/Laura Gibbs</td>\n",
       "    </tr>\n",
       "    <tr>\n",
       "      <th>2</th>\n",
       "      <td>3</td>\n",
       "      <td>Agatha Christie</td>\n",
       "    </tr>\n",
       "    <tr>\n",
       "      <th>3</th>\n",
       "      <td>4</td>\n",
       "      <td>Alan Brennert</td>\n",
       "    </tr>\n",
       "    <tr>\n",
       "      <th>4</th>\n",
       "      <td>5</td>\n",
       "      <td>Alan Moore/David   Lloyd</td>\n",
       "    </tr>\n",
       "  </tbody>\n",
       "</table>\n",
       "</div>"
      ],
      "text/plain": [
       "   author_id                          author\n",
       "0          1                      A.S. Byatt\n",
       "1          2  Aesop/Laura Harris/Laura Gibbs\n",
       "2          3                 Agatha Christie\n",
       "3          4                   Alan Brennert\n",
       "4          5        Alan Moore/David   Lloyd"
      ]
     },
     "execution_count": 19,
     "metadata": {},
     "output_type": "execute_result"
    }
   ],
   "source": [
    "summary('authors')"
   ]
  },
  {
   "cell_type": "markdown",
   "id": "03cbb8cd-b5ff-4601-b6d3-a528f7ff57c1",
   "metadata": {},
   "source": [
    "**Количество строк в таблице.**"
   ]
  },
  {
   "cell_type": "code",
   "execution_count": 20,
   "id": "1db48645-6baa-490d-a53b-509f9cc0bd9b",
   "metadata": {},
   "outputs": [
    {
     "data": {
      "text/html": [
       "<div>\n",
       "<style scoped>\n",
       "    .dataframe tbody tr th:only-of-type {\n",
       "        vertical-align: middle;\n",
       "    }\n",
       "\n",
       "    .dataframe tbody tr th {\n",
       "        vertical-align: top;\n",
       "    }\n",
       "\n",
       "    .dataframe thead th {\n",
       "        text-align: right;\n",
       "    }\n",
       "</style>\n",
       "<table border=\"1\" class=\"dataframe\">\n",
       "  <thead>\n",
       "    <tr style=\"text-align: right;\">\n",
       "      <th></th>\n",
       "      <th>count</th>\n",
       "    </tr>\n",
       "  </thead>\n",
       "  <tbody>\n",
       "    <tr>\n",
       "      <th>0</th>\n",
       "      <td>636</td>\n",
       "    </tr>\n",
       "  </tbody>\n",
       "</table>\n",
       "</div>"
      ],
      "text/plain": [
       "   count\n",
       "0    636"
      ]
     },
     "execution_count": 20,
     "metadata": {},
     "output_type": "execute_result"
    }
   ],
   "source": [
    "dist_count('authors', 'author_id')"
   ]
  },
  {
   "cell_type": "markdown",
   "id": "bf8aed97-077f-424e-af60-682a81aa2f27",
   "metadata": {},
   "source": [
    "Проверим, что количество строк совпадает с количеством уникальных имен авторов для понимания, нет ли среди авторов полных тёзок."
   ]
  },
  {
   "cell_type": "code",
   "execution_count": 21,
   "id": "9e016a59-1fc8-4764-9c50-0d680a4bac7b",
   "metadata": {},
   "outputs": [
    {
     "data": {
      "text/html": [
       "<div>\n",
       "<style scoped>\n",
       "    .dataframe tbody tr th:only-of-type {\n",
       "        vertical-align: middle;\n",
       "    }\n",
       "\n",
       "    .dataframe tbody tr th {\n",
       "        vertical-align: top;\n",
       "    }\n",
       "\n",
       "    .dataframe thead th {\n",
       "        text-align: right;\n",
       "    }\n",
       "</style>\n",
       "<table border=\"1\" class=\"dataframe\">\n",
       "  <thead>\n",
       "    <tr style=\"text-align: right;\">\n",
       "      <th></th>\n",
       "      <th>count</th>\n",
       "    </tr>\n",
       "  </thead>\n",
       "  <tbody>\n",
       "    <tr>\n",
       "      <th>0</th>\n",
       "      <td>636</td>\n",
       "    </tr>\n",
       "  </tbody>\n",
       "</table>\n",
       "</div>"
      ],
      "text/plain": [
       "   count\n",
       "0    636"
      ]
     },
     "execution_count": 21,
     "metadata": {},
     "output_type": "execute_result"
    }
   ],
   "source": [
    "dist_count('authors', 'author')"
   ]
  },
  {
   "cell_type": "markdown",
   "id": "421fc6ac-2fa6-45ca-90a8-83498f63f63e",
   "metadata": {},
   "source": [
    "**Выводы по таблице `authors`:**\n",
    "- количество строк в таблице равно 636,\n",
    "- полных тёзок нет,\n",
    "- количество авторов совпадает с количеством авторов в таблице `books`."
   ]
  },
  {
   "cell_type": "markdown",
   "id": "0141747b-789e-413e-bf41-462fde54dafd",
   "metadata": {},
   "source": [
    "### Таблица Publishers."
   ]
  },
  {
   "cell_type": "markdown",
   "id": "19d12ada-f2da-4dfe-a60d-5083ee0df76a",
   "metadata": {},
   "source": [
    "**Первые 5 строк таблицы.**"
   ]
  },
  {
   "cell_type": "code",
   "execution_count": 22,
   "id": "f33f1cb7-ffc6-473e-b651-b22078e808e2",
   "metadata": {},
   "outputs": [
    {
     "data": {
      "text/html": [
       "<div>\n",
       "<style scoped>\n",
       "    .dataframe tbody tr th:only-of-type {\n",
       "        vertical-align: middle;\n",
       "    }\n",
       "\n",
       "    .dataframe tbody tr th {\n",
       "        vertical-align: top;\n",
       "    }\n",
       "\n",
       "    .dataframe thead th {\n",
       "        text-align: right;\n",
       "    }\n",
       "</style>\n",
       "<table border=\"1\" class=\"dataframe\">\n",
       "  <thead>\n",
       "    <tr style=\"text-align: right;\">\n",
       "      <th></th>\n",
       "      <th>publisher_id</th>\n",
       "      <th>publisher</th>\n",
       "    </tr>\n",
       "  </thead>\n",
       "  <tbody>\n",
       "    <tr>\n",
       "      <th>0</th>\n",
       "      <td>1</td>\n",
       "      <td>Ace</td>\n",
       "    </tr>\n",
       "    <tr>\n",
       "      <th>1</th>\n",
       "      <td>2</td>\n",
       "      <td>Ace Book</td>\n",
       "    </tr>\n",
       "    <tr>\n",
       "      <th>2</th>\n",
       "      <td>3</td>\n",
       "      <td>Ace Books</td>\n",
       "    </tr>\n",
       "    <tr>\n",
       "      <th>3</th>\n",
       "      <td>4</td>\n",
       "      <td>Ace Hardcover</td>\n",
       "    </tr>\n",
       "    <tr>\n",
       "      <th>4</th>\n",
       "      <td>5</td>\n",
       "      <td>Addison Wesley Publishing Company</td>\n",
       "    </tr>\n",
       "  </tbody>\n",
       "</table>\n",
       "</div>"
      ],
      "text/plain": [
       "   publisher_id                          publisher\n",
       "0             1                                Ace\n",
       "1             2                           Ace Book\n",
       "2             3                          Ace Books\n",
       "3             4                      Ace Hardcover\n",
       "4             5  Addison Wesley Publishing Company"
      ]
     },
     "execution_count": 22,
     "metadata": {},
     "output_type": "execute_result"
    }
   ],
   "source": [
    "summary('publishers')"
   ]
  },
  {
   "cell_type": "markdown",
   "id": "f851984d-a94e-4e09-a8d2-98cce4912cb0",
   "metadata": {},
   "source": [
    "**Количество строк в таблице.**"
   ]
  },
  {
   "cell_type": "code",
   "execution_count": 23,
   "id": "bfa629d8-eec3-4f63-8b42-7c8bd920a91b",
   "metadata": {},
   "outputs": [
    {
     "data": {
      "text/html": [
       "<div>\n",
       "<style scoped>\n",
       "    .dataframe tbody tr th:only-of-type {\n",
       "        vertical-align: middle;\n",
       "    }\n",
       "\n",
       "    .dataframe tbody tr th {\n",
       "        vertical-align: top;\n",
       "    }\n",
       "\n",
       "    .dataframe thead th {\n",
       "        text-align: right;\n",
       "    }\n",
       "</style>\n",
       "<table border=\"1\" class=\"dataframe\">\n",
       "  <thead>\n",
       "    <tr style=\"text-align: right;\">\n",
       "      <th></th>\n",
       "      <th>count</th>\n",
       "    </tr>\n",
       "  </thead>\n",
       "  <tbody>\n",
       "    <tr>\n",
       "      <th>0</th>\n",
       "      <td>340</td>\n",
       "    </tr>\n",
       "  </tbody>\n",
       "</table>\n",
       "</div>"
      ],
      "text/plain": [
       "   count\n",
       "0    340"
      ]
     },
     "execution_count": 23,
     "metadata": {},
     "output_type": "execute_result"
    }
   ],
   "source": [
    "dist_count('publishers', 'publisher_id')"
   ]
  },
  {
   "cell_type": "code",
   "execution_count": 24,
   "id": "70fbf332-8174-4b57-8c08-a134d56ca68b",
   "metadata": {},
   "outputs": [
    {
     "data": {
      "text/html": [
       "<div>\n",
       "<style scoped>\n",
       "    .dataframe tbody tr th:only-of-type {\n",
       "        vertical-align: middle;\n",
       "    }\n",
       "\n",
       "    .dataframe tbody tr th {\n",
       "        vertical-align: top;\n",
       "    }\n",
       "\n",
       "    .dataframe thead th {\n",
       "        text-align: right;\n",
       "    }\n",
       "</style>\n",
       "<table border=\"1\" class=\"dataframe\">\n",
       "  <thead>\n",
       "    <tr style=\"text-align: right;\">\n",
       "      <th></th>\n",
       "      <th>count</th>\n",
       "    </tr>\n",
       "  </thead>\n",
       "  <tbody>\n",
       "    <tr>\n",
       "      <th>0</th>\n",
       "      <td>340</td>\n",
       "    </tr>\n",
       "  </tbody>\n",
       "</table>\n",
       "</div>"
      ],
      "text/plain": [
       "   count\n",
       "0    340"
      ]
     },
     "execution_count": 24,
     "metadata": {},
     "output_type": "execute_result"
    }
   ],
   "source": [
    "dist_count('publishers', 'publisher')"
   ]
  },
  {
   "cell_type": "markdown",
   "id": "72dd66df-4ae2-4aa0-a52d-6661e302702f",
   "metadata": {},
   "source": [
    "**Выводы по таблице `publishers`:**\n",
    "- количество строк в таблице равно 340,\n",
    "- совпадающих по названию издательств нет,\n",
    "- количество издательств совпадает с количеством издательств в таблице `books`."
   ]
  },
  {
   "cell_type": "markdown",
   "id": "e07ef0f1-9960-4a45-a76d-2687112c43a0",
   "metadata": {},
   "source": [
    "### Таблица Ratings."
   ]
  },
  {
   "cell_type": "markdown",
   "id": "2d0b3bd0-e9c3-422a-9df2-68d85d15e040",
   "metadata": {},
   "source": [
    "**Первые 5 строк таблицы.**"
   ]
  },
  {
   "cell_type": "code",
   "execution_count": 25,
   "id": "1dc732d2-9358-457c-b51f-10f5cc5f6943",
   "metadata": {},
   "outputs": [
    {
     "data": {
      "text/html": [
       "<div>\n",
       "<style scoped>\n",
       "    .dataframe tbody tr th:only-of-type {\n",
       "        vertical-align: middle;\n",
       "    }\n",
       "\n",
       "    .dataframe tbody tr th {\n",
       "        vertical-align: top;\n",
       "    }\n",
       "\n",
       "    .dataframe thead th {\n",
       "        text-align: right;\n",
       "    }\n",
       "</style>\n",
       "<table border=\"1\" class=\"dataframe\">\n",
       "  <thead>\n",
       "    <tr style=\"text-align: right;\">\n",
       "      <th></th>\n",
       "      <th>rating_id</th>\n",
       "      <th>book_id</th>\n",
       "      <th>username</th>\n",
       "      <th>rating</th>\n",
       "    </tr>\n",
       "  </thead>\n",
       "  <tbody>\n",
       "    <tr>\n",
       "      <th>0</th>\n",
       "      <td>1</td>\n",
       "      <td>1</td>\n",
       "      <td>ryanfranco</td>\n",
       "      <td>4</td>\n",
       "    </tr>\n",
       "    <tr>\n",
       "      <th>1</th>\n",
       "      <td>2</td>\n",
       "      <td>1</td>\n",
       "      <td>grantpatricia</td>\n",
       "      <td>2</td>\n",
       "    </tr>\n",
       "    <tr>\n",
       "      <th>2</th>\n",
       "      <td>3</td>\n",
       "      <td>1</td>\n",
       "      <td>brandtandrea</td>\n",
       "      <td>5</td>\n",
       "    </tr>\n",
       "    <tr>\n",
       "      <th>3</th>\n",
       "      <td>4</td>\n",
       "      <td>2</td>\n",
       "      <td>lorichen</td>\n",
       "      <td>3</td>\n",
       "    </tr>\n",
       "    <tr>\n",
       "      <th>4</th>\n",
       "      <td>5</td>\n",
       "      <td>2</td>\n",
       "      <td>mariokeller</td>\n",
       "      <td>2</td>\n",
       "    </tr>\n",
       "  </tbody>\n",
       "</table>\n",
       "</div>"
      ],
      "text/plain": [
       "   rating_id  book_id       username  rating\n",
       "0          1        1     ryanfranco       4\n",
       "1          2        1  grantpatricia       2\n",
       "2          3        1   brandtandrea       5\n",
       "3          4        2       lorichen       3\n",
       "4          5        2    mariokeller       2"
      ]
     },
     "execution_count": 25,
     "metadata": {},
     "output_type": "execute_result"
    }
   ],
   "source": [
    "summary('ratings')"
   ]
  },
  {
   "cell_type": "markdown",
   "id": "486aeced-9921-47f2-ad5f-3b229d4acae1",
   "metadata": {},
   "source": [
    "**Количество строк в таблице.**"
   ]
  },
  {
   "cell_type": "code",
   "execution_count": 26,
   "id": "839db2c0-114a-4fc0-9a4a-3f0dc482a636",
   "metadata": {},
   "outputs": [
    {
     "data": {
      "text/html": [
       "<div>\n",
       "<style scoped>\n",
       "    .dataframe tbody tr th:only-of-type {\n",
       "        vertical-align: middle;\n",
       "    }\n",
       "\n",
       "    .dataframe tbody tr th {\n",
       "        vertical-align: top;\n",
       "    }\n",
       "\n",
       "    .dataframe thead th {\n",
       "        text-align: right;\n",
       "    }\n",
       "</style>\n",
       "<table border=\"1\" class=\"dataframe\">\n",
       "  <thead>\n",
       "    <tr style=\"text-align: right;\">\n",
       "      <th></th>\n",
       "      <th>count</th>\n",
       "    </tr>\n",
       "  </thead>\n",
       "  <tbody>\n",
       "    <tr>\n",
       "      <th>0</th>\n",
       "      <td>6456</td>\n",
       "    </tr>\n",
       "  </tbody>\n",
       "</table>\n",
       "</div>"
      ],
      "text/plain": [
       "   count\n",
       "0   6456"
      ]
     },
     "execution_count": 26,
     "metadata": {},
     "output_type": "execute_result"
    }
   ],
   "source": [
    "dist_count('ratings', 'rating_id')"
   ]
  },
  {
   "cell_type": "markdown",
   "id": "936d2aba-64cf-402b-b6eb-f7b3f3a1efee",
   "metadata": {},
   "source": [
    "**Количество книг с рейтингом.**"
   ]
  },
  {
   "cell_type": "code",
   "execution_count": 27,
   "id": "d593e191-a54e-4cc8-aa9c-b563d33e1059",
   "metadata": {},
   "outputs": [
    {
     "data": {
      "text/html": [
       "<div>\n",
       "<style scoped>\n",
       "    .dataframe tbody tr th:only-of-type {\n",
       "        vertical-align: middle;\n",
       "    }\n",
       "\n",
       "    .dataframe tbody tr th {\n",
       "        vertical-align: top;\n",
       "    }\n",
       "\n",
       "    .dataframe thead th {\n",
       "        text-align: right;\n",
       "    }\n",
       "</style>\n",
       "<table border=\"1\" class=\"dataframe\">\n",
       "  <thead>\n",
       "    <tr style=\"text-align: right;\">\n",
       "      <th></th>\n",
       "      <th>count</th>\n",
       "    </tr>\n",
       "  </thead>\n",
       "  <tbody>\n",
       "    <tr>\n",
       "      <th>0</th>\n",
       "      <td>1000</td>\n",
       "    </tr>\n",
       "  </tbody>\n",
       "</table>\n",
       "</div>"
      ],
      "text/plain": [
       "   count\n",
       "0   1000"
      ]
     },
     "execution_count": 27,
     "metadata": {},
     "output_type": "execute_result"
    }
   ],
   "source": [
    "dist_count('ratings', 'book_id')"
   ]
  },
  {
   "cell_type": "markdown",
   "id": "d2f43ed4-968b-46b4-a1ad-d069178dfd10",
   "metadata": {},
   "source": [
    "**Количество уникальных пользователей, оставивших оценку.**"
   ]
  },
  {
   "cell_type": "code",
   "execution_count": 28,
   "id": "59cbaab0-073f-4490-9ab8-1b394b881d39",
   "metadata": {},
   "outputs": [
    {
     "data": {
      "text/html": [
       "<div>\n",
       "<style scoped>\n",
       "    .dataframe tbody tr th:only-of-type {\n",
       "        vertical-align: middle;\n",
       "    }\n",
       "\n",
       "    .dataframe tbody tr th {\n",
       "        vertical-align: top;\n",
       "    }\n",
       "\n",
       "    .dataframe thead th {\n",
       "        text-align: right;\n",
       "    }\n",
       "</style>\n",
       "<table border=\"1\" class=\"dataframe\">\n",
       "  <thead>\n",
       "    <tr style=\"text-align: right;\">\n",
       "      <th></th>\n",
       "      <th>count</th>\n",
       "    </tr>\n",
       "  </thead>\n",
       "  <tbody>\n",
       "    <tr>\n",
       "      <th>0</th>\n",
       "      <td>160</td>\n",
       "    </tr>\n",
       "  </tbody>\n",
       "</table>\n",
       "</div>"
      ],
      "text/plain": [
       "   count\n",
       "0    160"
      ]
     },
     "execution_count": 28,
     "metadata": {},
     "output_type": "execute_result"
    }
   ],
   "source": [
    "dist_count('ratings', 'username')"
   ]
  },
  {
   "cell_type": "markdown",
   "id": "57ca4282-58ce-4e5f-b334-d08c029e939a",
   "metadata": {},
   "source": [
    "**Максимальный, минимальный и средний рейтинг книг.**"
   ]
  },
  {
   "cell_type": "code",
   "execution_count": 29,
   "id": "0b89883a-5558-4684-a39e-f702080cc722",
   "metadata": {},
   "outputs": [
    {
     "data": {
      "text/html": [
       "<div>\n",
       "<style scoped>\n",
       "    .dataframe tbody tr th:only-of-type {\n",
       "        vertical-align: middle;\n",
       "    }\n",
       "\n",
       "    .dataframe tbody tr th {\n",
       "        vertical-align: top;\n",
       "    }\n",
       "\n",
       "    .dataframe thead th {\n",
       "        text-align: right;\n",
       "    }\n",
       "</style>\n",
       "<table border=\"1\" class=\"dataframe\">\n",
       "  <thead>\n",
       "    <tr style=\"text-align: right;\">\n",
       "      <th></th>\n",
       "      <th>min</th>\n",
       "      <th>max</th>\n",
       "    </tr>\n",
       "  </thead>\n",
       "  <tbody>\n",
       "    <tr>\n",
       "      <th>0</th>\n",
       "      <td>1</td>\n",
       "      <td>5</td>\n",
       "    </tr>\n",
       "  </tbody>\n",
       "</table>\n",
       "</div>"
      ],
      "text/plain": [
       "   min  max\n",
       "0    1    5"
      ]
     },
     "execution_count": 29,
     "metadata": {},
     "output_type": "execute_result"
    }
   ],
   "source": [
    "min_max('ratings', 'rating')"
   ]
  },
  {
   "cell_type": "code",
   "execution_count": 30,
   "id": "03754807-496a-419b-bed5-a432af7741cb",
   "metadata": {},
   "outputs": [
    {
     "data": {
      "text/html": [
       "<div>\n",
       "<style scoped>\n",
       "    .dataframe tbody tr th:only-of-type {\n",
       "        vertical-align: middle;\n",
       "    }\n",
       "\n",
       "    .dataframe tbody tr th {\n",
       "        vertical-align: top;\n",
       "    }\n",
       "\n",
       "    .dataframe thead th {\n",
       "        text-align: right;\n",
       "    }\n",
       "</style>\n",
       "<table border=\"1\" class=\"dataframe\">\n",
       "  <thead>\n",
       "    <tr style=\"text-align: right;\">\n",
       "      <th></th>\n",
       "      <th>round</th>\n",
       "    </tr>\n",
       "  </thead>\n",
       "  <tbody>\n",
       "    <tr>\n",
       "      <th>0</th>\n",
       "      <td>3.93</td>\n",
       "    </tr>\n",
       "  </tbody>\n",
       "</table>\n",
       "</div>"
      ],
      "text/plain": [
       "   round\n",
       "0   3.93"
      ]
     },
     "execution_count": 30,
     "metadata": {},
     "output_type": "execute_result"
    }
   ],
   "source": [
    "avg_func('ratings', 'rating')"
   ]
  },
  {
   "cell_type": "markdown",
   "id": "595f816d-b3bd-4bf7-a347-b83a256d050d",
   "metadata": {},
   "source": [
    "**Среднее количество оценок на пользователя.**"
   ]
  },
  {
   "cell_type": "code",
   "execution_count": 31,
   "id": "9c7e0a44-d03d-4ed5-9a75-17ace620b84d",
   "metadata": {},
   "outputs": [
    {
     "data": {
      "text/html": [
       "<div>\n",
       "<style scoped>\n",
       "    .dataframe tbody tr th:only-of-type {\n",
       "        vertical-align: middle;\n",
       "    }\n",
       "\n",
       "    .dataframe tbody tr th {\n",
       "        vertical-align: top;\n",
       "    }\n",
       "\n",
       "    .dataframe thead th {\n",
       "        text-align: right;\n",
       "    }\n",
       "</style>\n",
       "<table border=\"1\" class=\"dataframe\">\n",
       "  <thead>\n",
       "    <tr style=\"text-align: right;\">\n",
       "      <th></th>\n",
       "      <th>avg_cnt</th>\n",
       "    </tr>\n",
       "  </thead>\n",
       "  <tbody>\n",
       "    <tr>\n",
       "      <th>0</th>\n",
       "      <td>40.35</td>\n",
       "    </tr>\n",
       "  </tbody>\n",
       "</table>\n",
       "</div>"
      ],
      "text/plain": [
       "   avg_cnt\n",
       "0    40.35"
      ]
     },
     "execution_count": 31,
     "metadata": {},
     "output_type": "execute_result"
    }
   ],
   "source": [
    "avg_count('ratings', 'rating_id', 'username')"
   ]
  },
  {
   "cell_type": "markdown",
   "id": "b6ad855b-2749-410f-9920-f9d42f02f73f",
   "metadata": {},
   "source": [
    "**Выводы по таблице `Ratings.`**\n",
    "\n",
    "Таблица содержит:\n",
    "- 6456 строк,\n",
    "- 1000 книг с рейтингом(все книги имеют рейтинг),\n",
    "- 160 пользователей, оставивших оценку,\n",
    "- каждый пользователь в среднем поставил 40,35 оценок.\n",
    "\n",
    "Минимальный рейтинг - 1, максимальный - 5, средний рейтинг - 3,93"
   ]
  },
  {
   "cell_type": "markdown",
   "id": "6cbc94a5-952a-4713-8be5-6c367de2208d",
   "metadata": {},
   "source": [
    "### Таблица Reviews."
   ]
  },
  {
   "cell_type": "markdown",
   "id": "55ffa294-3387-41c6-b043-bef35af06d22",
   "metadata": {},
   "source": [
    "**Первые 5 строк таблицы.**"
   ]
  },
  {
   "cell_type": "code",
   "execution_count": 32,
   "id": "8e362478-5a4c-4cb6-9621-e8032e554ef7",
   "metadata": {},
   "outputs": [
    {
     "data": {
      "text/html": [
       "<div>\n",
       "<style scoped>\n",
       "    .dataframe tbody tr th:only-of-type {\n",
       "        vertical-align: middle;\n",
       "    }\n",
       "\n",
       "    .dataframe tbody tr th {\n",
       "        vertical-align: top;\n",
       "    }\n",
       "\n",
       "    .dataframe thead th {\n",
       "        text-align: right;\n",
       "    }\n",
       "</style>\n",
       "<table border=\"1\" class=\"dataframe\">\n",
       "  <thead>\n",
       "    <tr style=\"text-align: right;\">\n",
       "      <th></th>\n",
       "      <th>review_id</th>\n",
       "      <th>book_id</th>\n",
       "      <th>username</th>\n",
       "      <th>text</th>\n",
       "    </tr>\n",
       "  </thead>\n",
       "  <tbody>\n",
       "    <tr>\n",
       "      <th>0</th>\n",
       "      <td>1</td>\n",
       "      <td>1</td>\n",
       "      <td>brandtandrea</td>\n",
       "      <td>Mention society tell send professor analysis. ...</td>\n",
       "    </tr>\n",
       "    <tr>\n",
       "      <th>1</th>\n",
       "      <td>2</td>\n",
       "      <td>1</td>\n",
       "      <td>ryanfranco</td>\n",
       "      <td>Foot glass pretty audience hit themselves. Amo...</td>\n",
       "    </tr>\n",
       "    <tr>\n",
       "      <th>2</th>\n",
       "      <td>3</td>\n",
       "      <td>2</td>\n",
       "      <td>lorichen</td>\n",
       "      <td>Listen treat keep worry. Miss husband tax but ...</td>\n",
       "    </tr>\n",
       "    <tr>\n",
       "      <th>3</th>\n",
       "      <td>4</td>\n",
       "      <td>3</td>\n",
       "      <td>johnsonamanda</td>\n",
       "      <td>Finally month interesting blue could nature cu...</td>\n",
       "    </tr>\n",
       "    <tr>\n",
       "      <th>4</th>\n",
       "      <td>5</td>\n",
       "      <td>3</td>\n",
       "      <td>scotttamara</td>\n",
       "      <td>Nation purpose heavy give wait song will. List...</td>\n",
       "    </tr>\n",
       "  </tbody>\n",
       "</table>\n",
       "</div>"
      ],
      "text/plain": [
       "   review_id  book_id       username  \\\n",
       "0          1        1   brandtandrea   \n",
       "1          2        1     ryanfranco   \n",
       "2          3        2       lorichen   \n",
       "3          4        3  johnsonamanda   \n",
       "4          5        3    scotttamara   \n",
       "\n",
       "                                                text  \n",
       "0  Mention society tell send professor analysis. ...  \n",
       "1  Foot glass pretty audience hit themselves. Amo...  \n",
       "2  Listen treat keep worry. Miss husband tax but ...  \n",
       "3  Finally month interesting blue could nature cu...  \n",
       "4  Nation purpose heavy give wait song will. List...  "
      ]
     },
     "execution_count": 32,
     "metadata": {},
     "output_type": "execute_result"
    }
   ],
   "source": [
    "summary('reviews')"
   ]
  },
  {
   "cell_type": "markdown",
   "id": "781a4e2d-4bd8-46a4-a83a-07ace1f4d170",
   "metadata": {},
   "source": [
    "**Количество строк в таблице.**"
   ]
  },
  {
   "cell_type": "code",
   "execution_count": 33,
   "id": "c033995a-d7d4-4cb9-ade4-e901d4889773",
   "metadata": {},
   "outputs": [
    {
     "data": {
      "text/html": [
       "<div>\n",
       "<style scoped>\n",
       "    .dataframe tbody tr th:only-of-type {\n",
       "        vertical-align: middle;\n",
       "    }\n",
       "\n",
       "    .dataframe tbody tr th {\n",
       "        vertical-align: top;\n",
       "    }\n",
       "\n",
       "    .dataframe thead th {\n",
       "        text-align: right;\n",
       "    }\n",
       "</style>\n",
       "<table border=\"1\" class=\"dataframe\">\n",
       "  <thead>\n",
       "    <tr style=\"text-align: right;\">\n",
       "      <th></th>\n",
       "      <th>count</th>\n",
       "    </tr>\n",
       "  </thead>\n",
       "  <tbody>\n",
       "    <tr>\n",
       "      <th>0</th>\n",
       "      <td>2793</td>\n",
       "    </tr>\n",
       "  </tbody>\n",
       "</table>\n",
       "</div>"
      ],
      "text/plain": [
       "   count\n",
       "0   2793"
      ]
     },
     "execution_count": 33,
     "metadata": {},
     "output_type": "execute_result"
    }
   ],
   "source": [
    "dist_count('reviews', 'review_id')"
   ]
  },
  {
   "cell_type": "markdown",
   "id": "ecdca2f6-2bef-4034-88f4-0d31d09328d3",
   "metadata": {},
   "source": [
    "**Количество книг с обзорами.**"
   ]
  },
  {
   "cell_type": "code",
   "execution_count": 34,
   "id": "5c947e99-ddee-4b82-90f8-91f162773727",
   "metadata": {},
   "outputs": [
    {
     "data": {
      "text/html": [
       "<div>\n",
       "<style scoped>\n",
       "    .dataframe tbody tr th:only-of-type {\n",
       "        vertical-align: middle;\n",
       "    }\n",
       "\n",
       "    .dataframe tbody tr th {\n",
       "        vertical-align: top;\n",
       "    }\n",
       "\n",
       "    .dataframe thead th {\n",
       "        text-align: right;\n",
       "    }\n",
       "</style>\n",
       "<table border=\"1\" class=\"dataframe\">\n",
       "  <thead>\n",
       "    <tr style=\"text-align: right;\">\n",
       "      <th></th>\n",
       "      <th>count</th>\n",
       "    </tr>\n",
       "  </thead>\n",
       "  <tbody>\n",
       "    <tr>\n",
       "      <th>0</th>\n",
       "      <td>994</td>\n",
       "    </tr>\n",
       "  </tbody>\n",
       "</table>\n",
       "</div>"
      ],
      "text/plain": [
       "   count\n",
       "0    994"
      ]
     },
     "execution_count": 34,
     "metadata": {},
     "output_type": "execute_result"
    }
   ],
   "source": [
    "dist_count('reviews', 'book_id')"
   ]
  },
  {
   "cell_type": "markdown",
   "id": "c1e45bb7-bb78-417a-b994-95f099be08e2",
   "metadata": {},
   "source": [
    "**Количество уникальных пользователей, написавших обзор.**"
   ]
  },
  {
   "cell_type": "code",
   "execution_count": 35,
   "id": "396f36d3-84b6-4657-a421-5bc95ce2aa35",
   "metadata": {},
   "outputs": [
    {
     "data": {
      "text/html": [
       "<div>\n",
       "<style scoped>\n",
       "    .dataframe tbody tr th:only-of-type {\n",
       "        vertical-align: middle;\n",
       "    }\n",
       "\n",
       "    .dataframe tbody tr th {\n",
       "        vertical-align: top;\n",
       "    }\n",
       "\n",
       "    .dataframe thead th {\n",
       "        text-align: right;\n",
       "    }\n",
       "</style>\n",
       "<table border=\"1\" class=\"dataframe\">\n",
       "  <thead>\n",
       "    <tr style=\"text-align: right;\">\n",
       "      <th></th>\n",
       "      <th>count</th>\n",
       "    </tr>\n",
       "  </thead>\n",
       "  <tbody>\n",
       "    <tr>\n",
       "      <th>0</th>\n",
       "      <td>160</td>\n",
       "    </tr>\n",
       "  </tbody>\n",
       "</table>\n",
       "</div>"
      ],
      "text/plain": [
       "   count\n",
       "0    160"
      ]
     },
     "execution_count": 35,
     "metadata": {},
     "output_type": "execute_result"
    }
   ],
   "source": [
    "dist_count('reviews', 'username')"
   ]
  },
  {
   "cell_type": "code",
   "execution_count": 36,
   "id": "30532410-e5ba-45df-bdc7-8a88306e8666",
   "metadata": {},
   "outputs": [
    {
     "data": {
      "text/html": [
       "<div>\n",
       "<style scoped>\n",
       "    .dataframe tbody tr th:only-of-type {\n",
       "        vertical-align: middle;\n",
       "    }\n",
       "\n",
       "    .dataframe tbody tr th {\n",
       "        vertical-align: top;\n",
       "    }\n",
       "\n",
       "    .dataframe thead th {\n",
       "        text-align: right;\n",
       "    }\n",
       "</style>\n",
       "<table border=\"1\" class=\"dataframe\">\n",
       "  <thead>\n",
       "    <tr style=\"text-align: right;\">\n",
       "      <th></th>\n",
       "      <th>avg_cnt</th>\n",
       "    </tr>\n",
       "  </thead>\n",
       "  <tbody>\n",
       "    <tr>\n",
       "      <th>0</th>\n",
       "      <td>17.46</td>\n",
       "    </tr>\n",
       "  </tbody>\n",
       "</table>\n",
       "</div>"
      ],
      "text/plain": [
       "   avg_cnt\n",
       "0    17.46"
      ]
     },
     "execution_count": 36,
     "metadata": {},
     "output_type": "execute_result"
    }
   ],
   "source": [
    "avg_count('reviews', 'review_id', 'username')"
   ]
  },
  {
   "cell_type": "markdown",
   "id": "563f26f7-5bc0-4c0c-a904-3d8e69125259",
   "metadata": {},
   "source": [
    "**Выводы по таблице `Reviews`**\n",
    "\n",
    "Таблица содержит:\n",
    "- 2793 строки,\n",
    "- 994 книги имеют отзывы(6 книг остались без отзывов)\n",
    "- 160 пользователей,написавших отзыв\n",
    "- каждый пользователь в среднем оставил 17,46 отзывов."
   ]
  },
  {
   "cell_type": "markdown",
   "id": "9ed386c9-bc5c-4770-a51f-8f1fb062a86c",
   "metadata": {},
   "source": [
    "## Решение задач с посщью SQL-кода"
   ]
  },
  {
   "cell_type": "markdown",
   "id": "01299f9c-d337-49a7-95c8-49dc6420b2b0",
   "metadata": {},
   "source": [
    "### Количество книг, выпущенных после 1 января 2000 года"
   ]
  },
  {
   "cell_type": "code",
   "execution_count": 37,
   "id": "a9f95882-6a7a-448f-ade2-0df14e203e94",
   "metadata": {},
   "outputs": [
    {
     "data": {
      "text/html": [
       "<div>\n",
       "<style scoped>\n",
       "    .dataframe tbody tr th:only-of-type {\n",
       "        vertical-align: middle;\n",
       "    }\n",
       "\n",
       "    .dataframe tbody tr th {\n",
       "        vertical-align: top;\n",
       "    }\n",
       "\n",
       "    .dataframe thead th {\n",
       "        text-align: right;\n",
       "    }\n",
       "</style>\n",
       "<table border=\"1\" class=\"dataframe\">\n",
       "  <thead>\n",
       "    <tr style=\"text-align: right;\">\n",
       "      <th></th>\n",
       "      <th>count</th>\n",
       "    </tr>\n",
       "  </thead>\n",
       "  <tbody>\n",
       "    <tr>\n",
       "      <th>0</th>\n",
       "      <td>819</td>\n",
       "    </tr>\n",
       "  </tbody>\n",
       "</table>\n",
       "</div>"
      ],
      "text/plain": [
       "   count\n",
       "0    819"
      ]
     },
     "execution_count": 37,
     "metadata": {},
     "output_type": "execute_result"
    }
   ],
   "source": [
    "query = '''\n",
    "SELECT COUNT(book_id) \n",
    "FROM books\n",
    "WHERE publication_date > '2000-01-01'\n",
    "'''\n",
    "get_sql_data(query)"
   ]
  },
  {
   "cell_type": "markdown",
   "id": "a02dea96-af29-452e-a82c-7bf04b4b9c1e",
   "metadata": {},
   "source": [
    "**Вывод:**  после 1 января 2000 года было издано 819 книг."
   ]
  },
  {
   "cell_type": "markdown",
   "id": "2733a06c-0939-4459-bd58-0c61515cbc28",
   "metadata": {},
   "source": [
    "###  Количество обзоров и средний рейтинг каждой книги.\n",
    "\n",
    "Для решения данной задачи использованы 2 табличных выражения и последующее объединение. Поскольку не все книги имеют отзывы, образовались пустые строки, их меняем на 0 в сводной таблице."
   ]
  },
  {
   "cell_type": "code",
   "execution_count": 38,
   "id": "13cd5a6d-2c9b-4a8f-8c33-cae087ef2780",
   "metadata": {},
   "outputs": [
    {
     "data": {
      "text/html": [
       "<div>\n",
       "<style scoped>\n",
       "    .dataframe tbody tr th:only-of-type {\n",
       "        vertical-align: middle;\n",
       "    }\n",
       "\n",
       "    .dataframe tbody tr th {\n",
       "        vertical-align: top;\n",
       "    }\n",
       "\n",
       "    .dataframe thead th {\n",
       "        text-align: right;\n",
       "    }\n",
       "</style>\n",
       "<table border=\"1\" class=\"dataframe\">\n",
       "  <thead>\n",
       "    <tr style=\"text-align: right;\">\n",
       "      <th></th>\n",
       "      <th>title</th>\n",
       "      <th>reviews_count</th>\n",
       "      <th>avg_rating</th>\n",
       "    </tr>\n",
       "  </thead>\n",
       "  <tbody>\n",
       "    <tr>\n",
       "      <th>0</th>\n",
       "      <td>A Dirty Job (Grim Reaper  #1)</td>\n",
       "      <td>4</td>\n",
       "      <td>5.00</td>\n",
       "    </tr>\n",
       "    <tr>\n",
       "      <th>1</th>\n",
       "      <td>Moneyball: The Art of Winning an Unfair Game</td>\n",
       "      <td>3</td>\n",
       "      <td>5.00</td>\n",
       "    </tr>\n",
       "    <tr>\n",
       "      <th>2</th>\n",
       "      <td>School's Out—Forever (Maximum Ride  #2)</td>\n",
       "      <td>3</td>\n",
       "      <td>5.00</td>\n",
       "    </tr>\n",
       "    <tr>\n",
       "      <th>3</th>\n",
       "      <td>The Woman in Black</td>\n",
       "      <td>2</td>\n",
       "      <td>5.00</td>\n",
       "    </tr>\n",
       "    <tr>\n",
       "      <th>4</th>\n",
       "      <td>Arrows of the Queen (Heralds of Valdemar  #1)</td>\n",
       "      <td>2</td>\n",
       "      <td>5.00</td>\n",
       "    </tr>\n",
       "    <tr>\n",
       "      <th>...</th>\n",
       "      <td>...</td>\n",
       "      <td>...</td>\n",
       "      <td>...</td>\n",
       "    </tr>\n",
       "    <tr>\n",
       "      <th>995</th>\n",
       "      <td>The World Is Flat: A Brief History of the Twen...</td>\n",
       "      <td>3</td>\n",
       "      <td>2.25</td>\n",
       "    </tr>\n",
       "    <tr>\n",
       "      <th>996</th>\n",
       "      <td>Drowning Ruth</td>\n",
       "      <td>3</td>\n",
       "      <td>2.00</td>\n",
       "    </tr>\n",
       "    <tr>\n",
       "      <th>997</th>\n",
       "      <td>His Excellency: George Washington</td>\n",
       "      <td>2</td>\n",
       "      <td>2.00</td>\n",
       "    </tr>\n",
       "    <tr>\n",
       "      <th>998</th>\n",
       "      <td>Junky</td>\n",
       "      <td>2</td>\n",
       "      <td>2.00</td>\n",
       "    </tr>\n",
       "    <tr>\n",
       "      <th>999</th>\n",
       "      <td>Harvesting the Heart</td>\n",
       "      <td>2</td>\n",
       "      <td>1.50</td>\n",
       "    </tr>\n",
       "  </tbody>\n",
       "</table>\n",
       "<p>1000 rows × 3 columns</p>\n",
       "</div>"
      ],
      "text/plain": [
       "                                                 title  reviews_count  \\\n",
       "0                        A Dirty Job (Grim Reaper  #1)              4   \n",
       "1         Moneyball: The Art of Winning an Unfair Game              3   \n",
       "2              School's Out—Forever (Maximum Ride  #2)              3   \n",
       "3                                   The Woman in Black              2   \n",
       "4        Arrows of the Queen (Heralds of Valdemar  #1)              2   \n",
       "..                                                 ...            ...   \n",
       "995  The World Is Flat: A Brief History of the Twen...              3   \n",
       "996                                      Drowning Ruth              3   \n",
       "997                  His Excellency: George Washington              2   \n",
       "998                                              Junky              2   \n",
       "999                               Harvesting the Heart              2   \n",
       "\n",
       "     avg_rating  \n",
       "0          5.00  \n",
       "1          5.00  \n",
       "2          5.00  \n",
       "3          5.00  \n",
       "4          5.00  \n",
       "..          ...  \n",
       "995        2.25  \n",
       "996        2.00  \n",
       "997        2.00  \n",
       "998        2.00  \n",
       "999        1.50  \n",
       "\n",
       "[1000 rows x 3 columns]"
      ]
     },
     "execution_count": 38,
     "metadata": {},
     "output_type": "execute_result"
    }
   ],
   "source": [
    "#объединяем данные в общую таблицу\n",
    "query = '''\n",
    "WITH rate AS (\n",
    "    SELECT rat.book_id, AVG(rating) AS avg_rating\n",
    "    FROM ratings AS rat\n",
    "    GROUP BY book_id\n",
    "),\n",
    "reviews AS (\n",
    "    SELECT rev.book_id, COUNT(*) AS reviews_count\n",
    "    FROM reviews AS rev\n",
    "    GROUP BY book_id\n",
    ")\n",
    "SELECT b.title,\n",
    "       COALESCE(re.reviews_count, 0) AS reviews_count,\n",
    "       ROUND(ra.avg_rating, 2) AS avg_rating\n",
    "FROM books AS b\n",
    "LEFT JOIN reviews AS re ON re.book_id = b.book_id\n",
    "LEFT JOIN rate AS ra ON ra.book_id = b.book_id\n",
    "ORDER BY avg_rating DESC, reviews_count DESC;\n",
    "'''\n",
    "get_sql_data(query)"
   ]
  },
  {
   "cell_type": "markdown",
   "id": "9a2f0814-7603-48e5-b2a1-a1abb48d3c11",
   "metadata": {},
   "source": [
    "**Вывод:** Задача решена. В итоговой таблице 1000 строк, что соответствует количесву книг. Для каждой книги добавлено количество отзывов и средний рейтинг. Книги отсортированы по уменьшению количества отзывов и среднему рейтингу. Первую строчку в рейтинге занимает A Dirty Job (Grim Reaper #1)\t с 4 обзорами и средним рейтингом 5."
   ]
  },
  {
   "cell_type": "markdown",
   "id": "61ba5603-59d1-4142-9cec-bbec3eb7656a",
   "metadata": {},
   "source": [
    "###  Издательство, которое выпустило наибольшее число книг толще 50 страниц."
   ]
  },
  {
   "cell_type": "code",
   "execution_count": 39,
   "id": "c31a35c1-f4be-446b-8e81-460df5f6bc9f",
   "metadata": {},
   "outputs": [
    {
     "data": {
      "text/html": [
       "<div>\n",
       "<style scoped>\n",
       "    .dataframe tbody tr th:only-of-type {\n",
       "        vertical-align: middle;\n",
       "    }\n",
       "\n",
       "    .dataframe tbody tr th {\n",
       "        vertical-align: top;\n",
       "    }\n",
       "\n",
       "    .dataframe thead th {\n",
       "        text-align: right;\n",
       "    }\n",
       "</style>\n",
       "<table border=\"1\" class=\"dataframe\">\n",
       "  <thead>\n",
       "    <tr style=\"text-align: right;\">\n",
       "      <th></th>\n",
       "      <th>publisher</th>\n",
       "      <th>book_count</th>\n",
       "    </tr>\n",
       "  </thead>\n",
       "  <tbody>\n",
       "    <tr>\n",
       "      <th>0</th>\n",
       "      <td>Penguin Books</td>\n",
       "      <td>42</td>\n",
       "    </tr>\n",
       "  </tbody>\n",
       "</table>\n",
       "</div>"
      ],
      "text/plain": [
       "       publisher  book_count\n",
       "0  Penguin Books          42"
      ]
     },
     "execution_count": 39,
     "metadata": {},
     "output_type": "execute_result"
    }
   ],
   "source": [
    "query = '''\n",
    "SELECT p.publisher, COUNT(b.book_id) AS book_count\n",
    "FROM publishers AS p\n",
    "RIGHT JOIN books AS b ON b.publisher_id = p.publisher_id\n",
    "WHERE b.num_pages > 50\n",
    "GROUP BY p.publisher\n",
    "ORDER BY book_count DESC\n",
    "LIMIT 1\n",
    "'''\n",
    "get_sql_data(query)"
   ]
  },
  {
   "cell_type": "markdown",
   "id": "7c48d494-5627-41eb-a444-b9d1f74a81cc",
   "metadata": {},
   "source": [
    "**Вывод:** самое активное издательство - Penguin Books, которое выпустило 42 книги."
   ]
  },
  {
   "cell_type": "markdown",
   "id": "68700e7e-4586-4ca4-9e3f-ae3a23cf7ea7",
   "metadata": {},
   "source": [
    "### Автор с самой высокой средней оценкой книг, учитывая только книги с 50 и более оценками."
   ]
  },
  {
   "cell_type": "code",
   "execution_count": 40,
   "id": "c79ae1e8-c252-4fad-a1d6-956ed2749bd0",
   "metadata": {
    "scrolled": true
   },
   "outputs": [
    {
     "data": {
      "text/html": [
       "<div>\n",
       "<style scoped>\n",
       "    .dataframe tbody tr th:only-of-type {\n",
       "        vertical-align: middle;\n",
       "    }\n",
       "\n",
       "    .dataframe tbody tr th {\n",
       "        vertical-align: top;\n",
       "    }\n",
       "\n",
       "    .dataframe thead th {\n",
       "        text-align: right;\n",
       "    }\n",
       "</style>\n",
       "<table border=\"1\" class=\"dataframe\">\n",
       "  <thead>\n",
       "    <tr style=\"text-align: right;\">\n",
       "      <th></th>\n",
       "      <th>author</th>\n",
       "      <th>avg_rating</th>\n",
       "    </tr>\n",
       "  </thead>\n",
       "  <tbody>\n",
       "    <tr>\n",
       "      <th>0</th>\n",
       "      <td>J.K. Rowling/Mary GrandPré</td>\n",
       "      <td>4.29</td>\n",
       "    </tr>\n",
       "    <tr>\n",
       "      <th>1</th>\n",
       "      <td>Markus Zusak/Cao Xuân Việt Khương</td>\n",
       "      <td>4.26</td>\n",
       "    </tr>\n",
       "    <tr>\n",
       "      <th>2</th>\n",
       "      <td>J.R.R. Tolkien</td>\n",
       "      <td>4.25</td>\n",
       "    </tr>\n",
       "    <tr>\n",
       "      <th>3</th>\n",
       "      <td>Louisa May Alcott</td>\n",
       "      <td>4.19</td>\n",
       "    </tr>\n",
       "    <tr>\n",
       "      <th>4</th>\n",
       "      <td>Rick Riordan</td>\n",
       "      <td>4.08</td>\n",
       "    </tr>\n",
       "  </tbody>\n",
       "</table>\n",
       "</div>"
      ],
      "text/plain": [
       "                              author  avg_rating\n",
       "0         J.K. Rowling/Mary GrandPré        4.29\n",
       "1  Markus Zusak/Cao Xuân Việt Khương        4.26\n",
       "2                     J.R.R. Tolkien        4.25\n",
       "3                  Louisa May Alcott        4.19\n",
       "4                       Rick Riordan        4.08"
      ]
     },
     "execution_count": 40,
     "metadata": {},
     "output_type": "execute_result"
    }
   ],
   "source": [
    "query = '''\n",
    "SELECT a.author, ROUND(AVG(r.rating), 2) AS avg_rating\n",
    "FROM books AS b\n",
    "JOIN authors AS a ON a.author_id=b.author_id\n",
    "JOIN ratings AS r ON r.book_id=b.book_id\n",
    "WHERE b.book_id IN(SELECT book_id\n",
    "                    FROM ratings\n",
    "                    GROUP BY book_id\n",
    "                    HAVING COUNT(*) >= 50)\n",
    "GROUP BY a.author\n",
    "ORDER BY AVG(r.rating) DESC\n",
    "LIMIT 5\n",
    "'''\n",
    "get_sql_data(query)"
   ]
  },
  {
   "cell_type": "markdown",
   "id": "127eca17-ee6e-4f2a-a813-24759dcccf7b",
   "metadata": {},
   "source": [
    "**Вывод:** Лидером по средней оценке среди тех, чьи книги получили более 50 оценок является J.K. Rowling/Mary GrandPré со средним рейтингом 4,29"
   ]
  },
  {
   "cell_type": "markdown",
   "id": "f868e2b7-b5ec-4ee4-9836-55ad895c760b",
   "metadata": {},
   "source": [
    "###  Среднее количество обзоров от пользователей, которые поставили больше 48 оценок."
   ]
  },
  {
   "cell_type": "code",
   "execution_count": 41,
   "id": "a78ad0b0-60e3-4aa4-8113-a86487446930",
   "metadata": {},
   "outputs": [
    {
     "data": {
      "text/html": [
       "<div>\n",
       "<style scoped>\n",
       "    .dataframe tbody tr th:only-of-type {\n",
       "        vertical-align: middle;\n",
       "    }\n",
       "\n",
       "    .dataframe tbody tr th {\n",
       "        vertical-align: top;\n",
       "    }\n",
       "\n",
       "    .dataframe thead th {\n",
       "        text-align: right;\n",
       "    }\n",
       "</style>\n",
       "<table border=\"1\" class=\"dataframe\">\n",
       "  <thead>\n",
       "    <tr style=\"text-align: right;\">\n",
       "      <th></th>\n",
       "      <th>avg</th>\n",
       "    </tr>\n",
       "  </thead>\n",
       "  <tbody>\n",
       "    <tr>\n",
       "      <th>0</th>\n",
       "      <td>24.0</td>\n",
       "    </tr>\n",
       "  </tbody>\n",
       "</table>\n",
       "</div>"
      ],
      "text/plain": [
       "    avg\n",
       "0  24.0"
      ]
     },
     "execution_count": 41,
     "metadata": {},
     "output_type": "execute_result"
    }
   ],
   "source": [
    "query = '''\n",
    "SELECT AVG(review_count)\n",
    "FROM (SELECT COUNT(review_id) AS review_count\n",
    "        FROM reviews\n",
    "        WHERE username IN (SELECT username\n",
    "                            FROM ratings\n",
    "                            GROUP BY username\n",
    "                            HAVING COUNT(rating_id) > 48)\n",
    "    GROUP BY username) AS review_count;\n",
    "'''\n",
    "get_sql_data(query)"
   ]
  },
  {
   "cell_type": "markdown",
   "id": "e76771f7-1049-4698-8f76-acaba7a3cd42",
   "metadata": {},
   "source": [
    "## Итоговые выводы.\n",
    "\n",
    "По результатам изучения 5 имеющихся таблиц получили следующие результаты:\n",
    "- в наличии имеется 1000 книг,\n",
    "- диапазон написания книг от 1 декабря 1952до 31 марта 2020 года,\n",
    "- среднее количество страниц в книге -389,\n",
    "- эти книги написанали 636 авторов,\n",
    "- книги издавали 340 издательств,\n",
    "- книги оценивали и писали отзывы 160 читателей,\n",
    "- все книги имеют оценку,\n",
    "- на 6 книг не написан отзыв,\n",
    "- каждый читатель в среднем оставляет 40,35 оценок\n",
    "- каждый читатель в среднем пишет 17,46 отзывов\n",
    "\n",
    "Выводы по поставленным задачам:\n",
    "- После 1 января 2000 года было издано 819 книг,\n",
    "- Посчитаны общее количество обзоров и средняя оценка каждой книги. Первую строчку в рейтинге занимает A Dirty Job (Grim Reaper #1) с 4 обзорами и средним рейтингом 5,\n",
    "- Издательство, которое выпустило наибольшее число книг толще 50 страниц - Penguin Books и 42 выпущенные книги,\n",
    "- Автор с самой высокой средней оценкой книг, учитывая только книги с 50 и более оценками - J.K. Rowling/Mary GrandPré со средним рейтингом 4,29,\n",
    "- В среднем пользователи, которые поставили больше 48 оценок пишут 24 отзыва."
   ]
  }
 ],
 "metadata": {
  "ExecuteTimeLog": [
   {
    "duration": 542,
    "start_time": "2024-05-15T21:42:23.125Z"
   },
   {
    "duration": 4576,
    "start_time": "2024-05-15T21:42:23.670Z"
   },
   {
    "duration": 4,
    "start_time": "2024-05-15T21:42:28.248Z"
   },
   {
    "duration": 33,
    "start_time": "2024-05-15T21:42:28.255Z"
   },
   {
    "duration": 16,
    "start_time": "2024-05-15T21:42:28.290Z"
   },
   {
    "duration": 22,
    "start_time": "2024-05-15T21:42:28.308Z"
   },
   {
    "duration": 27,
    "start_time": "2024-05-15T21:42:28.333Z"
   },
   {
    "duration": 18,
    "start_time": "2024-05-15T21:42:28.362Z"
   },
   {
    "duration": 89,
    "start_time": "2024-05-15T21:42:28.382Z"
   },
   {
    "duration": 11,
    "start_time": "2024-05-15T21:42:28.474Z"
   },
   {
    "duration": 14,
    "start_time": "2024-05-15T21:42:28.487Z"
   },
   {
    "duration": 11,
    "start_time": "2024-05-15T21:42:28.503Z"
   },
   {
    "duration": 16,
    "start_time": "2024-05-15T21:42:28.516Z"
   },
   {
    "duration": 32,
    "start_time": "2024-05-15T21:42:28.533Z"
   },
   {
    "duration": 14,
    "start_time": "2024-05-15T21:42:28.566Z"
   },
   {
    "duration": 13,
    "start_time": "2024-05-15T21:42:28.582Z"
   },
   {
    "duration": 40,
    "start_time": "2024-05-15T21:42:28.597Z"
   },
   {
    "duration": 17,
    "start_time": "2024-05-15T21:42:28.639Z"
   },
   {
    "duration": 14,
    "start_time": "2024-05-15T21:42:28.657Z"
   },
   {
    "duration": 15,
    "start_time": "2024-05-15T21:42:28.672Z"
   },
   {
    "duration": 10,
    "start_time": "2024-05-15T21:42:28.688Z"
   },
   {
    "duration": 16,
    "start_time": "2024-05-15T21:42:28.699Z"
   },
   {
    "duration": 23,
    "start_time": "2024-05-15T21:42:28.716Z"
   },
   {
    "duration": 40,
    "start_time": "2024-05-15T21:42:28.740Z"
   },
   {
    "duration": 25,
    "start_time": "2024-05-15T21:42:28.782Z"
   },
   {
    "duration": 19,
    "start_time": "2024-05-15T21:42:28.809Z"
   },
   {
    "duration": 39,
    "start_time": "2024-05-15T21:42:28.830Z"
   },
   {
    "duration": 50,
    "start_time": "2024-05-15T21:42:28.874Z"
   },
   {
    "duration": 18,
    "start_time": "2024-05-15T21:42:28.926Z"
   },
   {
    "duration": 11,
    "start_time": "2024-05-15T21:42:28.946Z"
   },
   {
    "duration": 39,
    "start_time": "2024-05-15T21:42:28.959Z"
   },
   {
    "duration": 12,
    "start_time": "2024-05-15T21:42:28.999Z"
   },
   {
    "duration": 10,
    "start_time": "2024-05-15T21:42:29.013Z"
   },
   {
    "duration": 10,
    "start_time": "2024-05-15T21:42:29.024Z"
   },
   {
    "duration": 21,
    "start_time": "2024-05-15T21:42:29.035Z"
   },
   {
    "duration": 12,
    "start_time": "2024-05-15T21:42:29.058Z"
   },
   {
    "duration": 24,
    "start_time": "2024-05-15T21:42:29.072Z"
   },
   {
    "duration": 24,
    "start_time": "2024-05-15T21:42:29.098Z"
   },
   {
    "duration": 12,
    "start_time": "2024-05-15T21:42:29.124Z"
   },
   {
    "duration": 35,
    "start_time": "2024-05-15T21:42:29.137Z"
   },
   {
    "duration": 15,
    "start_time": "2024-05-15T21:42:29.174Z"
   }
  ],
  "kernelspec": {
   "display_name": "Python 3 (ipykernel)",
   "language": "python",
   "name": "python3"
  },
  "language_info": {
   "codemirror_mode": {
    "name": "ipython",
    "version": 3
   },
   "file_extension": ".py",
   "mimetype": "text/x-python",
   "name": "python",
   "nbconvert_exporter": "python",
   "pygments_lexer": "ipython3",
   "version": "3.9.19"
  },
  "toc": {
   "base_numbering": 1,
   "nav_menu": {},
   "number_sections": true,
   "sideBar": true,
   "skip_h1_title": true,
   "title_cell": "Table of Contents",
   "title_sidebar": "Contents",
   "toc_cell": false,
   "toc_position": {},
   "toc_section_display": true,
   "toc_window_display": false
  }
 },
 "nbformat": 4,
 "nbformat_minor": 5
}
