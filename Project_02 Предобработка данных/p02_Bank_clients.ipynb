{
 "cells": [
  {
   "cell_type": "markdown",
   "id": "386f2ae7",
   "metadata": {
    "deletable": false,
    "editable": false,
    "id": "386f2ae7"
   },
   "source": [
    "# Исследование надежности заемщиков\n"
   ]
  },
  {
   "cell_type": "markdown",
   "id": "64bf5073",
   "metadata": {},
   "source": [
    "В данном исследовании мы выявим зависмости между появленем просрочек по кредитам и:\n",
    "- наличием и количеством детей у заёмщика,\n",
    "- семейным положением заёмщика,\n",
    "- уровнем дохода заёмщика,\n",
    "- целью кредитования.\n",
    "\n",
    "**Цель:Выявить категории заёмщиков с наименьшими и наибольшими рисками несвоевременной оплаты по кредитам.**\n",
    "\n",
    "Для анализа будет использована таблица с имеющимися данными по ранее выданным кредитам.\n",
    "\n",
    "**План работы**:\n",
    "- оценить датафрейм на наличие пропусков данных,\n",
    "- по возможности заполнить пропуски средним медианным значением,\n",
    "- удалить строки с аномальными значениями,\n",
    "- удалить строки-дубликаты,\n",
    "- устранить неявные дубликаты,\n",
    "- провести анализ данных по необходимым критериям,\n",
    "- сделать выводы"
   ]
  },
  {
   "cell_type": "markdown",
   "id": "51d27ec5",
   "metadata": {},
   "source": [
    "<div class=\"alert alert-info\"> <b>Комментарий студента:</b> добавил введение </div>"
   ]
  },
  {
   "cell_type": "markdown",
   "id": "f81ccdbb",
   "metadata": {},
   "source": [
    "<div class=\"alert alert-success\">\n",
    "<h2> Комментарий ревьюера 😊 v_2 <a class=\"tocSkip\"> </h2>\n",
    "\n",
    "Отличное введение к проекту)"
   ]
  },
  {
   "cell_type": "markdown",
   "id": "ffe86f65",
   "metadata": {
    "deletable": false,
    "editable": false,
    "id": "ffe86f65"
   },
   "source": [
    "Во второй части проекта вы выполните шаги 3 и 4. Их вручную проверит ревьюер.\n",
    "Чтобы вам не пришлось писать код заново для шагов 1 и 2, мы добавили авторские решения в ячейки с кодом. \n",
    "\n"
   ]
  },
  {
   "cell_type": "markdown",
   "id": "26613308",
   "metadata": {
    "deletable": false,
    "editable": false,
    "id": "26613308"
   },
   "source": [
    "## Откройте таблицу и изучите общую информацию о данных"
   ]
  },
  {
   "cell_type": "markdown",
   "id": "3c9f838e",
   "metadata": {
    "deletable": false,
    "editable": false,
    "id": "3c9f838e"
   },
   "source": [
    "**Задание 1. Импортируйте библиотеку pandas. Считайте данные из csv-файла в датафрейм и сохраните в переменную `data`. Путь к файлу:**\n",
    "\n",
    "`/datasets/data.csv`"
   ]
  },
  {
   "cell_type": "code",
   "execution_count": 4,
   "id": "0d3c668c-39c4-431e-bfb5-ffd207c19328",
   "metadata": {},
   "outputs": [],
   "source": [
    "import pandas as pd"
   ]
  },
  {
   "cell_type": "code",
   "execution_count": 5,
   "id": "77a68a90",
   "metadata": {
    "deletable": false,
    "id": "77a68a90"
   },
   "outputs": [],
   "source": [
    "try:\n",
    "    data = pd.read_csv('/datasets/data.csv')\n",
    "except:\n",
    "    data = pd.read_csv('https://code.s3.yandex.net/datasets/data.csv')"
   ]
  },
  {
   "cell_type": "markdown",
   "id": "45365635",
   "metadata": {
    "deletable": false,
    "editable": false,
    "id": "45365635"
   },
   "source": [
    "**Задание 2. Выведите первые 20 строчек датафрейма `data` на экран.**"
   ]
  },
  {
   "cell_type": "code",
   "execution_count": 6,
   "id": "b0451a9a",
   "metadata": {
    "deletable": false,
    "id": "b0451a9a",
    "outputId": "1a8f3ef2-d323-4ec2-ddf7-89670b5944c4"
   },
   "outputs": [
    {
     "data": {
      "text/html": [
       "<div>\n",
       "<style scoped>\n",
       "    .dataframe tbody tr th:only-of-type {\n",
       "        vertical-align: middle;\n",
       "    }\n",
       "\n",
       "    .dataframe tbody tr th {\n",
       "        vertical-align: top;\n",
       "    }\n",
       "\n",
       "    .dataframe thead th {\n",
       "        text-align: right;\n",
       "    }\n",
       "</style>\n",
       "<table border=\"1\" class=\"dataframe\">\n",
       "  <thead>\n",
       "    <tr style=\"text-align: right;\">\n",
       "      <th></th>\n",
       "      <th>children</th>\n",
       "      <th>days_employed</th>\n",
       "      <th>dob_years</th>\n",
       "      <th>education</th>\n",
       "      <th>education_id</th>\n",
       "      <th>family_status</th>\n",
       "      <th>family_status_id</th>\n",
       "      <th>gender</th>\n",
       "      <th>income_type</th>\n",
       "      <th>debt</th>\n",
       "      <th>total_income</th>\n",
       "      <th>purpose</th>\n",
       "    </tr>\n",
       "  </thead>\n",
       "  <tbody>\n",
       "    <tr>\n",
       "      <th>0</th>\n",
       "      <td>1</td>\n",
       "      <td>-8437.673028</td>\n",
       "      <td>42</td>\n",
       "      <td>высшее</td>\n",
       "      <td>0</td>\n",
       "      <td>женат / замужем</td>\n",
       "      <td>0</td>\n",
       "      <td>F</td>\n",
       "      <td>сотрудник</td>\n",
       "      <td>0</td>\n",
       "      <td>253875.639453</td>\n",
       "      <td>покупка жилья</td>\n",
       "    </tr>\n",
       "    <tr>\n",
       "      <th>1</th>\n",
       "      <td>1</td>\n",
       "      <td>-4024.803754</td>\n",
       "      <td>36</td>\n",
       "      <td>среднее</td>\n",
       "      <td>1</td>\n",
       "      <td>женат / замужем</td>\n",
       "      <td>0</td>\n",
       "      <td>F</td>\n",
       "      <td>сотрудник</td>\n",
       "      <td>0</td>\n",
       "      <td>112080.014102</td>\n",
       "      <td>приобретение автомобиля</td>\n",
       "    </tr>\n",
       "    <tr>\n",
       "      <th>2</th>\n",
       "      <td>0</td>\n",
       "      <td>-5623.422610</td>\n",
       "      <td>33</td>\n",
       "      <td>Среднее</td>\n",
       "      <td>1</td>\n",
       "      <td>женат / замужем</td>\n",
       "      <td>0</td>\n",
       "      <td>M</td>\n",
       "      <td>сотрудник</td>\n",
       "      <td>0</td>\n",
       "      <td>145885.952297</td>\n",
       "      <td>покупка жилья</td>\n",
       "    </tr>\n",
       "    <tr>\n",
       "      <th>3</th>\n",
       "      <td>3</td>\n",
       "      <td>-4124.747207</td>\n",
       "      <td>32</td>\n",
       "      <td>среднее</td>\n",
       "      <td>1</td>\n",
       "      <td>женат / замужем</td>\n",
       "      <td>0</td>\n",
       "      <td>M</td>\n",
       "      <td>сотрудник</td>\n",
       "      <td>0</td>\n",
       "      <td>267628.550329</td>\n",
       "      <td>дополнительное образование</td>\n",
       "    </tr>\n",
       "    <tr>\n",
       "      <th>4</th>\n",
       "      <td>0</td>\n",
       "      <td>340266.072047</td>\n",
       "      <td>53</td>\n",
       "      <td>среднее</td>\n",
       "      <td>1</td>\n",
       "      <td>гражданский брак</td>\n",
       "      <td>1</td>\n",
       "      <td>F</td>\n",
       "      <td>пенсионер</td>\n",
       "      <td>0</td>\n",
       "      <td>158616.077870</td>\n",
       "      <td>сыграть свадьбу</td>\n",
       "    </tr>\n",
       "    <tr>\n",
       "      <th>5</th>\n",
       "      <td>0</td>\n",
       "      <td>-926.185831</td>\n",
       "      <td>27</td>\n",
       "      <td>высшее</td>\n",
       "      <td>0</td>\n",
       "      <td>гражданский брак</td>\n",
       "      <td>1</td>\n",
       "      <td>M</td>\n",
       "      <td>компаньон</td>\n",
       "      <td>0</td>\n",
       "      <td>255763.565419</td>\n",
       "      <td>покупка жилья</td>\n",
       "    </tr>\n",
       "    <tr>\n",
       "      <th>6</th>\n",
       "      <td>0</td>\n",
       "      <td>-2879.202052</td>\n",
       "      <td>43</td>\n",
       "      <td>высшее</td>\n",
       "      <td>0</td>\n",
       "      <td>женат / замужем</td>\n",
       "      <td>0</td>\n",
       "      <td>F</td>\n",
       "      <td>компаньон</td>\n",
       "      <td>0</td>\n",
       "      <td>240525.971920</td>\n",
       "      <td>операции с жильем</td>\n",
       "    </tr>\n",
       "    <tr>\n",
       "      <th>7</th>\n",
       "      <td>0</td>\n",
       "      <td>-152.779569</td>\n",
       "      <td>50</td>\n",
       "      <td>СРЕДНЕЕ</td>\n",
       "      <td>1</td>\n",
       "      <td>женат / замужем</td>\n",
       "      <td>0</td>\n",
       "      <td>M</td>\n",
       "      <td>сотрудник</td>\n",
       "      <td>0</td>\n",
       "      <td>135823.934197</td>\n",
       "      <td>образование</td>\n",
       "    </tr>\n",
       "    <tr>\n",
       "      <th>8</th>\n",
       "      <td>2</td>\n",
       "      <td>-6929.865299</td>\n",
       "      <td>35</td>\n",
       "      <td>ВЫСШЕЕ</td>\n",
       "      <td>0</td>\n",
       "      <td>гражданский брак</td>\n",
       "      <td>1</td>\n",
       "      <td>F</td>\n",
       "      <td>сотрудник</td>\n",
       "      <td>0</td>\n",
       "      <td>95856.832424</td>\n",
       "      <td>на проведение свадьбы</td>\n",
       "    </tr>\n",
       "    <tr>\n",
       "      <th>9</th>\n",
       "      <td>0</td>\n",
       "      <td>-2188.756445</td>\n",
       "      <td>41</td>\n",
       "      <td>среднее</td>\n",
       "      <td>1</td>\n",
       "      <td>женат / замужем</td>\n",
       "      <td>0</td>\n",
       "      <td>M</td>\n",
       "      <td>сотрудник</td>\n",
       "      <td>0</td>\n",
       "      <td>144425.938277</td>\n",
       "      <td>покупка жилья для семьи</td>\n",
       "    </tr>\n",
       "    <tr>\n",
       "      <th>10</th>\n",
       "      <td>2</td>\n",
       "      <td>-4171.483647</td>\n",
       "      <td>36</td>\n",
       "      <td>высшее</td>\n",
       "      <td>0</td>\n",
       "      <td>женат / замужем</td>\n",
       "      <td>0</td>\n",
       "      <td>M</td>\n",
       "      <td>компаньон</td>\n",
       "      <td>0</td>\n",
       "      <td>113943.491460</td>\n",
       "      <td>покупка недвижимости</td>\n",
       "    </tr>\n",
       "    <tr>\n",
       "      <th>11</th>\n",
       "      <td>0</td>\n",
       "      <td>-792.701887</td>\n",
       "      <td>40</td>\n",
       "      <td>среднее</td>\n",
       "      <td>1</td>\n",
       "      <td>женат / замужем</td>\n",
       "      <td>0</td>\n",
       "      <td>F</td>\n",
       "      <td>сотрудник</td>\n",
       "      <td>0</td>\n",
       "      <td>77069.234271</td>\n",
       "      <td>покупка коммерческой недвижимости</td>\n",
       "    </tr>\n",
       "    <tr>\n",
       "      <th>12</th>\n",
       "      <td>0</td>\n",
       "      <td>NaN</td>\n",
       "      <td>65</td>\n",
       "      <td>среднее</td>\n",
       "      <td>1</td>\n",
       "      <td>гражданский брак</td>\n",
       "      <td>1</td>\n",
       "      <td>M</td>\n",
       "      <td>пенсионер</td>\n",
       "      <td>0</td>\n",
       "      <td>NaN</td>\n",
       "      <td>сыграть свадьбу</td>\n",
       "    </tr>\n",
       "    <tr>\n",
       "      <th>13</th>\n",
       "      <td>0</td>\n",
       "      <td>-1846.641941</td>\n",
       "      <td>54</td>\n",
       "      <td>неоконченное высшее</td>\n",
       "      <td>2</td>\n",
       "      <td>женат / замужем</td>\n",
       "      <td>0</td>\n",
       "      <td>F</td>\n",
       "      <td>сотрудник</td>\n",
       "      <td>0</td>\n",
       "      <td>130458.228857</td>\n",
       "      <td>приобретение автомобиля</td>\n",
       "    </tr>\n",
       "    <tr>\n",
       "      <th>14</th>\n",
       "      <td>0</td>\n",
       "      <td>-1844.956182</td>\n",
       "      <td>56</td>\n",
       "      <td>высшее</td>\n",
       "      <td>0</td>\n",
       "      <td>гражданский брак</td>\n",
       "      <td>1</td>\n",
       "      <td>F</td>\n",
       "      <td>компаньон</td>\n",
       "      <td>1</td>\n",
       "      <td>165127.911772</td>\n",
       "      <td>покупка жилой недвижимости</td>\n",
       "    </tr>\n",
       "    <tr>\n",
       "      <th>15</th>\n",
       "      <td>1</td>\n",
       "      <td>-972.364419</td>\n",
       "      <td>26</td>\n",
       "      <td>среднее</td>\n",
       "      <td>1</td>\n",
       "      <td>женат / замужем</td>\n",
       "      <td>0</td>\n",
       "      <td>F</td>\n",
       "      <td>сотрудник</td>\n",
       "      <td>0</td>\n",
       "      <td>116820.904450</td>\n",
       "      <td>строительство собственной недвижимости</td>\n",
       "    </tr>\n",
       "    <tr>\n",
       "      <th>16</th>\n",
       "      <td>0</td>\n",
       "      <td>-1719.934226</td>\n",
       "      <td>35</td>\n",
       "      <td>среднее</td>\n",
       "      <td>1</td>\n",
       "      <td>женат / замужем</td>\n",
       "      <td>0</td>\n",
       "      <td>F</td>\n",
       "      <td>сотрудник</td>\n",
       "      <td>0</td>\n",
       "      <td>289202.704229</td>\n",
       "      <td>недвижимость</td>\n",
       "    </tr>\n",
       "    <tr>\n",
       "      <th>17</th>\n",
       "      <td>0</td>\n",
       "      <td>-2369.999720</td>\n",
       "      <td>33</td>\n",
       "      <td>высшее</td>\n",
       "      <td>0</td>\n",
       "      <td>гражданский брак</td>\n",
       "      <td>1</td>\n",
       "      <td>M</td>\n",
       "      <td>сотрудник</td>\n",
       "      <td>0</td>\n",
       "      <td>90410.586745</td>\n",
       "      <td>строительство недвижимости</td>\n",
       "    </tr>\n",
       "    <tr>\n",
       "      <th>18</th>\n",
       "      <td>0</td>\n",
       "      <td>400281.136913</td>\n",
       "      <td>53</td>\n",
       "      <td>среднее</td>\n",
       "      <td>1</td>\n",
       "      <td>вдовец / вдова</td>\n",
       "      <td>2</td>\n",
       "      <td>F</td>\n",
       "      <td>пенсионер</td>\n",
       "      <td>0</td>\n",
       "      <td>56823.777243</td>\n",
       "      <td>на покупку подержанного автомобиля</td>\n",
       "    </tr>\n",
       "    <tr>\n",
       "      <th>19</th>\n",
       "      <td>0</td>\n",
       "      <td>-10038.818549</td>\n",
       "      <td>48</td>\n",
       "      <td>СРЕДНЕЕ</td>\n",
       "      <td>1</td>\n",
       "      <td>в разводе</td>\n",
       "      <td>3</td>\n",
       "      <td>F</td>\n",
       "      <td>сотрудник</td>\n",
       "      <td>0</td>\n",
       "      <td>242831.107982</td>\n",
       "      <td>на покупку своего автомобиля</td>\n",
       "    </tr>\n",
       "  </tbody>\n",
       "</table>\n",
       "</div>"
      ],
      "text/plain": [
       "    children  days_employed  dob_years            education  education_id  \\\n",
       "0          1   -8437.673028         42               высшее             0   \n",
       "1          1   -4024.803754         36              среднее             1   \n",
       "2          0   -5623.422610         33              Среднее             1   \n",
       "3          3   -4124.747207         32              среднее             1   \n",
       "4          0  340266.072047         53              среднее             1   \n",
       "5          0    -926.185831         27               высшее             0   \n",
       "6          0   -2879.202052         43               высшее             0   \n",
       "7          0    -152.779569         50              СРЕДНЕЕ             1   \n",
       "8          2   -6929.865299         35               ВЫСШЕЕ             0   \n",
       "9          0   -2188.756445         41              среднее             1   \n",
       "10         2   -4171.483647         36               высшее             0   \n",
       "11         0    -792.701887         40              среднее             1   \n",
       "12         0            NaN         65              среднее             1   \n",
       "13         0   -1846.641941         54  неоконченное высшее             2   \n",
       "14         0   -1844.956182         56               высшее             0   \n",
       "15         1    -972.364419         26              среднее             1   \n",
       "16         0   -1719.934226         35              среднее             1   \n",
       "17         0   -2369.999720         33               высшее             0   \n",
       "18         0  400281.136913         53              среднее             1   \n",
       "19         0  -10038.818549         48              СРЕДНЕЕ             1   \n",
       "\n",
       "       family_status  family_status_id gender income_type  debt  \\\n",
       "0    женат / замужем                 0      F   сотрудник     0   \n",
       "1    женат / замужем                 0      F   сотрудник     0   \n",
       "2    женат / замужем                 0      M   сотрудник     0   \n",
       "3    женат / замужем                 0      M   сотрудник     0   \n",
       "4   гражданский брак                 1      F   пенсионер     0   \n",
       "5   гражданский брак                 1      M   компаньон     0   \n",
       "6    женат / замужем                 0      F   компаньон     0   \n",
       "7    женат / замужем                 0      M   сотрудник     0   \n",
       "8   гражданский брак                 1      F   сотрудник     0   \n",
       "9    женат / замужем                 0      M   сотрудник     0   \n",
       "10   женат / замужем                 0      M   компаньон     0   \n",
       "11   женат / замужем                 0      F   сотрудник     0   \n",
       "12  гражданский брак                 1      M   пенсионер     0   \n",
       "13   женат / замужем                 0      F   сотрудник     0   \n",
       "14  гражданский брак                 1      F   компаньон     1   \n",
       "15   женат / замужем                 0      F   сотрудник     0   \n",
       "16   женат / замужем                 0      F   сотрудник     0   \n",
       "17  гражданский брак                 1      M   сотрудник     0   \n",
       "18    вдовец / вдова                 2      F   пенсионер     0   \n",
       "19         в разводе                 3      F   сотрудник     0   \n",
       "\n",
       "     total_income                                 purpose  \n",
       "0   253875.639453                           покупка жилья  \n",
       "1   112080.014102                 приобретение автомобиля  \n",
       "2   145885.952297                           покупка жилья  \n",
       "3   267628.550329              дополнительное образование  \n",
       "4   158616.077870                         сыграть свадьбу  \n",
       "5   255763.565419                           покупка жилья  \n",
       "6   240525.971920                       операции с жильем  \n",
       "7   135823.934197                             образование  \n",
       "8    95856.832424                   на проведение свадьбы  \n",
       "9   144425.938277                 покупка жилья для семьи  \n",
       "10  113943.491460                    покупка недвижимости  \n",
       "11   77069.234271       покупка коммерческой недвижимости  \n",
       "12            NaN                         сыграть свадьбу  \n",
       "13  130458.228857                 приобретение автомобиля  \n",
       "14  165127.911772              покупка жилой недвижимости  \n",
       "15  116820.904450  строительство собственной недвижимости  \n",
       "16  289202.704229                            недвижимость  \n",
       "17   90410.586745              строительство недвижимости  \n",
       "18   56823.777243      на покупку подержанного автомобиля  \n",
       "19  242831.107982            на покупку своего автомобиля  "
      ]
     },
     "execution_count": 6,
     "metadata": {},
     "output_type": "execute_result"
    }
   ],
   "source": [
    "data.head(20)"
   ]
  },
  {
   "cell_type": "markdown",
   "id": "0ed8f27f",
   "metadata": {
    "deletable": false,
    "editable": false,
    "id": "0ed8f27f"
   },
   "source": [
    "**Задание 3. Выведите основную информацию о датафрейме с помощью метода `info()`.**"
   ]
  },
  {
   "cell_type": "code",
   "execution_count": 7,
   "id": "ab3f863b",
   "metadata": {
    "deletable": false,
    "id": "ab3f863b",
    "outputId": "15376089-8dad-46c9-b520-c05248d43158"
   },
   "outputs": [
    {
     "name": "stdout",
     "output_type": "stream",
     "text": [
      "<class 'pandas.core.frame.DataFrame'>\n",
      "RangeIndex: 21525 entries, 0 to 21524\n",
      "Data columns (total 12 columns):\n",
      " #   Column            Non-Null Count  Dtype  \n",
      "---  ------            --------------  -----  \n",
      " 0   children          21525 non-null  int64  \n",
      " 1   days_employed     19351 non-null  float64\n",
      " 2   dob_years         21525 non-null  int64  \n",
      " 3   education         21525 non-null  object \n",
      " 4   education_id      21525 non-null  int64  \n",
      " 5   family_status     21525 non-null  object \n",
      " 6   family_status_id  21525 non-null  int64  \n",
      " 7   gender            21525 non-null  object \n",
      " 8   income_type       21525 non-null  object \n",
      " 9   debt              21525 non-null  int64  \n",
      " 10  total_income      19351 non-null  float64\n",
      " 11  purpose           21525 non-null  object \n",
      "dtypes: float64(2), int64(5), object(5)\n",
      "memory usage: 2.0+ MB\n"
     ]
    }
   ],
   "source": [
    "data.info()"
   ]
  },
  {
   "cell_type": "markdown",
   "id": "60e3e22d",
   "metadata": {
    "deletable": false,
    "editable": false,
    "id": "60e3e22d"
   },
   "source": [
    "## Предобработка данных"
   ]
  },
  {
   "cell_type": "markdown",
   "id": "03dc170c",
   "metadata": {
    "deletable": false,
    "editable": false,
    "id": "03dc170c"
   },
   "source": [
    "### Удаление пропусков"
   ]
  },
  {
   "cell_type": "markdown",
   "id": "a4f54eef",
   "metadata": {
    "deletable": false,
    "editable": false,
    "id": "a4f54eef"
   },
   "source": [
    "**Задание 4. Выведите количество пропущенных значений для каждого столбца. Используйте комбинацию двух методов.**"
   ]
  },
  {
   "cell_type": "code",
   "execution_count": 8,
   "id": "2dc372b2",
   "metadata": {
    "deletable": false,
    "id": "2dc372b2",
    "outputId": "81f4d817-781c-465c-ed15-91ce4446810d"
   },
   "outputs": [
    {
     "data": {
      "text/plain": [
       "children               0\n",
       "days_employed       2174\n",
       "dob_years              0\n",
       "education              0\n",
       "education_id           0\n",
       "family_status          0\n",
       "family_status_id       0\n",
       "gender                 0\n",
       "income_type            0\n",
       "debt                   0\n",
       "total_income        2174\n",
       "purpose                0\n",
       "dtype: int64"
      ]
     },
     "execution_count": 8,
     "metadata": {},
     "output_type": "execute_result"
    }
   ],
   "source": [
    "data.isna().sum()"
   ]
  },
  {
   "cell_type": "markdown",
   "id": "14f011b1",
   "metadata": {
    "deletable": false,
    "editable": false,
    "id": "14f011b1"
   },
   "source": [
    "**Задание 5. В двух столбцах есть пропущенные значения. Один из них — `days_employed`. Пропуски в этом столбце вы обработаете на следующем этапе. Другой столбец с пропущенными значениями — `total_income` — хранит данные о доходах. На сумму дохода сильнее всего влияет тип занятости, поэтому заполнить пропуски в этом столбце нужно медианным значением по каждому типу из столбца `income_type`. Например, у человека с типом занятости `сотрудник` пропуск в столбце `total_income` должен быть заполнен медианным доходом среди всех записей с тем же типом.**"
   ]
  },
  {
   "cell_type": "code",
   "execution_count": 9,
   "id": "bdabfb6e",
   "metadata": {
    "deletable": false,
    "id": "bdabfb6e"
   },
   "outputs": [],
   "source": [
    "for t in data['income_type'].unique():\n",
    "    data.loc[(data['income_type'] == t) & (data['total_income'].isna()), 'total_income'] = \\\n",
    "    data.loc[(data['income_type'] == t), 'total_income'].median()"
   ]
  },
  {
   "cell_type": "markdown",
   "id": "5be34059",
   "metadata": {
    "deletable": false,
    "editable": false,
    "id": "5be34059"
   },
   "source": [
    "### Обработка аномальных значений"
   ]
  },
  {
   "cell_type": "markdown",
   "id": "a87606cb",
   "metadata": {
    "deletable": false,
    "editable": false,
    "id": "a87606cb"
   },
   "source": [
    "**Задание 6. В данных могут встречаться артефакты (аномалии) — значения, которые не отражают действительность и появились по какой-то ошибке. таким артефактом будет отрицательное количество дней трудового стажа в столбце `days_employed`. Для реальных данных это нормально. Обработайте значения в этом столбце: замените все отрицательные значения положительными с помощью метода `abs()`.**"
   ]
  },
  {
   "cell_type": "code",
   "execution_count": 10,
   "id": "020c46cc",
   "metadata": {
    "deletable": false,
    "id": "020c46cc"
   },
   "outputs": [],
   "source": [
    "data['days_employed'] = data['days_employed'].abs()"
   ]
  },
  {
   "cell_type": "markdown",
   "id": "45538a3a",
   "metadata": {
    "deletable": false,
    "editable": false,
    "id": "45538a3a"
   },
   "source": [
    "**Задание 7. Для каждого типа занятости выведите медианное значение трудового стажа `days_employed` в днях.**"
   ]
  },
  {
   "cell_type": "code",
   "execution_count": 11,
   "id": "cd3e6328",
   "metadata": {
    "deletable": false,
    "id": "cd3e6328",
    "outputId": "801ef80e-522b-4668-f34e-565af7432bcf"
   },
   "outputs": [
    {
     "data": {
      "text/plain": [
       "income_type\n",
       "безработный        366413.652744\n",
       "в декрете            3296.759962\n",
       "госслужащий          2689.368353\n",
       "компаньон            1547.382223\n",
       "пенсионер          365213.306266\n",
       "предприниматель       520.848083\n",
       "сотрудник            1574.202821\n",
       "студент               578.751554\n",
       "Name: days_employed, dtype: float64"
      ]
     },
     "execution_count": 11,
     "metadata": {},
     "output_type": "execute_result"
    }
   ],
   "source": [
    "data.groupby('income_type')['days_employed'].agg('median')"
   ]
  },
  {
   "cell_type": "markdown",
   "id": "90c5f058",
   "metadata": {
    "deletable": false,
    "editable": false,
    "id": "90c5f058"
   },
   "source": [
    "У двух типов (безработные и пенсионеры) получатся аномально большие значения. Исправить такие значения сложно, поэтому оставьте их как есть."
   ]
  },
  {
   "cell_type": "markdown",
   "id": "9652e50d",
   "metadata": {
    "deletable": false,
    "editable": false,
    "id": "9652e50d"
   },
   "source": [
    "**Задание 8. Выведите перечень уникальных значений столбца `children`.**"
   ]
  },
  {
   "cell_type": "code",
   "execution_count": 12,
   "id": "dbb37b8e",
   "metadata": {
    "deletable": false,
    "id": "dbb37b8e",
    "outputId": "6975b15c-7f95-4697-d16d-a0c79b657b03"
   },
   "outputs": [
    {
     "data": {
      "text/plain": [
       "array([ 1,  0,  3,  2, -1,  4, 20,  5], dtype=int64)"
      ]
     },
     "execution_count": 12,
     "metadata": {},
     "output_type": "execute_result"
    }
   ],
   "source": [
    "data['children'].unique()"
   ]
  },
  {
   "cell_type": "markdown",
   "id": "2b8b0715",
   "metadata": {
    "deletable": false,
    "editable": false,
    "id": "2b8b0715"
   },
   "source": [
    "**Задание 9. В столбце `children` есть два аномальных значения. Удалите строки, в которых встречаются такие аномальные значения из датафрейма `data`.**"
   ]
  },
  {
   "cell_type": "code",
   "execution_count": 13,
   "id": "20009df8",
   "metadata": {
    "deletable": false,
    "id": "20009df8"
   },
   "outputs": [],
   "source": [
    "data = data[(data['children'] != -1) & (data['children'] != 20)]"
   ]
  },
  {
   "cell_type": "markdown",
   "id": "8c6ac9f1",
   "metadata": {
    "deletable": false,
    "editable": false,
    "id": "8c6ac9f1"
   },
   "source": [
    "**Задание 10. Ещё раз выведите перечень уникальных значений столбца `children`, чтобы убедиться, что артефакты удалены.**"
   ]
  },
  {
   "cell_type": "code",
   "execution_count": 14,
   "id": "07337b81",
   "metadata": {
    "deletable": false,
    "id": "07337b81",
    "outputId": "b2097101-d49d-44d9-901b-32a65c9463d1"
   },
   "outputs": [
    {
     "data": {
      "text/plain": [
       "array([1, 0, 3, 2, 4, 5], dtype=int64)"
      ]
     },
     "execution_count": 14,
     "metadata": {},
     "output_type": "execute_result"
    }
   ],
   "source": [
    "data['children'].unique()"
   ]
  },
  {
   "cell_type": "markdown",
   "id": "ee3f52d4",
   "metadata": {
    "deletable": false,
    "editable": false,
    "id": "ee3f52d4"
   },
   "source": [
    "### Удаление пропусков (продолжение)"
   ]
  },
  {
   "cell_type": "markdown",
   "id": "a700b0e4",
   "metadata": {
    "deletable": false,
    "editable": false,
    "id": "a700b0e4"
   },
   "source": [
    "**Задание 11. Заполните пропуски в столбце `days_employed` медианными значениями по каждого типа занятости `income_type`.**"
   ]
  },
  {
   "cell_type": "code",
   "execution_count": 15,
   "id": "61946b83",
   "metadata": {
    "deletable": false,
    "id": "61946b83"
   },
   "outputs": [],
   "source": [
    "for t in data['income_type'].unique():\n",
    "    data.loc[(data['income_type'] == t) & (data['days_employed'].isna()), 'days_employed'] = \\\n",
    "    data.loc[(data['income_type'] == t), 'days_employed'].median()"
   ]
  },
  {
   "cell_type": "markdown",
   "id": "550dcd9b",
   "metadata": {
    "deletable": false,
    "editable": false,
    "id": "550dcd9b"
   },
   "source": [
    "**Задание 12. Убедитесь, что все пропуски заполнены. Проверьте себя и ещё раз выведите количество пропущенных значений для каждого столбца с помощью двух методов.**"
   ]
  },
  {
   "cell_type": "code",
   "execution_count": 16,
   "id": "937c7014",
   "metadata": {
    "deletable": false,
    "id": "937c7014",
    "outputId": "8da1e4e1-358e-4e87-98c9-f261bce0a7b2"
   },
   "outputs": [
    {
     "data": {
      "text/plain": [
       "children            0\n",
       "days_employed       0\n",
       "dob_years           0\n",
       "education           0\n",
       "education_id        0\n",
       "family_status       0\n",
       "family_status_id    0\n",
       "gender              0\n",
       "income_type         0\n",
       "debt                0\n",
       "total_income        0\n",
       "purpose             0\n",
       "dtype: int64"
      ]
     },
     "execution_count": 16,
     "metadata": {},
     "output_type": "execute_result"
    }
   ],
   "source": [
    "data.isna().sum()"
   ]
  },
  {
   "cell_type": "markdown",
   "id": "d522e295",
   "metadata": {
    "deletable": false,
    "editable": false,
    "id": "d522e295"
   },
   "source": [
    "### Изменение типов данных"
   ]
  },
  {
   "cell_type": "markdown",
   "id": "c229c581",
   "metadata": {
    "deletable": false,
    "editable": false,
    "id": "c229c581"
   },
   "source": [
    "**Задание 13. Замените вещественный тип данных в столбце `total_income` на целочисленный с помощью метода `astype()`.**"
   ]
  },
  {
   "cell_type": "code",
   "execution_count": 17,
   "id": "31036462",
   "metadata": {
    "deletable": false,
    "id": "31036462"
   },
   "outputs": [],
   "source": [
    "data['total_income'] = data['total_income'].astype(int)"
   ]
  },
  {
   "cell_type": "markdown",
   "id": "b8e3d1d9",
   "metadata": {
    "deletable": false,
    "editable": false,
    "id": "b8e3d1d9"
   },
   "source": [
    "### Обработка дубликатов"
   ]
  },
  {
   "cell_type": "markdown",
   "id": "9be53c49",
   "metadata": {
    "deletable": false,
    "editable": false,
    "id": "9be53c49"
   },
   "source": [
    "**Задание 14. Обработайте неявные дубликаты в столбце `education`. В этом столбце есть одни и те же значения, но записанные по-разному: с использованием заглавных и строчных букв. Приведите их к нижнему регистру.**"
   ]
  },
  {
   "cell_type": "code",
   "execution_count": 18,
   "id": "d89e73e1",
   "metadata": {
    "deletable": false,
    "id": "d89e73e1"
   },
   "outputs": [],
   "source": [
    "data['education'] = data['education'].str.lower()"
   ]
  },
  {
   "cell_type": "markdown",
   "id": "01d4500e",
   "metadata": {
    "deletable": false,
    "editable": false,
    "id": "01d4500e"
   },
   "source": [
    "**Задание 15. Выведите на экран количество строк-дубликатов в данных. Если такие строки присутствуют, удалите их.**"
   ]
  },
  {
   "cell_type": "code",
   "execution_count": 19,
   "id": "e10efb23",
   "metadata": {
    "deletable": false,
    "id": "e10efb23",
    "outputId": "9684deba-1934-42d1-99e1-cda61740f822"
   },
   "outputs": [
    {
     "data": {
      "text/plain": [
       "71"
      ]
     },
     "execution_count": 19,
     "metadata": {},
     "output_type": "execute_result"
    }
   ],
   "source": [
    "data.duplicated().sum()"
   ]
  },
  {
   "cell_type": "code",
   "execution_count": 20,
   "id": "df853f20",
   "metadata": {
    "deletable": false,
    "id": "df853f20"
   },
   "outputs": [],
   "source": [
    "data = data.drop_duplicates()"
   ]
  },
  {
   "cell_type": "markdown",
   "id": "627be38f",
   "metadata": {
    "deletable": false,
    "editable": false,
    "id": "627be38f"
   },
   "source": [
    "### Категоризация данных"
   ]
  },
  {
   "cell_type": "markdown",
   "id": "4684c3e0",
   "metadata": {
    "deletable": false,
    "editable": false,
    "id": "4684c3e0"
   },
   "source": [
    "**Задание 16. На основании диапазонов, указанных ниже, создайте в датафрейме `data` столбец `total_income_category` с категориями:**\n",
    "\n",
    "- 0–30000 — `'E'`;\n",
    "- 30001–50000 — `'D'`;\n",
    "- 50001–200000 — `'C'`;\n",
    "- 200001–1000000 — `'B'`;\n",
    "- 1000001 и выше — `'A'`.\n",
    "\n",
    "\n",
    "**Например, кредитополучателю с доходом 25000 нужно назначить категорию `'E'`, а клиенту, получающему 235000, — `'B'`. Используйте собственную функцию с именем `categorize_income()` и метод `apply()`.**"
   ]
  },
  {
   "cell_type": "code",
   "execution_count": 21,
   "id": "78965238",
   "metadata": {
    "deletable": false,
    "id": "78965238"
   },
   "outputs": [],
   "source": [
    "def categorize_income(income):\n",
    "    try:\n",
    "        if 0 <= income <= 30000:\n",
    "            return 'E'\n",
    "        elif 30001 <= income <= 50000:\n",
    "            return 'D'\n",
    "        elif 50001 <= income <= 200000:\n",
    "            return 'C'\n",
    "        elif 200001 <= income <= 1000000:\n",
    "            return 'B'\n",
    "        elif income >= 1000001:\n",
    "            return 'A'\n",
    "    except:\n",
    "        pass"
   ]
  },
  {
   "cell_type": "code",
   "execution_count": 22,
   "id": "0980ada1",
   "metadata": {
    "deletable": false,
    "id": "0980ada1"
   },
   "outputs": [],
   "source": [
    "data['total_income_category'] = data['total_income'].apply(categorize_income)"
   ]
  },
  {
   "cell_type": "markdown",
   "id": "9917bba0",
   "metadata": {
    "deletable": false,
    "editable": false,
    "id": "9917bba0"
   },
   "source": [
    "**Задание 17. Выведите на экран перечень уникальных целей взятия кредита из столбца `purpose`.**"
   ]
  },
  {
   "cell_type": "code",
   "execution_count": 23,
   "id": "ee07b65e",
   "metadata": {
    "deletable": false,
    "id": "ee07b65e",
    "outputId": "673c12d9-7d7e-4ae0-9812-c622c89dd244"
   },
   "outputs": [
    {
     "data": {
      "text/plain": [
       "array(['покупка жилья', 'приобретение автомобиля',\n",
       "       'дополнительное образование', 'сыграть свадьбу',\n",
       "       'операции с жильем', 'образование', 'на проведение свадьбы',\n",
       "       'покупка жилья для семьи', 'покупка недвижимости',\n",
       "       'покупка коммерческой недвижимости', 'покупка жилой недвижимости',\n",
       "       'строительство собственной недвижимости', 'недвижимость',\n",
       "       'строительство недвижимости', 'на покупку подержанного автомобиля',\n",
       "       'на покупку своего автомобиля',\n",
       "       'операции с коммерческой недвижимостью',\n",
       "       'строительство жилой недвижимости', 'жилье',\n",
       "       'операции со своей недвижимостью', 'автомобили',\n",
       "       'заняться образованием', 'сделка с подержанным автомобилем',\n",
       "       'получение образования', 'автомобиль', 'свадьба',\n",
       "       'получение дополнительного образования', 'покупка своего жилья',\n",
       "       'операции с недвижимостью', 'получение высшего образования',\n",
       "       'свой автомобиль', 'сделка с автомобилем',\n",
       "       'профильное образование', 'высшее образование',\n",
       "       'покупка жилья для сдачи', 'на покупку автомобиля', 'ремонт жилью',\n",
       "       'заняться высшим образованием'], dtype=object)"
      ]
     },
     "execution_count": 23,
     "metadata": {},
     "output_type": "execute_result"
    }
   ],
   "source": [
    "data['purpose'].unique()"
   ]
  },
  {
   "cell_type": "markdown",
   "id": "52b79d56",
   "metadata": {
    "deletable": false,
    "editable": false,
    "id": "52b79d56"
   },
   "source": [
    "**Задание 18. Создайте функцию, которая на основании данных из столбца `purpose` сформирует новый столбец `purpose_category`, в который войдут следующие категории:**\n",
    "\n",
    "- `'операции с автомобилем'`,\n",
    "- `'операции с недвижимостью'`,\n",
    "- `'проведение свадьбы'`,\n",
    "- `'получение образования'`.\n",
    "\n",
    "**Например, если в столбце `purpose` находится подстрока `'на покупку автомобиля'`, то в столбце `purpose_category` должна появиться строка `'операции с автомобилем'`.**\n",
    "\n",
    "**Используйте собственную функцию с именем `categorize_purpose()` и метод `apply()`. Изучите данные в столбце `purpose` и определите, какие подстроки помогут вам правильно определить категорию.**"
   ]
  },
  {
   "cell_type": "code",
   "execution_count": 24,
   "id": "be41da5d",
   "metadata": {
    "deletable": false,
    "id": "be41da5d"
   },
   "outputs": [],
   "source": [
    "def categorize_purpose(row):\n",
    "    try:\n",
    "        if 'автом' in row:\n",
    "            return 'операции с автомобилем'\n",
    "        elif 'жил' in row or 'недвиж' in row:\n",
    "            return 'операции с недвижимостью'\n",
    "        elif 'свад' in row:\n",
    "            return 'проведение свадьбы'\n",
    "        elif 'образов' in row:\n",
    "            return 'получение образования'\n",
    "    except:\n",
    "        return 'нет категории'"
   ]
  },
  {
   "cell_type": "code",
   "execution_count": 25,
   "id": "94c4a19a",
   "metadata": {
    "deletable": false,
    "id": "94c4a19a"
   },
   "outputs": [],
   "source": [
    "data['purpose_category'] = data['purpose'].apply(categorize_purpose)"
   ]
  },
  {
   "cell_type": "markdown",
   "id": "3d596c34",
   "metadata": {
    "deletable": false,
    "editable": false,
    "id": "3d596c34"
   },
   "source": [
    "### Шаг 3. Исследуйте данные и ответьте на вопросы"
   ]
  },
  {
   "cell_type": "markdown",
   "id": "648db036",
   "metadata": {
    "deletable": false,
    "editable": false,
    "id": "648db036"
   },
   "source": [
    "#### 3.1 Есть ли зависимость между количеством детей и возвратом кредита в срок?"
   ]
  },
  {
   "cell_type": "markdown",
   "id": "a5b26a31",
   "metadata": {},
   "source": [
    "***Для удобства анализа данных составим сводную таблицу, в которой будет одновременно отражено число заёмщиков и количество случаев несвоевременной оплаты по кредитам, а также доля таких случаев от общего числа выданных кредитов.***"
   ]
  },
  {
   "cell_type": "code",
   "execution_count": 26,
   "id": "7fcff25e",
   "metadata": {
    "deletable": false,
    "id": "7fcff25e"
   },
   "outputs": [
    {
     "data": {
      "text/html": [
       "<div>\n",
       "<style scoped>\n",
       "    .dataframe tbody tr th:only-of-type {\n",
       "        vertical-align: middle;\n",
       "    }\n",
       "\n",
       "    .dataframe tbody tr th {\n",
       "        vertical-align: top;\n",
       "    }\n",
       "\n",
       "    .dataframe thead th {\n",
       "        text-align: right;\n",
       "    }\n",
       "</style>\n",
       "<table border=\"1\" class=\"dataframe\">\n",
       "  <thead>\n",
       "    <tr style=\"text-align: right;\">\n",
       "      <th></th>\n",
       "      <th>count</th>\n",
       "      <th>mean</th>\n",
       "      <th>sum</th>\n",
       "    </tr>\n",
       "    <tr>\n",
       "      <th>children</th>\n",
       "      <th></th>\n",
       "      <th></th>\n",
       "      <th></th>\n",
       "    </tr>\n",
       "  </thead>\n",
       "  <tbody>\n",
       "    <tr>\n",
       "      <th>4</th>\n",
       "      <td>41.0</td>\n",
       "      <td>0.097561</td>\n",
       "      <td>4.0</td>\n",
       "    </tr>\n",
       "    <tr>\n",
       "      <th>2</th>\n",
       "      <td>2052.0</td>\n",
       "      <td>0.094542</td>\n",
       "      <td>194.0</td>\n",
       "    </tr>\n",
       "    <tr>\n",
       "      <th>1</th>\n",
       "      <td>4808.0</td>\n",
       "      <td>0.092346</td>\n",
       "      <td>444.0</td>\n",
       "    </tr>\n",
       "    <tr>\n",
       "      <th>3</th>\n",
       "      <td>330.0</td>\n",
       "      <td>0.081818</td>\n",
       "      <td>27.0</td>\n",
       "    </tr>\n",
       "    <tr>\n",
       "      <th>0</th>\n",
       "      <td>14091.0</td>\n",
       "      <td>0.075438</td>\n",
       "      <td>1063.0</td>\n",
       "    </tr>\n",
       "    <tr>\n",
       "      <th>5</th>\n",
       "      <td>9.0</td>\n",
       "      <td>0.000000</td>\n",
       "      <td>0.0</td>\n",
       "    </tr>\n",
       "  </tbody>\n",
       "</table>\n",
       "</div>"
      ],
      "text/plain": [
       "            count      mean     sum\n",
       "children                           \n",
       "4            41.0  0.097561     4.0\n",
       "2          2052.0  0.094542   194.0\n",
       "1          4808.0  0.092346   444.0\n",
       "3           330.0  0.081818    27.0\n",
       "0         14091.0  0.075438  1063.0\n",
       "5             9.0  0.000000     0.0"
      ]
     },
     "execution_count": 26,
     "metadata": {},
     "output_type": "execute_result"
    }
   ],
   "source": [
    "# Ваш код будет здесь. Вы можете создавать новые ячейки.\n",
    "data_child = data[['children', 'debt']]\n",
    "data_child = data_child.pivot_table(index=['children'], values='debt', aggfunc={'sum', 'count', 'mean'})\n",
    "data_child.sort_values(by='mean', ascending=False)"
   ]
  },
  {
   "cell_type": "markdown",
   "id": "2eb9088e",
   "metadata": {
    "deletable": false,
    "id": "2eb9088e"
   },
   "source": [
    "**Вывод:** \n",
    "Из полученных даных видно, что больше всех просрочек по кредитам у заёмщиков с четырьмя детьми, в тоже время у заёмщиков с пятью детьми просрочек нет совсем! Однако, абсолюное количество заёмщиков уменьшается на порядок при увеличении количества детей. Заёмщиков с количеством детей `4-5` в данном случае можно вообще не брать во внимание, так как их доля мала и может не отражать общей картины по данной категории заёмщиков. В разрезе количества детей `от 0 до 3`, наибольшее количество просрочек у заёмщиков `с 1 или 2` детьми. У заёмщиков с тремя детьми или без детей доля просрочек меньше."
   ]
  },
  {
   "cell_type": "markdown",
   "id": "74c9b3a7",
   "metadata": {
    "deletable": false,
    "editable": false,
    "id": "74c9b3a7"
   },
   "source": [
    "#### 3.2 Есть ли зависимость между семейным положением и возвратом кредита в срок?"
   ]
  },
  {
   "cell_type": "markdown",
   "id": "5952e65a",
   "metadata": {},
   "source": [
    "***Аналогично сотавим таблицу для определения закономерности между семейным положением и своевременной оплаты.***"
   ]
  },
  {
   "cell_type": "code",
   "execution_count": 27,
   "id": "8098ab3b",
   "metadata": {
    "deletable": false,
    "id": "8098ab3b"
   },
   "outputs": [
    {
     "data": {
      "text/html": [
       "<div>\n",
       "<style scoped>\n",
       "    .dataframe tbody tr th:only-of-type {\n",
       "        vertical-align: middle;\n",
       "    }\n",
       "\n",
       "    .dataframe tbody tr th {\n",
       "        vertical-align: top;\n",
       "    }\n",
       "\n",
       "    .dataframe thead th {\n",
       "        text-align: right;\n",
       "    }\n",
       "</style>\n",
       "<table border=\"1\" class=\"dataframe\">\n",
       "  <thead>\n",
       "    <tr style=\"text-align: right;\">\n",
       "      <th></th>\n",
       "      <th>count</th>\n",
       "      <th>mean</th>\n",
       "      <th>sum</th>\n",
       "    </tr>\n",
       "    <tr>\n",
       "      <th>family_status</th>\n",
       "      <th></th>\n",
       "      <th></th>\n",
       "      <th></th>\n",
       "    </tr>\n",
       "  </thead>\n",
       "  <tbody>\n",
       "    <tr>\n",
       "      <th>Не женат / не замужем</th>\n",
       "      <td>2796.0</td>\n",
       "      <td>0.097639</td>\n",
       "      <td>273.0</td>\n",
       "    </tr>\n",
       "    <tr>\n",
       "      <th>гражданский брак</th>\n",
       "      <td>4134.0</td>\n",
       "      <td>0.093130</td>\n",
       "      <td>385.0</td>\n",
       "    </tr>\n",
       "    <tr>\n",
       "      <th>женат / замужем</th>\n",
       "      <td>12261.0</td>\n",
       "      <td>0.075606</td>\n",
       "      <td>927.0</td>\n",
       "    </tr>\n",
       "    <tr>\n",
       "      <th>в разводе</th>\n",
       "      <td>1189.0</td>\n",
       "      <td>0.070648</td>\n",
       "      <td>84.0</td>\n",
       "    </tr>\n",
       "    <tr>\n",
       "      <th>вдовец / вдова</th>\n",
       "      <td>951.0</td>\n",
       "      <td>0.066246</td>\n",
       "      <td>63.0</td>\n",
       "    </tr>\n",
       "  </tbody>\n",
       "</table>\n",
       "</div>"
      ],
      "text/plain": [
       "                         count      mean    sum\n",
       "family_status                                  \n",
       "Не женат / не замужем   2796.0  0.097639  273.0\n",
       "гражданский брак        4134.0  0.093130  385.0\n",
       "женат / замужем        12261.0  0.075606  927.0\n",
       "в разводе               1189.0  0.070648   84.0\n",
       "вдовец / вдова           951.0  0.066246   63.0"
      ]
     },
     "execution_count": 27,
     "metadata": {},
     "output_type": "execute_result"
    }
   ],
   "source": [
    "# Ваш код будет здесь. Вы можете создавать новые ячейки.\n",
    "data_family = data[['family_status', 'debt']]\n",
    "data_family = data_family.pivot_table(index=['family_status'], values='debt', aggfunc={'sum', 'count', 'mean'})\n",
    "data_family.sort_values(by='mean', ascending=False)"
   ]
  },
  {
   "cell_type": "markdown",
   "id": "c389ca63",
   "metadata": {
    "deletable": false,
    "id": "c389ca63"
   },
   "source": [
    "**Вывод:** Здесь видно, что самые высокие риски по несвоевременной оплате приходятся на неженатых / незамужних, а также на заёмщиков, состоящих в неофициальном браке. Самыми дисциплинированными оказались вдовцы/вдовы. Далее слудуют разведенные и женатые/замужем соответственно, их показатели тоже достаточно низкие.\n"
   ]
  },
  {
   "cell_type": "markdown",
   "id": "9529de68",
   "metadata": {
    "deletable": false,
    "editable": false,
    "id": "9529de68"
   },
   "source": [
    "#### 3.3 Есть ли зависимость между уровнем дохода и возвратом кредита в срок?"
   ]
  },
  {
   "cell_type": "markdown",
   "id": "94838ff3",
   "metadata": {},
   "source": [
    "***Также проведём анализ по уровню дохода. Для удоства анализа добавам таблицу с распределением размера зарплаты по категориям***"
   ]
  },
  {
   "cell_type": "code",
   "execution_count": 28,
   "id": "8787f44a",
   "metadata": {
    "deletable": false,
    "id": "8787f44a"
   },
   "outputs": [
    {
     "data": {
      "text/html": [
       "<div>\n",
       "<style scoped>\n",
       "    .dataframe tbody tr th:only-of-type {\n",
       "        vertical-align: middle;\n",
       "    }\n",
       "\n",
       "    .dataframe tbody tr th {\n",
       "        vertical-align: top;\n",
       "    }\n",
       "\n",
       "    .dataframe thead th {\n",
       "        text-align: right;\n",
       "    }\n",
       "</style>\n",
       "<table border=\"1\" class=\"dataframe\">\n",
       "  <thead>\n",
       "    <tr style=\"text-align: right;\">\n",
       "      <th></th>\n",
       "      <th>count</th>\n",
       "      <th>mean</th>\n",
       "      <th>sum</th>\n",
       "    </tr>\n",
       "    <tr>\n",
       "      <th>total_income_category</th>\n",
       "      <th></th>\n",
       "      <th></th>\n",
       "      <th></th>\n",
       "    </tr>\n",
       "  </thead>\n",
       "  <tbody>\n",
       "    <tr>\n",
       "      <th>E</th>\n",
       "      <td>22.0</td>\n",
       "      <td>0.090909</td>\n",
       "      <td>2.0</td>\n",
       "    </tr>\n",
       "    <tr>\n",
       "      <th>C</th>\n",
       "      <td>15921.0</td>\n",
       "      <td>0.084982</td>\n",
       "      <td>1353.0</td>\n",
       "    </tr>\n",
       "    <tr>\n",
       "      <th>A</th>\n",
       "      <td>25.0</td>\n",
       "      <td>0.080000</td>\n",
       "      <td>2.0</td>\n",
       "    </tr>\n",
       "    <tr>\n",
       "      <th>B</th>\n",
       "      <td>5014.0</td>\n",
       "      <td>0.070602</td>\n",
       "      <td>354.0</td>\n",
       "    </tr>\n",
       "    <tr>\n",
       "      <th>D</th>\n",
       "      <td>349.0</td>\n",
       "      <td>0.060172</td>\n",
       "      <td>21.0</td>\n",
       "    </tr>\n",
       "  </tbody>\n",
       "</table>\n",
       "</div>"
      ],
      "text/plain": [
       "                         count      mean     sum\n",
       "total_income_category                           \n",
       "E                         22.0  0.090909     2.0\n",
       "C                      15921.0  0.084982  1353.0\n",
       "A                         25.0  0.080000     2.0\n",
       "B                       5014.0  0.070602   354.0\n",
       "D                        349.0  0.060172    21.0"
      ]
     },
     "execution_count": 28,
     "metadata": {},
     "output_type": "execute_result"
    }
   ],
   "source": [
    "# Ваш код будет здесь. Вы можете создавать новые ячейки.\n",
    "data_income = data[['total_income_category', 'debt']]\n",
    "data_income = data_income.pivot_table(index=['total_income_category'], values='debt', aggfunc={'sum', 'count', 'mean'})\n",
    "data_income.sort_values(by='mean', ascending=False)"
   ]
  },
  {
   "cell_type": "markdown",
   "id": "660925b0",
   "metadata": {},
   "source": [
    "- 0–30000 — `'E'`;\n",
    "- 30001–50000 — `'D'`;\n",
    "- 50001–200000 — `'C'`;\n",
    "- 200001–1000000 — `'B'`;\n",
    "- 1000001 и выше — `'A'`."
   ]
  },
  {
   "cell_type": "markdown",
   "id": "6dd14b57",
   "metadata": {
    "deletable": false,
    "id": "6dd14b57"
   },
   "source": [
    "**Вывод:** Получили довольно интересный рультат. Лидерами антирейтинга стали клиенты с минимальной зарплатой (категория `Е`). Также в Топ 3 попали заёмщики со средним доходом(категория `С`) и с доходом свыше 1 миллиона(категория `A`)! По таблице видно, что общее количество заёмщиков из категирий `A, D и Е` слишком мало для выявления тенденции. Основную массу заёмщиков составляю клиенты из категорий `B и С`. Если учитывать только эти категирии, то выходит, что заёмщики с более высоким доходом реже допускают просрочки платежей."
   ]
  },
  {
   "cell_type": "markdown",
   "id": "1dcc9b12",
   "metadata": {
    "deletable": false,
    "editable": false,
    "id": "1dcc9b12"
   },
   "source": [
    "#### 3.4 Как разные цели кредита влияют на его возврат в срок?"
   ]
  },
  {
   "cell_type": "markdown",
   "id": "9f093614",
   "metadata": {},
   "source": [
    "***Закончим анализ выявлением тенденции в зависимости от целей кредитования***"
   ]
  },
  {
   "cell_type": "code",
   "execution_count": 29,
   "id": "c602bc8b",
   "metadata": {
    "deletable": false,
    "id": "c602bc8b"
   },
   "outputs": [
    {
     "data": {
      "text/html": [
       "<div>\n",
       "<style scoped>\n",
       "    .dataframe tbody tr th:only-of-type {\n",
       "        vertical-align: middle;\n",
       "    }\n",
       "\n",
       "    .dataframe tbody tr th {\n",
       "        vertical-align: top;\n",
       "    }\n",
       "\n",
       "    .dataframe thead th {\n",
       "        text-align: right;\n",
       "    }\n",
       "</style>\n",
       "<table border=\"1\" class=\"dataframe\">\n",
       "  <thead>\n",
       "    <tr style=\"text-align: right;\">\n",
       "      <th></th>\n",
       "      <th>count</th>\n",
       "      <th>mean</th>\n",
       "      <th>sum</th>\n",
       "    </tr>\n",
       "    <tr>\n",
       "      <th>purpose_category</th>\n",
       "      <th></th>\n",
       "      <th></th>\n",
       "      <th></th>\n",
       "    </tr>\n",
       "  </thead>\n",
       "  <tbody>\n",
       "    <tr>\n",
       "      <th>операции с автомобилем</th>\n",
       "      <td>4279.0</td>\n",
       "      <td>0.093480</td>\n",
       "      <td>400.0</td>\n",
       "    </tr>\n",
       "    <tr>\n",
       "      <th>получение образования</th>\n",
       "      <td>3988.0</td>\n",
       "      <td>0.092528</td>\n",
       "      <td>369.0</td>\n",
       "    </tr>\n",
       "    <tr>\n",
       "      <th>проведение свадьбы</th>\n",
       "      <td>2313.0</td>\n",
       "      <td>0.079118</td>\n",
       "      <td>183.0</td>\n",
       "    </tr>\n",
       "    <tr>\n",
       "      <th>операции с недвижимостью</th>\n",
       "      <td>10751.0</td>\n",
       "      <td>0.072551</td>\n",
       "      <td>780.0</td>\n",
       "    </tr>\n",
       "  </tbody>\n",
       "</table>\n",
       "</div>"
      ],
      "text/plain": [
       "                            count      mean    sum\n",
       "purpose_category                                  \n",
       "операции с автомобилем     4279.0  0.093480  400.0\n",
       "получение образования      3988.0  0.092528  369.0\n",
       "проведение свадьбы         2313.0  0.079118  183.0\n",
       "операции с недвижимостью  10751.0  0.072551  780.0"
      ]
     },
     "execution_count": 29,
     "metadata": {},
     "output_type": "execute_result"
    }
   ],
   "source": [
    "# Ваш код будет здесь. Вы можете создавать новые ячейки.\n",
    "data_category = data[['purpose_category', 'debt']]\n",
    "data_category = data_category.pivot_table(index=['purpose_category'], values='debt', aggfunc={'sum', 'count', 'mean'})\n",
    "data_category.sort_values(by='mean', ascending=False)"
   ]
  },
  {
   "cell_type": "markdown",
   "id": "cf05ed63",
   "metadata": {
    "deletable": false,
    "id": "cf05ed63"
   },
   "source": [
    "**Вывод:** Самыми ненадёжными заёмщиками стали клиенты, взявшие кредит на `образование` и на `покупку автомобиля`, их доли примерно равны. Лидерами по своевременной оплате стали клиенты, взявшие кредит на `операции с недвижимостью`, немного отстают от них желащие `оплатить свадьбу`. "
   ]
  },
  {
   "cell_type": "markdown",
   "id": "46c1f10b",
   "metadata": {
    "deletable": false,
    "editable": false,
    "id": "46c1f10b"
   },
   "source": [
    "#### 3.5 Приведите возможные причины появления пропусков в исходных данных."
   ]
  },
  {
   "cell_type": "markdown",
   "id": "3697d2a9",
   "metadata": {
    "deletable": false,
    "id": "3697d2a9"
   },
   "source": [
    "*Ответ:* Пропуски в значении `Средней заработной платы` могли появиться на этапе ввода данных клиентов, например, если у заёмщика нет официального дохода и данные ячейки просто не стали заполнять. По той же причине может быть не заполнен и `Трудовой стаж`, если клиент не продоставил справку с работы, а менеджер просто пропустил ячейку. "
   ]
  },
  {
   "cell_type": "markdown",
   "id": "3137d257",
   "metadata": {
    "deletable": false,
    "editable": false,
    "id": "3137d257"
   },
   "source": [
    "#### 3.6 Объясните, почему заполнить пропуски медианным значением — лучшее решение для количественных переменных."
   ]
  },
  {
   "cell_type": "markdown",
   "id": "cf40012a",
   "metadata": {
    "deletable": false,
    "id": "cf40012a"
   },
   "source": [
    "*Ответ:*  Если брать среднее значение, вместо медианного, то значение вероятнее всего будет некорректным ввиду наличия малого количества данных с экстремально высоким или низким значением, которые сильно сдвинут баланс в сторону. Медианное же значение берёт значение из середины среза и лучше отображает \"Среднюю температуру по больнице\""
   ]
  },
  {
   "cell_type": "markdown",
   "id": "57bc304e",
   "metadata": {
    "deletable": false,
    "editable": false,
    "id": "57bc304e"
   },
   "source": [
    "### Шаг 4: общий вывод."
   ]
  },
  {
   "cell_type": "markdown",
   "id": "1ab75d1c",
   "metadata": {
    "deletable": false,
    "id": "1ab75d1c"
   },
   "source": [
    "**Количество детей**\n",
    "По данному критерию замыми надежными заёмщиками являюся клиенты, `не имеющие детей`, доля кредитов с несвоевременной оплатой - `0,75`.  Среди клиентов `с одним или двумя детьми` доля непунктуальных заёмщиков уличивается до `0,92-0,95`. Клиенты с большим количеством детей в выборку не попали, так как их доля в общей массе заёмщиков слишком мала для проведения анализа.\n",
    "\n",
    "**Семейное положение**\n",
    "По данному критерию лучшими клиентами стали `вдовы/вдовцы, в разводе и женатые/замужем` с долей просрочек менее `0,07 - 0,08`. В то же время самыми ненадёжными стали клиенты, `состоящие в гражданском браке и одинокие`, их доля `0,09 - 0,10`. Возможно, менеджерам стоит более внимательно выдавать кредиты данным категориям и запрашивать дополнительные документы и справки.\n",
    "\n",
    "**Уровень дохода**\n",
    "По данному критерию лучше всех показали себя заёмщики со средним заработком `от 200 тысяч до 1 миллиона` с долей несвоевременно оплаченных кредитов `0,07`. Хуже всех - заёмщики со средней зарплатой `50 - 200 тысяч` с долей `0,85`. Клиенты со средней заработной платой ниже `50 тысяч и свыше 1миллиона` в выборку не попали, их количество недостаточно для анализа. В целом, обратная пропорциональность в виде уменьшения доли просрочек с увеличением дохода налицо.\n",
    "\n",
    "**Цель кредита**\n",
    "Лучшими кредитами с точки зрения своевременной оплаты стали `кредиты на оперции с недвижимостью` и `на провередение свадьбы`, здесь доля несвоевременной оплаты составляет `0,07 - 0,08`. Самые рискованные `кредиты на получение образования` и `операции с автомобилем`, доля несвоевременной оплаты порядка 0,09.\n",
    "\n",
    "Проведенный анализ показал объектиный результат. однако, не все категирии заёмщиков попали в выбору из-за слишком малого их количества по определённым критериям. Для более точного анализа можно рекомендовать:\n",
    "- объеденить количество детей по диапазонам. Например: `\"без детей\"`,` \"1-2 ребенка\"`, `\"3 и более детей\"`.\n",
    "- объединить семейные положения `\"не женат/не замужем\"` и `\"состоит в гражданском браке`\" в единую категорию `\"холост\"`, так как касательно своевременной оплаты данные категории ведут себя одинаково. \n",
    "- изменить диапазоны доходов на `\"200 - 500 тысяч\"` и `\"500 тысяч и более\"`, таким образом картина может сильно измениться и показать более близкие к реальности данные. Для заёмщиков с доходом менее 50 тысяч стоит ввести дополнительные проверки на благонадёжность, так как их поведене в отношении своевременной оплаты пока не поддаётся прогнозу.\n",
    "\n",
    "Также банку стоит задуматься над изменением в большую сторону процентных ставок по кредитам на получение образования и на опрации с автомобилем, так как по ним выше риски, а также над увеличением количества предоставляемых документов или поручителей, проводить более строгие проверки потенциальных клиентов в этих категориях для уменьшения рисков несвоевременной оплаты."
   ]
  },
  {
   "cell_type": "code",
   "execution_count": null,
   "id": "bab8141a",
   "metadata": {},
   "outputs": [],
   "source": []
  }
 ],
 "metadata": {
  "ExecuteTimeLog": [
   {
    "duration": 671,
    "start_time": "2024-02-01T05:19:37.267Z"
   },
   {
    "duration": 21,
    "start_time": "2024-02-01T05:19:39.425Z"
   },
   {
    "duration": 15,
    "start_time": "2024-02-01T05:19:46.359Z"
   },
   {
    "duration": 15,
    "start_time": "2024-02-01T05:21:33.035Z"
   },
   {
    "duration": 13,
    "start_time": "2024-02-01T05:21:43.347Z"
   },
   {
    "duration": 20,
    "start_time": "2024-02-01T05:25:19.038Z"
   },
   {
    "duration": 14,
    "start_time": "2024-02-01T05:25:31.288Z"
   },
   {
    "duration": 75,
    "start_time": "2024-02-01T05:36:31.993Z"
   },
   {
    "duration": 14,
    "start_time": "2024-02-01T05:36:33.120Z"
   },
   {
    "duration": 16,
    "start_time": "2024-02-01T05:36:34.318Z"
   },
   {
    "duration": 11,
    "start_time": "2024-02-01T05:36:36.767Z"
   },
   {
    "duration": 37,
    "start_time": "2024-02-01T05:36:37.918Z"
   },
   {
    "duration": 3,
    "start_time": "2024-02-01T05:36:39.671Z"
   },
   {
    "duration": 7,
    "start_time": "2024-02-01T05:36:40.863Z"
   },
   {
    "duration": 4,
    "start_time": "2024-02-01T05:36:42.623Z"
   },
   {
    "duration": 25,
    "start_time": "2024-02-01T05:36:43.790Z"
   },
   {
    "duration": 5,
    "start_time": "2024-02-01T05:36:44.942Z"
   },
   {
    "duration": 33,
    "start_time": "2024-02-01T05:36:46.654Z"
   },
   {
    "duration": 10,
    "start_time": "2024-02-01T05:36:47.758Z"
   },
   {
    "duration": 4,
    "start_time": "2024-02-01T05:36:49.438Z"
   },
   {
    "duration": 11,
    "start_time": "2024-02-01T05:36:51.111Z"
   },
   {
    "duration": 20,
    "start_time": "2024-02-01T05:36:52.199Z"
   },
   {
    "duration": 16,
    "start_time": "2024-02-01T05:36:52.783Z"
   },
   {
    "duration": 4,
    "start_time": "2024-02-01T05:36:54.518Z"
   },
   {
    "duration": 10,
    "start_time": "2024-02-01T05:36:55.879Z"
   },
   {
    "duration": 5,
    "start_time": "2024-02-01T05:37:01.359Z"
   },
   {
    "duration": 4,
    "start_time": "2024-02-01T05:37:02.767Z"
   },
   {
    "duration": 9,
    "start_time": "2024-02-01T05:37:03.671Z"
   },
   {
    "duration": 5,
    "start_time": "2024-02-01T05:40:08.427Z"
   },
   {
    "duration": 8,
    "start_time": "2024-02-01T05:40:15.497Z"
   },
   {
    "duration": 72,
    "start_time": "2024-02-01T05:41:38.411Z"
   },
   {
    "duration": 76,
    "start_time": "2024-02-01T05:41:50.940Z"
   },
   {
    "duration": 76,
    "start_time": "2024-02-01T05:41:54.587Z"
   },
   {
    "duration": 66,
    "start_time": "2024-02-01T05:42:01.659Z"
   },
   {
    "duration": 72,
    "start_time": "2024-02-01T05:42:15.804Z"
   },
   {
    "duration": 92,
    "start_time": "2024-02-01T05:42:24.660Z"
   },
   {
    "duration": 71,
    "start_time": "2024-02-01T05:42:29.396Z"
   },
   {
    "duration": 8,
    "start_time": "2024-02-01T05:44:28.933Z"
   },
   {
    "duration": 7,
    "start_time": "2024-02-01T05:45:01.207Z"
   },
   {
    "duration": 6,
    "start_time": "2024-02-01T05:45:13.678Z"
   },
   {
    "duration": 7,
    "start_time": "2024-02-01T05:49:52.296Z"
   },
   {
    "duration": 6,
    "start_time": "2024-02-01T05:50:30.896Z"
   },
   {
    "duration": 8,
    "start_time": "2024-02-01T06:13:40.561Z"
   },
   {
    "duration": 9,
    "start_time": "2024-02-01T06:14:40.808Z"
   },
   {
    "duration": 7,
    "start_time": "2024-02-01T06:35:35.463Z"
   },
   {
    "duration": 8,
    "start_time": "2024-02-01T06:35:45.015Z"
   },
   {
    "duration": 6,
    "start_time": "2024-02-01T06:37:22.833Z"
   },
   {
    "duration": 110,
    "start_time": "2024-02-01T06:46:51.962Z"
   },
   {
    "duration": 1345,
    "start_time": "2024-02-01T06:47:48.137Z"
   },
   {
    "duration": 1311,
    "start_time": "2024-02-01T06:48:01.785Z"
   },
   {
    "duration": 1285,
    "start_time": "2024-02-01T06:48:22.385Z"
   },
   {
    "duration": 1255,
    "start_time": "2024-02-01T06:48:28.105Z"
   },
   {
    "duration": 65,
    "start_time": "2024-02-01T06:49:52.282Z"
   },
   {
    "duration": 95,
    "start_time": "2024-02-01T06:50:02.162Z"
   },
   {
    "duration": 90,
    "start_time": "2024-02-01T06:50:06.402Z"
   },
   {
    "duration": 112,
    "start_time": "2024-02-01T06:50:09.833Z"
   },
   {
    "duration": 75,
    "start_time": "2024-02-01T06:50:17.106Z"
   },
   {
    "duration": 6,
    "start_time": "2024-02-01T06:50:49.267Z"
   },
   {
    "duration": 1200,
    "start_time": "2024-02-01T06:51:03.868Z"
   },
   {
    "duration": 2,
    "start_time": "2024-02-01T06:51:41.508Z"
   },
   {
    "duration": 10,
    "start_time": "2024-02-01T06:53:31.901Z"
   },
   {
    "duration": 9,
    "start_time": "2024-02-01T06:53:35.885Z"
   },
   {
    "duration": 10,
    "start_time": "2024-02-01T06:54:02.870Z"
   },
   {
    "duration": 14,
    "start_time": "2024-02-01T06:55:45.935Z"
   },
   {
    "duration": 8,
    "start_time": "2024-02-01T07:01:21.565Z"
   },
   {
    "duration": 15,
    "start_time": "2024-02-01T07:07:38.945Z"
   },
   {
    "duration": 18,
    "start_time": "2024-02-01T07:07:51.922Z"
   },
   {
    "duration": 95,
    "start_time": "2024-02-01T07:12:25.294Z"
   },
   {
    "duration": 18,
    "start_time": "2024-02-01T07:12:30.933Z"
   },
   {
    "duration": 1232,
    "start_time": "2024-02-01T07:15:30.882Z"
   },
   {
    "duration": 1330,
    "start_time": "2024-02-01T07:16:06.248Z"
   },
   {
    "duration": 13,
    "start_time": "2024-02-01T07:16:19.376Z"
   },
   {
    "duration": 18,
    "start_time": "2024-02-01T07:17:18.633Z"
   },
   {
    "duration": 16,
    "start_time": "2024-02-01T07:17:27.137Z"
   },
   {
    "duration": 17,
    "start_time": "2024-02-01T07:18:14.186Z"
   },
   {
    "duration": 17,
    "start_time": "2024-02-01T07:18:27.970Z"
   },
   {
    "duration": 18,
    "start_time": "2024-02-01T07:19:09.123Z"
   },
   {
    "duration": 19,
    "start_time": "2024-02-01T07:19:12.498Z"
   },
   {
    "duration": 18,
    "start_time": "2024-02-01T07:20:22.235Z"
   },
   {
    "duration": 25,
    "start_time": "2024-02-01T07:43:31.294Z"
   },
   {
    "duration": 73,
    "start_time": "2024-02-01T07:48:08.243Z"
   },
   {
    "duration": 79,
    "start_time": "2024-02-01T07:48:13.039Z"
   },
   {
    "duration": 29,
    "start_time": "2024-02-01T07:48:18.344Z"
   },
   {
    "duration": 11,
    "start_time": "2024-02-01T07:51:36.035Z"
   },
   {
    "duration": 3,
    "start_time": "2024-02-01T07:52:21.444Z"
   },
   {
    "duration": 4,
    "start_time": "2024-02-01T07:52:38.827Z"
   },
   {
    "duration": 8,
    "start_time": "2024-02-01T07:52:39.595Z"
   },
   {
    "duration": 8,
    "start_time": "2024-02-01T07:53:08.763Z"
   },
   {
    "duration": 74,
    "start_time": "2024-02-01T07:54:22.301Z"
   },
   {
    "duration": 15,
    "start_time": "2024-02-01T07:54:24.023Z"
   },
   {
    "duration": 15,
    "start_time": "2024-02-01T07:54:25.908Z"
   },
   {
    "duration": 11,
    "start_time": "2024-02-01T07:54:28.828Z"
   },
   {
    "duration": 34,
    "start_time": "2024-02-01T07:54:29.820Z"
   },
   {
    "duration": 3,
    "start_time": "2024-02-01T07:54:30.987Z"
   },
   {
    "duration": 8,
    "start_time": "2024-02-01T07:54:31.788Z"
   },
   {
    "duration": 4,
    "start_time": "2024-02-01T07:54:33.948Z"
   },
   {
    "duration": 5,
    "start_time": "2024-02-01T07:54:35.044Z"
   },
   {
    "duration": 4,
    "start_time": "2024-02-01T07:54:36.116Z"
   },
   {
    "duration": 34,
    "start_time": "2024-02-01T07:54:39.316Z"
   },
   {
    "duration": 10,
    "start_time": "2024-02-01T07:54:40.475Z"
   },
   {
    "duration": 3,
    "start_time": "2024-02-01T07:54:44.388Z"
   },
   {
    "duration": 11,
    "start_time": "2024-02-01T07:54:45.484Z"
   },
   {
    "duration": 19,
    "start_time": "2024-02-01T07:54:48.068Z"
   },
   {
    "duration": 17,
    "start_time": "2024-02-01T07:54:48.581Z"
   },
   {
    "duration": 3,
    "start_time": "2024-02-01T07:54:49.924Z"
   },
   {
    "duration": 10,
    "start_time": "2024-02-01T07:54:50.645Z"
   },
   {
    "duration": 6,
    "start_time": "2024-02-01T07:54:53.204Z"
   },
   {
    "duration": 3,
    "start_time": "2024-02-01T07:54:57.621Z"
   },
   {
    "duration": 10,
    "start_time": "2024-02-01T07:54:58.084Z"
   },
   {
    "duration": 20,
    "start_time": "2024-02-01T07:55:06.373Z"
   },
   {
    "duration": 9,
    "start_time": "2024-02-01T07:57:23.017Z"
   },
   {
    "duration": 20,
    "start_time": "2024-02-01T07:57:42.505Z"
   },
   {
    "duration": 8,
    "start_time": "2024-02-01T08:01:45.394Z"
   },
   {
    "duration": 25,
    "start_time": "2024-02-01T08:02:11.802Z"
   },
   {
    "duration": 18,
    "start_time": "2024-02-01T08:03:41.646Z"
   },
   {
    "duration": 18,
    "start_time": "2024-02-01T08:03:58.140Z"
   },
   {
    "duration": 19,
    "start_time": "2024-02-01T08:04:41.477Z"
   },
   {
    "duration": 20,
    "start_time": "2024-02-01T08:04:54.141Z"
   },
   {
    "duration": 2,
    "start_time": "2024-02-01T08:05:17.214Z"
   },
   {
    "duration": 16,
    "start_time": "2024-02-01T08:05:24.070Z"
   },
   {
    "duration": 18,
    "start_time": "2024-02-01T08:05:27.317Z"
   },
   {
    "duration": 18,
    "start_time": "2024-02-01T08:05:32.557Z"
   },
   {
    "duration": 20,
    "start_time": "2024-02-01T08:21:23.481Z"
   },
   {
    "duration": 19,
    "start_time": "2024-02-01T08:23:28.214Z"
   },
   {
    "duration": 19,
    "start_time": "2024-02-01T08:34:15.947Z"
   },
   {
    "duration": 19,
    "start_time": "2024-02-01T08:34:18.642Z"
   },
   {
    "duration": 21,
    "start_time": "2024-02-01T10:52:44.870Z"
   },
   {
    "duration": 17,
    "start_time": "2024-02-01T10:52:52.373Z"
   },
   {
    "duration": 18,
    "start_time": "2024-02-01T10:52:55.492Z"
   },
   {
    "duration": 23,
    "start_time": "2024-02-01T10:55:44.498Z"
   },
   {
    "duration": 4,
    "start_time": "2024-02-01T10:57:04.783Z"
   },
   {
    "duration": 17,
    "start_time": "2024-02-01T10:57:27.921Z"
   },
   {
    "duration": 18,
    "start_time": "2024-02-01T13:11:21.030Z"
   },
   {
    "duration": 23,
    "start_time": "2024-02-01T13:37:02.145Z"
   },
   {
    "duration": 19,
    "start_time": "2024-02-01T13:37:15.758Z"
   },
   {
    "duration": 23,
    "start_time": "2024-02-01T13:37:17.774Z"
   },
   {
    "duration": 17,
    "start_time": "2024-02-01T13:37:23.126Z"
   },
   {
    "duration": 18,
    "start_time": "2024-02-01T13:37:38.318Z"
   },
   {
    "duration": 18,
    "start_time": "2024-02-01T13:38:06.231Z"
   },
   {
    "duration": 71,
    "start_time": "2024-02-01T13:41:08.346Z"
   },
   {
    "duration": 137,
    "start_time": "2024-02-01T13:41:16.409Z"
   },
   {
    "duration": 19,
    "start_time": "2024-02-01T13:41:36.657Z"
   },
   {
    "duration": 505,
    "start_time": "2024-02-01T17:24:06.188Z"
   },
   {
    "duration": 21,
    "start_time": "2024-02-01T17:24:06.694Z"
   },
   {
    "duration": 47,
    "start_time": "2024-02-01T17:24:06.716Z"
   },
   {
    "duration": 18,
    "start_time": "2024-02-01T17:24:06.765Z"
   },
   {
    "duration": 70,
    "start_time": "2024-02-01T17:24:06.784Z"
   },
   {
    "duration": 3,
    "start_time": "2024-02-01T17:24:06.856Z"
   },
   {
    "duration": 35,
    "start_time": "2024-02-01T17:24:06.860Z"
   },
   {
    "duration": 34,
    "start_time": "2024-02-01T17:24:06.897Z"
   },
   {
    "duration": 31,
    "start_time": "2024-02-01T17:24:06.933Z"
   },
   {
    "duration": 36,
    "start_time": "2024-02-01T17:24:06.968Z"
   },
   {
    "duration": 74,
    "start_time": "2024-02-01T17:24:07.005Z"
   },
   {
    "duration": 15,
    "start_time": "2024-02-01T17:24:07.081Z"
   },
   {
    "duration": 39,
    "start_time": "2024-02-01T17:24:07.097Z"
   },
   {
    "duration": 92,
    "start_time": "2024-02-01T17:24:07.138Z"
   },
   {
    "duration": 38,
    "start_time": "2024-02-01T17:24:07.232Z"
   },
   {
    "duration": 45,
    "start_time": "2024-02-01T17:24:07.271Z"
   },
   {
    "duration": 15,
    "start_time": "2024-02-01T17:24:07.317Z"
   },
   {
    "duration": 61,
    "start_time": "2024-02-01T17:24:07.333Z"
   },
   {
    "duration": 35,
    "start_time": "2024-02-01T17:24:07.396Z"
   },
   {
    "duration": 25,
    "start_time": "2024-02-01T17:24:07.432Z"
   },
   {
    "duration": 37,
    "start_time": "2024-02-01T17:24:07.458Z"
   },
   {
    "duration": 52,
    "start_time": "2024-02-01T17:24:07.496Z"
   },
   {
    "duration": 43,
    "start_time": "2024-02-01T17:24:07.549Z"
   },
   {
    "duration": 31,
    "start_time": "2024-02-01T17:24:07.594Z"
   },
   {
    "duration": 41,
    "start_time": "2024-02-01T17:24:07.626Z"
   },
   {
    "duration": 530,
    "start_time": "2024-02-02T07:00:07.970Z"
   },
   {
    "duration": 22,
    "start_time": "2024-02-02T07:00:08.501Z"
   },
   {
    "duration": 22,
    "start_time": "2024-02-02T07:00:08.524Z"
   },
   {
    "duration": 19,
    "start_time": "2024-02-02T07:00:08.548Z"
   },
   {
    "duration": 59,
    "start_time": "2024-02-02T07:00:08.569Z"
   },
   {
    "duration": 3,
    "start_time": "2024-02-02T07:00:08.629Z"
   },
   {
    "duration": 22,
    "start_time": "2024-02-02T07:00:08.633Z"
   },
   {
    "duration": 6,
    "start_time": "2024-02-02T07:00:08.656Z"
   },
   {
    "duration": 19,
    "start_time": "2024-02-02T07:00:08.663Z"
   },
   {
    "duration": 5,
    "start_time": "2024-02-02T07:00:08.683Z"
   },
   {
    "duration": 36,
    "start_time": "2024-02-02T07:00:08.690Z"
   },
   {
    "duration": 10,
    "start_time": "2024-02-02T07:00:08.727Z"
   },
   {
    "duration": 10,
    "start_time": "2024-02-02T07:00:08.738Z"
   },
   {
    "duration": 15,
    "start_time": "2024-02-02T07:00:08.750Z"
   },
   {
    "duration": 25,
    "start_time": "2024-02-02T07:00:08.766Z"
   },
   {
    "duration": 23,
    "start_time": "2024-02-02T07:00:08.792Z"
   },
   {
    "duration": 3,
    "start_time": "2024-02-02T07:00:08.817Z"
   },
   {
    "duration": 21,
    "start_time": "2024-02-02T07:00:08.822Z"
   },
   {
    "duration": 16,
    "start_time": "2024-02-02T07:00:08.844Z"
   },
   {
    "duration": 6,
    "start_time": "2024-02-02T07:00:08.861Z"
   },
   {
    "duration": 40,
    "start_time": "2024-02-02T07:00:08.869Z"
   },
   {
    "duration": 36,
    "start_time": "2024-02-02T07:00:08.911Z"
   },
   {
    "duration": 19,
    "start_time": "2024-02-02T07:00:08.949Z"
   },
   {
    "duration": 17,
    "start_time": "2024-02-02T07:00:08.969Z"
   },
   {
    "duration": 18,
    "start_time": "2024-02-02T07:00:08.988Z"
   },
   {
    "duration": 93,
    "start_time": "2024-02-02T07:03:40.839Z"
   },
   {
    "duration": 1250,
    "start_time": "2024-02-02T07:04:00.143Z"
   },
   {
    "duration": 17,
    "start_time": "2024-02-02T07:05:00.391Z"
   },
   {
    "duration": 23,
    "start_time": "2024-02-02T07:05:34.291Z"
   },
   {
    "duration": 17,
    "start_time": "2024-02-02T07:06:14.176Z"
   },
   {
    "duration": 21,
    "start_time": "2024-02-02T07:06:25.057Z"
   },
   {
    "duration": 19,
    "start_time": "2024-02-02T07:06:44.266Z"
   },
   {
    "duration": 1121,
    "start_time": "2024-02-02T07:07:18.377Z"
   },
   {
    "duration": 1162,
    "start_time": "2024-02-02T07:07:24.393Z"
   },
   {
    "duration": 1112,
    "start_time": "2024-02-02T07:07:35.930Z"
   },
   {
    "duration": 978,
    "start_time": "2024-02-02T07:07:44.994Z"
   },
   {
    "duration": 843,
    "start_time": "2024-02-02T07:07:53.386Z"
   },
   {
    "duration": 17,
    "start_time": "2024-02-02T07:08:31.277Z"
   },
   {
    "duration": 19,
    "start_time": "2024-02-02T07:10:22.396Z"
   },
   {
    "duration": 19,
    "start_time": "2024-02-02T07:11:28.197Z"
   },
   {
    "duration": 19,
    "start_time": "2024-02-02T07:11:38.133Z"
   },
   {
    "duration": 18,
    "start_time": "2024-02-02T07:11:41.237Z"
   },
   {
    "duration": 82,
    "start_time": "2024-02-02T07:12:04.892Z"
   },
   {
    "duration": 18,
    "start_time": "2024-02-02T07:12:11.540Z"
   },
   {
    "duration": 19,
    "start_time": "2024-02-02T07:12:45.007Z"
   },
   {
    "duration": 21,
    "start_time": "2024-02-02T07:21:10.317Z"
   },
   {
    "duration": 20,
    "start_time": "2024-02-02T07:21:20.619Z"
   },
   {
    "duration": 18,
    "start_time": "2024-02-02T07:21:35.364Z"
   },
   {
    "duration": 20,
    "start_time": "2024-02-02T07:21:41.851Z"
   },
   {
    "duration": 17,
    "start_time": "2024-02-02T07:22:00.628Z"
   },
   {
    "duration": 18,
    "start_time": "2024-02-02T07:36:16.153Z"
   },
   {
    "duration": 17,
    "start_time": "2024-02-02T07:36:27.543Z"
   },
   {
    "duration": 20,
    "start_time": "2024-02-02T07:36:34.198Z"
   },
   {
    "duration": 17,
    "start_time": "2024-02-02T07:37:27.415Z"
   },
   {
    "duration": 21,
    "start_time": "2024-02-02T07:37:45.464Z"
   },
   {
    "duration": 17,
    "start_time": "2024-02-02T07:37:54.576Z"
   },
   {
    "duration": 83,
    "start_time": "2024-02-02T07:38:09.478Z"
   },
   {
    "duration": 19,
    "start_time": "2024-02-02T07:38:14.056Z"
   },
   {
    "duration": 18,
    "start_time": "2024-02-02T07:40:29.274Z"
   },
   {
    "duration": 17,
    "start_time": "2024-02-02T07:47:13.058Z"
   },
   {
    "duration": 1976,
    "start_time": "2024-02-02T07:48:39.592Z"
   },
   {
    "duration": 19,
    "start_time": "2024-02-02T07:48:47.792Z"
   },
   {
    "duration": 17,
    "start_time": "2024-02-02T07:49:11.800Z"
   },
   {
    "duration": 17,
    "start_time": "2024-02-02T07:49:40.449Z"
   },
   {
    "duration": 1109,
    "start_time": "2024-02-02T07:49:57.648Z"
   },
   {
    "duration": 18,
    "start_time": "2024-02-02T07:50:37.969Z"
   },
   {
    "duration": 18,
    "start_time": "2024-02-02T07:51:20.400Z"
   },
   {
    "duration": 17,
    "start_time": "2024-02-02T07:52:50.088Z"
   },
   {
    "duration": 23,
    "start_time": "2024-02-02T07:56:01.859Z"
   },
   {
    "duration": 18,
    "start_time": "2024-02-02T07:56:38.274Z"
   },
   {
    "duration": 18,
    "start_time": "2024-02-02T07:57:51.886Z"
   },
   {
    "duration": 18,
    "start_time": "2024-02-02T07:57:57.818Z"
   },
   {
    "duration": 19,
    "start_time": "2024-02-02T08:01:37.383Z"
   },
   {
    "duration": 19,
    "start_time": "2024-02-02T08:05:53.426Z"
   },
   {
    "duration": 19,
    "start_time": "2024-02-02T08:05:59.551Z"
   },
   {
    "duration": 116,
    "start_time": "2024-02-02T08:08:06.888Z"
   },
   {
    "duration": 77,
    "start_time": "2024-02-02T08:08:10.920Z"
   },
   {
    "duration": 77,
    "start_time": "2024-02-02T08:08:13.624Z"
   },
   {
    "duration": 18,
    "start_time": "2024-02-02T08:08:17.656Z"
   },
   {
    "duration": 20,
    "start_time": "2024-02-02T08:09:43.794Z"
   },
   {
    "duration": 24,
    "start_time": "2024-02-02T08:10:50.884Z"
   },
   {
    "duration": 19,
    "start_time": "2024-02-02T08:11:16.899Z"
   },
   {
    "duration": 19,
    "start_time": "2024-02-02T08:11:24.588Z"
   },
   {
    "duration": 22,
    "start_time": "2024-02-02T08:12:09.124Z"
   },
   {
    "duration": 19,
    "start_time": "2024-02-02T08:50:20.684Z"
   },
   {
    "duration": 22,
    "start_time": "2024-02-02T08:50:24.634Z"
   },
   {
    "duration": 20,
    "start_time": "2024-02-02T08:50:27.923Z"
   },
   {
    "duration": 21,
    "start_time": "2024-02-02T08:50:33.955Z"
   },
   {
    "duration": 500,
    "start_time": "2024-02-03T06:28:57.569Z"
   },
   {
    "duration": 23,
    "start_time": "2024-02-03T06:28:58.071Z"
   },
   {
    "duration": 16,
    "start_time": "2024-02-03T06:28:58.095Z"
   },
   {
    "duration": 10,
    "start_time": "2024-02-03T06:28:58.113Z"
   },
   {
    "duration": 48,
    "start_time": "2024-02-03T06:28:58.125Z"
   },
   {
    "duration": 3,
    "start_time": "2024-02-03T06:28:58.175Z"
   },
   {
    "duration": 9,
    "start_time": "2024-02-03T06:28:58.179Z"
   },
   {
    "duration": 4,
    "start_time": "2024-02-03T06:28:58.190Z"
   },
   {
    "duration": 8,
    "start_time": "2024-02-03T06:28:58.195Z"
   },
   {
    "duration": 5,
    "start_time": "2024-02-03T06:28:58.204Z"
   },
   {
    "duration": 69,
    "start_time": "2024-02-03T06:28:58.210Z"
   },
   {
    "duration": 10,
    "start_time": "2024-02-03T06:28:58.280Z"
   },
   {
    "duration": 4,
    "start_time": "2024-02-03T06:28:58.291Z"
   },
   {
    "duration": 16,
    "start_time": "2024-02-03T06:28:58.297Z"
   },
   {
    "duration": 28,
    "start_time": "2024-02-03T06:28:58.314Z"
   },
   {
    "duration": 29,
    "start_time": "2024-02-03T06:28:58.344Z"
   },
   {
    "duration": 4,
    "start_time": "2024-02-03T06:28:58.375Z"
   },
   {
    "duration": 18,
    "start_time": "2024-02-03T06:28:58.381Z"
   },
   {
    "duration": 6,
    "start_time": "2024-02-03T06:28:58.400Z"
   },
   {
    "duration": 7,
    "start_time": "2024-02-03T06:28:58.408Z"
   },
   {
    "duration": 25,
    "start_time": "2024-02-03T06:28:58.417Z"
   },
   {
    "duration": 32,
    "start_time": "2024-02-03T06:28:58.444Z"
   },
   {
    "duration": 22,
    "start_time": "2024-02-03T06:28:58.478Z"
   },
   {
    "duration": 21,
    "start_time": "2024-02-03T06:28:58.502Z"
   },
   {
    "duration": 49,
    "start_time": "2024-02-03T06:28:58.525Z"
   },
   {
    "duration": 77,
    "start_time": "2024-02-03T06:30:10.474Z"
   },
   {
    "duration": 72,
    "start_time": "2024-02-03T06:30:42.122Z"
   },
   {
    "duration": 14,
    "start_time": "2024-02-03T06:31:04.443Z"
   },
   {
    "duration": 20,
    "start_time": "2024-02-03T06:31:14.315Z"
   },
   {
    "duration": 25,
    "start_time": "2024-02-03T07:00:06.399Z"
   },
   {
    "duration": 23,
    "start_time": "2024-02-03T07:00:20.591Z"
   },
   {
    "duration": 23,
    "start_time": "2024-02-03T07:01:23.816Z"
   },
   {
    "duration": 21,
    "start_time": "2024-02-03T07:01:54.688Z"
   },
   {
    "duration": 51,
    "start_time": "2024-06-03T06:31:25.472Z"
   },
   {
    "duration": 56,
    "start_time": "2024-06-03T06:31:37.372Z"
   },
   {
    "duration": 76,
    "start_time": "2024-06-03T06:31:39.879Z"
   },
   {
    "duration": 23,
    "start_time": "2024-06-03T06:31:41.104Z"
   },
   {
    "duration": 16,
    "start_time": "2024-06-03T06:31:44.293Z"
   },
   {
    "duration": 12,
    "start_time": "2024-06-03T06:31:46.805Z"
   },
   {
    "duration": 38,
    "start_time": "2024-06-03T06:31:49.694Z"
   },
   {
    "duration": 3,
    "start_time": "2024-06-03T06:31:50.894Z"
   },
   {
    "duration": 8,
    "start_time": "2024-06-03T06:32:07.318Z"
   },
   {
    "duration": 5,
    "start_time": "2024-06-03T06:32:11.054Z"
   },
   {
    "duration": 6,
    "start_time": "2024-06-03T06:32:11.590Z"
   },
   {
    "duration": 5,
    "start_time": "2024-06-03T06:32:13.925Z"
   },
   {
    "duration": 36,
    "start_time": "2024-06-03T06:32:14.886Z"
   },
   {
    "duration": 11,
    "start_time": "2024-06-03T06:32:16.766Z"
   },
   {
    "duration": 4,
    "start_time": "2024-06-03T06:32:20.030Z"
   },
   {
    "duration": 23,
    "start_time": "2024-06-03T06:32:21.406Z"
   },
   {
    "duration": 22,
    "start_time": "2024-06-03T06:32:22.927Z"
   },
   {
    "duration": 19,
    "start_time": "2024-06-03T06:32:24.864Z"
   },
   {
    "duration": 4,
    "start_time": "2024-06-03T06:32:25.854Z"
   },
   {
    "duration": 17,
    "start_time": "2024-06-03T06:32:28.565Z"
   },
   {
    "duration": 5,
    "start_time": "2024-06-03T06:32:29.303Z"
   },
   {
    "duration": 5,
    "start_time": "2024-06-03T06:32:31.534Z"
   },
   {
    "duration": 10,
    "start_time": "2024-06-03T06:32:33.062Z"
   },
   {
    "duration": 27,
    "start_time": "2024-06-03T06:32:38.839Z"
   },
   {
    "duration": 27,
    "start_time": "2024-06-03T06:32:54.279Z"
   },
   {
    "duration": 52,
    "start_time": "2024-06-03T06:33:24.353Z"
   },
   {
    "duration": 23,
    "start_time": "2024-06-03T06:33:27.599Z"
   },
   {
    "duration": 35,
    "start_time": "2024-06-03T06:33:33.353Z"
   },
   {
    "duration": 24,
    "start_time": "2024-06-03T06:33:46.834Z"
   },
   {
    "duration": 23,
    "start_time": "2024-06-03T06:34:20.810Z"
   },
   {
    "duration": 23,
    "start_time": "2024-06-03T06:34:26.675Z"
   },
   {
    "duration": 29,
    "start_time": "2024-06-03T06:34:36.649Z"
   },
   {
    "duration": 25,
    "start_time": "2024-06-03T06:35:37.562Z"
   },
   {
    "duration": 24,
    "start_time": "2024-06-03T06:36:09.978Z"
   },
   {
    "duration": 27,
    "start_time": "2024-06-03T06:36:47.076Z"
   }
  ],
  "colab": {
   "provenance": []
  },
  "kernelspec": {
   "display_name": "Python 3 (ipykernel)",
   "language": "python",
   "name": "python3"
  },
  "language_info": {
   "codemirror_mode": {
    "name": "ipython",
    "version": 3
   },
   "file_extension": ".py",
   "mimetype": "text/x-python",
   "name": "python",
   "nbconvert_exporter": "python",
   "pygments_lexer": "ipython3",
   "version": "3.9.19"
  },
  "toc": {
   "base_numbering": 1,
   "nav_menu": {},
   "number_sections": true,
   "sideBar": true,
   "skip_h1_title": true,
   "title_cell": "Table of Contents",
   "title_sidebar": "Contents",
   "toc_cell": false,
   "toc_position": {},
   "toc_section_display": true,
   "toc_window_display": false
  }
 },
 "nbformat": 4,
 "nbformat_minor": 5
}
